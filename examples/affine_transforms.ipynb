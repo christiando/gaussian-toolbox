{
 "cells": [
  {
   "cell_type": "markdown",
   "metadata": {},
   "source": [
    "# Conditional densities and affine transformations\n",
    "\n",
    "In this chapter we will learn how `GaussianConditional` can be used in the `GT`. Imagine we have a set of random variables, where the marginal is given by $p(X)={\\cal N}(\\mu_X,\\Sigma_X)$."
   ]
  },
  {
   "cell_type": "code",
   "execution_count": null,
   "metadata": {},
   "outputs": [],
   "source": [
    "from jax import numpy as jnp\n",
    "from matplotlib import pyplot as plt\n",
    "import jax\n",
    "\n",
    "from gaussian_toolbox import pdf\n",
    "\n",
    "Dx = 1\n",
    "key = jax.random.PRNGKey(0)\n",
    "key, subkey = jax.random.split(key)\n",
    "mu_X = jax.random.normal(subkey, (1,1))\n",
    "Sigma_X = jnp.array([[[1,]]])\n",
    "\n",
    "p_X = pdf.GaussianPDF(Sigma=Sigma_X, mu=mu_X)"
   ]
  },
  {
   "cell_type": "markdown",
   "metadata": {},
   "source": [
    "Now we have a second set of variabels $Y$, for which we only know the conditional $p(Y\\vert X)={\\cal N}(\\mu_{Y\\vert X},\\Sigma_{Y\\vert X})$, where\n",
    "\n",
    "$$\n",
    " \\mu_{Y\\vert X} = MX + b.\n",
    "$$\n",
    "\n",
    "Let's create such an object in `GT`."
   ]
  },
  {
   "cell_type": "code",
   "execution_count": null,
   "metadata": {},
   "outputs": [],
   "source": [
    "from gaussian_toolbox import conditional\n",
    "\n",
    "Dy = 1\n",
    "key, subkey = jax.random.split(key)\n",
    "M = jax.random.normal(subkey, (1, Dy, Dx))\n",
    "key, subkey = jax.random.split(key)\n",
    "b = jax.random.normal(subkey, (1, Dy))\n",
    "Sigma_YcX = Sigma_X = jnp.array([[[.2,]]])\n",
    "\n",
    "p_Y_given_X = conditional.ConditionalGaussianPDF(M=M, b=b, Sigma=Sigma_YcX)\n",
    "print(p_Y_given_X)"
   ]
  },
  {
   "cell_type": "markdown",
   "metadata": {},
   "source": [
    "In such a setup one is often interested in the following _affine_ operations\n",
    "\n",
    "+ Joint transformation: $T_{\\rm joint}[p(Y|X),p(X)] = p(X,Y)$\n",
    "+ Marginal transformation: $T_{\\rm marg}[p(Y|X),p(X)] = p(Y)$\n",
    "+ Conditional transformation: $T_{\\rm cond}[p(Y|X),p(X)] = p(X\\vert Y)$\n",
    "\n",
    "When $p(X)$ and $p(Y\\vert X)$ have the form as described above `GT` enables us to quickly perform the operations. E.g. let's do the joint operation."
   ]
  },
  {
   "cell_type": "code",
   "execution_count": null,
   "metadata": {},
   "outputs": [],
   "source": [
    "p_XY = p_Y_given_X.affine_joint_transformation(p_X)"
   ]
  },
  {
   "cell_type": "markdown",
   "metadata": {},
   "source": [
    "This transformation gives back a `GaussianPDF` object, which we have encountered in the first part of the tutorial. Hence, we can solve integrals, evaluate it at different points, and sample it. Same holds for the marginal transform:"
   ]
  },
  {
   "cell_type": "code",
   "execution_count": null,
   "metadata": {},
   "outputs": [],
   "source": [
    "p_Y = p_Y_given_X.affine_marginal_transformation(p_X)"
   ]
  },
  {
   "cell_type": "code",
   "execution_count": null,
   "metadata": {},
   "outputs": [],
   "source": [
    "from gaussian_toolbox import factor\n",
    "\n",
    "# Create plot grid\n",
    "reso = 70\n",
    "xrange = (jnp.linspace(-5,5,reso) + p_X.mu).T\n",
    "yrange = (jnp.linspace(-5,5,reso) + p_Y.mu).T\n",
    "xmesh, ymesh = jnp.meshgrid(xrange[:,0], yrange[:,0])\n",
    "xy = jnp.vstack([xmesh.flatten(), ymesh.flatten()]).T\n",
    "\n",
    "from matplotlib import gridspec\n",
    "fig = plt.figure(figsize=(6,6))\n",
    "grid = gridspec.GridSpec(6,6,fig)\n",
    "ax1 = fig.add_subplot(grid[1:,:1])\n",
    "ax1.plot(p_Y(yrange).T, yrange[:,0], 'C3')\n",
    "ax1.set_ylim(yrange[jnp.array([0,-1]),0])\n",
    "ax1.set_ylabel('$Y$')\n",
    "ax1.set_xlabel('p(Y)')\n",
    "ax2 = fig.add_subplot(grid[:1,1:])\n",
    "ax2.plot(xrange,p_X(xrange).T)\n",
    "ax2.set_xlim(xrange[jnp.array([0,-1]), 0])\n",
    "ax2.set_ylabel('p(X)')\n",
    "ax2.set_xticklabels([])\n",
    "ax3 = fig.add_subplot(grid[1:,1:])\n",
    "ax3.pcolor(xrange[:,0], yrange[:,0], p_XY(xy).reshape((reso,reso)), shading='nearest')\n",
    "ax3.set_xlabel('$X$')\n",
    "ax3.set_xlim(xrange[jnp.array([0,-1]),0])\n",
    "ax3.set_ylim(yrange[jnp.array([0,-1]),0])\n",
    "ax3.set_yticklabels([])\n",
    "plt.show()"
   ]
  },
  {
   "cell_type": "markdown",
   "metadata": {},
   "source": [
    "The conditional transformation is a bit different, in the sense, that it does not return a `GaussianPDF`, but again a `ConditionalDensity`. To check consistency let's check, whether\n",
    "\n",
    "$$\n",
    " T_{\\rm marg}[T_{\\rm cond}[p(Y|X),p(X)], p(Y)] = p(X)\n",
    "$$"
   ]
  },
  {
   "cell_type": "code",
   "execution_count": null,
   "metadata": {},
   "outputs": [],
   "source": [
    "p_X_given_Y = p_Y_given_X.affine_conditional_transformation(p_X)\n",
    "p_X2 = p_X_given_Y.affine_marginal_transformation(p_Y)\n",
    "plt.plot(xrange[:,0], p_X(xrange).T, label='p(X)', lw=2)\n",
    "plt.plot(xrange[:,0], p_X2(xrange).T, 'C3--', label=r'$T_{\\rm marg}[T_{\\rm cond}[p(Y|X),p(X)], p(Y)] $', lw=2)\n",
    "plt.legend(loc=1)\n",
    "plt.xlim(xrange[jnp.array([0,-1]),0])\n",
    "plt.xlabel('$X$')\n",
    "plt.ylabel('$p(X)$')\n",
    "plt.show()"
   ]
  },
  {
   "cell_type": "markdown",
   "metadata": {},
   "source": [
    "As we see, the transformation is consistent.\n",
    "\n",
    "Sometimes, we also which to condition on some specific value, i.e. $p(Y\\vert X=x)$ which transforms the `ConditionalGaussianPDF` again in a `GaussianPDF`. Let's condition $p(X\\vert Y=4)$."
   ]
  },
  {
   "cell_type": "code",
   "execution_count": null,
   "metadata": {},
   "outputs": [],
   "source": [
    "p_Y_given_4 = p_Y_given_X(jnp.array([[2]]))"
   ]
  },
  {
   "cell_type": "markdown",
   "metadata": {},
   "source": [
    "And again, we can see by visual inspection, that it makes sense"
   ]
  },
  {
   "cell_type": "code",
   "execution_count": null,
   "metadata": {},
   "outputs": [],
   "source": [
    "from gaussian_toolbox import factor\n",
    "\n",
    "from matplotlib import gridspec\n",
    "fig = plt.figure(figsize=(6,6))\n",
    "grid = gridspec.GridSpec(6,6,fig)\n",
    "ax1 = fig.add_subplot(grid[1:,:1])\n",
    "ax1.plot(p_Y_given_4(yrange).T, yrange[:,0], 'C3')\n",
    "ax1.set_ylim(yrange[jnp.array([0,-1]),0])\n",
    "ax1.set_ylabel('$Y$')\n",
    "ax1.set_xlabel(r'$p(Y\\vert X=4)$')\n",
    "ax2 = fig.add_subplot(grid[:1,1:])\n",
    "ax2.plot(xrange,p_X(xrange).T)\n",
    "ax2.set_xlim(xrange[jnp.array([0,-1]), 0])\n",
    "ax2.set_ylabel('p(X)')\n",
    "ax2.set_xticklabels([])\n",
    "ax3 = fig.add_subplot(grid[1:,1:])\n",
    "ax3.pcolor(xrange[:,0], yrange[:,0], p_XY(xy).reshape((reso,reso)), shading='nearest')\n",
    "ax3.set_xlabel('$X$')\n",
    "ax3.vlines(4,yrange[0],yrange[-1], color='C3')\n",
    "ax3.vlines(2,yrange[0], yrange[-1], color='C3')\n",
    "ax3.set_xlim(xrange[jnp.array([0,-1]),0])\n",
    "ax3.set_ylim(yrange[jnp.array([0,-1]),0])\n",
    "ax3.set_yticklabels([])\n",
    "plt.show()"
   ]
  },
  {
   "cell_type": "markdown",
   "metadata": {},
   "source": [
    "__Why are affine transformations so useful?__ Let's consider Bayes' rule\n",
    "\n",
    "$$\n",
    " p(W\\vert {\\cal D}) = \\frac{p({\\cal D}\\vert W)p(W)}{p({\\cal D})}.\n",
    "$$\n",
    "\n",
    "where ${\\cal D}$ is data and $W$ parameters.\n",
    "\n",
    "You start with _likelihood_ $p({\\cal D}\\vert W)$ (`GaussianConditionalDensity`) and _prior_ $p(W)$ (`GaussianPDF`). The affine transformations, give us the objects of interest in Bayesian inference.\n",
    "+ Joint transformation $p({\\cal D}, W) = T_{\\rm joint}[p({\\cal D}|W),p(W)]$ to get _joint likelihood_.\n",
    "+ Marginal transformation $p({\\cal D}) = T_{\\rm marg}[p({\\cal D}|W),p(W)]$ to get _marginal likelihood_.\n",
    "+ Conditional transformation $p(W\\vert {\\cal D}) = T_{\\rm cond}[p({\\cal D}|W),p(W)]$ to get _posterior_.\n",
    "\n",
    "In the next chapter, we will see as an example how easy linear regression is done."
   ]
  }
 ],
 "metadata": {
  "kernelspec": {
   "display_name": "Python 3",
   "language": "python",
   "name": "python3"
  },
  "language_info": {
   "codemirror_mode": {
    "name": "ipython",
    "version": 3
   },
   "file_extension": ".py",
   "mimetype": "text/x-python",
   "name": "python",
   "nbconvert_exporter": "python",
   "pygments_lexer": "ipython3",
   "version": "3.11.11"
  }
 },
 "nbformat": 4,
 "nbformat_minor": 2
}
