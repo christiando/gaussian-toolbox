{
 "cells": [
  {
   "cell_type": "code",
   "execution_count": null,
   "metadata": {},
   "outputs": [],
   "source": [
    "%load_ext autoreload\n",
    "%autoreload 2\n",
    "import numpy as np\n",
    "from matplotlib import pyplot as plt\n",
    "from gaussian_toolbox.gaussian_process import kernel, prior, likelihood, model\n",
    "from jax import numpy as jnp"
   ]
  },
  {
   "cell_type": "markdown",
   "metadata": {},
   "source": [
    "# Exact GP: 1D Examples"
   ]
  },
  {
   "cell_type": "code",
   "execution_count": null,
   "metadata": {},
   "outputs": [],
   "source": [
    "# Create data\n",
    "num_points = 100\n",
    "sigma_y = .1\n",
    "x = jnp.array(np.sort(2 * np.pi * np.random.rand(num_points, 1), axis=0))\n",
    "x_star = jnp.array([jnp.arange(0, 2 * jnp.pi, .1)]).T\n",
    "y = jnp.array(np.cos(2 * x) + sigma_y * np.random.randn(num_points, 1))\n",
    "y = y.flatten()\n",
    "plt.plot(x , y, '.')\n",
    "plt.show()\n"
   ]
  },
  {
   "cell_type": "markdown",
   "metadata": {},
   "source": [
    "### Exact GP regression"
   ]
  },
  {
   "cell_type": "code",
   "execution_count": null,
   "metadata": {},
   "outputs": [],
   "source": [
    "# Create model and do inference\n",
    "k_func = kernel.Matern32()\n",
    "gp_prior = prior.GP_Prior(k_func)\n",
    "lk = likelihood.GaussianLikelihood()\n",
    "gp_model = model.GPRegressionModel(gp_prior, lk)\n",
    "gp_model.infer(x, y)"
   ]
  },
  {
   "cell_type": "code",
   "execution_count": null,
   "metadata": {},
   "outputs": [],
   "source": [
    "# Predictions\n",
    "prior_x = gp_prior.get_density(x_star)\n",
    "predictive_gp = gp_model.predict_gp(x_star, True)\n",
    "predictive_data = gp_model.predict_data(x_star, True)\n",
    "\n",
    "plt.fill_between(x_star[:,0], prior_x.mu[0] - prior_x.Sigma[0].diagonal(), prior_x.mu[0] + prior_x.Sigma[0].diagonal(), alpha=.1, label=\"GP prior\")\n",
    "plt.fill_between(x_star[:,0], predictive_gp.mu[:,0] - np.sqrt(predictive_gp.Sigma[:,0,0]), predictive_gp .mu[:,0] + np.sqrt(predictive_gp.Sigma[:,0,0]), alpha=.5, label=\"GP posterior\")\n",
    "plt.fill_between(x_star[:,0], predictive_data.mu[:,0] - np.sqrt(predictive_data.Sigma[:,0,0]), predictive_data.mu[:,0] + np.sqrt(predictive_data.Sigma[:,0,0]), alpha=.5, label=\"Data prediction\")\n",
    "plt.plot(x , y, 'k.', label=\"Data\")\n",
    "plt.legend()\n",
    "plt.show()"
   ]
  },
  {
   "cell_type": "markdown",
   "metadata": {},
   "source": [
    "### Sparse GP regression"
   ]
  },
  {
   "cell_type": "code",
   "execution_count": null,
   "metadata": {},
   "outputs": [],
   "source": [
    "# Create model and do inference\n",
    "num_inducing_points = 20\n",
    "k_func = kernel.Matern32()\n",
    "Xu = 2 * jnp.pi * jnp.array(np.random.rand(num_inducing_points,1))\n",
    "sgp_prior = prior.SparseGP_Prior(k_func, Xu, optimize_Xu=True)\n",
    "lk = likelihood.GaussianLikelihood()\n",
    "sgp_model = model.SGPRegressionModel(sgp_prior, lk)\n",
    "sgp_model.infer(x, y)"
   ]
  },
  {
   "cell_type": "code",
   "execution_count": null,
   "metadata": {},
   "outputs": [],
   "source": [
    "# Predictions\n",
    "prior_x = sgp_prior.get_density(x_star)\n",
    "predictive_gp = sgp_model.predict_gp(x_star, True)\n",
    "predictive_data = sgp_model.predict_data(x_star, True)\n",
    "\n",
    "plt.fill_between(x_star[:,0], prior_x.mu[0] - prior_x.Sigma[0].diagonal(), prior_x.mu[0] + prior_x.Sigma[0].diagonal(), alpha=.1, label=\"GP prior\")\n",
    "plt.fill_between(x_star[:,0], predictive_gp.mu[:,0] - np.sqrt(predictive_gp.Sigma[:,0,0]), predictive_gp.mu[:,0] + np.sqrt(predictive_gp.Sigma[:,0,0]), alpha=.5, label=\"GP posterior\")\n",
    "plt.fill_between(x_star[:,0], predictive_data.mu[:,0] - np.sqrt(predictive_data.Sigma[:,0,0]), predictive_data.mu[:,0] + np.sqrt(predictive_data.Sigma[:,0,0]), alpha=.5, label=\"Data prediction\")\n",
    "plt.plot(x , y, 'k.', label=\"Data\")\n",
    "plt.plot(sgp_model.prior.Xu[:,0], sgp_model.posterior_density.mu[0], 'C3.', label=\"Inducing points\")\n",
    "plt.legend()\n",
    "plt.show()"
   ]
  },
  {
   "cell_type": "markdown",
   "metadata": {},
   "source": [
    "# 2D Example"
   ]
  },
  {
   "cell_type": "code",
   "execution_count": null,
   "metadata": {},
   "outputs": [],
   "source": [
    "limits = [[-1,1], [-1, 1]]\n",
    "num_points_star = 40\n",
    "num_points = 100\n",
    "sigma_y = .1\n",
    "x_range, y_range = jnp.linspace(limits[0][0], limits[0][1], num_points_star), jnp.linspace(limits[1][0], limits[1][1], num_points_star)\n",
    "x_grid, y_grid = np.meshgrid(x_range, y_range)\n",
    "x_star = jnp.vstack([x_grid.flatten(), y_grid.flatten()]).T\n",
    "true_func = lambda x: jnp.cos(2 * np.pi * x[:,0]) * jnp.sin(x[:,1])\n",
    "x = np.random.rand(num_points, 2)\n",
    "x[:,0] = (limits[0][1] - limits[0][0]) * x[:,0] + limits[0][0]\n",
    "x[:,1] = (limits[1][1] - limits[1][0]) * x[:,1] + limits[1][0]\n",
    "x = jnp.array(x)\n",
    "y = true_func(x) + sigma_y * np.random.randn(num_points)\n",
    "plt.pcolor(x_range, y_range, true_func(x_star).reshape((num_points_star, num_points_star)))\n",
    "plt.plot(x[:,0], x[:,1], '.')"
   ]
  },
  {
   "cell_type": "markdown",
   "metadata": {},
   "source": [
    "### Exact GP regression"
   ]
  },
  {
   "cell_type": "code",
   "execution_count": null,
   "metadata": {},
   "outputs": [],
   "source": [
    "k_func = kernel.Matern32()\n",
    "gp_prior = prior.GP_Prior(k_func)\n",
    "lk = likelihood.GaussianLikelihood()\n",
    "gp_model = model.GPRegressionModel(gp_prior, lk)\n",
    "gp_model.infer(x, y)"
   ]
  },
  {
   "cell_type": "code",
   "execution_count": null,
   "metadata": {},
   "outputs": [],
   "source": [
    "prior_x = gp_prior.get_density(x_star)\n",
    "predictive_gp = gp_model.predict_gp(x_star, True)\n",
    "predictive_data = gp_model.predict_data(x_star, True)"
   ]
  },
  {
   "cell_type": "code",
   "execution_count": null,
   "metadata": {},
   "outputs": [],
   "source": [
    "plt.figure(figsize=(10,5))\n",
    "plt.subplot(121)\n",
    "plt.pcolor(x_range, y_range, predictive_data.mu[:,0].reshape((num_points_star, num_points_star)))\n",
    "plt.subplot(122)\n",
    "plt.pcolor(x_range, y_range, predictive_data.Sigma[:,0,0].reshape((num_points_star, num_points_star)))\n",
    "plt.plot(x[:,0], x[:,1], '.')"
   ]
  },
  {
   "cell_type": "markdown",
   "metadata": {},
   "source": [
    "### Sparse GP regression"
   ]
  },
  {
   "cell_type": "code",
   "execution_count": null,
   "metadata": {},
   "outputs": [],
   "source": [
    "num_inducing_points = 20\n",
    "Xu = np.random.rand(num_inducing_points,2)\n",
    "Xu[:,0] = (limits[0][1] - limits[0][0]) * Xu[:,0] + limits[0][0]\n",
    "Xu[:,1] = (limits[1][1] - limits[1][0]) * Xu[:,1] + limits[1][0]\n",
    "Xu = jnp.array(Xu)\n",
    "k_func = kernel.RBF()\n",
    "sgp_prior = prior.SparseGP_Prior(k_func, Xu, optimize_Xu=True)\n",
    "lk = likelihood.GaussianLikelihood()\n",
    "sgp_model = model.SGPRegressionModel(sgp_prior, lk)\n",
    "sgp_model.infer(x, y, True)"
   ]
  },
  {
   "cell_type": "code",
   "execution_count": null,
   "metadata": {},
   "outputs": [],
   "source": [
    "prior_x = sgp_prior.get_density(x_star)\n",
    "predictive_gp = sgp_model.predict_gp(x_star, True)\n",
    "predictive_data = sgp_model.predict_data(x_star, True)"
   ]
  },
  {
   "cell_type": "code",
   "execution_count": null,
   "metadata": {},
   "outputs": [],
   "source": [
    "plt.figure(figsize=(10,5))\n",
    "plt.subplot(121)\n",
    "plt.pcolor(x_range, y_range, predictive_data.mu[:,0].reshape((num_points_star, num_points_star)))\n",
    "plt.plot(Xu[:,0], Xu[:,1], 'w.')\n",
    "plt.plot(sgp_model.prior.Xu[:,0], sgp_model.prior.Xu[:,1], 'C3.')\n",
    "plt.plot(x[:,0], x[:,1], 'k.')\n",
    "plt.subplot(122)\n",
    "plt.pcolor(x_range, y_range, predictive_data.Sigma[:,0,0].reshape((num_points_star, num_points_star)))\n",
    "plt.plot(x[:,0], x[:,1], 'k.')"
   ]
  }
 ],
 "metadata": {
  "kernelspec": {
   "display_name": "Python 3.10.6 ('gaussian_toolbox')",
   "language": "python",
   "name": "python3"
  },
  "language_info": {
   "codemirror_mode": {
    "name": "ipython",
    "version": 3
   },
   "file_extension": ".py",
   "mimetype": "text/x-python",
   "name": "python",
   "nbconvert_exporter": "python",
   "pygments_lexer": "ipython3",
   "version": "3.9.13"
  },
  "orig_nbformat": 4,
  "vscode": {
   "interpreter": {
    "hash": "782cd5dadb26a54d425c88a99e91aaf22c15a8b7b364f1b6867d338206b7ed04"
   }
  }
 },
 "nbformat": 4,
 "nbformat_minor": 2
}
