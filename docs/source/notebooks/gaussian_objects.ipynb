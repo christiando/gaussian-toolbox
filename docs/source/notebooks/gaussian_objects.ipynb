{
 "cells": [
  {
   "cell_type": "markdown",
   "metadata": {},
   "source": [
    "# Simple Gaussian objects\n",
    "\n",
    "The main purpose of this library is to make Gaussian manipulations easy. For this we make use of a _certain hierarchy of function classes_.\n",
    "\n",
    "##### ```GaussianPDF``` $\\subset$ ```GaussianMeasure``` $\\subset$ ```ConjugateFactor```\n",
    "\n",
    "This three function classes are explained in the following:\n",
    "\n"
   ]
  },
  {
   "cell_type": "markdown",
   "metadata": {},
   "source": [
    "$\\newcommand{\\bx}{\\mathbf{x}}$\n",
    "$\\newcommand{\\bX}{\\mathbf{X}}$\n",
    "$\\newcommand{\\bmu}{\\boldsymbol{\\mu}}$\n",
    "$\\newcommand{\\bnu}{\\boldsymbol{\\nu}}$\n",
    "$\\newcommand{\\by}{\\mathbf{y}}$\n",
    "$\\newcommand{\\bY}{\\mathbf{Y}}$\n",
    "$\\newcommand{\\RR}{\\mathbb{R}}$\n",
    "$\\newcommand{\\EE}{\\mathbb{E}}$\n",
    "$\\newcommand{\\diff}{\\mathrm{d}}$"
   ]
  },
  {
   "cell_type": "markdown",
   "metadata": {},
   "source": [
    "## 1. `ConjugateFactor`:\n",
    "\n",
    "The `ConjugateFactor` is the most general form of functions of the considered hierarchy. It has the following functional form:\n",
    "\n",
    "$$\n",
    "u(X) = \\exp\\left(-\\frac{1}{2}X^\\top\\Lambda X + X^\\top\\bnu + \\ln \\beta\\right)\n",
    "$$\n",
    "\n",
    "The parameters are as follows:\n",
    "+ $\\Lambda\\in \\RR^{d\\times d}$ is a positive semidefinite matrix.\n",
    "+ $\\bnu\\in \\RR^d$ is a vector.\n",
    "+ $\\ln\\beta\\in \\RR$ is a constant.\n",
    "\n",
    "Let's create such an examplary object with the Gaussian toolbox in two dimensions and visualize it."
   ]
  },
  {
   "cell_type": "code",
   "execution_count": 1,
   "metadata": {},
   "outputs": [],
   "source": [
    "# Imports\n",
    "from matplotlib import pyplot as plt\n",
    "from jax import numpy as jnp\n",
    "from objax import random"
   ]
  },
  {
   "cell_type": "code",
   "execution_count": 2,
   "metadata": {},
   "outputs": [
    {
     "name": "stderr",
     "output_type": "stream",
     "text": [
      "WARNING:absl:No GPU/TPU found, falling back to CPU. (Set TF_CPP_MIN_LOG_LEVEL=0 and rerun for more info.)\n"
     ]
    },
    {
     "name": "stdout",
     "output_type": "stream",
     "text": [
      "Conjugate factor u(x)\n"
     ]
    }
   ],
   "source": [
    "from gaussian_toolbox.gaussian_algebra import factor\n",
    "\n",
    "# Create plot grid\n",
    "reso = 70\n",
    "xrange = jnp.linspace(-5,5,reso)\n",
    "xmesh, ymesh = jnp.meshgrid(xrange, xrange)\n",
    "x = jnp.vstack([xmesh.flatten(), ymesh.flatten()]).T\n",
    "\n",
    "# Define terms for factor\n",
    "Lambda_u = jnp.array([[[5,0],\n",
    "                       [0,0]]])\n",
    "nu_u = jnp.array([[0,0]])\n",
    "ln_beta_u = jnp.array([0,])\n",
    "\n",
    "# Create factor u(x)\n",
    "u_X = factor.ConjugateFactor(Lambda=Lambda_u, nu=nu_u, ln_beta=ln_beta_u)\n",
    "print(u_X)"
   ]
  },
  {
   "cell_type": "code",
   "execution_count": 3,
   "metadata": {},
   "outputs": [
    {
     "data": {
      "image/png": "[encoded data removed]",
      "text/plain": [
       "<Figure size 432x360 with 2 Axes>"
      ]
     },
     "metadata": {
      "needs_background": "light"
     },
     "output_type": "display_data"
    }
   ],
   "source": [
    "u_x = u_X(x)\n",
    "\n",
    "# Plotting\n",
    "plt.figure(figsize=(6,5))\n",
    "plt.pcolor(xrange, xrange, u_x.reshape((reso,reso)), shading='nearest')\n",
    "plt.xlabel('$x_1$')\n",
    "plt.ylabel('$x_2$')\n",
    "plt.colorbar(label='$u(\\mathbf{x})$')\n",
    "plt.show()"
   ]
  },
  {
   "cell_type": "markdown",
   "metadata": {},
   "source": [
    "__Remark__: It is possible to summarize more than one Factor in an object. The number of factor is equal to the leading dimensions of `Lambda`, `nu` and `ln_beta`.\n",
    "\n",
    "With a `ConjugateFactor` on its own we can not do very much, but we will see how it can unfold its power in combination with a `GaussianMeasure`.\n",
    "\n",
    "\n",
    "## 2. `GaussianMeasure`\n",
    "\n",
    "A `GaussianMeasure` inherits from `ConjugateFactor`, i.e. it is a subclass of what we saw previously. It has the functional form\n",
    "\n",
    "$$\n",
    "\\phi(X) = \\exp\\left(-\\frac{1}{2}X^\\top\\Lambda \\bX + X^\\top\\bnu + \\ln \\beta\\right)\n",
    "$$\n",
    "\n",
    "All is defined as before, except that $\\Lambda$ is now required to be positive definite, such that\n",
    "\n",
    "$$\n",
    "0 \\leq \\int \\phi(X)\\diff X < \\infty.\n",
    "$$\n",
    "\n",
    "Again let's create such an object with the Gaussian toolbox."
   ]
  },
  {
   "cell_type": "code",
   "execution_count": 4,
   "metadata": {},
   "outputs": [
    {
     "name": "stdout",
     "output_type": "stream",
     "text": [
      "Gaussian measure phi(x)\n"
     ]
    }
   ],
   "source": [
    "from gaussian_toolbox.gaussian_algebra import measure\n",
    "\n",
    "# Defines terms for measure\n",
    "Lambda_phi = jnp.array([[[1., -2.],\n",
    "                         [-2., 10.]]])\n",
    "nu_phi = jnp.array([[0, 0]])\n",
    "ln_beta_phi = jnp.array([0,])\n",
    "\n",
    "# Creates measure\n",
    "phi_X = measure.GaussianMeasure(Lambda=Lambda_phi, nu=nu_phi, ln_beta=ln_beta_phi)\n",
    "print(phi_X)"
   ]
  },
  {
   "cell_type": "code",
   "execution_count": 5,
   "metadata": {},
   "outputs": [
    {
     "data": {
      "image/png": "[encoded data removed]",
      "text/plain": [
       "<Figure size 432x360 with 2 Axes>"
      ]
     },
     "metadata": {
      "needs_background": "light"
     },
     "output_type": "display_data"
    }
   ],
   "source": [
    "phi_x = phi_X(x)\n",
    "\n",
    "plt.figure(figsize=(6,5))\n",
    "plt.pcolor(xrange, xrange, phi_x.reshape((reso,reso)), shading='nearest')\n",
    "plt.xlabel('$x_1$')\n",
    "plt.ylabel('$x_2$')\n",
    "plt.colorbar(label='$\\phi(\\mathbf{x})$')\n",
    "plt.show()"
   ]
  },
  {
   "cell_type": "markdown",
   "metadata": {},
   "source": [
    "### Leveraging conjugacy\n",
    "\n",
    "Now the interesting observation is that the `ConjugateFactor` multiplied with a `GaussianMeasure` is again a `GaussianMeasure`, i.e. the first is _conjugate_ to the latter. The Gaussian toolbox allows for straightforward updates."
   ]
  },
  {
   "cell_type": "code",
   "execution_count": 6,
   "metadata": {},
   "outputs": [
    {
     "name": "stdout",
     "output_type": "stream",
     "text": [
      "Gaussian measure phi(x)\n"
     ]
    }
   ],
   "source": [
    "u_phi_X = phi_X * u_X\n",
    "print(u_phi_X)"
   ]
  },
  {
   "cell_type": "code",
   "execution_count": 7,
   "metadata": {},
   "outputs": [
    {
     "data": {
      "image/png": "[encoded data removed]",
      "text/plain": [
       "<Figure size 432x360 with 2 Axes>"
      ]
     },
     "metadata": {
      "needs_background": "light"
     },
     "output_type": "display_data"
    }
   ],
   "source": [
    "u_phi_x = u_phi_X(x)\n",
    "\n",
    "plt.figure(figsize=(6,5))\n",
    "plt.pcolor(xrange, xrange, u_phi_x.reshape((reso,reso)), shading='nearest')\n",
    "plt.xlabel('$x_1$')\n",
    "plt.ylabel('$x_2$')\n",
    "plt.colorbar(label='$u(\\mathbf{x})\\phi(\\mathbf{x})$')\n",
    "plt.show()"
   ]
  },
  {
   "cell_type": "markdown",
   "metadata": {},
   "source": [
    "### Integration made easy\n",
    "\n",
    "The Gaussian toolbox implements many different integrals that are evaluated with respect to a `GaussianMeasure` $\\phi(X)$. The integrals have the form\n",
    "\n",
    "$$\n",
    "\\int f(X)\\diff\\phi(X)\n",
    "$$\n",
    "\n",
    "For example $\\int XX^\\top\\diff\\phi(X)$ is evaluated as"
   ]
  },
  {
   "cell_type": "code",
   "execution_count": 8,
   "metadata": {},
   "outputs": [
    {
     "name": "stdout",
     "output_type": "stream",
     "text": [
      "[[[4.2751656  0.8550331 ]\n",
      "  [0.8550331  0.42751655]]]\n"
     ]
    }
   ],
   "source": [
    "print(phi_X.integrate(\"xx'\"))"
   ]
  },
  {
   "cell_type": "markdown",
   "metadata": {},
   "source": [
    "Another example would be $\\int (AX+a)\\diff\\phi(X)$, where $A\\in\\RR^{m\\times d}$ and $a\\in\\RR^{m}$."
   ]
  },
  {
   "cell_type": "code",
   "execution_count": 9,
   "metadata": {},
   "outputs": [
    {
     "name": "stdout",
     "output_type": "stream",
     "text": [
      "[[ 2.3901758  -0.01035065 -4.221131   -3.6609485   2.718234  ]]\n"
     ]
    }
   ],
   "source": [
    "m = 5\n",
    "A_mat, a_vec = random.normal((m, phi_X.D)), random.normal((m, ))\n",
    "print(phi_X.integrate(\"(Ax+a)\", A_mat=A_mat, a_vec=a_vec))"
   ]
  },
  {
   "cell_type": "markdown",
   "metadata": {},
   "source": [
    "Following integrals are implemented:"
   ]
  },
  {
   "cell_type": "code",
   "execution_count": 10,
   "metadata": {},
   "outputs": [
    {
     "name": "stdout",
     "output_type": "stream",
     "text": [
      "f(X) = 1\n",
      "f(X) = x\n",
      "f(X) = (Ax+a)\n",
      "f(X) = xx'\n",
      "f(X) = (Ax+a)'(Bx+b)\n",
      "f(X) = (Ax+a)(Bx+b)'\n",
      "f(X) = (Ax+a)(Bx+b)'(Cx+c)\n",
      "f(X) = (Ax+a)'(Bx+b)(Cx+c)'\n",
      "f(X) = x(A'x + a)x'\n",
      "f(X) = xb'xx'\n",
      "f(X) = (Ax+a)'(Bx+b)(Cx+c)'(Dx+d)\n",
      "f(X) = (Ax+a)(Bx+b)'(Cx+c)(Dx+d)'\n",
      "f(X) = log u(x)\n",
      "\n"
     ]
    }
   ],
   "source": [
    "print(''.join(['f(X) = ' + integral + '\\n' for integral in phi_X.integration_dict.keys()]))"
   ]
  },
  {
   "cell_type": "markdown",
   "metadata": {},
   "source": [
    "The last case is the integral of the logarithm of a `ConjugateFactor`"
   ]
  },
  {
   "cell_type": "code",
   "execution_count": 11,
   "metadata": {},
   "outputs": [
    {
     "name": "stdout",
     "output_type": "stream",
     "text": [
      "[-10.687914]\n"
     ]
    }
   ],
   "source": [
    "print(phi_X.integrate(\"log u(x)\", factor=u_X))"
   ]
  },
  {
   "cell_type": "markdown",
   "metadata": {},
   "source": [
    "It is time to turn to the last functional class, the `GaussianPDF`.\n",
    "\n",
    "## 3. `GaussianPDF`\n",
    "\n",
    "The `GaussianPDF` is a the object representing a Gaussian probability density function (PDF), and it is defined by\n",
    "\n",
    "$$\n",
    "p(\\bx) = \\exp\\left(-\\frac{1}{2}X^\\top\\Lambda X + X^\\top\\bnu + \\ln \\beta\\right) = \\frac{1}{Z}\\exp\\left(-\\frac{1}{2}(X-\\bmu)^\\top\\Sigma^{-1} (X-\\bmu)\\right) \\text{ s.t. } \\int\\diff p(X) \\stackrel{!}{=} 1.\n",
    "$$\n",
    "\n",
    "The parameters are defined as\n",
    "\n",
    "+ $\\Sigma=\\Lambda^{-1}$ is the covariance matrix\n",
    "+ $\\bmu=\\Lambda^{-1}\\bnu$ is the mean.\n",
    "+ $\\ln\\beta= -\\frac{1}{2}\\ln |2\\pi\\Lambda^{-1}| -\\frac{1}{2}\\bnu^\\top\\Lambda^{-1}\\bnu\\Leftrightarrow \\ln Z = \\frac{1}{2}\\ln |2\\pi\\Sigma|$ is the normalizing constant.\n",
    "\n",
    "Any Gaussian measure can be transformed into a PDF just by normalization. With the Gaussian toolbox this is straightforward:"
   ]
  },
  {
   "cell_type": "code",
   "execution_count": 12,
   "metadata": {},
   "outputs": [
    {
     "name": "stdout",
     "output_type": "stream",
     "text": [
      "Intergrating over density = 1. (Hurray!!!)\n"
     ]
    }
   ],
   "source": [
    "from gaussian_toolbox.gaussian_algebra import pdf\n",
    "\n",
    "# p_X = pdf.GaussianPDF(Sigma=..., mu=...)\n",
    "p_X = phi_X.get_density()\n",
    "integal_p = p_X.integrate()\n",
    "print('Intergrating over density = %d. (Hurray!!!)' %integal_p)"
   ]
  },
  {
   "cell_type": "markdown",
   "metadata": {},
   "source": [
    "The `GaussianPDF` inherits all properties from `GaussianMeasure`.\n",
    "but since it is a PDF, we can perform additional actions, such as sampling or marginalization."
   ]
  },
  {
   "cell_type": "code",
   "execution_count": 13,
   "metadata": {},
   "outputs": [
    {
     "data": {
      "image/png": "[encoded data removed]",
      "text/plain": [
       "<Figure size 432x432 with 3 Axes>"
      ]
     },
     "metadata": {
      "needs_background": "light"
     },
     "output_type": "display_data"
    }
   ],
   "source": [
    "# SAMPLING\n",
    "p_x_samples = p_X.sample(200)\n",
    "\n",
    "# MARGINALIZATION\n",
    "p_X1 = p_X.get_marginal(dim_x=jnp.array([0]))\n",
    "p_X2 = p_X.get_marginal(dim_x=jnp.array([1]))\n",
    "\n",
    "xrange = jnp.linspace(-5,5,reso)\n",
    "xrange = jnp.array([xrange]).T\n",
    "\n",
    "# Plotting\n",
    "from matplotlib import gridspec\n",
    "fig = plt.figure(figsize=(6,6))\n",
    "grid = gridspec.GridSpec(6,6,fig)\n",
    "ax1 = fig.add_subplot(grid[1:,:1])\n",
    "ax1.plot(p_X2(xrange).T, xrange)\n",
    "ax1.set_ylim(xrange[jnp.array([0,-1]), 0])\n",
    "ax1.set_ylabel('$x_2$')\n",
    "ax2 = fig.add_subplot(grid[:1,1:])\n",
    "ax2.plot(xrange,p_X1(xrange).T)\n",
    "ax2.set_xlim([-5,5])\n",
    "ax1.set_ylim(xrange[jnp.array([0,-1]), 0])\n",
    "ax3 = fig.add_subplot(grid[1:,1:])\n",
    "ax3.pcolor(xrange[:,0], xrange[:,0], p_X(x).reshape((reso,reso)), shading='nearest')\n",
    "ax3.plot(p_x_samples[:,:,0], p_x_samples[:,:,1], 'C3.')\n",
    "ax3.set_xlabel('$x_1$')\n",
    "ax3.set_xlim([-5,5])\n",
    "plt.tight_layout()"
   ]
  },
  {
   "cell_type": "markdown",
   "metadata": {},
   "source": [
    "Let's summarize the Gaussian hierarchy\n",
    "\n",
    "|   |  `ConjugateFactor` $u$ | `GaussianMeasure` $\\phi$ | `GaussianPDF` $p$ |\n",
    "|---|---|---|---|\n",
    "| __Conjugacy__ | &check; | &check;  | &check; |\n",
    "| __Integrable__  | &cross; | &check;  | &check;  |\n",
    "| __Normalized__  | &cross; | &cross;  | &check;  |\n",
    "\n",
    "In the following, we will see how the true power of the toolbox can be unleashed by introducing `conditional`"
   ]
  }
 ],
 "metadata": {
  "kernelspec": {
   "display_name": "Python 3",
   "language": "python",
   "name": "python3"
  },
  "language_info": {
   "codemirror_mode": {
    "name": "ipython",
    "version": 3
   },
   "file_extension": ".py",
   "mimetype": "text/x-python",
   "name": "python",
   "nbconvert_exporter": "python",
   "pygments_lexer": "ipython3",
   "version": "3.8.11"
  },
  "vscode": {
   "interpreter": {
    "hash": "69925804a538e9e5edfd5d6fe192793bd67cd76c6d10d3490507ec5fbbec376f"
   }
  }
 },
 "nbformat": 4,
 "nbformat_minor": 2
}
