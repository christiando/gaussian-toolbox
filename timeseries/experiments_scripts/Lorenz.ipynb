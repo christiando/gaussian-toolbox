{
 "cells": [
  {
   "cell_type": "code",
   "execution_count": null,
   "id": "df2e9c42-ff3f-45fe-aa52-15d51415bab5",
   "metadata": {},
   "outputs": [],
   "source": [
    "import numpy as np\n",
    "import matplotlib.pyplot as plt\n",
    "from sklearn.preprocessing import StandardScaler\n",
    "\n",
    "\n",
    "def lorenz(x, y, z, s=10, r=28, b=8/3):\n",
    "    \"\"\"\n",
    "    Given:\n",
    "       x, y, z: a point of interest in three dimensional space\n",
    "       s, r, b: parameters defining the lorenz attractor\n",
    "    Returns:\n",
    "       x_dot, y_dot, z_dot: values of the lorenz attractor's partial\n",
    "           derivatives at the point x, y, z\n",
    "    \"\"\"\n",
    "    x_dot = s*(y - x)\n",
    "    y_dot = r*x - y - x*z\n",
    "    z_dot = x*y - b*z\n",
    "    return x_dot, y_dot, z_dot\n",
    "\n",
    "\n",
    "dt = 0.01\n",
    "num_steps = 10000\n",
    "\n",
    "# Need one more for the initial values\n",
    "xs = np.empty(num_steps + 1)\n",
    "ys = np.empty(num_steps + 1)\n",
    "zs = np.empty(num_steps + 1)\n",
    "\n",
    "# Set initial values\n",
    "xs[0], ys[0], zs[0] = (0., 1., 1.05)\n",
    "\n",
    "# Step through \"time\", calculating the partial derivatives at the current point\n",
    "# and using them to estimate the next point\n",
    "for i in range(num_steps):\n",
    "    x_dot, y_dot, z_dot = lorenz(xs[i], ys[i], zs[i])\n",
    "    xs[i + 1] = xs[i] + (x_dot * dt)\n",
    "    ys[i + 1] = ys[i] + (y_dot * dt)\n",
    "    zs[i + 1] = zs[i] + (z_dot * dt)\n",
    "\n",
    "\n",
    "# Plot\n",
    "ax = plt.figure().add_subplot(projection='3d')\n",
    "\n",
    "ax.plot(xs, ys, zs, lw=0.5)\n",
    "ax.set_xlabel(\"X Axis\")\n",
    "ax.set_ylabel(\"Y Axis\")\n",
    "ax.set_zlabel(\"Z Axis\")\n",
    "ax.set_title(\"Lorenz Attractor\")\n",
    "\n",
    "plt.show()\n",
    "\n"
   ]
  },
  {
   "cell_type": "code",
   "execution_count": null,
   "id": "e6f9a306-04cc-4f8f-b0cb-aa70557c32d1",
   "metadata": {},
   "outputs": [],
   "source": [
    "plt.plot(xs, zs, 'k.')\n",
    "plt.plot(xs[xs > 0], zs[xs > 0], 'C3.')\n",
    "#plt.xlim([1300,2200])"
   ]
  },
  {
   "cell_type": "code",
   "execution_count": null,
   "id": "4677674c-d158-440f-aef7-8330d4b1c45e",
   "metadata": {},
   "outputs": [],
   "source": [
    "class Args:\n",
    "    \n",
    "    def __init__(self, dz, du, init_w_pca, num_states, obs_model):\n",
    "        self.dz = dz\n",
    "        self.du = du\n",
    "        self.init_w_pca = init_w_pca\n",
    "        self.num_states = num_states\n",
    "        self.obs_model = obs_model"
   ]
  },
  {
   "cell_type": "code",
   "execution_count": null,
   "id": "085c9be0-442f-496d-ab07-63fae8f1be42",
   "metadata": {},
   "outputs": [],
   "source": [
    "%load_ext autoreload\n",
    "%autoreload 2\n",
    "import os\n",
    "import sys\n",
    "import torch\n",
    "import random\n",
    "import argparse\n",
    "import numpy as np\n",
    "import scipy\n",
    "from matplotlib import pyplot\n",
    "import scipy\n",
    "from matplotlib import pyplot\n",
    "from jax.config import config\n",
    "config.update(\"jax_enable_x64\", True)\n",
    "from jax import numpy as jnp\n",
    "\n",
    "sys.path.append('../../timeseries_jax/')\n",
    "sys.path.append('../../timeseries/experiments_scripts/')\n",
    "sys.path.append('../../src_jax/')\n",
    "\n",
    "import factors\n",
    "import state_models\n",
    "import observation_models\n",
    "from ssm_em import StateSpaceEM\n",
    "\n",
    "from scipy.stats import norm\n",
    "from scipy.stats import zscore\n",
    "from ssm_em import StateSpaceEM, load_model\n",
    "from exp_utils import *\n",
    "\n",
    "def reset_seeds(seed):\n",
    "    random.seed(seed)\n",
    "    np.random.seed(seed)\n",
    "    \n",
    "from run_experiment import HMM_class\n",
    "\n",
    "def train_linear_SSM(x_tr, dz):\n",
    "\n",
    "    dx = x_tr.shape[1]\n",
    "    sm = state_models.LinearStateModel(dz)\n",
    "    om = observation_models.LinearObservationModel(dx, dz)\n",
    "        \n",
    "    ssm_em_lin = StateSpaceEM(jnp.array(x_tr), observation_model=om, state_model=sm)\n",
    "    ssm_em_lin.run()\n",
    "    \n",
    "    return ssm_em_lin\n",
    "\n",
    "\n",
    "def train_linear_hsk_SSM(x_tr, dz, du, init_lin_model):\n",
    "\n",
    "    dx = x_tr.shape[1]\n",
    "    sm_hs = state_models.LinearStateModel(dz)\n",
    "    om_hs = observation_models.HCCovObservationModel(dx, dz, du)\n",
    "    if init_lin_model == 1:\n",
    "        ssm_lin = train_linear_SSM(x_tr, dz)\n",
    "        om_hs.lin_om_init(ssm_lin.om)\n",
    "    hs_model = StateSpaceEM(jnp.array(x_tr), observation_model=om_hs, state_model=sm_hs)\n",
    "    hs_model.run()\n",
    "    return hs_model\n",
    "\n",
    "def train_HMM(x_tr, **kwargs):\n",
    "    return HMM_class(x_tr, args.num_states, args.obs_model)"
   ]
  },
  {
   "cell_type": "code",
   "execution_count": null,
   "id": "bb44d565-dfc4-454b-93c5-a6402db62df9",
   "metadata": {},
   "outputs": [],
   "source": [
    "reset_seeds(0)\n",
    "x_tr, x_va, x_te_full, x_te, s_x = load_lorenz_e1()"
   ]
  },
  {
   "cell_type": "code",
   "execution_count": null,
   "id": "0d3e5a35-4586-4167-ad18-189c1d7e8055",
   "metadata": {},
   "outputs": [],
   "source": [
    "import numpy as np\n",
    "import pandas\n",
    "x_all = np.vstack([xs, ys, zs]).T\n",
    "x_all += .5 * np.random.randn(*x_all.shape)\n",
    "x_all = x_all[::2]\n",
    "pandas.DataFrame(x_all, columns=['x', 'y', 'z'])"
   ]
  },
  {
   "cell_type": "code",
   "execution_count": null,
   "id": "b822bfa9-5080-4755-bd0d-5e557a00b56a",
   "metadata": {},
   "outputs": [],
   "source": [
    "plt.rcdefaults()\n",
    "x_all = np.vstack([xs, ys, zs]).T\n",
    "x_all += .5 * np.random.randn(*x_all.shape)\n",
    "x_tr = x_all[:4000:2]\n",
    "scaler = StandardScaler()\n",
    "x_tr = scaler.fit_transform(x_tr[x_tr[:,0] < 0])\n",
    "\n",
    "x_te = scaler.transform(x_all[4000:6000:2])\n",
    "pyplot.plot(x_tr)"
   ]
  },
  {
   "cell_type": "code",
   "execution_count": null,
   "id": "510a1540-8012-4136-bd98-ca69a4c76a2e",
   "metadata": {},
   "outputs": [],
   "source": [
    "dz, du = 2, 3\n",
    "num_states, obs_model = 10, 'ar'\n",
    "#args = Args(dz, du, False, num_states, obs_model)\n",
    "\n",
    "hsk = train_linear_hsk_SSM(x_tr, dz, du, init_lin_model=True)"
   ]
  },
  {
   "cell_type": "code",
   "execution_count": null,
   "id": "ac21a175-fe6e-4c8d-9740-026c8d70cc2b",
   "metadata": {},
   "outputs": [],
   "source": [
    "lin = train_linear_SSM(x_tr, dz)"
   ]
  },
  {
   "cell_type": "code",
   "execution_count": null,
   "id": "812129cb-211d-4dfc-a76b-1575d9bfcf54",
   "metadata": {},
   "outputs": [],
   "source": [
    "pred_density = lin.compute_predictive_density(x_te_full)\n",
    "lb_lin, ub_lin = pred_density.mu - 1.68 * pred_density.Sigma.diagonal(axis1=1,axis2=2), pred_density.mu + 1.68 * pred_density.Sigma.diagonal(axis1=1,axis2=2)"
   ]
  },
  {
   "cell_type": "code",
   "execution_count": null,
   "id": "825b5d84-ad81-474c-a75b-8cb7f575fe44",
   "metadata": {},
   "outputs": [],
   "source": [
    "pred_density = hsk.compute_predictive_density(x_te_full)\n",
    "lb_hsk, ub_hsk = pred_density.mu - 1.68 * pred_density.Sigma.diagonal(axis1=1,axis2=2), pred_density.mu + 1.68 * pred_density.Sigma.diagonal(axis1=1,axis2=2)"
   ]
  },
  {
   "cell_type": "code",
   "execution_count": null,
   "id": "3efe503c-13b3-4d8e-a219-fbae2e2bbf0d",
   "metadata": {},
   "outputs": [],
   "source": [
    "pyplot.rcdefaults()\n",
    "x_te_nan = np.copy(x_te)\n",
    "x_te_nan[x_all[4000::2,0] > 0] = np.nan\n",
    "for idx in range(3):\n",
    "    pyplot.subplot(3,1,idx+1)\n",
    "    \n",
    "    pyplot.plot(x_te_nan[:,idx], 'k')\n",
    "    pyplot.plot(x_te[:,idx], 'k', alpha=.3)\n",
    "    #pyplot.plot(mean)\n",
    "    pyplot.fill_between(range(lb_hsk.shape[0]), lb_hsk[:,idx], ub_hsk[:,idx], color='C3', zorder=9, alpha=.4)\n",
    "    #pyplot.fill_between(range(lb_hmm.shape[0]), lb_hmm[:,idx], ub_hmm[:,idx], color='C2', zorder=8, alpha=.5)\n",
    "    pyplot.fill_between(range(lb_lin.shape[0]), lb_lin[:,idx], ub_lin[:,idx], color='C0', zorder=8, alpha=.4)\n",
    "    pyplot.xlim([0,1000])\n",
    "    pyplot.ylim([-5,5])\n",
    "    pyplot.xticks([])\n",
    "    pyplot.yticks([])"
   ]
  },
  {
   "cell_type": "code",
   "execution_count": null,
   "id": "f9cd6dd5-13c6-430e-a23f-72f1c806d9f4",
   "metadata": {},
   "outputs": [],
   "source": [
    "hsk.compute_predictive_log_likelihood(x_te)"
   ]
  },
  {
   "cell_type": "code",
   "execution_count": null,
   "id": "33d7d07e-9a21-43c3-afbf-60c66805d0ff",
   "metadata": {},
   "outputs": [],
   "source": [
    "lin.compute_predictive_log_likelihood(x_te)"
   ]
  },
  {
   "cell_type": "code",
   "execution_count": null,
   "id": "c2423abf-153d-450c-a120-191e88a332ba",
   "metadata": {},
   "outputs": [],
   "source": [
    "from observation_models import recommend_dims\n",
    "recommend_dims(x_tr)"
   ]
  },
  {
   "cell_type": "code",
   "execution_count": null,
   "id": "65cac443-8d2d-43f1-8093-781e08fca511",
   "metadata": {},
   "outputs": [],
   "source": [
    "pyplot.plot(x_tr[:,0], x_tr[:,2], '')"
   ]
  },
  {
   "cell_type": "code",
   "execution_count": null,
   "id": "62d8146f-428e-4f0b-959c-49472e9a8232",
   "metadata": {},
   "outputs": [],
   "source": [
    "from matplotlib import pyplot as plt\n",
    "plt.rcdefaults()\n",
    "plt.rc('font', size = 14)\n",
    "fig = plt.figure(figsize=(8,3))\n",
    "T_stop = 600\n",
    "#x_tr_nan = scaler.transform(np.copy(x_all[:4000:2,:]))\n",
    "#x_tr_nan[x_all[:4000:2,0] > 0] = np.nan\n",
    "x_te = x_te_full\n",
    "x_te_nan = np.copy(x_te)\n",
    "x_te_nan[s_x.inverse_transform(x_te)[:,0] > 0] = np.nan\n",
    "\n",
    "ax1 = fig.add_axes([.05,.05,.25,.9], projection='3d')\n",
    "#ax.grid(False)\n",
    "\n",
    "ax1.plot(x_tr[:T_stop,0], x_tr[:T_stop,1], x_tr[:T_stop,2], 'k.', label='train')\n",
    "ax1.plot(x_te[:T_stop,0], x_te[:T_stop,1], x_te[:T_stop,2], color=[.6,.6,.6], label='test', lw=.8)\n",
    "\n",
    "ax1.set_xlabel(\"$x_1$\", labelpad=-10)\n",
    "ax1.set_ylabel(\"$x_2$\", labelpad=-10)\n",
    "ax1.set_zlabel(\"$x_3$\", labelpad=-10)\n",
    "ax1.set_xticks([-2, 0, 2, 4])\n",
    "ax1.set_xticklabels([])\n",
    "ax1.set_yticks([-2, 0, 2, 4])\n",
    "ax1.set_yticklabels([])\n",
    "ax1.set_zticks([-2, 0, 2, 4])\n",
    "ax1.set_zticklabels([])\n",
    "ax1.legend(fontsize=9)\n",
    "ax1.set_title('(a)', loc='left', fontweight='bold', x=-.1, y=.9)\n",
    "\n",
    "\n",
    "ax2 = fig.add_axes([.4,.7,.55,.25])\n",
    "idx = 0\n",
    "ax2.plot(x_te_nan[:T_stop,idx], 'k')\n",
    "ax2.plot(x_te[:T_stop,idx], 'k--', alpha=.3)\n",
    "#pyplot.plot(mean)\n",
    "ax2.fill_between(range(T_stop), lb_hsk[:T_stop,idx], ub_hsk[:T_stop,idx], color='C3', zorder=5, alpha=.4, label='heterosc.', linewidth=1)\n",
    "#pyplot.fill_between(range(lb_hmm.shape[0]), lb_hmm[:,idx], ub_hmm[:,idx], color='C2', zorder=8, alpha=.5)\n",
    "ax2.fill_between(range(T_stop), lb_lin[:T_stop,idx], ub_lin[:T_stop,idx], color='C0', zorder=4, alpha=1., label='homosc.', linewidth=1)\n",
    "ax2.set_xlim([0,T_stop])\n",
    "ax2.set_ylim([-4,6])\n",
    "ax2.set_xticks([])\n",
    "ax2.set_yticks([])\n",
    "ax2.set_ylabel('$x_1$')\n",
    "#ax2.legend(loc=2, facecolor=(1, 1, 1, 1), fontsize=9)\n",
    "ax2.set_title('(b)', loc='left', fontweight='bold', x=-.1, y=.66)\n",
    "ax3 = fig.add_axes([.4,.4,.55,.25])\n",
    "idx = 1\n",
    "ax3.plot(x_te_nan[:T_stop,idx], 'k')\n",
    "ax3.plot(x_te[:T_stop,idx], 'k--', alpha=.3)\n",
    "#pyplot.plot(mean)\n",
    "ax3.fill_between(range(T_stop), lb_hsk[:T_stop,idx], ub_hsk[:T_stop,idx], color='C3', zorder=9, alpha=.4, label='heterosc.', linewidth=1.)\n",
    "#pyplot.fill_between(range(lb_hmm.shape[0]), lb_hmm[:,idx], ub_hmm[:,idx], color='C2', zorder=8, alpha=.5)\n",
    "ax3.fill_between(range(T_stop), lb_lin[:T_stop,idx], ub_lin[:T_stop,idx], color='C0', zorder=8, alpha=.4, label='homosc.', linewidth=1.)\n",
    "ax3.set_xlim([0,T_stop])\n",
    "ax3.set_ylim([-4,6])\n",
    "ax3.set_xticks([])\n",
    "ax3.set_yticks([])\n",
    "ax3.set_ylabel('$x_2$')\n",
    "\n",
    "ax4 = fig.add_axes([.4,.1,.55,.25])\n",
    "\n",
    "idx = 2\n",
    "ax4.plot(x_te_nan[:T_stop,idx], 'k')\n",
    "ax4.plot(x_te[:T_stop,idx], 'k--', alpha=.3)\n",
    "#pyplot.plot(mean)\n",
    "ax4.fill_between(range(T_stop), lb_hsk[:T_stop,idx], ub_hsk[:T_stop,idx], color='C3', zorder=9, alpha=.4, linewidth=1)\n",
    "#pyplot.fill_between(range(lb_hmm.shape[0]), lb_hmm[:,idx], ub_hmm[:,idx], color='C2', zorder=8, alpha=.5)\n",
    "ax4.fill_between(range(T_stop), lb_lin[:T_stop,idx], ub_lin[:T_stop,idx], color='C0', zorder=8, alpha=.4, linewidth=1)\n",
    "ax4.set_xlim([0,T_stop])\n",
    "ax4.set_ylim([-4,6])\n",
    "ax4.set_xticks([])\n",
    "ax4.set_yticks([])\n",
    "ax4.set_ylabel('$x_3$')\n",
    "ax4.set_xlabel('Time [a.u.]', labelpad=1, fontsize=12)\n",
    "plt.savefig('../../figs/aistats22/lorenz.pdf')\n",
    "plt.savefig('../../figs/aistats22/lorenz.png', dpi=300)\n",
    "plt.show()"
   ]
  },
  {
   "cell_type": "code",
   "execution_count": null,
   "id": "9994ec8e-ba98-47cd-99a9-7ab7a4f69f31",
   "metadata": {},
   "outputs": [],
   "source": [
    "hsk.compute_predictive_log_likelihood(x_te)"
   ]
  },
  {
   "cell_type": "code",
   "execution_count": null,
   "id": "4494937c-4983-4a55-8723-cacca20e7c17",
   "metadata": {},
   "outputs": [],
   "source": [
    "lin.compute_predictive_log_likelihood(x_te)"
   ]
  },
  {
   "cell_type": "code",
   "execution_count": null,
   "id": "49089201-6400-4df2-aabd-fb49d2caf7e2",
   "metadata": {},
   "outputs": [],
   "source": []
  }
 ],
 "metadata": {
  "kernelspec": {
   "display_name": "Python 3 (ipykernel)",
   "language": "python",
   "name": "python3"
  },
  "language_info": {
   "codemirror_mode": {
    "name": "ipython",
    "version": 3
   },
   "file_extension": ".py",
   "mimetype": "text/x-python",
   "name": "python",
   "nbconvert_exporter": "python",
   "pygments_lexer": "ipython3",
   "version": "3.9.7"
  }
 },
 "nbformat": 4,
 "nbformat_minor": 5
}
