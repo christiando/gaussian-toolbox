{
 "cells": [
  {
   "cell_type": "code",
   "execution_count": 1,
   "id": "becoming-kingdom",
   "metadata": {},
   "outputs": [],
   "source": [
    "import sys\n",
    "sys.path.append('../kalman-jax-master/kalmanjax/')\n",
    "import numpy as np\n",
    "from jax.experimental import optimizers\n",
    "import matplotlib.pyplot as plt\n",
    "import time\n",
    "from sde_gp import SDEGP\n",
    "import approximate_inference as approx_inf\n",
    "import priors\n",
    "import likelihoods\n",
    "from utils import softplus_list, plot\n",
    "from sklearn.preprocessing import StandardScaler\n",
    "\n"
   ]
  },
  {
   "cell_type": "code",
   "execution_count": 2,
   "id": "frozen-russian",
   "metadata": {},
   "outputs": [],
   "source": [
    "import os\n",
    "import sys\n",
    "import torch\n",
    "import random\n",
    "import argparse\n",
    "import numpy as np\n",
    "import scipy\n",
    "\n",
    "\n",
    "sys.path.append('../../timeseries/')\n",
    "sys.path.append('../../src/')\n",
    "\n",
    "import factors\n",
    "import state_models\n",
    "import observation_models\n",
    "from ssm_em import StateSpaceEM\n",
    "from nonlinear_ssm import NonLinearStateSpace_EM\n",
    "\n",
    "from scipy.stats import norm\n",
    "from scipy.stats import zscore\n",
    "from ssm_em import StateSpaceEM\n",
    "from sklearn.covariance import EmpiricalCovariance\n",
    "from sklearn.gaussian_process import GaussianProcessRegressor\n",
    "from sklearn.model_selection import train_test_split\n",
    "from sklearn.preprocessing import StandardScaler\n",
    "from sklearn.metrics import mean_absolute_percentage_error as mape\n",
    "from sklearn.gaussian_process.kernels import ExpSineSquared, RBF\n",
    "\n",
    "import darts\n",
    "from darts.models import TCNModel\n",
    "from darts.models import GaussianProcessFilter\n",
    "from darts.utils.likelihood_models import GaussianLikelihoodModel\n",
    "from darts.timeseries import TimeSeries\n",
    "from exp_utils import load_sunspots, load_energy, load_synthetic, load_airfoil\n"
   ]
  },
  {
   "cell_type": "code",
   "execution_count": 3,
   "id": "surface-colleague",
   "metadata": {},
   "outputs": [],
   "source": [
    "x_tr, x_va, x_te, s_tr_x = load_sunspots(ts=0, train_ratio=0.5)"
   ]
  },
  {
   "cell_type": "code",
   "execution_count": 28,
   "id": "employed-energy",
   "metadata": {},
   "outputs": [
    {
     "data": {
      "text/plain": [
       "(1269, 1)"
      ]
     },
     "execution_count": 28,
     "metadata": {},
     "output_type": "execute_result"
    }
   ],
   "source": [
    "x_tr.shape"
   ]
  },
  {
   "cell_type": "code",
   "execution_count": 30,
   "id": "available-brighton",
   "metadata": {},
   "outputs": [
    {
     "name": "stdout",
     "output_type": "stream",
     "text": [
      "building SDE-GP with Independent prior and Heteroscedastic Noise likelihood ...\n",
      "inference method is Expectation Propagation (EP)\n"
     ]
    }
   ],
   "source": [
    "var_f1 = 3.  # GP variance\n",
    "len_f1 = 1.  # GP lengthscale\n",
    "var_f2 = 3.  # GP variance\n",
    "len_f2 = 1.  # GP lengthscale\n",
    "\n",
    "prior1 = priors.Matern32(variance=var_f1, lengthscale=len_f1)\n",
    "prior2 = priors.Matern32(variance=var_f2, lengthscale=len_f2)\n",
    "prior = priors.Independent([prior1, prior2])\n",
    "lik = likelihoods.HeteroscedasticNoise()\n",
    "\n",
    "# inf_method = approx_inf.ExpectationPropagation(power=0.9, intmethod='UT', damping=0.1)\n",
    "inf_method = approx_inf.ExpectationPropagation(power=0.01, intmethod='GH', damping=0.5)\n",
    "model = SDEGP(prior=prior, likelihood=lik, t=np.asarray(list(range(x_tr.shape[0]))), y=x_tr, approx_inf=inf_method)"
   ]
  },
  {
   "cell_type": "code",
   "execution_count": 32,
   "id": "heavy-intro",
   "metadata": {},
   "outputs": [],
   "source": [
    "opt_init, opt_update, get_params = optimizers.adam(step_size=5e-2)\n",
    "# parameters should be a 2-element list [param_prior, param_likelihood]\n",
    "opt_state = opt_init([model.prior.hyp, model.likelihood.hyp])\n",
    "\n",
    "\n",
    "def gradient_step(i, state, mod):\n",
    "    params = get_params(state)\n",
    "    mod.prior.hyp = params[0]\n",
    "    mod.likelihood.hyp = params[1]\n",
    "\n",
    "    # grad(Filter) + Smoother:\n",
    "    neg_log_marg_lik, gradients = mod.run()\n",
    "    # neg_log_marg_lik, gradients = mod.run_two_stage()  # <-- less elegant but reduces compile time\n",
    "\n",
    "    prior_params = softplus_list(params[0])\n",
    "    if (i % 10) == 0:\n",
    "        print('iter %2d: var_f1=%1.2f len_f1=%1.2f var_f2=%1.2f len_f2=%1.2f, nlml=%2.2f' %\n",
    "              (i, prior_params[0][0], prior_params[0][1], prior_params[1][0], prior_params[1][1], neg_log_marg_lik))\n",
    "\n",
    "    #if plot_intermediate:\n",
    "    #    plot(mod, i)\n",
    "\n",
    "    return opt_update(i, gradients, state)"
   ]
  },
  {
   "cell_type": "code",
   "execution_count": 33,
   "id": "appropriate-chrome",
   "metadata": {},
   "outputs": [
    {
     "name": "stdout",
     "output_type": "stream",
     "text": [
      "optimising the hyperparameters ...\n",
      "iter  0: var_f1=3.00 len_f1=1.00 var_f2=3.00 len_f2=1.00, nlml=1959.86\n",
      "iter 10: var_f1=2.53 len_f1=1.34 var_f2=2.53 len_f2=1.25, nlml=1745.33\n",
      "iter 20: var_f1=2.08 len_f1=1.74 var_f2=2.08 len_f2=1.62, nlml=1511.36\n",
      "iter 30: var_f1=1.65 len_f1=2.15 var_f2=1.66 len_f2=2.07, nlml=1274.96\n",
      "iter 40: var_f1=1.27 len_f1=2.55 var_f2=1.31 len_f2=2.59, nlml=1054.04\n",
      "iter 50: var_f1=0.94 len_f1=2.93 var_f2=1.07 len_f2=3.13, nlml=868.03\n",
      "iter 60: var_f1=0.69 len_f1=3.27 var_f2=0.96 len_f2=3.66, nlml=726.33\n",
      "iter 70: var_f1=0.50 len_f1=3.57 var_f2=0.97 len_f2=4.16, nlml=625.24\n",
      "iter 80: var_f1=0.39 len_f1=3.83 var_f2=1.09 len_f2=4.62, nlml=555.95\n",
      "iter 90: var_f1=0.32 len_f1=4.08 var_f2=1.25 len_f2=5.04, nlml=509.15\n",
      "iter 100: var_f1=0.28 len_f1=4.31 var_f2=1.42 len_f2=5.40, nlml=477.23\n",
      "iter 110: var_f1=0.26 len_f1=4.53 var_f2=1.58 len_f2=5.73, nlml=454.03\n",
      "iter 120: var_f1=0.26 len_f1=4.74 var_f2=1.71 len_f2=6.02, nlml=435.28\n",
      "iter 130: var_f1=0.26 len_f1=4.94 var_f2=1.82 len_f2=6.29, nlml=419.34\n",
      "iter 140: var_f1=0.26 len_f1=5.13 var_f2=1.92 len_f2=6.53, nlml=405.60\n",
      "iter 150: var_f1=0.27 len_f1=5.32 var_f2=2.00 len_f2=6.76, nlml=393.97\n",
      "iter 160: var_f1=0.27 len_f1=5.50 var_f2=2.08 len_f2=6.97, nlml=383.42\n",
      "iter 170: var_f1=0.27 len_f1=5.67 var_f2=2.15 len_f2=7.16, nlml=374.49\n",
      "iter 180: var_f1=0.27 len_f1=5.84 var_f2=2.22 len_f2=7.35, nlml=366.71\n",
      "iter 190: var_f1=0.27 len_f1=6.00 var_f2=2.29 len_f2=7.53, nlml=359.62\n",
      "optimisation time: 20.02 secs\n"
     ]
    }
   ],
   "source": [
    "plot_intermediate = False\n",
    "print('optimising the hyperparameters ...')\n",
    "t0 = time.time()\n",
    "for j in range(200):\n",
    "    opt_state = gradient_step(j, opt_state, model)\n",
    "t1 = time.time()\n",
    "print('optimisation time: %2.2f secs' % (t1-t0))"
   ]
  },
  {
   "cell_type": "code",
   "execution_count": 34,
   "id": "subject-robert",
   "metadata": {},
   "outputs": [
    {
     "name": "stdout",
     "output_type": "stream",
     "text": [
      "calculating the posterior predictive distribution ...\n",
      "prediction time: 4.33 secs\n",
      "NLPD: 3.54\n"
     ]
    }
   ],
   "source": [
    "x_plot = x_te#np.linspace(np.min(x_tr[:-1])-0.2, np.max(x_tr[:-1])+0.2, x_tr.shape[0])\n",
    "print('calculating the posterior predictive distribution ...')\n",
    "t0 = time.time()\n",
    "nlpd = model.negative_log_predictive_density(t=x_te[:-1], y=x_te[1:])\n",
    "posterior_mean, posterior_cov = model.predict(t=x_plot)\n",
    "t1 = time.time()\n",
    "print('prediction time: %2.2f secs' % (t1-t0))\n",
    "print('NLPD: %1.2f' % nlpd)"
   ]
  },
  {
   "cell_type": "code",
   "execution_count": 36,
   "id": "liked-audit",
   "metadata": {},
   "outputs": [
    {
     "data": {
      "image/png": "[encoded data removed]",
      "text/plain": [
       "<Figure size 640x480 with 1 Axes>"
      ]
     },
     "metadata": {},
     "output_type": "display_data"
    }
   ],
   "source": [
    "plt.plot(x_te)\n",
    "plt.plot(posterior_mean[:,1])\n",
    "plt.show()"
   ]
  },
  {
   "cell_type": "code",
   "execution_count": 16,
   "id": "american-corporation",
   "metadata": {},
   "outputs": [
    {
     "data": {
      "text/plain": [
       "(1269, 1)"
      ]
     },
     "execution_count": 16,
     "metadata": {},
     "output_type": "execute_result"
    }
   ],
   "source": [
    "x_tr.shape"
   ]
  },
  {
   "cell_type": "code",
   "execution_count": null,
   "id": "competent-jamaica",
   "metadata": {},
   "outputs": [],
   "source": []
  }
 ],
 "metadata": {
  "kernelspec": {
   "display_name": "Python 3 (ipykernel)",
   "language": "python",
   "name": "python3"
  },
  "language_info": {
   "codemirror_mode": {
    "name": "ipython",
    "version": 3
   },
   "file_extension": ".py",
   "mimetype": "text/x-python",
   "name": "python",
   "nbconvert_exporter": "python",
   "pygments_lexer": "ipython3",
   "version": "3.9.6"
  }
 },
 "nbformat": 4,
 "nbformat_minor": 5
}
