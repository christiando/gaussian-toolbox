{
 "cells": [
  {
   "cell_type": "code",
   "execution_count": null,
   "id": "stupid-diameter",
   "metadata": {},
   "outputs": [],
   "source": [
    "import sys\n",
    "sys.path.insert(0, '../')\n",
    "import numpy as np\n",
    "from jax.experimental import optimizers\n",
    "import matplotlib.pyplot as plt\n",
    "import time\n",
    "from sde_gp import SDEGP\n",
    "import approximate_inference as approx_inf\n",
    "import priors\n",
    "import likelihoods\n",
    "from utils import softplus_list, plot\n",
    "from sklearn.preprocessing import StandardScaler\n",
    "\n",
    "plot_intermediate = False\n"
   ]
  }
 ],
 "metadata": {
  "kernelspec": {
   "display_name": "Python 3",
   "language": "python",
   "name": "python3"
  },
  "language_info": {
   "codemirror_mode": {
    "name": "ipython",
    "version": 3
   },
   "file_extension": ".py",
   "mimetype": "text/x-python",
   "name": "python",
   "nbconvert_exporter": "python",
   "pygments_lexer": "ipython3",
   "version": "3.8.6"
  }
 },
 "nbformat": 4,
 "nbformat_minor": 5
}
