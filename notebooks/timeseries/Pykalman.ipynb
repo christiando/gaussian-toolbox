{
 "cells": [
  {
   "cell_type": "code",
   "execution_count": 1,
   "id": "finished-balance",
   "metadata": {},
   "outputs": [],
   "source": [
    "%load_ext autoreload\n",
    "%autoreload 2\n",
    "import numpy\n",
    "from matplotlib import pyplot\n",
    "import sys\n",
    "sys.path.append('../../timeseries/')\n",
    "sys.path.append('../../src/')\n",
    "import factors\n",
    "import observation_models\n",
    "import state_models\n",
    "from ssm_em import StateSpaceEM\n",
    "from pykalman import KalmanFilter"
   ]
  },
  {
   "cell_type": "code",
   "execution_count": 2,
   "id": "royal-belly",
   "metadata": {},
   "outputs": [],
   "source": [
    "T = 1000\n",
    "trange = numpy.arange(T)\n",
    "Dx = 3\n",
    "Dz = 3\n",
    "X = numpy.empty((T,Dx))\n",
    "X[:,0] = numpy.sin(trange / 20)\n",
    "X[:,1] = numpy.sin(trange / 10)\n",
    "X[:,2] = numpy.sin(trange / 5)\n",
    "noise_x = .2\n",
    "noise_z = .1\n",
    "X += noise_x * numpy.random.randn(*X.shape)"
   ]
  },
  {
   "cell_type": "code",
   "execution_count": 140,
   "id": "adopted-spending",
   "metadata": {},
   "outputs": [],
   "source": [
    "transition_covariance = .01 * numpy.eye(Dz)\n",
    "transition_matrices = numpy.eye(Dz)\n",
    "transition_matrices[0,1] = .2\n",
    "kf = KalmanFilter(n_dim_obs=Dx,n_dim_state=Dz, em_vars=['transition_covariance'], \n",
    "                  transition_covariance=transition_covariance, transition_matrices=transition_matrices\n",
    "                  )"
   ]
  },
  {
   "cell_type": "code",
   "execution_count": 158,
   "id": "elect-controversy",
   "metadata": {},
   "outputs": [],
   "source": [
    "class CustomStateModel(state_models.LinearStateModel):\n",
    "    \n",
    "    def update_hyperparameters(self, smoothing_density: 'GaussianDensity', \n",
    "                               two_step_smoothing_density: 'GaussianDensity', **kwargs):\n",
    "        \"\"\" The hyperparameters are updated here, where the the densities p(z_t|x_{1:T}) and \n",
    "        p(z_{t+1}, z_t|x_{1:T}) are provided (the latter for the cross-terms.)\n",
    "        \n",
    "        :param smoothing_density: GaussianDensity\n",
    "            The smoothing density  p(z_t|x_{1:T}).\n",
    "        :param two_step_smoothing_density: Gaussian Density\n",
    "            The two point smoothing density  p(z_{t+1}, z_t|x_{1:T}).\n",
    "        \"\"\"\n",
    "        #self.update_A(smoothing_density, two_step_smoothing_density)\n",
    "        #self.update_b(smoothing_density)\n",
    "        self.update_Qz(smoothing_density, two_step_smoothing_density)\n",
    "        self.update_state_density()\n",
    "        \n",
    "        \n",
    "    def update_Qz(self, smoothing_density: 'GaussianDensity', two_step_smoothing_density: 'GaussianDensity'):\n",
    "        \"\"\" The transition covariance is updated here, where the the densities p(z_t|x_{1:T}) and \n",
    "        p(z_{t+1}, z_t|x_{1:T}) are provided (the latter for the cross-terms.)\n",
    "        \n",
    "        :param smoothing_density: GaussianDensity\n",
    "            The smoothing density  p(z_t|x_{1:T}).\n",
    "        :param two_step_smoothing_density: Gaussian Density\n",
    "            The two point smoothing density  p(z_{t+1}, z_t|x_{1:T}).\n",
    "        \"\"\"\n",
    "        T = two_step_smoothing_density.R\n",
    "        #Ezz_two_step = two_step_smoothing_density.integrate("xx'")\n",
    "        #Ezz = Ezz_two_step[:,self.Dz:,self.Dz:]\n",
    "        #Ezz_cross = Ezz_two_step[:,:self.Dz,self.Dz:]\n",
    "        #AEzz_cross = numpy.sum(numpy.einsum('ab,cbd->cad', self.A, Ezz_cross), axis=0)\n",
    "        #Ez_b = smoothing_density.mu[:,None] * self.b[None,:,None]\n",
    "        #AEz_b = numpy.sum(numpy.einsum('ab,cbd->cad', self.A, Ez_b[:-1]), axis=0)\n",
    "        #Az_b2 = numpy.sum(smoothing_density.integrate("(Ax+a)(Bx+b)'", A_mat=self.A, a_vec=self.b, \n",
    "        #                                              B_mat=self.A, b_vec=self.b)[:-1],axis=0)\n",
    "        #mu_b = numpy.sum(Ez_b[1:], axis=0)\n",
    "        #AEzzA = numpy.einsum('ab,bc->ac', numpy.einsum('ab,bc->ac', self.A, numpy.sum(Ezz[:-1], axis=0)), self.A.T)\n",
    "        #print(AEzzA, numpy.sum(Ezz[:-1], axis=0).shape)\n",
    "        \n",
    "        #Qz = (numpy.sum(Ezz[1:], axis=0) + Az_b2 - mu_b - mu_b.T - AEzz_cross - AEzz_cross.T) / T# +  - mu_b - mu_b.T - AEzz_cross - AEzz_cross.T) / T\n",
    "        A_tilde = numpy.eye(2*self.Dz, self.Dz)\n",
    "        A_tilde[self.Dz:] = -self.A.T\n",
    "        print(A_tilde.shape)\n",
    "        b_tilde = -self.b\n",
    "        Qz = numpy.mean(two_step_smoothing_density.integrate("(Ax+a)(Bx+b)'", A_mat=A_tilde.T, a_vec=b_tilde, B_mat=A_tilde.T, b_vec=b_tilde), axis=0)\n",
    "        return Qz\n",
    "        #eigvals, eigvecs = numpy.linalg.eig(self.Qz)\n",
    "        #self.Qz += 1e-4 * numpy.eye(self.Dz) \n",
    "        \n",
    "    def update_A(self, smoothing_density: 'GaussianDensity', \n",
    "                 two_step_smoothing_density: 'GaussianDensity'):\n",
    "        \"\"\" The transition matrix is updated here, where the the densities\n",
    "        p(z_{t+1}, z_t|x_{1:T}) is provided.\n",
    "        \n",
    "        :param smoothing_density: GaussianDensity\n",
    "            The smoothing density  p(z_t|x_{1:T}).\n",
    "        :param two_step_smoothing_density: Gaussian Density\n",
    "            The two point smoothing density  p(z_{t+1}, z_t|x_{1:T}).\n",
    "        \"\"\"\n",
    "        #Ezz = smoothing_density.integrate("xx'")\n",
    "        mu_b = smoothing_density.mu[:-1,None] * self.b[None,:,None]\n",
    "        Ezz_two_step = two_step_smoothing_density.integrate("xx'")\n",
    "        Ezz = Ezz_two_step[:,self.Dz:,self.Dz:]\n",
    "        Ezz_cross = Ezz_two_step[:,self.Dz:,:self.Dz]\n",
    "        A = numpy.mean(Ezz, axis=0) #+ 1e-2 * numpy.eye(self.Dz)\n",
    "        return numpy.linalg.solve(A, numpy.mean(Ezz_cross -  mu_b, axis=0)).T\n",
    "    \n",
    "    def update_b(self, smoothing_density: 'GaussianDensity'):\n",
    "        \"\"\" The transition offset is updated here, where the the densities p(z_t|x_{1:T}) is provided.\n",
    "        \n",
    "        :param smoothing_density: GaussianDensity\n",
    "            The smoothing density  p(z_t|x_{1:T}).\n",
    "        \"\"\"\n",
    "        return numpy.mean(smoothing_density.mu[1:] - numpy.dot(self.A, smoothing_density.mu[:-1].T).T, axis=0)\n",
    "        \n",
    "        \n",
    "class CustomObservationModel(observation_models.LinearObservationModel):\n",
    "    \n",
    "    def update_hyperparameters(self, smoothing_density: 'GaussianDensity', X: numpy.ndarray, **kwargs):\n",
    "        \"\"\" This procedure updates the hyperparameters of the observation model.\n",
    "        \n",
    "        :param smoothing_density: GaussianDensity\n",
    "            The smoothing density over the latent space.\n",
    "        :param X: numpy.ndarray [T, Dx]\n",
    "            The observations.\n",
    "        \"\"\"  \n",
    "        #self.update_C(smoothing_density, X)\n",
    "        #self.update_d(smoothing_density, X)\n",
    "        #self.update_Qx(smoothing_density, X)\n",
    "        self.update_emission_density()\n",
    "    \n",
    "    def update_Qx(self, smoothing_density: 'GaussianDensity', X: numpy.ndarray):\n",
    "        \"\"\" This procedure updates the covariance of the observation model.\n",
    "        \n",
    "        :param smoothing_density: GaussianDensity\n",
    "            The smoothing density over the latent space.\n",
    "        :param X: numpy.ndarray [T, Dx]\n",
    "            The observations.\n",
    "        \"\"\"  \n",
    "        T = X.shape[0]\n",
    "        A = -self.C\n",
    "        a_t = X - self.d[None]\n",
    "        Exx = numpy.zeros((self.Dx, self.Dx))\n",
    "        for t in range(1, T+1):\n",
    "            cur_smooth_density = smoothing_density.slice([t])\n",
    "            Exx += cur_smooth_density.integrate("(Ax+a)(Bx+b)'", A_mat=A, \n",
    "                                                a_vec=a_t[t-1], B_mat=A, \n",
    "                                                b_vec=a_t[t-1])[0]\n",
    "        return Exx / T\n",
    "    \n",
    "    def update_C(self, smoothing_density: 'GaussianDensity', X: numpy.ndarray):\n",
    "        \"\"\" This procedure updates the transition matrix of the observation model.\n",
    "        \n",
    "        :param smoothing_density: GaussianDensity\n",
    "            The smoothing density over the latent space.\n",
    "        :param X: numpy.ndarray [T, Dx]\n",
    "            The observations.\n",
    "        \"\"\"  \n",
    "        Ezz = numpy.sum(smoothing_density.integrate("xx'")[1:], axis=0)\n",
    "        Ez = smoothing_density.integrate("x")[1:]\n",
    "        zx = numpy.sum(Ez[:,:,None] * (X[:,None] - self.d[None,None]), axis=0)\n",
    "        return numpy.linalg.solve(Ezz, zx).T\n",
    "    \n",
    "    def update_d(self, smoothing_density: 'GaussianDensity', X: numpy.ndarray):\n",
    "        \"\"\" This procedure updates the transition offset of the observation model.\n",
    "        \n",
    "        :param smoothing_density: GaussianDensity\n",
    "            The smoothing density over the latent space.\n",
    "        :param X: numpy.ndarray [T, Dx]\n",
    "            The observations.\n",
    "        \"\"\" \n",
    "        return numpy.mean(X - numpy.dot(smoothing_density.mu[1:], self.C.T), axis=0)"
   ]
  },
  {
   "cell_type": "code",
   "execution_count": 159,
   "id": "right-flush",
   "metadata": {},
   "outputs": [],
   "source": [
    "sm = CustomStateModel(Dz, noise_z=numpy.sqrt(.01))\n",
    "#sm.Qz = numpy.eye(Dz)\n",
    "sm.A = numpy.eye(Dz)\n",
    "sm.A[0,1] = .2\n",
    "sm.b = numpy.zeros((Dz,))\n",
    "sm.update_state_density()\n",
    "om = CustomObservationModel(Dx, Dz, noise_x=1)\n",
    "om.Qx = numpy.eye(Dx)\n",
    "om.C = numpy.eye(Dx, Dz)\n",
    "om.d = numpy.zeros((Dx,))\n",
    "om.update_emission_density()\n",
    "#om.pca_init(X)"
   ]
  },
  {
   "cell_type": "code",
   "execution_count": null,
   "id": "following-cement",
   "metadata": {},
   "outputs": [],
   "source": []
  },
  {
   "cell_type": "code",
   "execution_count": 160,
   "id": "parliamentary-wrestling",
   "metadata": {},
   "outputs": [],
   "source": [
    "ssm_em_lin = StateSpaceEM(X, observation_model=om, state_model=sm)"
   ]
  },
  {
   "cell_type": "code",
   "execution_count": 161,
   "id": "white-party",
   "metadata": {},
   "outputs": [],
   "source": [
    "ssm_em_lin.estep()"
   ]
  },
  {
   "cell_type": "code",
   "execution_count": 146,
   "id": "international-appendix",
   "metadata": {},
   "outputs": [],
   "source": [
    "mu_kf, cov_kf = kf.smooth(X)"
   ]
  },
  {
   "cell_type": "code",
   "execution_count": 147,
   "id": "knowing-behavior",
   "metadata": {},
   "outputs": [
    {
     "data": {
      "text/plain": [
       "[<matplotlib.lines.Line2D at 0x7f6c10ad8220>]"
      ]
     },
     "execution_count": 147,
     "metadata": {},
     "output_type": "execute_result"
    },
    {
     "data": {
      "image/png": "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\n",
      "text/plain": [
       "<Figure size 432x288 with 1 Axes>"
      ]
     },
     "metadata": {
      "needs_background": "light"
     },
     "output_type": "display_data"
    }
   ],
   "source": [
    "pyplot.plot(mu_kf[:,2])\n",
    "pyplot.plot(ssm_em_lin.twostep_smoothing_density.mu[1:,2])"
   ]
  },
  {
   "cell_type": "code",
   "execution_count": 148,
   "id": "special-inflation",
   "metadata": {},
   "outputs": [
    {
     "data": {
      "text/plain": [
       "[<matplotlib.lines.Line2D at 0x7f6c10cb95b0>]"
      ]
     },
     "execution_count": 148,
     "metadata": {},
     "output_type": "execute_result"
    },
    {
     "data": {
      "image/png": "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\n",
      "text/plain": [
       "<Figure size 432x288 with 2 Axes>"
      ]
     },
     "metadata": {
      "needs_background": "light"
     },
     "output_type": "display_data"
    }
   ],
   "source": [
    "pyplot.subplot(121)\n",
    "pyplot.plot(mu_kf.flatten(), ssm_em_lin.smoothing_density.mu[1:].flatten(), '.')\n",
    "pyplot.subplot(122)\n",
    "pyplot.plot(cov_kf.flatten(), ssm_em_lin.smoothing_density.Sigma[1:].flatten(), '.')"
   ]
  },
  {
   "cell_type": "code",
   "execution_count": 10,
   "id": "educational-baghdad",
   "metadata": {},
   "outputs": [],
   "source": [
    "from pykalman import standard"
   ]
  },
  {
   "cell_type": "code",
   "execution_count": 153,
   "id": "introductory-foster",
   "metadata": {},
   "outputs": [],
   "source": [
    "self = kf\n",
    "(self.transition_matrices, self.transition_offsets,\n",
    "         self.transition_covariance, self.observation_matrices,\n",
    "         self.observation_offsets, self.observation_covariance,\n",
    "         self.initial_state_mean, self.initial_state_covariance) = (\n",
    "            self._initialize_parameters()\n",
    "        )\n",
    "Z = self._parse_observations(X)\n",
    "(predicted_state_means, predicted_state_covariances,\n",
    "             kalman_gains, filtered_state_means,\n",
    "             filtered_state_covariances) = (\n",
    "                standard._filter(\n",
    "                    self.transition_matrices, self.observation_matrices,\n",
    "                    self.transition_covariance, self.observation_covariance,\n",
    "                    self.transition_offsets, self.observation_offsets,\n",
    "                    self.initial_state_mean, self.initial_state_covariance,\n",
    "                    Z\n",
    "                )\n",
    "            )\n",
    "(smoothed_state_means, smoothed_state_covariances,\n",
    "             kalman_smoothing_gains) = (\n",
    "                standard._smooth(\n",
    "                    self.transition_matrices, filtered_state_means,\n",
    "                    filtered_state_covariances, predicted_state_means,\n",
    "                    predicted_state_covariances\n",
    "                )\n",
    "            )\n",
    "\n",
    "sigma_pair_smooth = standard._smooth_pair(\n",
    "                smoothed_state_covariances,\n",
    "                kalman_smoothing_gains\n",
    "            )"
   ]
  },
  {
   "cell_type": "code",
   "execution_count": 155,
   "id": "dominant-editing",
   "metadata": {},
   "outputs": [
    {
     "data": {
      "text/plain": [
       "[<matplotlib.lines.Line2D at 0x7f6c0f631a30>]"
      ]
     },
     "execution_count": 155,
     "metadata": {},
     "output_type": "execute_result"
    },
    {
     "data": {
      "image/png": "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\n",
      "text/plain": [
       "<Figure size 432x288 with 1 Axes>"
      ]
     },
     "metadata": {
      "needs_background": "light"
     },
     "output_type": "display_data"
    }
   ],
   "source": [
    "pyplot.plot(sigma_pair_smooth[1:].flatten(), ssm_em_lin.twostep_smoothing_density.Sigma[1:,:3,3:].flatten())"
   ]
  },
  {
   "cell_type": "code",
   "execution_count": 156,
   "id": "expected-accident",
   "metadata": {},
   "outputs": [
    {
     "data": {
      "text/plain": [
       "array([[ 1.01025684e-02,  2.63367621e-05, -1.04681405e-05],\n",
       "       [ 2.63367621e-05,  9.72396183e-03, -6.40242804e-06],\n",
       "       [-1.04681405e-05, -6.40242804e-06,  1.02903952e-02]])"
      ]
     },
     "execution_count": 156,
     "metadata": {},
     "output_type": "execute_result"
    }
   ],
   "source": [
    "import numpy as np\n",
    "\n",
    "def _last_dims(X, t, ndims=2):\n",
    "    \"\"\"Extract the final dimensions of `X`\n",
    "    Extract the final `ndim` dimensions at index `t` if `X` has >= `ndim` + 1\n",
    "    dimensions, otherwise return `X`.\n",
    "    Parameters\n",
    "    ----------\n",
    "    X : array with at least dimension `ndims`\n",
    "    t : int\n",
    "        index to use for the `ndims` + 1th dimension\n",
    "    ndims : int, optional\n",
    "        number of dimensions in the array desired\n",
    "    Returns\n",
    "    -------\n",
    "    Y : array with dimension `ndims`\n",
    "        the final `ndims` dimensions indexed by `t`\n",
    "    \"\"\"\n",
    "    X = np.asarray(X)\n",
    "    if len(X.shape) == ndims + 1:\n",
    "        return X[t]\n",
    "    elif len(X.shape) == ndims:\n",
    "        return X\n",
    "    else:\n",
    "        raise ValueError((\"X only has %d dimensions when %d\" +\n",
    "                \" or more are required\") % (len(X.shape), ndims))\n",
    "\n",
    "def _em_transition_covariance(transition_matrices, transition_offsets,\n",
    "                              smoothed_state_means, smoothed_state_covariances,\n",
    "                              pairwise_covariances):\n",
    "    r\"\"\"Apply the EM algorithm to parameter `transition_covariance`\n",
    "    Maximize expected log likelihood of observations with respect to the\n",
    "    transition covariance matrix `transition_covariance`.\n",
    "    .. math::\n",
    "        Q &= \\frac{1}{T-1} \\sum_{t=0}^{T-2}\n",
    "                (\\mathbb{E}[x_{t+1}] - A_t \\mathbb{E}[x_t] - b_t)\n",
    "                    (\\mathbb{E}[x_{t+1}] - A_t \\mathbb{E}[x_t] - b_t)^T\n",
    "                + A_t Var(x_t) A_t^T + Var(x_{t+1})\n",
    "                - Cov(x_{t+1}, x_t) A_t^T - A_t Cov(x_t, x_{t+1})\n",
    "    \"\"\"\n",
    "    n_timesteps, n_dim_state, _ = smoothed_state_covariances.shape\n",
    "    res = np.zeros((n_dim_state, n_dim_state))\n",
    "    for t in range(n_timesteps - 1):\n",
    "        transition_matrix = _last_dims(transition_matrices, t)\n",
    "        transition_offset = _last_dims(transition_offsets, t, ndims=1)\n",
    "        err = (\n",
    "            smoothed_state_means[t + 1]\n",
    "            - np.dot(transition_matrix, smoothed_state_means[t])\n",
    "            - transition_offset\n",
    "        )\n",
    "        Vt1t_A = (\n",
    "            np.dot(pairwise_covariances[t + 1],\n",
    "                   transition_matrix.T)\n",
    "        )\n",
    "        res += (\n",
    "            np.outer(err, err)\n",
    "            + np.dot(transition_matrix,\n",
    "                     np.dot(smoothed_state_covariances[t],\n",
    "                            transition_matrix.T))\n",
    "            + smoothed_state_covariances[t + 1]\n",
    "            - Vt1t_A - Vt1t_A.T\n",
    "        )\n",
    "\n",
    "    return (1.0 / (n_timesteps - 1)) * res\n",
    "\n",
    "_em_transition_covariance(self.transition_matrices, self.transition_offsets,\n",
    "                                  smoothed_state_means, smoothed_state_covariances,\n",
    "                                  sigma_pair_smooth)"
   ]
  },
  {
   "cell_type": "code",
   "execution_count": 162,
   "id": "lasting-carpet",
   "metadata": {},
   "outputs": [
    {
     "name": "stdout",
     "output_type": "stream",
     "text": [
      "(6, 3)\n"
     ]
    },
    {
     "data": {
      "text/plain": [
       "array([[ 1.01024025e-02,  2.63054859e-05, -1.04701936e-05],\n",
       "       [ 2.63054859e-05,  9.72411865e-03, -6.43031234e-06],\n",
       "       [-1.04701936e-05, -6.43031234e-06,  1.02900346e-02]])"
      ]
     },
     "execution_count": 162,
     "metadata": {},
     "output_type": "execute_result"
    }
   ],
   "source": [
    "ssm_em_lin.sm.update_Qz(ssm_em_lin.smoothing_density, ssm_em_lin.twostep_smoothing_density)"
   ]
  },
  {
   "cell_type": "code",
   "execution_count": 163,
   "id": "deluxe-interview",
   "metadata": {},
   "outputs": [
    {
     "data": {
      "text/plain": [
       "array([[ 9.90908226e-01,  1.48636683e-01, -3.59778181e-04],\n",
       "       [-1.83210461e-02,  9.36991918e-01,  1.34350435e-03],\n",
       "       [ 7.63876124e-04, -1.80060351e-04,  9.28576716e-01]])"
      ]
     },
     "execution_count": 163,
     "metadata": {},
     "output_type": "execute_result"
    }
   ],
   "source": [
    "standard._em_transition_matrix(\n",
    "            self.transition_offsets, smoothed_state_means,\n",
    "            smoothed_state_covariances, sigma_pair_smooth \n",
    "        )"
   ]
  },
  {
   "cell_type": "code",
   "execution_count": 164,
   "id": "protected-childhood",
   "metadata": {},
   "outputs": [
    {
     "data": {
      "text/plain": [
       "array([[ 9.90889818e-01,  1.48679518e-01, -3.28495416e-04],\n",
       "       [-1.83206974e-02,  9.36952302e-01,  1.40803281e-03],\n",
       "       [ 7.60555312e-04, -1.12678037e-04,  9.28672819e-01]])"
      ]
     },
     "execution_count": 164,
     "metadata": {},
     "output_type": "execute_result"
    }
   ],
   "source": [
    "ssm_em_lin.sm.update_A(ssm_em_lin.smoothing_density, ssm_em_lin.twostep_smoothing_density)"
   ]
  },
  {
   "cell_type": "code",
   "execution_count": 165,
   "id": "centered-institute",
   "metadata": {},
   "outputs": [
    {
     "data": {
      "text/plain": [
       "array([-0.00020085, -0.00054545, -0.00068856])"
      ]
     },
     "execution_count": 165,
     "metadata": {},
     "output_type": "execute_result"
    }
   ],
   "source": [
    "def _em_transition_offset(transition_matrices, smoothed_state_means):\n",
    "    r\"\"\"Apply the EM algorithm to parameter `transition_offset`\n",
    "    Maximize expected log likelihood of observations with respect to the\n",
    "    state transition offset `transition_offset`.\n",
    "    .. math::\n",
    "        b = \\frac{1}{T-1} \\sum_{t=1}^{T-1}\n",
    "                \\mathbb{E}[x_t] - A_{t-1} \\mathbb{E}[x_{t-1}]\n",
    "    \"\"\"\n",
    "    n_timesteps, n_dim_state = smoothed_state_means.shape\n",
    "    transition_offset = np.zeros(n_dim_state)\n",
    "    for t in range(1, n_timesteps):\n",
    "        transition_matrix = _last_dims(transition_matrices, t - 1)\n",
    "        transition_offset += (\n",
    "            smoothed_state_means[t]\n",
    "            - np.dot(transition_matrix, smoothed_state_means[t - 1])\n",
    "        )\n",
    "    if n_timesteps > 1:\n",
    "        return (1.0 / (n_timesteps - 1)) * transition_offset\n",
    "    else:\n",
    "        return np.zeros(n_dim_state)\n",
    "    \n",
    "standard._em_transition_offset(\n",
    "            self.transition_matrices, smoothed_state_means \n",
    "        )"
   ]
  },
  {
   "cell_type": "code",
   "execution_count": 166,
   "id": "maritime-spokesman",
   "metadata": {},
   "outputs": [
    {
     "data": {
      "text/plain": [
       "array([-0.00020225, -0.00053986, -0.00068481])"
      ]
     },
     "execution_count": 166,
     "metadata": {},
     "output_type": "execute_result"
    }
   ],
   "source": [
    "ssm_em_lin.sm.update_b(ssm_em_lin.smoothing_density)"
   ]
  },
  {
   "cell_type": "code",
   "execution_count": 26,
   "id": "smaller-nickname",
   "metadata": {},
   "outputs": [
    {
     "data": {
      "text/plain": [
       "array([[ 1.06600329e-01,  2.00701415e-05, -1.04048450e-03],\n",
       "       [ 2.00701415e-05,  2.11581623e-01, -1.31712314e-03],\n",
       "       [-1.04048450e-03, -1.31712314e-03,  4.01369515e-01]])"
      ]
     },
     "execution_count": 26,
     "metadata": {},
     "output_type": "execute_result"
    }
   ],
   "source": [
    "def _em_observation_covariance(observations, observation_offsets,\n",
    "                              transition_matrices, smoothed_state_means,\n",
    "                              smoothed_state_covariances):\n",
    "    r\"\"\"Apply the EM algorithm to parameter `observation_covariance`\n",
    "    Maximize expected log likelihood of observations with respect to the\n",
    "    observation covariance matrix `observation_covariance`.\n",
    "    .. math::\n",
    "        R &= \\frac{1}{T} \\sum_{t=0}^{T-1}\n",
    "                [z_t - C_t \\mathbb{E}[x_t] - b_t]\n",
    "                    [z_t - C_t \\mathbb{E}[x_t] - b_t]^T\n",
    "                + C_t Var(x_t) C_t^T\n",
    "    \"\"\"\n",
    "    _, n_dim_state = smoothed_state_means.shape\n",
    "    n_timesteps, n_dim_obs = observations.shape\n",
    "    res = np.zeros((n_dim_obs, n_dim_obs))\n",
    "    n_obs = 0\n",
    "    for t in range(n_timesteps):\n",
    "        if not np.any(np.ma.getmask(observations[t])):\n",
    "            transition_matrix = _last_dims(transition_matrices, t)\n",
    "            transition_offset = _last_dims(observation_offsets, t, ndims=1)\n",
    "            err = (\n",
    "                observations[t]\n",
    "                - np.dot(transition_matrix, smoothed_state_means[t])\n",
    "                - transition_offset\n",
    "            )\n",
    "            res += (\n",
    "                np.outer(err, err)\n",
    "                + np.dot(transition_matrix,\n",
    "                         np.dot(smoothed_state_covariances[t],\n",
    "                                transition_matrix.T))\n",
    "            )\n",
    "            n_obs += 1\n",
    "    if n_obs > 0:\n",
    "        return (1.0 / n_obs) * res\n",
    "    else:\n",
    "        return res\n",
    "    \n",
    "standard._em_observation_covariance(\n",
    "            Z, self.observation_offsets,\n",
    "            self.observation_matrices, smoothed_state_means,\n",
    "            smoothed_state_covariances\n",
    "        )"
   ]
  },
  {
   "cell_type": "code",
   "execution_count": 32,
   "id": "macro-defeat",
   "metadata": {},
   "outputs": [
    {
     "data": {
      "text/plain": [
       "array([[ 1.06601323e-01,  2.04032979e-05, -1.04056493e-03],\n",
       "       [ 2.04032979e-05,  2.11581964e-01, -1.31754370e-03],\n",
       "       [-1.04056493e-03, -1.31754370e-03,  4.01369405e-01]])"
      ]
     },
     "execution_count": 32,
     "metadata": {},
     "output_type": "execute_result"
    }
   ],
   "source": [
    "ssm_em_lin.om.update_Qx(ssm_em_lin.smoothing_density, X)"
   ]
  },
  {
   "cell_type": "code",
   "execution_count": 40,
   "id": "blond-complement",
   "metadata": {},
   "outputs": [
    {
     "data": {
      "text/plain": [
       "array([[ 1.07070891, -0.01486059, -0.01409952],\n",
       "       [-0.01561041,  1.40538839, -0.0146886 ],\n",
       "       [-0.00698757, -0.00598308,  1.41596565]])"
      ]
     },
     "execution_count": 40,
     "metadata": {},
     "output_type": "execute_result"
    }
   ],
   "source": [
    "standard._em_observation_matrix(\n",
    "            Z, self.observation_offsets,\n",
    "            smoothed_state_means, smoothed_state_covariances\n",
    "        )"
   ]
  },
  {
   "cell_type": "code",
   "execution_count": 41,
   "id": "nervous-poland",
   "metadata": {},
   "outputs": [
    {
     "data": {
      "text/plain": [
       "array([[ 1.070703  , -0.01487085, -0.01411257],\n",
       "       [-0.01561801,  1.40536851, -0.01470954],\n",
       "       [-0.00699161, -0.00599141,  1.41594795]])"
      ]
     },
     "execution_count": 41,
     "metadata": {},
     "output_type": "execute_result"
    }
   ],
   "source": [
    "ssm_em_lin.om.update_C(ssm_em_lin.smoothing_density, X)"
   ]
  },
  {
   "cell_type": "code",
   "execution_count": 56,
   "id": "material-webcam",
   "metadata": {},
   "outputs": [
    {
     "data": {
      "text/plain": [
       "array([-0.00098383, -0.00117498, -0.00064877])"
      ]
     },
     "execution_count": 56,
     "metadata": {},
     "output_type": "execute_result"
    }
   ],
   "source": [
    "standard._em_observation_offset(self.observation_matrices, smoothed_state_means,\n",
    "                           Z)"
   ]
  },
  {
   "cell_type": "code",
   "execution_count": 57,
   "id": "broadband-franchise",
   "metadata": {},
   "outputs": [
    {
     "data": {
      "text/plain": [
       "array([0.0003491 , 0.00043463, 0.00028611])"
      ]
     },
     "execution_count": 57,
     "metadata": {},
     "output_type": "execute_result"
    }
   ],
   "source": [
    "ssm_em_lin.om.update_d(ssm_em_lin.smoothing_density, X)"
   ]
  },
  {
   "cell_type": "code",
   "execution_count": 85,
   "id": "annual-proxy",
   "metadata": {},
   "outputs": [],
   "source": [
    "from pykalman import KalmanFilter"
   ]
  },
  {
   "cell_type": "code",
   "execution_count": 18,
   "id": "collective-martin",
   "metadata": {},
   "outputs": [],
   "source": [
    "transition_covariance = .01 * numpy.eye(Dz)\n",
    "kf = KalmanFilter(n_dim_obs=Dx,n_dim_state=Dz, em_vars=['transition_matrices', 'transition_offset', 'transition_covariance'], \n",
    "                  transition_covariance=transition_covariance,\n",
    "                  )"
   ]
  },
  {
   "cell_type": "code",
   "execution_count": 19,
   "id": "rough-jacket",
   "metadata": {},
   "outputs": [
    {
     "data": {
      "text/plain": [
       "<pykalman.standard.KalmanFilter at 0x7faef9a15fa0>"
      ]
     },
     "execution_count": 19,
     "metadata": {},
     "output_type": "execute_result"
    }
   ],
   "source": [
    "kf.em(X, n_iter=1)"
   ]
  },
  {
   "cell_type": "code",
   "execution_count": 20,
   "id": "outside-browser",
   "metadata": {},
   "outputs": [
    {
     "data": {
      "text/plain": [
       "array([[ 1.02428792e-02, -2.79557533e-05,  1.21144294e-05],\n",
       "       [-2.79557533e-05,  1.05750286e-02,  1.33580406e-06],\n",
       "       [ 1.21144294e-05,  1.33580406e-06,  9.96972845e-03]])"
      ]
     },
     "execution_count": 20,
     "metadata": {},
     "output_type": "execute_result"
    }
   ],
   "source": [
    "kf.transition_covariance"
   ]
  },
  {
   "cell_type": "code",
   "execution_count": 23,
   "id": "fifty-london",
   "metadata": {},
   "outputs": [
    {
     "data": {
      "text/plain": [
       "array([[ 1.00049979,  0.01266418, -0.00384717],\n",
       "       [ 0.00238279,  1.00223197,  0.00346555],\n",
       "       [ 0.00167046,  0.00386879,  0.97659196]])"
      ]
     },
     "execution_count": 23,
     "metadata": {},
     "output_type": "execute_result"
    }
   ],
   "source": [
    "ssm_em_lin.sm.A"
   ]
  },
  {
   "cell_type": "code",
   "execution_count": 24,
   "id": "floral-version",
   "metadata": {},
   "outputs": [
    {
     "data": {
      "text/plain": [
       "array([[9.87284293e-01, 1.34410567e-03, 1.15251589e-04],\n",
       "       [1.16920140e-03, 9.71463050e-01, 8.17829668e-04],\n",
       "       [2.28893524e-03, 1.90550277e-03, 9.29813750e-01]])"
      ]
     },
     "execution_count": 24,
     "metadata": {},
     "output_type": "execute_result"
    }
   ],
   "source": [
    "kf.transition_matrices"
   ]
  },
  {
   "cell_type": "code",
   "execution_count": 125,
   "id": "reserved-dakota",
   "metadata": {},
   "outputs": [],
   "source": [
    "class CustomStateModel(state_models.LSEMStateModel):\n",
    "    \n",
    "    def update_hyperparameters(self, smoothing_density: 'GaussianDensity', \n",
    "                               two_step_smoothing_density: 'GaussianDensity', **kwargs):\n",
    "        \"\"\" The hyperparameters are updated here, where the the densities p(z_t|x_{1:T}) and \n",
    "        p(z_{t+1}, z_t|x_{1:T}) are provided (the latter for the cross-terms.)\n",
    "        \n",
    "        :param smoothing_density: GaussianDensity\n",
    "            The smoothing density  p(z_t|x_{1:T}).\n",
    "        :param two_step_smoothing_density: Gaussian Density\n",
    "            The two point smoothing density  p(z_{t+1}, z_t|x_{1:T}).\n",
    "        \"\"\"\n",
    "        #self.update_A(smoothing_density, two_step_smoothing_density)\n",
    "        #self.update_b(smoothing_density)\n",
    "        self.update_Qz(smoothing_density, two_step_smoothing_density)\n",
    "        self.update_state_density()\n",
    "        \n",
    "    def update_Qz(self, smoothing_density: 'GaussianDensity', two_step_smoothing_density: 'GaussianDensity'):\n",
    "        \"\"\" The transition covariance is updated here, where the the densities p(z_t|x_{1:T}) and \n",
    "        p(z_{t+1}, z_t|x_{1:T}) are provided (the latter for the cross-terms.)\n",
    "        \n",
    "        :param smoothing_density: GaussianDensity\n",
    "            The smoothing density  p(z_t|x_{1:T}).\n",
    "        :param two_step_smoothing_density: Gaussian Density\n",
    "            The two point smoothing density  p(z_{t+1}, z_t|x_{1:T}).\n",
    "        \"\"\"\n",
    "        T = smoothing_density.R - 1\n",
    "        A_tilde = numpy.eye(2*self.Dz, self.Dz)\n",
    "        A_tilde[self.Dz:] = -self.A[:,:self.Dz].T\n",
    "        b_tilde = -self.b\n",
    "        Qz_lin = numpy.mean(two_step_smoothing_density.integrate("(Ax+a)(Bx+b)'", \n",
    "                                                                  A_mat=A_tilde.T, \n",
    "                                                                  a_vec=b_tilde, \n",
    "                                                                  B_mat=A_tilde.T, \n",
    "                                                                  b_vec=b_tilde), axis=0)\n",
    "        v_joint = numpy.zeros([self.Dk, int(2 * self.Dz)])\n",
    "        v_joint[:,self.Dz:] = self.state_density.k_func.v\n",
    "        nu_joint = numpy.zeros([self.Dk, int(2 * self.Dz)])\n",
    "        nu_joint[:,self.Dz:] = self.state_density.k_func.nu\n",
    "        joint_k_func = factors.OneRankFactor(v=v_joint, nu=nu_joint, ln_beta=self.state_density.k_func.ln_beta)\n",
    "        two_step_k_measure = two_step_smoothing_density.multiply(joint_k_func)\n",
    "        Ekz = numpy.mean(two_step_k_measure.integrate("x").reshape((T, self.Dk, 2*self.Dz)), axis=0)\n",
    "        Ek = numpy.mean(two_step_k_measure.integrate().reshape((T, self.Dk)), axis=0)\n",
    "        #Ek = numpy.mean(smoothing_density.multiply(\n",
    "        #    self.state_density.k_func).integrate().reshape((T+1, self.Dk))[1:], axis=0)\n",
    "        Qz_k_lin_err = numpy.dot(self.A[:,self.Dz:], \n",
    "                  (Ekz[:,:self.Dz] - numpy.dot(self.A[:,:self.Dz].T, Ekz[:,self.Dz:].T).T - Ek[:,None] * self.b[None]))\n",
    "        Ekk = smoothing_density.multiply(self.state_density.k_func).multiply(self.state_density.k_func).integrate().reshape((T+1, self.Dk, self.Dk))\n",
    "        Qz_kk = numpy.dot(numpy.dot(self.A[:,self.Dz:], numpy.mean(Ekk[1:], axis=0)), self.A[:,self.Dz:].T)\n",
    "        print(Qz_k_lin_err.shape)\n",
    "        return Qz_lin + Qz_kk - Qz_k_lin_err - Qz_k_lin_err.T + Qz_kk"
   ]
  },
  {
   "cell_type": "code",
   "execution_count": 126,
   "id": "reserved-penalty",
   "metadata": {},
   "outputs": [],
   "source": [
    "Dk=4\n",
    "sm = CustomStateModel(Dz, Dk, noise_z=numpy.sqrt(.01))\n",
    "#sm.Qz = numpy.eye(Dz)\n",
    "#sm.A = numpy.eye(Dz)\n",
    "#sm.A[0,1] = .2\n",
    "#sm.b = numpy.zeros((Dz,))\n",
    "sm.update_state_density()\n",
    "om = observation_models.LinearObservationModel(Dx, Dz, noise_x=1)\n",
    "om.Qx = numpy.eye(Dx)\n",
    "om.C = numpy.eye(Dx, Dz)\n",
    "om.d = numpy.zeros((Dx,))\n",
    "om.update_emission_density()\n",
    "#om.pca_init(X)"
   ]
  },
  {
   "cell_type": "code",
   "execution_count": 127,
   "id": "tested-checkout",
   "metadata": {},
   "outputs": [],
   "source": [
    "ssm_em_lin = StateSpaceEM(X, observation_model=om, state_model=sm)"
   ]
  },
  {
   "cell_type": "code",
   "execution_count": 128,
   "id": "assumed-building",
   "metadata": {},
   "outputs": [],
   "source": [
    "ssm_em_lin.estep()"
   ]
  },
  {
   "cell_type": "code",
   "execution_count": 124,
   "id": "handy-virtue",
   "metadata": {},
   "outputs": [
    {
     "name": "stdout",
     "output_type": "stream",
     "text": [
      "(3, 3)\n"
     ]
    },
    {
     "data": {
      "text/plain": [
       "array([[ 1.02635952e-02, -3.63994237e-05, -7.41763370e-06],\n",
       "       [-3.63994237e-05,  1.07662165e-02,  6.15563209e-06],\n",
       "       [-7.41763370e-06,  6.15563209e-06,  1.03066903e-02]])"
      ]
     },
     "execution_count": 124,
     "metadata": {},
     "output_type": "execute_result"
    }
   ],
   "source": [
    "ssm_em_lin.sm.update_Qz(ssm_em_lin.smoothing_density, ssm_em_lin.twostep_smoothing_density)"
   ]
  },
  {
   "cell_type": "code",
   "execution_count": 129,
   "id": "breathing-single",
   "metadata": {},
   "outputs": [
    {
     "name": "stdout",
     "output_type": "stream",
     "text": [
      "(3, 3)\n"
     ]
    },
    {
     "data": {
      "text/plain": [
       "array([[ 1.02652110e-02, -3.58329209e-05, -7.07861996e-06],\n",
       "       [-3.58329209e-05,  1.07662101e-02,  6.35592028e-06],\n",
       "       [-7.07861996e-06,  6.35592028e-06,  1.03067290e-02]])"
      ]
     },
     "execution_count": 129,
     "metadata": {},
     "output_type": "execute_result"
    }
   ],
   "source": [
    "ssm_em_lin.sm.update_Qz(ssm_em_lin.smoothing_density, ssm_em_lin.twostep_smoothing_density)"
   ]
  },
  {
   "cell_type": "code",
   "execution_count": null,
   "id": "different-mortgage",
   "metadata": {},
   "outputs": [],
   "source": []
  }
 ],
 "metadata": {
  "kernelspec": {
   "display_name": "Python 3",
   "language": "python",
   "name": "python3"
  },
  "language_info": {
   "codemirror_mode": {
    "name": "ipython",
    "version": 3
   },
   "file_extension": ".py",
   "mimetype": "text/x-python",
   "name": "python",
   "nbconvert_exporter": "python",
   "pygments_lexer": "ipython3",
   "version": "3.8.6"
  }
 },
 "nbformat": 4,
 "nbformat_minor": 5
}
