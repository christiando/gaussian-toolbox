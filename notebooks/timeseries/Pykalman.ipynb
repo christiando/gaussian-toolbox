{
 "cells": [
  {
   "cell_type": "code",
   "execution_count": 97,
   "id": "derived-correlation",
   "metadata": {},
   "outputs": [
    {
     "name": "stdout",
     "output_type": "stream",
     "text": [
      "The autoreload extension is already loaded. To reload it, use:\n",
      "  %reload_ext autoreload\n"
     ]
    }
   ],
   "source": [
    "%load_ext autoreload\n",
    "%autoreload 2\n",
    "import numpy\n",
    "from matplotlib import pyplot\n",
    "import sys\n",
    "sys.path.append('../../timeseries/')\n",
    "sys.path.append('../../src/')\n",
    "import factors\n",
    "import observation_models\n",
    "import state_models\n",
    "from ssm_em import StateSpaceEM\n",
    "from pykalman import KalmanFilter"
   ]
  },
  {
   "cell_type": "code",
   "execution_count": 98,
   "id": "checked-rental",
   "metadata": {},
   "outputs": [],
   "source": [
    "T = 1000\n",
    "trange = numpy.arange(T)\n",
    "Dx = 3\n",
    "Dz = 2\n",
    "X = numpy.empty((T,Dx))\n",
    "X[:,0] = numpy.sin(trange / 20)\n",
    "X[:,1] = numpy.sin(trange / 10)\n",
    "X[:,2] = numpy.sin(trange / 5)\n",
    "noise_x = .2\n",
    "noise_z = .1\n",
    "X += noise_x * numpy.random.randn(*X.shape)"
   ]
  },
  {
   "cell_type": "code",
   "execution_count": 99,
   "id": "yellow-stick",
   "metadata": {},
   "outputs": [],
   "source": [
    "transition_covariance = .01 * numpy.eye(Dz)\n",
    "kf = KalmanFilter(n_dim_obs=Dx,n_dim_state=Dz, em_vars=['transition_covariance'], \n",
    "                  transition_covariance=transition_covariance,\n",
    "                  )"
   ]
  },
  {
   "cell_type": "code",
   "execution_count": 108,
   "id": "mechanical-basket",
   "metadata": {},
   "outputs": [],
   "source": [
    "class CustomStateModel(state_models.LinearStateModel):\n",
    "    \n",
    "    def update_hyperparameters(self, smoothing_density: 'GaussianDensity', \n",
    "                               two_step_smoothing_density: 'GaussianDensity', **kwargs):\n",
    "        \"\"\" The hyperparameters are updated here, where the the densities p(z_t|x_{1:T}) and \n",
    "        p(z_{t+1}, z_t|x_{1:T}) are provided (the latter for the cross-terms.)\n",
    "        \n",
    "        :param smoothing_density: GaussianDensity\n",
    "            The smoothing density  p(z_t|x_{1:T}).\n",
    "        :param two_step_smoothing_density: Gaussian Density\n",
    "            The two point smoothing density  p(z_{t+1}, z_t|x_{1:T}).\n",
    "        \"\"\"\n",
    "        #self.update_A(smoothing_density, two_step_smoothing_density)\n",
    "        #self.update_b(smoothing_density)\n",
    "        self.update_Qz(smoothing_density, two_step_smoothing_density)\n",
    "        self.update_state_density()\n",
    "        \n",
    "        \n",
    "    def update_Qz(self, smoothing_density: 'GaussianDensity', two_step_smoothing_density: 'GaussianDensity'):\n",
    "        \"\"\" The transition covariance is updated here, where the the densities p(z_t|x_{1:T}) and \n",
    "        p(z_{t+1}, z_t|x_{1:T}) are provided (the latter for the cross-terms.)\n",
    "        \n",
    "        :param smoothing_density: GaussianDensity\n",
    "            The smoothing density  p(z_t|x_{1:T}).\n",
    "        :param two_step_smoothing_density: Gaussian Density\n",
    "            The two point smoothing density  p(z_{t+1}, z_t|x_{1:T}).\n",
    "        \"\"\"\n",
    "        T = two_step_smoothing_density.R\n",
    "        #Ezz_two_step = two_step_smoothing_density.integrate('xx')\n",
    "        #Ezz = Ezz_two_step[:,self.Dz:,self.Dz:]\n",
    "        #Ezz_cross = Ezz_two_step[:,:self.Dz,self.Dz:]\n",
    "        #AEzz_cross = numpy.sum(numpy.einsum('ab,cbd->cad', self.A, Ezz_cross), axis=0)\n",
    "        #Ez_b = smoothing_density.mu[:,None] * self.b[None,:,None]\n",
    "        #AEz_b = numpy.sum(numpy.einsum('ab,cbd->cad', self.A, Ez_b[:-1]), axis=0)\n",
    "        #Az_b2 = numpy.sum(smoothing_density.integrate('Ax_aBx_b_outer', A_mat=self.A, a_vec=self.b, \n",
    "        #                                              B_mat=self.A, b_vec=self.b)[:-1],axis=0)\n",
    "        #mu_b = numpy.sum(Ez_b[1:], axis=0)\n",
    "        #AEzzA = numpy.einsum('ab,bc->ac', numpy.einsum('ab,bc->ac', self.A, numpy.sum(Ezz[:-1], axis=0)), self.A.T)\n",
    "        #print(AEzzA, numpy.sum(Ezz[:-1], axis=0).shape)\n",
    "        \n",
    "        #Qz = (numpy.sum(Ezz[1:], axis=0) + Az_b2 - mu_b - mu_b.T - AEzz_cross - AEzz_cross.T) / T# +  - mu_b - mu_b.T - AEzz_cross - AEzz_cross.T) / T\n",
    "        A_tilde = numpy.eye(2*self.Dz, self.Dz)\n",
    "        A_tilde[self.Dz:] = -self.A\n",
    "        print(A_tilde.shape)\n",
    "        b_tilde = -self.b\n",
    "        Qz = numpy.mean(two_step_smoothing_density.integrate('Ax_aBx_b_outer', A_mat=A_tilde.T, a_vec=b_tilde, B_mat=A_tilde.T, b_vec=b_tilde), axis=0)\n",
    "        return Qz\n",
    "        #eigvals, eigvecs = numpy.linalg.eig(self.Qz)\n",
    "        #self.Qz += 1e-4 * numpy.eye(self.Dz) \n",
    "        \n",
    "    def update_A(self, smoothing_density: 'GaussianDensity', \n",
    "                 two_step_smoothing_density: 'GaussianDensity'):\n",
    "        \"\"\" The transition matrix is updated here, where the the densities\n",
    "        p(z_{t+1}, z_t|x_{1:T}) is provided.\n",
    "        \n",
    "        :param smoothing_density: GaussianDensity\n",
    "            The smoothing density  p(z_t|x_{1:T}).\n",
    "        :param two_step_smoothing_density: Gaussian Density\n",
    "            The two point smoothing density  p(z_{t+1}, z_t|x_{1:T}).\n",
    "        \"\"\"\n",
    "        #Ezz = smoothing_density.integrate('xx')\n",
    "        mu_b = smoothing_density.mu[:-1,None] * self.b[None,:,None]\n",
    "        Ezz_two_step = two_step_smoothing_density.integrate('xx')\n",
    "        Ezz = Ezz_two_step[:,self.Dz:,self.Dz:]\n",
    "        Ezz_cross = Ezz_two_step[:,self.Dz:,:self.Dz]\n",
    "        A = numpy.mean(Ezz, axis=0) #+ 1e-2 * numpy.eye(self.Dz)\n",
    "        return numpy.linalg.solve(A, numpy.mean(Ezz_cross -  mu_b, axis=0)).T\n",
    "    \n",
    "    def update_b(self, smoothing_density: 'GaussianDensity'):\n",
    "        \"\"\" The transition offset is updated here, where the the densities p(z_t|x_{1:T}) is provided.\n",
    "        \n",
    "        :param smoothing_density: GaussianDensity\n",
    "            The smoothing density  p(z_t|x_{1:T}).\n",
    "        \"\"\"\n",
    "        return numpy.mean(smoothing_density.mu[1:] - numpy.dot(self.A, smoothing_density.mu[:-1].T).T, axis=0)\n",
    "        \n",
    "        \n",
    "class CustomObservationModel(observation_models.LinearObservationModel):\n",
    "    \n",
    "    def update_hyperparameters(self, smoothing_density: 'GaussianDensity', X: numpy.ndarray, **kwargs):\n",
    "        \"\"\" This procedure updates the hyperparameters of the observation model.\n",
    "        \n",
    "        :param smoothing_density: GaussianDensity\n",
    "            The smoothing density over the latent space.\n",
    "        :param X: numpy.ndarray [T, Dx]\n",
    "            The observations.\n",
    "        \"\"\"  \n",
    "        #self.update_C(smoothing_density, X)\n",
    "        #self.update_d(smoothing_density, X)\n",
    "        #self.update_Qx(smoothing_density, X)\n",
    "        self.update_emission_density()\n",
    "    \n",
    "    def update_Qx(self, smoothing_density: 'GaussianDensity', X: numpy.ndarray):\n",
    "        \"\"\" This procedure updates the covariance of the observation model.\n",
    "        \n",
    "        :param smoothing_density: GaussianDensity\n",
    "            The smoothing density over the latent space.\n",
    "        :param X: numpy.ndarray [T, Dx]\n",
    "            The observations.\n",
    "        \"\"\"  \n",
    "        T = X.shape[0]\n",
    "        A = -self.C\n",
    "        a_t = X - self.d[None]\n",
    "        Exx = numpy.zeros((self.Dx, self.Dx))\n",
    "        for t in range(1, T+1):\n",
    "            cur_smooth_density = smoothing_density.slice([t])\n",
    "            Exx += cur_smooth_density.integrate('Ax_aBx_b_outer', A_mat=A, \n",
    "                                                a_vec=a_t[t-1], B_mat=A, \n",
    "                                                b_vec=a_t[t-1])[0]\n",
    "        return Exx / T\n",
    "    \n",
    "    def update_C(self, smoothing_density: 'GaussianDensity', X: numpy.ndarray):\n",
    "        \"\"\" This procedure updates the transition matrix of the observation model.\n",
    "        \n",
    "        :param smoothing_density: GaussianDensity\n",
    "            The smoothing density over the latent space.\n",
    "        :param X: numpy.ndarray [T, Dx]\n",
    "            The observations.\n",
    "        \"\"\"  \n",
    "        Ezz = numpy.sum(smoothing_density.integrate('xx')[1:], axis=0)\n",
    "        Ez = smoothing_density.integrate('x')[1:]\n",
    "        zx = numpy.sum(Ez[:,:,None] * (X[:,None] - self.d[None,None]), axis=0)\n",
    "        return numpy.linalg.solve(Ezz, zx).T\n",
    "    \n",
    "    def update_d(self, smoothing_density: 'GaussianDensity', X: numpy.ndarray):\n",
    "        \"\"\" This procedure updates the transition offset of the observation model.\n",
    "        \n",
    "        :param smoothing_density: GaussianDensity\n",
    "            The smoothing density over the latent space.\n",
    "        :param X: numpy.ndarray [T, Dx]\n",
    "            The observations.\n",
    "        \"\"\" \n",
    "        return numpy.mean(X - numpy.dot(smoothing_density.mu[1:], self.C.T), axis=0)"
   ]
  },
  {
   "cell_type": "code",
   "execution_count": 109,
   "id": "animal-response",
   "metadata": {},
   "outputs": [],
   "source": [
    "sm = CustomStateModel(Dz, noise_z=numpy.sqrt(.01))\n",
    "#sm.Qz = numpy.eye(Dz)\n",
    "sm.A = numpy.eye(Dz)\n",
    "sm.b = numpy.zeros((Dz,))\n",
    "sm.update_state_density()\n",
    "om = CustomObservationModel(Dx, Dz, noise_x=1)\n",
    "om.Qx = numpy.eye(Dx)\n",
    "om.C = numpy.eye(Dx, Dz)\n",
    "om.d = numpy.zeros((Dx,))\n",
    "om.update_emission_density()\n",
    "#om.pca_init(X)"
   ]
  },
  {
   "cell_type": "code",
   "execution_count": null,
   "id": "unknown-athens",
   "metadata": {},
   "outputs": [],
   "source": []
  },
  {
   "cell_type": "code",
   "execution_count": 110,
   "id": "graphic-fantasy",
   "metadata": {},
   "outputs": [],
   "source": [
    "ssm_em_lin = StateSpaceEM(X, observation_model=om, state_model=sm)"
   ]
  },
  {
   "cell_type": "code",
   "execution_count": 111,
   "id": "preceding-brass",
   "metadata": {},
   "outputs": [],
   "source": [
    "ssm_em_lin.estep()"
   ]
  },
  {
   "cell_type": "code",
   "execution_count": 112,
   "id": "bizarre-conversation",
   "metadata": {},
   "outputs": [
    {
     "data": {
      "text/plain": [
       "array([ 0.00034607,  0.00042751, -0.00694519])"
      ]
     },
     "execution_count": 112,
     "metadata": {},
     "output_type": "execute_result"
    }
   ],
   "source": [
    "ssm_em_lin.om.update_d(ssm_em_lin.smoothing_density, X)"
   ]
  },
  {
   "cell_type": "code",
   "execution_count": 116,
   "id": "roman-perfume",
   "metadata": {},
   "outputs": [
    {
     "data": {
      "text/plain": [
       "array([ 0.00034923,  0.00043141, -0.00694519])"
      ]
     },
     "execution_count": 116,
     "metadata": {},
     "output_type": "execute_result"
    }
   ],
   "source": [
    "standard._em_observation_offset(self.observation_matrices, smoothed_state_means,\n",
    "                           Z)"
   ]
  },
  {
   "cell_type": "code",
   "execution_count": 113,
   "id": "documentary-choir",
   "metadata": {},
   "outputs": [],
   "source": [
    "mu_kf, cov_kf = kf.smooth(X)"
   ]
  },
  {
   "cell_type": "code",
   "execution_count": 9,
   "id": "dress-quarterly",
   "metadata": {},
   "outputs": [
    {
     "data": {
      "text/plain": [
       "[<matplotlib.lines.Line2D at 0x7f6c12a67220>]"
      ]
     },
     "execution_count": 9,
     "metadata": {},
     "output_type": "execute_result"
    },
    {
     "data": {
      "image/png": "[encoded data removed]",
      "text/plain": [
       "<Figure size 432x288 with 1 Axes>"
      ]
     },
     "metadata": {
      "needs_background": "light"
     },
     "output_type": "display_data"
    }
   ],
   "source": [
    "pyplot.plot(mu_kf[:,2])\n",
    "pyplot.plot(ssm_em_lin.twostep_smoothing_density.mu[1:,2])"
   ]
  },
  {
   "cell_type": "code",
   "execution_count": 76,
   "id": "parliamentary-specification",
   "metadata": {},
   "outputs": [
    {
     "data": {
      "text/plain": [
       "array([[0., 0., 0.],\n",
       "       [0., 0., 0.],\n",
       "       [0., 0., 0.],\n",
       "       ...,\n",
       "       [0., 0., 0.],\n",
       "       [0., 0., 0.],\n",
       "       [0., 0., 0.]])"
      ]
     },
     "execution_count": 76,
     "metadata": {},
     "output_type": "execute_result"
    }
   ],
   "source": [
    "ssm_em_lin.twostep_smoothing_density.mu[:,3:] - ssm_em_lin.smoothing_density.mu[:-1]"
   ]
  },
  {
   "cell_type": "code",
   "execution_count": 77,
   "id": "acquired-torture",
   "metadata": {},
   "outputs": [
    {
     "data": {
      "text/plain": [
       "[<matplotlib.lines.Line2D at 0x7f1dcbc900d0>]"
      ]
     },
     "execution_count": 77,
     "metadata": {},
     "output_type": "execute_result"
    },
    {
     "data": {
      "image/png": "[encoded data removed]",
      "text/plain": [
       "<Figure size 432x288 with 2 Axes>"
      ]
     },
     "metadata": {
      "needs_background": "light"
     },
     "output_type": "display_data"
    }
   ],
   "source": [
    "pyplot.subplot(121)\n",
    "pyplot.plot(mu_kf.flatten(), ssm_em_lin.smoothing_density.mu[1:].flatten(), '.')\n",
    "pyplot.subplot(122)\n",
    "pyplot.plot(cov_kf.flatten(), ssm_em_lin.smoothing_density.Sigma[1:].flatten(), '.')"
   ]
  },
  {
   "cell_type": "code",
   "execution_count": 10,
   "id": "governing-rachel",
   "metadata": {},
   "outputs": [],
   "source": [
    "from pykalman import standard"
   ]
  },
  {
   "cell_type": "code",
   "execution_count": 115,
   "id": "decreased-athens",
   "metadata": {},
   "outputs": [],
   "source": [
    "self = kf\n",
    "(self.transition_matrices, self.transition_offsets,\n",
    "         self.transition_covariance, self.observation_matrices,\n",
    "         self.observation_offsets, self.observation_covariance,\n",
    "         self.initial_state_mean, self.initial_state_covariance) = (\n",
    "            self._initialize_parameters()\n",
    "        )\n",
    "Z = self._parse_observations(X)\n",
    "(predicted_state_means, predicted_state_covariances,\n",
    "             kalman_gains, filtered_state_means,\n",
    "             filtered_state_covariances) = (\n",
    "                standard._filter(\n",
    "                    self.transition_matrices, self.observation_matrices,\n",
    "                    self.transition_covariance, self.observation_covariance,\n",
    "                    self.transition_offsets, self.observation_offsets,\n",
    "                    self.initial_state_mean, self.initial_state_covariance,\n",
    "                    Z\n",
    "                )\n",
    "            )\n",
    "(smoothed_state_means, smoothed_state_covariances,\n",
    "             kalman_smoothing_gains) = (\n",
    "                standard._smooth(\n",
    "                    self.transition_matrices, filtered_state_means,\n",
    "                    filtered_state_covariances, predicted_state_means,\n",
    "                    predicted_state_covariances\n",
    "                )\n",
    "            )\n",
    "\n",
    "sigma_pair_smooth = standard._smooth_pair(\n",
    "                smoothed_state_covariances,\n",
    "                kalman_smoothing_gains\n",
    "            )"
   ]
  },
  {
   "cell_type": "code",
   "execution_count": 12,
   "id": "peaceful-courage",
   "metadata": {},
   "outputs": [
    {
     "data": {
      "text/plain": [
       "[<matplotlib.lines.Line2D at 0x7f6c129537f0>]"
      ]
     },
     "execution_count": 12,
     "metadata": {},
     "output_type": "execute_result"
    },
    {
     "data": {
      "image/png": "[encoded data removed]",
      "text/plain": [
       "<Figure size 432x288 with 1 Axes>"
      ]
     },
     "metadata": {
      "needs_background": "light"
     },
     "output_type": "display_data"
    }
   ],
   "source": [
    "pyplot.plot(sigma_pair_smooth[1:].flatten(), ssm_em_lin.twostep_smoothing_density.Sigma[1:,3:,:3].flatten())"
   ]
  },
  {
   "cell_type": "code",
   "execution_count": 13,
   "id": "democratic-character",
   "metadata": {},
   "outputs": [
    {
     "data": {
      "text/plain": [
       "array([[ 1.02734742e-02, -2.30536431e-05, -8.48758398e-06],\n",
       "       [-2.30536431e-05,  1.07589367e-02,  3.19614321e-06],\n",
       "       [-8.48758398e-06,  3.19614321e-06,  1.03089959e-02]])"
      ]
     },
     "execution_count": 13,
     "metadata": {},
     "output_type": "execute_result"
    }
   ],
   "source": [
    "import numpy as np\n",
    "\n",
    "def _last_dims(X, t, ndims=2):\n",
    "    \"\"\"Extract the final dimensions of `X`\n",
    "    Extract the final `ndim` dimensions at index `t` if `X` has >= `ndim` + 1\n",
    "    dimensions, otherwise return `X`.\n",
    "    Parameters\n",
    "    ----------\n",
    "    X : array with at least dimension `ndims`\n",
    "    t : int\n",
    "        index to use for the `ndims` + 1th dimension\n",
    "    ndims : int, optional\n",
    "        number of dimensions in the array desired\n",
    "    Returns\n",
    "    -------\n",
    "    Y : array with dimension `ndims`\n",
    "        the final `ndims` dimensions indexed by `t`\n",
    "    \"\"\"\n",
    "    X = np.asarray(X)\n",
    "    if len(X.shape) == ndims + 1:\n",
    "        return X[t]\n",
    "    elif len(X.shape) == ndims:\n",
    "        return X\n",
    "    else:\n",
    "        raise ValueError((\"X only has %d dimensions when %d\" +\n",
    "                \" or more are required\") % (len(X.shape), ndims))\n",
    "\n",
    "def _em_transition_covariance(transition_matrices, transition_offsets,\n",
    "                              smoothed_state_means, smoothed_state_covariances,\n",
    "                              pairwise_covariances):\n",
    "    r\"\"\"Apply the EM algorithm to parameter `transition_covariance`\n",
    "    Maximize expected log likelihood of observations with respect to the\n",
    "    transition covariance matrix `transition_covariance`.\n",
    "    .. math::\n",
    "        Q &= \\frac{1}{T-1} \\sum_{t=0}^{T-2}\n",
    "                (\\mathbb{E}[x_{t+1}] - A_t \\mathbb{E}[x_t] - b_t)\n",
    "                    (\\mathbb{E}[x_{t+1}] - A_t \\mathbb{E}[x_t] - b_t)^T\n",
    "                + A_t Var(x_t) A_t^T + Var(x_{t+1})\n",
    "                - Cov(x_{t+1}, x_t) A_t^T - A_t Cov(x_t, x_{t+1})\n",
    "    \"\"\"\n",
    "    n_timesteps, n_dim_state, _ = smoothed_state_covariances.shape\n",
    "    res = np.zeros((n_dim_state, n_dim_state))\n",
    "    for t in range(n_timesteps - 1):\n",
    "        transition_matrix = _last_dims(transition_matrices, t)\n",
    "        transition_offset = _last_dims(transition_offsets, t, ndims=1)\n",
    "        err = (\n",
    "            smoothed_state_means[t + 1]\n",
    "            - np.dot(transition_matrix, smoothed_state_means[t])\n",
    "            - transition_offset\n",
    "        )\n",
    "        Vt1t_A = (\n",
    "            np.dot(pairwise_covariances[t + 1],\n",
    "                   transition_matrix.T)\n",
    "        )\n",
    "        res += (\n",
    "            np.outer(err, err)\n",
    "            + np.dot(transition_matrix,\n",
    "                     np.dot(smoothed_state_covariances[t],\n",
    "                            transition_matrix.T))\n",
    "            + smoothed_state_covariances[t + 1]\n",
    "            - Vt1t_A - Vt1t_A.T\n",
    "        )\n",
    "\n",
    "    return (1.0 / (n_timesteps - 1)) * res\n",
    "\n",
    "_em_transition_covariance(self.transition_matrices, self.transition_offsets,\n",
    "                                  smoothed_state_means, smoothed_state_covariances,\n",
    "                                  sigma_pair_smooth)"
   ]
  },
  {
   "cell_type": "code",
   "execution_count": 14,
   "id": "constant-business",
   "metadata": {},
   "outputs": [
    {
     "name": "stdout",
     "output_type": "stream",
     "text": [
      "(6, 3)\n"
     ]
    },
    {
     "data": {
      "text/plain": [
       "array([[ 1.02731182e-02, -2.30213958e-05, -8.47004693e-06],\n",
       "       [-2.30213958e-05,  1.07581073e-02,  3.20741785e-06],\n",
       "       [-8.47004693e-06,  3.20741785e-06,  1.03086122e-02]])"
      ]
     },
     "execution_count": 14,
     "metadata": {},
     "output_type": "execute_result"
    }
   ],
   "source": [
    "ssm_em_lin.sm.update_Qz(ssm_em_lin.smoothing_density, ssm_em_lin.twostep_smoothing_density)"
   ]
  },
  {
   "cell_type": "code",
   "execution_count": 15,
   "id": "noted-nightlife",
   "metadata": {},
   "outputs": [
    {
     "data": {
      "text/plain": [
       "array([[9.86717180e-01, 2.32697760e-03, 1.01547456e-03],\n",
       "       [6.58771731e-04, 9.71808392e-01, 4.65199591e-03],\n",
       "       [1.11646568e-03, 7.95400672e-04, 9.28871392e-01]])"
      ]
     },
     "execution_count": 15,
     "metadata": {},
     "output_type": "execute_result"
    }
   ],
   "source": [
    "standard._em_transition_matrix(\n",
    "            self.transition_offsets, smoothed_state_means,\n",
    "            smoothed_state_covariances, sigma_pair_smooth \n",
    "        )"
   ]
  },
  {
   "cell_type": "code",
   "execution_count": 16,
   "id": "thousand-nomination",
   "metadata": {},
   "outputs": [
    {
     "data": {
      "text/plain": [
       "array([[9.86701936e-01, 2.34170333e-03, 1.04118003e-03],\n",
       "       [6.71674349e-04, 9.71807076e-01, 4.70432919e-03],\n",
       "       [1.13505938e-03, 8.45650417e-04, 9.28924874e-01]])"
      ]
     },
     "execution_count": 16,
     "metadata": {},
     "output_type": "execute_result"
    }
   ],
   "source": [
    "ssm_em_lin.sm.update_A(ssm_em_lin.smoothing_density, ssm_em_lin.twostep_smoothing_density)"
   ]
  },
  {
   "cell_type": "code",
   "execution_count": 17,
   "id": "genetic-request",
   "metadata": {},
   "outputs": [
    {
     "data": {
      "text/plain": [
       "array([-0.00098383, -0.00117498, -0.00064877])"
      ]
     },
     "execution_count": 17,
     "metadata": {},
     "output_type": "execute_result"
    }
   ],
   "source": [
    "def _em_transition_offset(transition_matrices, smoothed_state_means):\n",
    "    r\"\"\"Apply the EM algorithm to parameter `transition_offset`\n",
    "    Maximize expected log likelihood of observations with respect to the\n",
    "    state transition offset `transition_offset`.\n",
    "    .. math::\n",
    "        b = \\frac{1}{T-1} \\sum_{t=1}^{T-1}\n",
    "                \\mathbb{E}[x_t] - A_{t-1} \\mathbb{E}[x_{t-1}]\n",
    "    \"\"\"\n",
    "    n_timesteps, n_dim_state = smoothed_state_means.shape\n",
    "    transition_offset = np.zeros(n_dim_state)\n",
    "    for t in range(1, n_timesteps):\n",
    "        transition_matrix = _last_dims(transition_matrices, t - 1)\n",
    "        transition_offset += (\n",
    "            smoothed_state_means[t]\n",
    "            - np.dot(transition_matrix, smoothed_state_means[t - 1])\n",
    "        )\n",
    "    if n_timesteps > 1:\n",
    "        return (1.0 / (n_timesteps - 1)) * transition_offset\n",
    "    else:\n",
    "        return np.zeros(n_dim_state)\n",
    "    \n",
    "standard._em_transition_offset(\n",
    "            self.transition_matrices, smoothed_state_means \n",
    "        )"
   ]
  },
  {
   "cell_type": "code",
   "execution_count": 22,
   "id": "gothic-thanks",
   "metadata": {},
   "outputs": [
    {
     "data": {
      "text/plain": [
       "array([-0.00097966, -0.00116983, -0.00064551])"
      ]
     },
     "execution_count": 22,
     "metadata": {},
     "output_type": "execute_result"
    }
   ],
   "source": [
    "ssm_em_lin.sm.update_b(ssm_em_lin.smoothing_density)"
   ]
  },
  {
   "cell_type": "code",
   "execution_count": 26,
   "id": "verified-wright",
   "metadata": {},
   "outputs": [
    {
     "data": {
      "text/plain": [
       "array([[ 1.06600329e-01,  2.00701415e-05, -1.04048450e-03],\n",
       "       [ 2.00701415e-05,  2.11581623e-01, -1.31712314e-03],\n",
       "       [-1.04048450e-03, -1.31712314e-03,  4.01369515e-01]])"
      ]
     },
     "execution_count": 26,
     "metadata": {},
     "output_type": "execute_result"
    }
   ],
   "source": [
    "def _em_observation_covariance(observations, observation_offsets,\n",
    "                              transition_matrices, smoothed_state_means,\n",
    "                              smoothed_state_covariances):\n",
    "    r\"\"\"Apply the EM algorithm to parameter `observation_covariance`\n",
    "    Maximize expected log likelihood of observations with respect to the\n",
    "    observation covariance matrix `observation_covariance`.\n",
    "    .. math::\n",
    "        R &= \\frac{1}{T} \\sum_{t=0}^{T-1}\n",
    "                [z_t - C_t \\mathbb{E}[x_t] - b_t]\n",
    "                    [z_t - C_t \\mathbb{E}[x_t] - b_t]^T\n",
    "                + C_t Var(x_t) C_t^T\n",
    "    \"\"\"\n",
    "    _, n_dim_state = smoothed_state_means.shape\n",
    "    n_timesteps, n_dim_obs = observations.shape\n",
    "    res = np.zeros((n_dim_obs, n_dim_obs))\n",
    "    n_obs = 0\n",
    "    for t in range(n_timesteps):\n",
    "        if not np.any(np.ma.getmask(observations[t])):\n",
    "            transition_matrix = _last_dims(transition_matrices, t)\n",
    "            transition_offset = _last_dims(observation_offsets, t, ndims=1)\n",
    "            err = (\n",
    "                observations[t]\n",
    "                - np.dot(transition_matrix, smoothed_state_means[t])\n",
    "                - transition_offset\n",
    "            )\n",
    "            res += (\n",
    "                np.outer(err, err)\n",
    "                + np.dot(transition_matrix,\n",
    "                         np.dot(smoothed_state_covariances[t],\n",
    "                                transition_matrix.T))\n",
    "            )\n",
    "            n_obs += 1\n",
    "    if n_obs > 0:\n",
    "        return (1.0 / n_obs) * res\n",
    "    else:\n",
    "        return res\n",
    "    \n",
    "standard._em_observation_covariance(\n",
    "            Z, self.observation_offsets,\n",
    "            self.observation_matrices, smoothed_state_means,\n",
    "            smoothed_state_covariances\n",
    "        )"
   ]
  },
  {
   "cell_type": "code",
   "execution_count": 32,
   "id": "acquired-retreat",
   "metadata": {},
   "outputs": [
    {
     "data": {
      "text/plain": [
       "array([[ 1.06601323e-01,  2.04032979e-05, -1.04056493e-03],\n",
       "       [ 2.04032979e-05,  2.11581964e-01, -1.31754370e-03],\n",
       "       [-1.04056493e-03, -1.31754370e-03,  4.01369405e-01]])"
      ]
     },
     "execution_count": 32,
     "metadata": {},
     "output_type": "execute_result"
    }
   ],
   "source": [
    "ssm_em_lin.om.update_Qx(ssm_em_lin.smoothing_density, X)"
   ]
  },
  {
   "cell_type": "code",
   "execution_count": 40,
   "id": "periodic-visiting",
   "metadata": {},
   "outputs": [
    {
     "data": {
      "text/plain": [
       "array([[ 1.07070891, -0.01486059, -0.01409952],\n",
       "       [-0.01561041,  1.40538839, -0.0146886 ],\n",
       "       [-0.00698757, -0.00598308,  1.41596565]])"
      ]
     },
     "execution_count": 40,
     "metadata": {},
     "output_type": "execute_result"
    }
   ],
   "source": [
    "standard._em_observation_matrix(\n",
    "            Z, self.observation_offsets,\n",
    "            smoothed_state_means, smoothed_state_covariances\n",
    "        )"
   ]
  },
  {
   "cell_type": "code",
   "execution_count": 41,
   "id": "informative-healthcare",
   "metadata": {},
   "outputs": [
    {
     "data": {
      "text/plain": [
       "array([[ 1.070703  , -0.01487085, -0.01411257],\n",
       "       [-0.01561801,  1.40536851, -0.01470954],\n",
       "       [-0.00699161, -0.00599141,  1.41594795]])"
      ]
     },
     "execution_count": 41,
     "metadata": {},
     "output_type": "execute_result"
    }
   ],
   "source": [
    "ssm_em_lin.om.update_C(ssm_em_lin.smoothing_density, X)"
   ]
  },
  {
   "cell_type": "code",
   "execution_count": 56,
   "id": "minus-physiology",
   "metadata": {},
   "outputs": [
    {
     "data": {
      "text/plain": [
       "array([-0.00098383, -0.00117498, -0.00064877])"
      ]
     },
     "execution_count": 56,
     "metadata": {},
     "output_type": "execute_result"
    }
   ],
   "source": [
    "standard._em_observation_offset(self.observation_matrices, smoothed_state_means,\n",
    "                           Z)"
   ]
  },
  {
   "cell_type": "code",
   "execution_count": 57,
   "id": "incoming-politics",
   "metadata": {},
   "outputs": [
    {
     "data": {
      "text/plain": [
       "array([0.0003491 , 0.00043463, 0.00028611])"
      ]
     },
     "execution_count": 57,
     "metadata": {},
     "output_type": "execute_result"
    }
   ],
   "source": [
    "ssm_em_lin.om.update_d(ssm_em_lin.smoothing_density, X)"
   ]
  },
  {
   "cell_type": "code",
   "execution_count": 85,
   "id": "radio-import",
   "metadata": {},
   "outputs": [],
   "source": [
    "from pykalman import KalmanFilter"
   ]
  },
  {
   "cell_type": "code",
   "execution_count": 18,
   "id": "periodic-consolidation",
   "metadata": {},
   "outputs": [],
   "source": [
    "transition_covariance = .01 * numpy.eye(Dz)\n",
    "kf = KalmanFilter(n_dim_obs=Dx,n_dim_state=Dz, em_vars=['transition_matrices', 'transition_offset', 'transition_covariance'], \n",
    "                  transition_covariance=transition_covariance,\n",
    "                  )"
   ]
  },
  {
   "cell_type": "code",
   "execution_count": 19,
   "id": "universal-humidity",
   "metadata": {},
   "outputs": [
    {
     "data": {
      "text/plain": [
       "<pykalman.standard.KalmanFilter at 0x7faef9a15fa0>"
      ]
     },
     "execution_count": 19,
     "metadata": {},
     "output_type": "execute_result"
    }
   ],
   "source": [
    "kf.em(X, n_iter=1)"
   ]
  },
  {
   "cell_type": "code",
   "execution_count": 20,
   "id": "functioning-hypothesis",
   "metadata": {},
   "outputs": [
    {
     "data": {
      "text/plain": [
       "array([[ 1.02428792e-02, -2.79557533e-05,  1.21144294e-05],\n",
       "       [-2.79557533e-05,  1.05750286e-02,  1.33580406e-06],\n",
       "       [ 1.21144294e-05,  1.33580406e-06,  9.96972845e-03]])"
      ]
     },
     "execution_count": 20,
     "metadata": {},
     "output_type": "execute_result"
    }
   ],
   "source": [
    "kf.transition_covariance"
   ]
  },
  {
   "cell_type": "code",
   "execution_count": 23,
   "id": "played-raleigh",
   "metadata": {},
   "outputs": [
    {
     "data": {
      "text/plain": [
       "array([[ 1.00049979,  0.01266418, -0.00384717],\n",
       "       [ 0.00238279,  1.00223197,  0.00346555],\n",
       "       [ 0.00167046,  0.00386879,  0.97659196]])"
      ]
     },
     "execution_count": 23,
     "metadata": {},
     "output_type": "execute_result"
    }
   ],
   "source": [
    "ssm_em_lin.sm.A"
   ]
  },
  {
   "cell_type": "code",
   "execution_count": 24,
   "id": "foster-dress",
   "metadata": {},
   "outputs": [
    {
     "data": {
      "text/plain": [
       "array([[9.87284293e-01, 1.34410567e-03, 1.15251589e-04],\n",
       "       [1.16920140e-03, 9.71463050e-01, 8.17829668e-04],\n",
       "       [2.28893524e-03, 1.90550277e-03, 9.29813750e-01]])"
      ]
     },
     "execution_count": 24,
     "metadata": {},
     "output_type": "execute_result"
    }
   ],
   "source": [
    "kf.transition_matrices"
   ]
  },
  {
   "cell_type": "code",
   "execution_count": null,
   "id": "polish-sharp",
   "metadata": {},
   "outputs": [],
   "source": []
  }
 ],
 "metadata": {
  "kernelspec": {
   "display_name": "Python 3",
   "language": "python",
   "name": "python3"
  },
  "language_info": {
   "codemirror_mode": {
    "name": "ipython",
    "version": 3
   },
   "file_extension": ".py",
   "mimetype": "text/x-python",
   "name": "python",
   "nbconvert_exporter": "python",
   "pygments_lexer": "ipython3",
   "version": "3.8.6"
  }
 },
 "nbformat": 4,
 "nbformat_minor": 5
}
