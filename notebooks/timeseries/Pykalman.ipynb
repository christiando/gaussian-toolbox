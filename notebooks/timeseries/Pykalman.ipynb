{
 "cells": [
  {
   "cell_type": "code",
   "execution_count": 1,
   "id": "extensive-samuel",
   "metadata": {},
   "outputs": [],
   "source": [
    "%load_ext autoreload\n",
    "%autoreload 2\n",
    "import numpy\n",
    "from matplotlib import pyplot\n",
    "import sys\n",
    "sys.path.append('../../timeseries/')\n",
    "sys.path.append('../../src/')\n",
    "import factors\n",
    "import observation_models\n",
    "import state_models\n",
    "from ssm_em import StateSpaceEM\n",
    "from pykalman import KalmanFilter"
   ]
  },
  {
   "cell_type": "code",
   "execution_count": 2,
   "id": "common-mining",
   "metadata": {},
   "outputs": [],
   "source": [
    "T = 1000\n",
    "trange = numpy.arange(T)\n",
    "Dx = 3\n",
    "Dz = 3\n",
    "X = numpy.empty((T,Dx))\n",
    "X[:,0] = numpy.sin(trange / 20)\n",
    "X[:,1] = numpy.sin(trange / 10)\n",
    "X[:,2] = numpy.sin(trange / 5)\n",
    "noise_x = .2\n",
    "noise_z = .1\n",
    "X += noise_x * numpy.random.randn(*X.shape)"
   ]
  },
  {
   "cell_type": "code",
   "execution_count": 3,
   "id": "fantastic-guidance",
   "metadata": {},
   "outputs": [],
   "source": [
    "transition_covariance = .01 * numpy.eye(Dz)\n",
    "kf = KalmanFilter(n_dim_obs=Dx,n_dim_state=Dz, em_vars=['transition_covariance'], \n",
    "                  transition_covariance=transition_covariance,\n",
    "                  )"
   ]
  },
  {
   "cell_type": "code",
   "execution_count": 68,
   "id": "effective-enough",
   "metadata": {},
   "outputs": [],
   "source": [
    "class CustomStateModel(state_models.LinearStateModel):\n",
    "    \n",
    "    def update_hyperparameters(self, smoothing_density: 'GaussianDensity', \n",
    "                               two_step_smoothing_density: 'GaussianDensity', **kwargs):\n",
    "        \"\"\" The hyperparameters are updated here, where the the densities p(z_t|x_{1:T}) and \n",
    "        p(z_{t+1}, z_t|x_{1:T}) are provided (the latter for the cross-terms.)\n",
    "        \n",
    "        :param smoothing_density: GaussianDensity\n",
    "            The smoothing density  p(z_t|x_{1:T}).\n",
    "        :param two_step_smoothing_density: Gaussian Density\n",
    "            The two point smoothing density  p(z_{t+1}, z_t|x_{1:T}).\n",
    "        \"\"\"\n",
    "        #self.update_A(smoothing_density, two_step_smoothing_density)\n",
    "        #self.update_b(smoothing_density)\n",
    "        self.update_Qz(smoothing_density, two_step_smoothing_density)\n",
    "        self.update_state_density()\n",
    "        \n",
    "        \n",
    "    def update_Qz(self, smoothing_density: 'GaussianDensity', two_step_smoothing_density: 'GaussianDensity'):\n",
    "        \"\"\" The transition covariance is updated here, where the the densities p(z_t|x_{1:T}) and \n",
    "        p(z_{t+1}, z_t|x_{1:T}) are provided (the latter for the cross-terms.)\n",
    "        \n",
    "        :param smoothing_density: GaussianDensity\n",
    "            The smoothing density  p(z_t|x_{1:T}).\n",
    "        :param two_step_smoothing_density: Gaussian Density\n",
    "            The two point smoothing density  p(z_{t+1}, z_t|x_{1:T}).\n",
    "        \"\"\"\n",
    "        T = two_step_smoothing_density.R\n",
    "        #Ezz_two_step = two_step_smoothing_density.integrate('xx')\n",
    "        #Ezz = Ezz_two_step[:,self.Dz:,self.Dz:]\n",
    "        #Ezz_cross = Ezz_two_step[:,:self.Dz,self.Dz:]\n",
    "        #AEzz_cross = numpy.sum(numpy.einsum('ab,cbd->cad', self.A, Ezz_cross), axis=0)\n",
    "        #Ez_b = smoothing_density.mu[:,None] * self.b[None,:,None]\n",
    "        #AEz_b = numpy.sum(numpy.einsum('ab,cbd->cad', self.A, Ez_b[:-1]), axis=0)\n",
    "        #Az_b2 = numpy.sum(smoothing_density.integrate('Ax_aBx_b_outer', A_mat=self.A, a_vec=self.b, \n",
    "        #                                              B_mat=self.A, b_vec=self.b)[:-1],axis=0)\n",
    "        #mu_b = numpy.sum(Ez_b[1:], axis=0)\n",
    "        #AEzzA = numpy.einsum('ab,bc->ac', numpy.einsum('ab,bc->ac', self.A, numpy.sum(Ezz[:-1], axis=0)), self.A.T)\n",
    "        #print(AEzzA, numpy.sum(Ezz[:-1], axis=0).shape)\n",
    "        \n",
    "        #Qz = (numpy.sum(Ezz[1:], axis=0) + Az_b2 - mu_b - mu_b.T - AEzz_cross - AEzz_cross.T) / T# +  - mu_b - mu_b.T - AEzz_cross - AEzz_cross.T) / T\n",
    "        A_tilde = numpy.eye(2*self.Dz, self.Dz)\n",
    "        A_tilde[self.Dz:] = -self.A\n",
    "        print(A_tilde.shape)\n",
    "        b_tilde = -self.b\n",
    "        Qz = numpy.mean(two_step_smoothing_density.integrate('Ax_aBx_b_outer', A_mat=A_tilde.T, a_vec=b_tilde, B_mat=A_tilde.T, b_vec=b_tilde), axis=0)\n",
    "        return Qz\n",
    "        #eigvals, eigvecs = numpy.linalg.eig(self.Qz)\n",
    "        #self.Qz += 1e-4 * numpy.eye(self.Dz) \n",
    "        \n",
    "        \n",
    "class CustomObservationModel(observation_models.LinearObservationModel):\n",
    "    \n",
    "    def update_hyperparameters(self, smoothing_density: 'GaussianDensity', X: numpy.ndarray, **kwargs):\n",
    "        \"\"\" This procedure updates the hyperparameters of the observation model.\n",
    "        \n",
    "        :param smoothing_density: GaussianDensity\n",
    "            The smoothing density over the latent space.\n",
    "        :param X: numpy.ndarray [T, Dx]\n",
    "            The observations.\n",
    "        \"\"\"  \n",
    "        #self.update_C(smoothing_density, X)\n",
    "        #self.update_d(smoothing_density, X)\n",
    "        #self.update_Qx(smoothing_density, X)\n",
    "        self.update_emission_density()\n",
    "    \n",
    "    "
   ]
  },
  {
   "cell_type": "code",
   "execution_count": 69,
   "id": "sunset-underground",
   "metadata": {},
   "outputs": [],
   "source": [
    "sm = CustomStateModel(Dz, noise_z=numpy.sqrt(.01))\n",
    "#sm.Qz = numpy.eye(Dz)\n",
    "sm.A = numpy.eye(Dz)\n",
    "sm.b = numpy.zeros((Dz,))\n",
    "sm.update_state_density()\n",
    "om = CustomObservationModel(Dx, Dz, noise_x=1)\n",
    "om.Qx = numpy.eye(Dz)\n",
    "om.C = numpy.eye(Dx, Dz)\n",
    "om.d = numpy.zeros((Dx,))\n",
    "om.update_emission_density()\n",
    "#om.pca_init(X)"
   ]
  },
  {
   "cell_type": "code",
   "execution_count": null,
   "id": "tracked-childhood",
   "metadata": {},
   "outputs": [],
   "source": []
  },
  {
   "cell_type": "code",
   "execution_count": 70,
   "id": "related-license",
   "metadata": {},
   "outputs": [],
   "source": [
    "ssm_em_lin = StateSpaceEM(X, observation_model=om, state_model=sm)"
   ]
  },
  {
   "cell_type": "code",
   "execution_count": 73,
   "id": "upper-heater",
   "metadata": {},
   "outputs": [],
   "source": [
    "ssm_em_lin.estep()"
   ]
  },
  {
   "cell_type": "code",
   "execution_count": 8,
   "id": "actual-johnston",
   "metadata": {},
   "outputs": [],
   "source": [
    "mu_kf, cov_kf = kf.smooth(X)"
   ]
  },
  {
   "cell_type": "code",
   "execution_count": 41,
   "id": "blank-ebony",
   "metadata": {},
   "outputs": [
    {
     "data": {
      "text/plain": [
       "[<matplotlib.lines.Line2D at 0x7eff5e616730>]"
      ]
     },
     "execution_count": 41,
     "metadata": {},
     "output_type": "execute_result"
    },
    {
     "data": {
      "image/png": "[encoded data removed]",
      "text/plain": [
       "<Figure size 432x288 with 1 Axes>"
      ]
     },
     "metadata": {
      "needs_background": "light"
     },
     "output_type": "display_data"
    }
   ],
   "source": [
    "pyplot.plot(mu_kf[:,2])\n",
    "pyplot.plot(ssm_em_lin.twostep_smoothing_density.mu[1:,2])"
   ]
  },
  {
   "cell_type": "code",
   "execution_count": 44,
   "id": "pressed-figure",
   "metadata": {},
   "outputs": [
    {
     "data": {
      "text/plain": [
       "array([[0., 0., 0.],\n",
       "       [0., 0., 0.],\n",
       "       [0., 0., 0.],\n",
       "       ...,\n",
       "       [0., 0., 0.],\n",
       "       [0., 0., 0.],\n",
       "       [0., 0., 0.]])"
      ]
     },
     "execution_count": 44,
     "metadata": {},
     "output_type": "execute_result"
    }
   ],
   "source": [
    "ssm_em_lin.twostep_smoothing_density.mu[:,3:] - ssm_em_lin.smoothing_density.mu[:-1]"
   ]
  },
  {
   "cell_type": "code",
   "execution_count": 10,
   "id": "typical-moral",
   "metadata": {},
   "outputs": [
    {
     "data": {
      "text/plain": [
       "[<matplotlib.lines.Line2D at 0x7eff5fd67190>]"
      ]
     },
     "execution_count": 10,
     "metadata": {},
     "output_type": "execute_result"
    },
    {
     "data": {
      "image/png": "[encoded data removed]",
      "text/plain": [
       "<Figure size 432x288 with 2 Axes>"
      ]
     },
     "metadata": {
      "needs_background": "light"
     },
     "output_type": "display_data"
    }
   ],
   "source": [
    "pyplot.subplot(121)\n",
    "pyplot.plot(mu_kf.flatten(), ssm_em_lin.smoothing_density.mu[1:].flatten(), '.')\n",
    "pyplot.subplot(122)\n",
    "pyplot.plot(cov_kf.flatten(), ssm_em_lin.smoothing_density.Sigma[1:].flatten(), '.')"
   ]
  },
  {
   "cell_type": "code",
   "execution_count": 11,
   "id": "south-deposit",
   "metadata": {},
   "outputs": [],
   "source": [
    "from pykalman import standard"
   ]
  },
  {
   "cell_type": "code",
   "execution_count": 36,
   "id": "practical-patrick",
   "metadata": {},
   "outputs": [],
   "source": [
    "self = kf\n",
    "(self.transition_matrices, self.transition_offsets,\n",
    "         self.transition_covariance, self.observation_matrices,\n",
    "         self.observation_offsets, self.observation_covariance,\n",
    "         self.initial_state_mean, self.initial_state_covariance) = (\n",
    "            self._initialize_parameters()\n",
    "        )\n",
    "Z = self._parse_observations(X)\n",
    "(predicted_state_means, predicted_state_covariances,\n",
    "             kalman_gains, filtered_state_means,\n",
    "             filtered_state_covariances) = (\n",
    "                standard._filter(\n",
    "                    self.transition_matrices, self.observation_matrices,\n",
    "                    self.transition_covariance, self.observation_covariance,\n",
    "                    self.transition_offsets, self.observation_offsets,\n",
    "                    self.initial_state_mean, self.initial_state_covariance,\n",
    "                    Z\n",
    "                )\n",
    "            )\n",
    "(smoothed_state_means, smoothed_state_covariances,\n",
    "             kalman_smoothing_gains) = (\n",
    "                standard._smooth(\n",
    "                    self.transition_matrices, filtered_state_means,\n",
    "                    filtered_state_covariances, predicted_state_means,\n",
    "                    predicted_state_covariances\n",
    "                )\n",
    "            )\n",
    "\n",
    "sigma_pair_smooth = standard._smooth_pair(\n",
    "                smoothed_state_covariances,\n",
    "                kalman_smoothing_gains\n",
    "            )"
   ]
  },
  {
   "cell_type": "code",
   "execution_count": 37,
   "id": "robust-wallet",
   "metadata": {},
   "outputs": [
    {
     "data": {
      "text/plain": [
       "[<matplotlib.lines.Line2D at 0x7eff5fc45640>]"
      ]
     },
     "execution_count": 37,
     "metadata": {},
     "output_type": "execute_result"
    },
    {
     "data": {
      "image/png": "[encoded data removed]",
      "text/plain": [
       "<Figure size 432x288 with 1 Axes>"
      ]
     },
     "metadata": {
      "needs_background": "light"
     },
     "output_type": "display_data"
    }
   ],
   "source": [
    "pyplot.plot(sigma_pair_smooth[1:].flatten(), ssm_em_lin.twostep_smoothing_density.Sigma[1:,3:,:3].flatten())"
   ]
  },
  {
   "cell_type": "code",
   "execution_count": 74,
   "id": "golden-chemistry",
   "metadata": {},
   "outputs": [
    {
     "data": {
      "text/plain": [
       "array([[ 1.02677971e-02, -2.91493243e-07, -2.16649604e-05],\n",
       "       [-2.91493243e-07,  1.07494804e-02, -1.35422808e-05],\n",
       "       [-2.16649604e-05, -1.35422808e-05,  1.03197474e-02]])"
      ]
     },
     "execution_count": 74,
     "metadata": {},
     "output_type": "execute_result"
    }
   ],
   "source": [
    "import numpy as np\n",
    "\n",
    "def _last_dims(X, t, ndims=2):\n",
    "    \"\"\"Extract the final dimensions of `X`\n",
    "    Extract the final `ndim` dimensions at index `t` if `X` has >= `ndim` + 1\n",
    "    dimensions, otherwise return `X`.\n",
    "    Parameters\n",
    "    ----------\n",
    "    X : array with at least dimension `ndims`\n",
    "    t : int\n",
    "        index to use for the `ndims` + 1th dimension\n",
    "    ndims : int, optional\n",
    "        number of dimensions in the array desired\n",
    "    Returns\n",
    "    -------\n",
    "    Y : array with dimension `ndims`\n",
    "        the final `ndims` dimensions indexed by `t`\n",
    "    \"\"\"\n",
    "    X = np.asarray(X)\n",
    "    if len(X.shape) == ndims + 1:\n",
    "        return X[t]\n",
    "    elif len(X.shape) == ndims:\n",
    "        return X\n",
    "    else:\n",
    "        raise ValueError((\"X only has %d dimensions when %d\" +\n",
    "                \" or more are required\") % (len(X.shape), ndims))\n",
    "\n",
    "def _em_transition_covariance(transition_matrices, transition_offsets,\n",
    "                              smoothed_state_means, smoothed_state_covariances,\n",
    "                              pairwise_covariances):\n",
    "    r\"\"\"Apply the EM algorithm to parameter `transition_covariance`\n",
    "    Maximize expected log likelihood of observations with respect to the\n",
    "    transition covariance matrix `transition_covariance`.\n",
    "    .. math::\n",
    "        Q &= \\frac{1}{T-1} \\sum_{t=0}^{T-2}\n",
    "                (\\mathbb{E}[x_{t+1}] - A_t \\mathbb{E}[x_t] - b_t)\n",
    "                    (\\mathbb{E}[x_{t+1}] - A_t \\mathbb{E}[x_t] - b_t)^T\n",
    "                + A_t Var(x_t) A_t^T + Var(x_{t+1})\n",
    "                - Cov(x_{t+1}, x_t) A_t^T - A_t Cov(x_t, x_{t+1})\n",
    "    \"\"\"\n",
    "    n_timesteps, n_dim_state, _ = smoothed_state_covariances.shape\n",
    "    res = np.zeros((n_dim_state, n_dim_state))\n",
    "    for t in range(n_timesteps - 1):\n",
    "        transition_matrix = _last_dims(transition_matrices, t)\n",
    "        transition_offset = _last_dims(transition_offsets, t, ndims=1)\n",
    "        err = (\n",
    "            smoothed_state_means[t + 1]\n",
    "            - np.dot(transition_matrix, smoothed_state_means[t])\n",
    "            - transition_offset\n",
    "        )\n",
    "        Vt1t_A = (\n",
    "            np.dot(pairwise_covariances[t + 1],\n",
    "                   transition_matrix.T)\n",
    "        )\n",
    "        res += (\n",
    "            np.outer(err, err)\n",
    "            + np.dot(transition_matrix,\n",
    "                     np.dot(smoothed_state_covariances[t],\n",
    "                            transition_matrix.T))\n",
    "            + smoothed_state_covariances[t + 1]\n",
    "            - Vt1t_A - Vt1t_A.T\n",
    "        )\n",
    "\n",
    "    return (1.0 / (n_timesteps - 1)) * res\n",
    "\n",
    "_em_transition_covariance(self.transition_matrices, self.transition_offsets,\n",
    "                                  smoothed_state_means, smoothed_state_covariances,\n",
    "                                  sigma_pair_smooth)"
   ]
  },
  {
   "cell_type": "code",
   "execution_count": 75,
   "id": "conscious-substance",
   "metadata": {},
   "outputs": [
    {
     "name": "stdout",
     "output_type": "stream",
     "text": [
      "(6, 3)\n"
     ]
    },
    {
     "data": {
      "text/plain": [
       "array([[ 1.02674434e-02, -2.84873771e-07, -2.16349769e-05],\n",
       "       [-2.84873771e-07,  1.07486596e-02, -1.35122738e-05],\n",
       "       [-2.16349769e-05, -1.35122738e-05,  1.03193569e-02]])"
      ]
     },
     "execution_count": 75,
     "metadata": {},
     "output_type": "execute_result"
    }
   ],
   "source": [
    "ssm_em_lin.sm.update_Qz(ssm_em_lin.smoothing_density, ssm_em_lin.twostep_smoothing_density)"
   ]
  },
  {
   "cell_type": "code",
   "execution_count": 71,
   "id": "comfortable-factor",
   "metadata": {},
   "outputs": [
    {
     "data": {
      "text/plain": [
       "array([[ 9.86814119e-01,  6.43406700e-04, -4.57528568e-04],\n",
       "       [ 1.15195715e-03,  9.71415413e-01,  8.67406073e-04],\n",
       "       [ 1.02289705e-03,  1.70538555e-03,  9.30000520e-01]])"
      ]
     },
     "execution_count": 71,
     "metadata": {},
     "output_type": "execute_result"
    }
   ],
   "source": [
    "standard._em_transition_matrix(\n",
    "            self.transition_offsets, smoothed_state_means,\n",
    "            smoothed_state_covariances, sigma_pair_smooth \n",
    "        )"
   ]
  },
  {
   "cell_type": "code",
   "execution_count": 75,
   "id": "great-yugoslavia",
   "metadata": {},
   "outputs": [
    {
     "data": {
      "text/plain": [
       "array([[0.98696768, 0.00290381, 0.00275816],\n",
       "       [0.00219825, 0.97343206, 0.00450265],\n",
       "       [0.00160631, 0.00313562, 0.93222418]])"
      ]
     },
     "execution_count": 75,
     "metadata": {},
     "output_type": "execute_result"
    }
   ],
   "source": [
    "ssm_em_lin.sm.update_A(ssm_em_lin.smoothing_density, ssm_em_lin.twostep_smoothing_density)\n",
    "ssm_em_lin.sm.A"
   ]
  },
  {
   "cell_type": "code",
   "execution_count": 5,
   "id": "emotional-dependence",
   "metadata": {},
   "outputs": [],
   "source": [
    "from pykalman import KalmanFilter"
   ]
  },
  {
   "cell_type": "code",
   "execution_count": 18,
   "id": "loving-talent",
   "metadata": {},
   "outputs": [],
   "source": [
    "transition_covariance = .01 * numpy.eye(Dz)\n",
    "kf = KalmanFilter(n_dim_obs=Dx,n_dim_state=Dz, em_vars=['transition_matrices', 'transition_offset', 'transition_covariance'], \n",
    "                  transition_covariance=transition_covariance,\n",
    "                  )"
   ]
  },
  {
   "cell_type": "code",
   "execution_count": 19,
   "id": "minus-playlist",
   "metadata": {},
   "outputs": [
    {
     "data": {
      "text/plain": [
       "<pykalman.standard.KalmanFilter at 0x7faef9a15fa0>"
      ]
     },
     "execution_count": 19,
     "metadata": {},
     "output_type": "execute_result"
    }
   ],
   "source": [
    "kf.em(X, n_iter=1)"
   ]
  },
  {
   "cell_type": "code",
   "execution_count": 20,
   "id": "excessive-trout",
   "metadata": {},
   "outputs": [
    {
     "data": {
      "text/plain": [
       "array([[ 1.02428792e-02, -2.79557533e-05,  1.21144294e-05],\n",
       "       [-2.79557533e-05,  1.05750286e-02,  1.33580406e-06],\n",
       "       [ 1.21144294e-05,  1.33580406e-06,  9.96972845e-03]])"
      ]
     },
     "execution_count": 20,
     "metadata": {},
     "output_type": "execute_result"
    }
   ],
   "source": [
    "kf.transition_covariance"
   ]
  },
  {
   "cell_type": "code",
   "execution_count": 23,
   "id": "devoted-drill",
   "metadata": {},
   "outputs": [
    {
     "data": {
      "text/plain": [
       "array([[ 1.00049979,  0.01266418, -0.00384717],\n",
       "       [ 0.00238279,  1.00223197,  0.00346555],\n",
       "       [ 0.00167046,  0.00386879,  0.97659196]])"
      ]
     },
     "execution_count": 23,
     "metadata": {},
     "output_type": "execute_result"
    }
   ],
   "source": [
    "ssm_em_lin.sm.A"
   ]
  },
  {
   "cell_type": "code",
   "execution_count": 24,
   "id": "structured-modern",
   "metadata": {},
   "outputs": [
    {
     "data": {
      "text/plain": [
       "array([[9.87284293e-01, 1.34410567e-03, 1.15251589e-04],\n",
       "       [1.16920140e-03, 9.71463050e-01, 8.17829668e-04],\n",
       "       [2.28893524e-03, 1.90550277e-03, 9.29813750e-01]])"
      ]
     },
     "execution_count": 24,
     "metadata": {},
     "output_type": "execute_result"
    }
   ],
   "source": [
    "kf.transition_matrices"
   ]
  },
  {
   "cell_type": "code",
   "execution_count": null,
   "id": "anonymous-percentage",
   "metadata": {},
   "outputs": [],
   "source": []
  }
 ],
 "metadata": {
  "kernelspec": {
   "display_name": "Python 3",
   "language": "python",
   "name": "python3"
  },
  "language_info": {
   "codemirror_mode": {
    "name": "ipython",
    "version": 3
   },
   "file_extension": ".py",
   "mimetype": "text/x-python",
   "name": "python",
   "nbconvert_exporter": "python",
   "pygments_lexer": "ipython3",
   "version": "3.8.6"
  }
 },
 "nbformat": 4,
 "nbformat_minor": 5
}
