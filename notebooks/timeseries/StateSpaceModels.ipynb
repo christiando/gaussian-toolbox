{
 "cells": [
  {
   "cell_type": "code",
   "execution_count": 1,
   "id": "stuffed-velvet",
   "metadata": {},
   "outputs": [],
   "source": [
    "import numpy\n",
    "from matplotlib import pyplot\n",
    "import sys\n",
    "sys.path.append('../../timeseries/')\n",
    "sys.path.append('../../src/')\n",
    "from linear_ssm import StateSpace_EM"
   ]
  },
  {
   "cell_type": "code",
   "execution_count": 2,
   "id": "rubber-electricity",
   "metadata": {},
   "outputs": [],
   "source": [
    "T = 1000\n",
    "trange = numpy.arange(T)\n",
    "Dx = 2\n",
    "Dz = 1\n",
    "X = numpy.empty((T,Dx))\n",
    "X[:,0] = numpy.sin(trange / 20)\n",
    "X[:,1] = numpy.sin(trange / 10)\n",
    "noise_x = .2\n",
    "noise_z = .1\n",
    "X += noise_x * numpy.random.randn(*X.shape)"
   ]
  },
  {
   "cell_type": "code",
   "execution_count": 3,
   "id": "younger-norfolk",
   "metadata": {},
   "outputs": [
    {
     "name": "stdout",
     "output_type": "stream",
     "text": [
      "Iteration 1 - llk=-6785.8\n",
      "Iteration 2 - llk=-2201.3\n",
      "Iteration 3 - llk=-1857.8\n",
      "Iteration 4 - llk=-1227.2\n",
      "Iteration 5 - llk=-1139.4\n",
      "Iteration 6 - llk=-1127.7\n",
      "Iteration 7 - llk=-1123.2\n",
      "Iteration 8 - llk=-1120.8\n",
      "Iteration 9 - llk=-1119.3\n",
      "Iteration 10 - llk=-1118.5\n",
      "Iteration 11 - llk=-1118.0\n",
      "Iteration 12 - llk=-1117.6\n",
      "Iteration 13 - llk=-1117.4\n",
      "Iteration 14 - llk=-1117.3\n",
      "Iteration 15 - llk=-1117.2\n"
     ]
    }
   ],
   "source": [
    "ssm = StateSpace_EM(X, Dz=1)\n",
    "log_likelihood = ssm.run_em()"
   ]
  },
  {
   "cell_type": "code",
   "execution_count": 14,
   "id": "stuck-carry",
   "metadata": {},
   "outputs": [
    {
     "data": {
      "image/png": "[encoded data removed]",
      "text/plain": [
       "<Figure size 432x288 with 1 Axes>"
      ]
     },
     "metadata": {
      "needs_background": "light"
     },
     "output_type": "display_data"
    }
   ],
   "source": [
    "pyplot.plot(log_likelihood[1:])\n",
    "pyplot.show()"
   ]
  },
  {
   "cell_type": "code",
   "execution_count": null,
   "id": "separated-paradise",
   "metadata": {},
   "outputs": [],
   "source": []
  }
 ],
 "metadata": {
  "kernelspec": {
   "display_name": "Python 3",
   "language": "python",
   "name": "python3"
  },
  "language_info": {
   "codemirror_mode": {
    "name": "ipython",
    "version": 3
   },
   "file_extension": ".py",
   "mimetype": "text/x-python",
   "name": "python",
   "nbconvert_exporter": "python",
   "pygments_lexer": "ipython3",
   "version": "3.8.6"
  }
 },
 "nbformat": 4,
 "nbformat_minor": 5
}
