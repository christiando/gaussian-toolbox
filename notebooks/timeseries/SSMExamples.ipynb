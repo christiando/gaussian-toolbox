{
 "cells": [
  {
   "cell_type": "code",
   "execution_count": null,
   "id": "serial-memphis",
   "metadata": {},
   "outputs": [],
   "source": [
    "%load_ext autoreload\n",
    "%autoreload 2\n",
    "import numpy\n",
    "from matplotlib import pyplot\n",
    "import sys\n",
    "#sys.path.append('../../timeseries/')\n",
    "sys.path.append('../../')\n",
    "from jax import numpy as jnp\n",
    "from src_jax import factors\n",
    "from timeseries_jax import observation_models, state_models\n",
    "from timeseries_jax.ssm_em import StateSpaceEM"
   ]
  },
  {
   "cell_type": "markdown",
   "id": "colored-patrick",
   "metadata": {},
   "source": [
    "# Generate some data \n",
    "\n",
    "Here we generate some simple data, with some sines and additive Gaussian noise."
   ]
  },
  {
   "cell_type": "code",
   "execution_count": null,
   "id": "cellular-receiver",
   "metadata": {},
   "outputs": [],
   "source": [
    "T = 1000\n",
    "trange = numpy.arange(T)\n",
    "Dx = 3\n",
    "Dz = 3\n",
    "X = numpy.empty((T,Dx))\n",
    "X[:,0] = numpy.sin(trange / 20)\n",
    "X[:,1] = numpy.sin(trange / 10)\n",
    "X[:,2] = numpy.sin(trange / 5)\n",
    "noise_x = .2\n",
    "noise_z = .1\n",
    "X += noise_x * numpy.random.randn(*X.shape)"
   ]
  },
  {
   "cell_type": "markdown",
   "id": "integrated-bunny",
   "metadata": {},
   "source": [
    "# Linear state space model \n",
    "\n",
    "We fit a state space model with linear state and observation model to the data.\n",
    "\n",
    "First we instantiate the state and observation model."
   ]
  },
  {
   "cell_type": "code",
   "execution_count": null,
   "id": "negative-horror",
   "metadata": {},
   "outputs": [],
   "source": [
    "sm = state_models.LinearStateModel(Dz)\n",
    "om = observation_models.LinearObservationModel(Dx, Dz)\n",
    "#om.pca_init(X)"
   ]
  },
  {
   "cell_type": "markdown",
   "id": "important-nightmare",
   "metadata": {},
   "source": [
    "Then we give it to the EM object with the data and fit it."
   ]
  },
  {
   "cell_type": "code",
   "execution_count": null,
   "id": "focused-apparatus",
   "metadata": {},
   "outputs": [],
   "source": [
    "ssm_em_lin = StateSpaceEM(jnp.array(X), observation_model=om, state_model=sm)\n",
    "ssm_em_lin.run()\n",
    "pyplot.plot(ssm_em_lin.llk_list[1:])\n",
    "pyplot.xlabel('EM iterations')\n",
    "pyplot.ylabel('Likelihood')\n",
    "pyplot.show()"
   ]
  },
  {
   "cell_type": "markdown",
   "id": "sound-visit",
   "metadata": {},
   "source": [
    "We show the data density for the training data."
   ]
  },
  {
   "cell_type": "code",
   "execution_count": null,
   "id": "popular-edgar",
   "metadata": {},
   "outputs": [],
   "source": [
    "p_x = ssm_em_lin.compute_data_density()\n",
    "pyplot.figure(figsize=(10,5))\n",
    "for ix in range(Dx):\n",
    "    pyplot.subplot(Dx,1,ix+1)\n",
    "    x_min = p_x.mu[:,ix] - 1.68 * numpy.sqrt(p_x.Sigma[:,ix,ix])\n",
    "    x_max = p_x.mu[:,ix] + 1.68 * numpy.sqrt(p_x.Sigma[:,ix,ix])\n",
    "    pyplot.fill_between(range(x_min.shape[0]), x_min, x_max, color='C1', alpha=.5)\n",
    "    pyplot.plot(X[:,ix],'k')\n",
    "    pyplot.ylabel('x_%d' %(ix+1))\n",
    "    pyplot.xlim([0,X.shape[0]])\n",
    "pyplot.xlabel('Time steps')\n",
    "pyplot.show()"
   ]
  },
  {
   "cell_type": "markdown",
   "id": "trying-switch",
   "metadata": {},
   "source": [
    "We can also make predictions, when we delete parts of the data."
   ]
  },
  {
   "cell_type": "code",
   "execution_count": null,
   "id": "productive-calibration",
   "metadata": {},
   "outputs": [],
   "source": [
    "X_test = numpy.copy(X)\n",
    "X_test[numpy.random.rand(*X_test.shape) < .9] = numpy.nan\n",
    "filter_test, mu, std = ssm_em_lin.predict(jnp.array(X_test), smoothed=True)"
   ]
  },
  {
   "cell_type": "code",
   "execution_count": null,
   "id": "norman-webster",
   "metadata": {},
   "outputs": [],
   "source": [
    "pyplot.figure(figsize=(10,5))\n",
    "for ix in range(Dx):\n",
    "    pyplot.subplot(Dx,1,ix+1)\n",
    "    x_min = mu[:,ix] - 1.68 * std[:,ix]\n",
    "    x_max = mu[:,ix] + 1.68 * std[:,ix]\n",
    "    pyplot.fill_between(range(x_min.shape[0]), x_min, x_max, color='C1', alpha=.5)\n",
    "    pyplot.plot(X[:,ix],'k')\n",
    "    pyplot.ylabel('x_%d' %(ix+1))\n",
    "    pyplot.xlim([0,X.shape[0]])\n",
    "pyplot.xlabel('Time steps')\n",
    "pyplot.show()"
   ]
  },
  {
   "cell_type": "markdown",
   "id": "derived-church",
   "metadata": {},
   "source": [
    "# State space model with non linear transition mean\n",
    "\n",
    "Now we do the same for a state-space model where the state model is non-linear."
   ]
  },
  {
   "cell_type": "code",
   "execution_count": null,
   "id": "exact-engagement",
   "metadata": {},
   "outputs": [],
   "source": [
    "Dk = 4\n",
    "Dz = 3\n",
    "# Below is the only line, that changes!\n",
    "sm = state_models.LSEMStateModel(Dz, Dk)\n",
    "om = observation_models.LinearObservationModel(Dx, Dz)\n",
    "#om.pca_init(X)"
   ]
  },
  {
   "cell_type": "code",
   "execution_count": null,
   "id": "advanced-lighter",
   "metadata": {},
   "outputs": [],
   "source": [
    "ssm_em = StateSpaceEM(jnp.array(X), observation_model=om, state_model=sm, max_iter=10)"
   ]
  },
  {
   "cell_type": "code",
   "execution_count": null,
   "id": "aerial-share",
   "metadata": {},
   "outputs": [],
   "source": [
    "ssm_em.run()\n",
    "pyplot.plot(ssm_em.llk_list[1:])\n",
    "pyplot.xlabel('EM iterations')\n",
    "pyplot.ylabel('Likelihood')\n",
    "pyplot.show()"
   ]
  },
  {
   "cell_type": "code",
   "execution_count": null,
   "id": "empty-gossip",
   "metadata": {},
   "outputs": [],
   "source": [
    "p_x = ssm_em.compute_data_density()\n",
    "pyplot.figure(figsize=(10,5))\n",
    "for ix in range(Dx):\n",
    "    pyplot.subplot(Dx,1,ix+1)# State space model with non linear transition mean\n",
    "    x_min = p_x.mu[:,ix] - 1.68 * numpy.sqrt(p_x.Sigma[:,ix,ix])\n",
    "    x_max = p_x.mu[:,ix] + 1.68 * numpy.sqrt(p_x.Sigma[:,ix,ix])\n",
    "    pyplot.fill_between(range(x_min.shape[0]), x_min, x_max, color='C1', alpha=.5)\n",
    "    pyplot.plot(X[:,ix],'k')\n",
    "    pyplot.ylabel('x_%d' %(ix+1))\n",
    "    pyplot.xlim([0,X.shape[0]])\n",
    "pyplot.xlabel('Time steps')\n",
    "pyplot.show()"
   ]
  },
  {
   "cell_type": "code",
   "execution_count": null,
   "id": "indonesian-straight",
   "metadata": {},
   "outputs": [],
   "source": [
    "filter_test, mu, std = ssm_em.predict(jnp.array(X_test), smoothed=True)\n",
    "pyplot.figure(figsize=(10,5))\n",
    "for ix in range(Dx):\n",
    "    pyplot.subplot(Dx,1,ix+1)\n",
    "    x_min = mu[:,ix] - 1.68 * std[:,ix]\n",
    "    x_max = mu[:,ix] + 1.68 * std[:,ix]\n",
    "    pyplot.fill_between(range(x_min.shape[0]), x_min, x_max, color='C1', alpha=.5)\n",
    "    pyplot.plot(X[:,ix],'k')\n",
    "    pyplot.ylabel('x_%d' %(ix+1))\n",
    "    pyplot.xlim([0,X.shape[0]])\n",
    "pyplot.xlabel('Time steps')\n",
    "pyplot.show()"
   ]
  },
  {
   "cell_type": "markdown",
   "id": "assigned-omaha",
   "metadata": {},
   "source": [
    "# Heteroscedastic State space model\n",
    "\n",
    "And here we do the same again, but with linear transition model and heteroscedastic observation model."
   ]
  },
  {
   "cell_type": "code",
   "execution_count": null,
   "id": "three-bishop",
   "metadata": {},
   "outputs": [],
   "source": [
    "Dk = 10\n",
    "Dz = 3\n",
    "Du = 2\n",
    "sm = state_models.LinearStateModel(Dz)\n",
    "# Here we change the observation model.\n",
    "om = observation_models.HCCovObservationModel(Dx, Dz, Du)\n",
    "om.pca_init(X)\n",
    "ssm_em = StateSpaceEM(jnp.array(X), observation_model=om, state_model=sm)"
   ]
  },
  {
   "cell_type": "code",
   "execution_count": null,
   "id": "variable-course",
   "metadata": {},
   "outputs": [],
   "source": [
    "ssm_em.run()\n",
    "pyplot.plot(ssm_em.llk_list[1:])\n",
    "pyplot.xlabel('EM iterations')\n",
    "pyplot.ylabel('Likelihood')\n",
    "pyplot.show()"
   ]
  },
  {
   "cell_type": "code",
   "execution_count": null,
   "id": "tough-hungarian",
   "metadata": {},
   "outputs": [],
   "source": [
    "p_x = ssm_em.compute_data_density()\n",
    "pyplot.figure(figsize=(10,5))\n",
    "for ix in range(Dx):\n",
    "    pyplot.subplot(Dx,1,ix+1)\n",
    "    x_min = p_x.mu[:,ix] - 1.68 * numpy.sqrt(p_x.Sigma[:,ix,ix])\n",
    "    x_max = p_x.mu[:,ix] + 1.68 * numpy.sqrt(p_x.Sigma[:,ix,ix])\n",
    "    pyplot.fill_between(range(x_min.shape[0]), x_min, x_max, color='C1', alpha=.5)\n",
    "    pyplot.plot(X[:,ix],'k')\n",
    "    pyplot.ylabel('x_%d' %(ix+1))\n",
    "    pyplot.xlim([0,X.shape[0]])\n",
    "pyplot.xlabel('Time steps')\n",
    "pyplot.show()"
   ]
  },
  {
   "cell_type": "code",
   "execution_count": null,
   "id": "charged-ticket",
   "metadata": {},
   "outputs": [],
   "source": [
    "X_test = numpy.copy(X)\n",
    "X_test[numpy.random.rand(*X_test.shape) < .9] = numpy.nan\n",
    "filter_test, mu, std = ssm_em.predict(jnp.array(X_test), smoothed=True)\n",
    "pyplot.figure(figsize=(10,5))\n",
    "for ix in range(Dx):\n",
    "    pyplot.subplot(Dx,1,ix+1)\n",
    "    x_min = mu[:,ix] - 1.68 * std[:,ix]\n",
    "    x_max = mu[:,ix] + 1.68 * std[:,ix]\n",
    "    pyplot.fill_between(range(x_min.shape[0]), x_min, x_max, color='C1', alpha=.5)\n",
    "    pyplot.plot(X[:,ix],'k')\n",
    "    pyplot.ylabel('x_%d' %(ix+1))\n",
    "    pyplot.xlim([0,X.shape[0]])\n",
    "pyplot.xlabel('Time steps')\n",
    "pyplot.show()"
   ]
  },
  {
   "cell_type": "markdown",
   "id": "lasting-absorption",
   "metadata": {},
   "source": [
    "## Lorenz Attractor Example"
   ]
  },
  {
   "cell_type": "code",
   "execution_count": null,
   "id": "other-failing",
   "metadata": {},
   "outputs": [],
   "source": [
    "import numpy as np\n",
    "import matplotlib.pyplot as plt\n",
    "from scipy.integrate import odeint\n",
    "from mpl_toolkits.mplot3d import Axes3D\n",
    "\n",
    "from scipy.integrate import solve_ivp"
   ]
  },
  {
   "cell_type": "code",
   "execution_count": null,
   "id": "pregnant-ivory",
   "metadata": {},
   "outputs": [],
   "source": [
    "rho = 28.0\n",
    "sigma = 10.0\n",
    "beta = 8.0 / 3.0\n",
    "\n",
    "def lorenz(state, t):\n",
    "    x, y, z = state  # Unpack the state vector\n",
    "    return sigma * (y - x), x * (rho - z) - y, x * y - beta * z  # Derivatives\n",
    "\n",
    "state0 = [1.0, 1.0, 1.0]\n",
    "t = np.arange(0.0, 40.0, 0.01)\n",
    "\n",
    "states = odeint(lorenz, state0, t)\n",
    "\n",
    "fig = plt.figure()\n",
    "ax = fig.gca(projection=\"3d\")\n",
    "ax.plot(states[:, 0], states[:, 1], states[:, 2])\n",
    "plt.draw()\n",
    "plt.show()"
   ]
  },
  {
   "cell_type": "code",
   "execution_count": null,
   "id": "regional-subdivision",
   "metadata": {},
   "outputs": [],
   "source": [
    "from scipy.stats import zscore\n",
    "X = states[100::2] \n",
    "X = zscore(X, axis=0)\n",
    "X += .01 * numpy.random.randn(*X.shape)"
   ]
  },
  {
   "cell_type": "code",
   "execution_count": null,
   "id": "present-bouquet",
   "metadata": {},
   "outputs": [],
   "source": [
    "Dz = 3\n",
    "sm = state_models.LinearStateModel(Dz)\n",
    "om = observation_models.LinearObservationModel(Dx, Dz)\n",
    "om.pca_init(X)"
   ]
  },
  {
   "cell_type": "code",
   "execution_count": null,
   "id": "considerable-minneapolis",
   "metadata": {},
   "outputs": [],
   "source": [
    "ssm_em_lin = StateSpaceEM(X, observation_model=om, state_model=sm)\n",
    "ssm_em_lin.run()\n",
    "pyplot.plot(ssm_em_lin.llk_list[1:])\n",
    "pyplot.xlabel('EM iterations')\n",
    "pyplot.ylabel('Likelihood')\n",
    "pyplot.show()"
   ]
  },
  {
   "cell_type": "code",
   "execution_count": null,
   "id": "complete-update",
   "metadata": {},
   "outputs": [],
   "source": [
    "p_x = ssm_em_lin.compute_data_density()\n",
    "pyplot.figure(figsize=(10,5))\n",
    "for ix in range(Dx):\n",
    "    pyplot.subplot(Dx,1,ix+1)\n",
    "    x_min = p_x.mu[:,ix] - 1.68 * numpy.sqrt(p_x.Sigma[:,ix,ix])\n",
    "    x_max = p_x.mu[:,ix] + 1.68 * numpy.sqrt(p_x.Sigma[:,ix,ix])\n",
    "    pyplot.fill_between(range(x_min.shape[0]), x_min, x_max, color='C1', alpha=.5)\n",
    "    pyplot.plot(X[:,ix],'k')\n",
    "    pyplot.ylabel('x_%d' %(ix+1))\n",
    "    pyplot.xlim([0,X.shape[0]])\n",
    "pyplot.xlabel('Time steps')\n",
    "pyplot.show()"
   ]
  },
  {
   "cell_type": "code",
   "execution_count": null,
   "id": "arctic-trigger",
   "metadata": {},
   "outputs": [],
   "source": [
    "X_test = numpy.copy(X)\n",
    "X_test[100:150] = numpy.nan\n",
    "X_test[450:480] = numpy.nan\n",
    "X_test[800:900] = numpy.nan\n",
    "filter_test, mu, std = ssm_em_lin.predict(X_test, smoothed=True)"
   ]
  },
  {
   "cell_type": "code",
   "execution_count": null,
   "id": "general-montgomery",
   "metadata": {},
   "outputs": [],
   "source": [
    "pyplot.figure(figsize=(10,5))\n",
    "for ix in range(Dx):\n",
    "    pyplot.subplot(Dx,1,ix+1)\n",
    "    x_min = mu[:,ix] - 1.68 * std[:,ix]\n",
    "    x_max = mu[:,ix] + 1.68 * std[:,ix]\n",
    "    pyplot.fill_between(range(x_min.shape[0]), x_min, x_max, color='C1', alpha=.5)\n",
    "    pyplot.plot(X[:,ix],'k')\n",
    "    pyplot.ylabel('x_%d' %(ix+1))\n",
    "    pyplot.xlim([0,X.shape[0]])\n",
    "pyplot.xlabel('Time steps')\n",
    "pyplot.show()"
   ]
  },
  {
   "cell_type": "code",
   "execution_count": null,
   "id": "compressed-lebanon",
   "metadata": {},
   "outputs": [],
   "source": [
    "Dk = 4\n",
    "Dz = 3\n",
    "# Below is the only line, that changes!\n",
    "sm = state_models.LSEMStateModel(Dz, Dk)\n",
    "om = observation_models.LinearObservationModel(Dx, Dz)\n",
    "om.pca_init(X)"
   ]
  },
  {
   "cell_type": "code",
   "execution_count": null,
   "id": "incorporated-swedish",
   "metadata": {},
   "outputs": [],
   "source": [
    "ssm_em = StateSpaceEM(X, observation_model=om, state_model=sm, conv_crit=1e-3)\n",
    "ssm_em.run()\n",
    "pyplot.plot(ssm_em.llk_list[1:])\n",
    "pyplot.xlabel('EM iterations')\n",
    "pyplot.ylabel('Likelihood')\n",
    "pyplot.show()"
   ]
  },
  {
   "cell_type": "code",
   "execution_count": null,
   "id": "dying-district",
   "metadata": {},
   "outputs": [],
   "source": [
    "p_x = ssm_em.compute_data_density()\n",
    "pyplot.figure(figsize=(10,5))\n",
    "for ix in range(Dx):\n",
    "    pyplot.subplot(Dx,1,ix+1)\n",
    "    x_min = p_x.mu[:,ix] - 1.68 * numpy.sqrt(p_x.Sigma[:,ix,ix])\n",
    "    x_max = p_x.mu[:,ix] + 1.68 * numpy.sqrt(p_x.Sigma[:,ix,ix])\n",
    "    pyplot.fill_between(range(x_min.shape[0]), x_min, x_max, color='C1', alpha=.5)\n",
    "    pyplot.plot(X[:,ix],'k')\n",
    "    pyplot.ylabel('x_%d' %(ix+1))\n",
    "    pyplot.xlim([0,X.shape[0]])\n",
    "pyplot.xlabel('Time steps')\n",
    "pyplot.show()"
   ]
  },
  {
   "cell_type": "code",
   "execution_count": null,
   "id": "requested-toyota",
   "metadata": {},
   "outputs": [],
   "source": [
    "X_test = numpy.copy(X)\n",
    "X_test[100:150] = numpy.nan\n",
    "X_test[450:480] = numpy.nan\n",
    "X_test[800:900] = numpy.nan\n",
    "filter_test, mu, std = ssm_em.predict(X_test, smoothed=True)"
   ]
  },
  {
   "cell_type": "code",
   "execution_count": null,
   "id": "liable-cherry",
   "metadata": {},
   "outputs": [],
   "source": [
    "pyplot.figure(figsize=(10,5))\n",
    "for ix in range(Dx):\n",
    "    pyplot.subplot(Dx,1,ix+1)\n",
    "    x_min = mu[:,ix] - 1.68 * std[:,ix]\n",
    "    x_max = mu[:,ix] + 1.68 * std[:,ix]\n",
    "    pyplot.fill_between(range(x_min.shape[0]), x_min, x_max, color='C1', alpha=.5)\n",
    "    pyplot.plot(X[:,ix],'k')\n",
    "    pyplot.ylabel('x_%d' %(ix+1))\n",
    "    pyplot.xlim([0,X.shape[0]])\n",
    "pyplot.xlabel('Time steps')\n",
    "pyplot.show()"
   ]
  },
  {
   "cell_type": "code",
   "execution_count": null,
   "id": "atlantic-idaho",
   "metadata": {},
   "outputs": [],
   "source": []
  }
 ],
 "metadata": {
  "kernelspec": {
   "display_name": "Python 3",
   "language": "python",
   "name": "python3"
  },
  "language_info": {
   "codemirror_mode": {
    "name": "ipython",
    "version": 3
   },
   "file_extension": ".py",
   "mimetype": "text/x-python",
   "name": "python",
   "nbconvert_exporter": "python",
   "pygments_lexer": "ipython3",
   "version": "3.8.11"
  }
 },
 "nbformat": 4,
 "nbformat_minor": 5
}
