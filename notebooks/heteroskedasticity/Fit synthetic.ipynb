{
 "cells": [
  {
   "cell_type": "code",
   "execution_count": null,
   "id": "b075bfa5-c5ff-48e1-87b2-d1b1fbb00d37",
   "metadata": {},
   "outputs": [],
   "source": [
    "import os\n",
    "import sys\n",
    "import torch\n",
    "import random\n",
    "import argparse\n",
    "import numpy as np\n",
    "import scipy\n",
    "from matplotlib import pyplot\n",
    "from jax.config import config\n",
    "config.update(\"jax_enable_x64\", True)\n",
    "\n",
    "sys.path.append('../../timeseries_jax/')\n",
    "sys.path.append('../../timeseries/experiments_scripts/')\n",
    "sys.path.append('../../src_jax/')\n",
    "\n",
    "from jax import numpy as jnp\n",
    "import factor\n",
    "import state_models\n",
    "import observation_models\n",
    "from ssm_em import StateSpaceEM\n",
    "\n",
    "from scipy.stats import norm\n",
    "from scipy.stats import zscore\n",
    "from ssm_em import StateSpaceEM, load_model\n",
    "from sklearn.covariance import EmpiricalCovariance\n",
    "from sklearn.gaussian_process import GaussianProcessRegressor\n",
    "from sklearn.model_selection import train_test_split\n",
    "from sklearn.preprocessing import StandardScaler\n",
    "from sklearn.metrics import mean_absolute_percentage_error as mape\n",
    "from sklearn.gaussian_process.kernels import ExpSineSquared, RBF\n",
    "\n",
    "from exp_utils import *\n",
    "import ssm\n",
    "import statsmodels.api as sm\n",
    "\n",
    "'''\n",
    "sys.path.append('../../timeseries/kalman-jax-master')\n",
    "from jax.experimental import optimizers\n",
    "#from sde_gp import SDEGP\n",
    "import approximate_inference as approx_inf\n",
    "import priors\n",
    "import likelihoods\n",
    "from utils import softplus_list, plot\n",
    "'''\n",
    "\n",
    "\n",
    "class PredictiveDensity:\n",
    "    def __init__(self, mu, sigma):\n",
    "        if mu.ndim == 1:\n",
    "            self.mu = np.array([mu]).T\n",
    "        else:\n",
    "            self.mu = np.array(mu)\n",
    "        if sigma.ndim == 1:\n",
    "            self.Sigma = np.array([sigma]).T\n",
    "        else:    \n",
    "            self.Sigma = np.array(sigma)\n",
    "            \n",
    "def reset_seeds(seed):\n",
    "    random.seed(seed)\n",
    "    np.random.seed(seed)\n",
    "    torch.manual_seed(seed)\n",
    "    \n",
    "def train_linear_SSM(x_tr, dz):\n",
    "\n",
    "    dx = x_tr.shape[1]\n",
    "    sm = state_models.LinearStateModel(dz)\n",
    "    om = observation_models.LinearObservationModel(dx, dz)\n",
    "        \n",
    "    ssm_em_lin = StateSpaceEM(jnp.array(x_tr), observation_model=om, state_model=sm)\n",
    "    ssm_em_lin.run()\n",
    "    \n",
    "    return ssm_em_lin\n",
    "\n",
    "\n",
    "def train_linear_hsk_SSM(x_tr, dz, du, init_lin_model):\n",
    "\n",
    "    dx = x_tr.shape[1]\n",
    "    sm_hs = state_models.LinearStateModel(dz)\n",
    "    om_hs = observation_models.HCCovObservationModel(dx, dz, du)\n",
    "    if init_lin_model == 1:\n",
    "        ssm_lin = train_linear_SSM(x_tr, dz)\n",
    "        om_hs.lin_om_init(ssm_lin.om)\n",
    "    hs_model = StateSpaceEM(jnp.array(x_tr), observation_model=om_hs, state_model=sm_hs)\n",
    "    hs_model.run()\n",
    "    return hs_model\n",
    "\n",
    "def train_nonlinear_SSM(x_tr, dz, **kwargs):\n",
    "    '''\n",
    "    to be updated; currently doesn't run\n",
    "    LSEMStateModel -> sm_hs = state_models.LSEMStateModel(args.dz,args.dk# + param for basis func)\n",
    "    '''\n",
    "    nonlin_model = NonLinearStateSpace_EM(x_tr,args.dz, args.dk)\n",
    "    nonlin_model.run()\n",
    "    \n",
    "    return nonlin_model\n",
    "\n",
    "class HMM_class:\n",
    "    \n",
    "    def __init__(self, x_tr, K, obs_model='gaussian'):\n",
    "        self.x_tr = x_tr\n",
    "        self.D = x_tr.shape[1]\n",
    "        self.K = K\n",
    "        self.obs_model = obs_model\n",
    "        self.model = self._train()\n",
    "        \n",
    "    def _train(self):\n",
    "        model = ssm.HMM(self.K, self.D, observations=self.obs_model)\n",
    "        model.fit(self.x_tr, method=\"em\")\n",
    "        return model\n",
    "\n",
    "    def compute_predictive_log_likelihood(self, x_te):\n",
    "        return self.model.log_likelihood(x_te)\n",
    "    \n",
    "    def compute_predictive_density(self, x_te):\n",
    "        mask = np.logical_not(np.isnan(x_te))\n",
    "        x_te_not_nan = np.zeros(x_te.shape)\n",
    "        x_te_not_nan[mask] = x_te[mask]\n",
    "        states = self.model.filter(x_te_not_nan, mask=mask)\n",
    "        if self.obs_model == 'gaussian' or  self.obs_model == 'studentst':\n",
    "            mean_te = np.dot(states, self.model.observations.mus)\n",
    "        elif self.obs_model == 'ar':\n",
    "            mean_te = np.sum(states[:,:,None] * (np.sum(self.model.observations.As[None] * x_te[:,None, None], axis=3) + self.model.observations.bs), axis=1)\n",
    "        std_te = np.dot(states, np.sqrt(self.model.observations.Sigmas.diagonal(axis1=1, axis2=2)))\n",
    "        print(mean_te.shape, std_te.shape)\n",
    "        return PredictiveDensity(mean_te, std_te ** 2)\n",
    "\n",
    "def train_HMM(x_tr, num_states, **kwargs):\n",
    "    return HMM_class(x_tr, num_states)\n",
    "\n",
    "\n",
    "class ARIMAX:\n",
    "    \n",
    "    def __init__(self, x_tr, p, q):\n",
    "        self.x_tr = x_tr\n",
    "        self.p = p\n",
    "        self.q = q\n",
    "        self._train()\n",
    "        \n",
    "    def _train(self):\n",
    "        if x_tr.shape[1] == 1:\n",
    "            self.mod = sm.tsa.statespace.SARIMAX(x_tr, trend='c', order=(self.p,0,self.q))\n",
    "            self.fit_res = self.mod.fit(disp=False)\n",
    "        else:\n",
    "            self.mod = sm.tsa.VARMAX(x_tr, trend='c', order=(self.p,self.q))\n",
    "            self.fit_res = self.mod.fit(disp=False, max_iter=1000)\n",
    "            \n",
    "    def compute_predictive_density(self, x_te):\n",
    "        mod_te = self.mod.clone(x_te)\n",
    "        res = mod_te.filter(self.fit_res.params)\n",
    "        predict = res.get_prediction()\n",
    "        predict_ci = predict.conf_int(alpha=1.-.68)\n",
    "        mu = predict.predicted_mean\n",
    "        if x_te.shape[1] == 1:\n",
    "            std = predict.predicted_mean - predict_ci[:,0]\n",
    "        else:\n",
    "            std = predict.predicted_mean - predict_ci[:,:x_te.shape[1]]\n",
    "        return PredictiveDensity(mu, std ** 2)\n",
    "            \n",
    "    def compute_predictive_log_likelihood(self, x_te):  \n",
    "        mod_te = self.mod.clone(x_te)\n",
    "        return mod_te.loglike(self.fit_res.params)\n",
    "    \n",
    "def train_arimax(x_tr, p, q,**kwargs):\n",
    "    \n",
    "    arimax_model = ARIMAX(x_tr, p, q)\n",
    "    return arimax_model"
   ]
  },
  {
   "cell_type": "code",
   "execution_count": null,
   "id": "c7cc1599-bbcd-4a3b-90f6-6a5258e618af",
   "metadata": {},
   "outputs": [],
   "source": [
    "seed = 0\n",
    "reset_seeds(seed)\n",
    "x_tr, x_va, x_te_original, x_te_na, s_tr_x = load_synthetic_e1(train_ratio=.75)\n",
    "dz = 2\n",
    "ssm_em_lin = train_linear_SSM(x_tr, dz)"
   ]
  },
  {
   "cell_type": "code",
   "execution_count": null,
   "id": "c14485d4-531f-4730-a54f-9ed8faa1fa28",
   "metadata": {},
   "outputs": [],
   "source": [
    "seed = 0\n",
    "reset_seeds(seed)\n",
    "x_tr, x_va, x_te_original, x_te_na, s_tr_x = load_synthetic_e1(train_ratio=.75)\n",
    "dz = 4\n",
    "du = 3\n",
    "ssm_em_hsk = train_linear_hsk_SSM(x_tr, dz, du, init_lin_model=True)"
   ]
  },
  {
   "cell_type": "code",
   "execution_count": null,
   "id": "6a95e9da-a08e-4d98-8c18-fbb7cab749a8",
   "metadata": {},
   "outputs": [],
   "source": [
    "ssm_em_lin.save(model_name='ssm_em_lin_synthetic', path='../../data/models/', overwrite=True)\n",
    "ssm_em_hsk.save(model_name='ssm_em_hsk_synthetic', path='../../data/models/', overwrite=True)"
   ]
  },
  {
   "cell_type": "code",
   "execution_count": null,
   "id": "153b56fd-7161-4435-8afd-51e48aa5369d",
   "metadata": {},
   "outputs": [],
   "source": [
    "seed = 0\n",
    "reset_seeds(seed)\n",
    "x_tr, x_va, x_te_original, x_te_na, s_tr_x = load_synthetic_e1(train_ratio=.75)\n",
    "K = 32\n",
    "hmm = train_HMM(x_tr, K)"
   ]
  },
  {
   "cell_type": "code",
   "execution_count": null,
   "id": "93c18d76-d0ff-4a0c-9904-1d27924a662a",
   "metadata": {},
   "outputs": [],
   "source": [
    "seed = 0\n",
    "reset_seeds(seed)\n",
    "x_tr, x_va, x_te_original, x_te_na, s_tr_x = load_synthetic_e1(train_ratio=.75)\n",
    "p, q = 7, 7\n",
    "arimax = train_arimax(x_tr, p, q)"
   ]
  },
  {
   "cell_type": "code",
   "execution_count": null,
   "id": "354cb898-209e-48df-9f68-d562f15a0297",
   "metadata": {},
   "outputs": [],
   "source": [
    "mask = np.logical_not(np.isnan(x_te_original))\n",
    "x_te_not_nan = np.zeros(x_te_original.shape)\n",
    "x_te_not_nan[mask] = x_te_original[mask]\n",
    "states = hmm.model.filter(x_te_not_nan, mask=mask)\n",
    "llk_states = np.empty(states.shape)\n",
    "for k in range(hmm.K):\n",
    "    mu, Sigma  = hmm.model.observations.mus[k], hmm.model.observations.Sigmas[k]\n",
    "    llk_states[:,k] = scipy.stats.multivariate_normal(mu, Sigma).logpdf(x_te_original)"
   ]
  },
  {
   "cell_type": "code",
   "execution_count": null,
   "id": "37210846-fb7c-4155-b25b-8efa9e6cdc58",
   "metadata": {},
   "outputs": [],
   "source": [
    "np.sum(scipy.special.logsumexp(llk_states, axis=1, b=states)[:])"
   ]
  },
  {
   "cell_type": "code",
   "execution_count": null,
   "id": "520e3f4b-a850-4a1a-9296-a6205c227281",
   "metadata": {},
   "outputs": [],
   "source": [
    "hmm.compute_predictive_log_likelihood(x_te_original)"
   ]
  },
  {
   "cell_type": "code",
   "execution_count": null,
   "id": "a3118552-be42-4320-8981-ad35b852685f",
   "metadata": {},
   "outputs": [],
   "source": [
    "lin_pred_density = ssm_em_lin.compute_predictive_density(x_te_original)\n",
    "hsk_pred_density = ssm_em_hsk.compute_predictive_density(x_te_original)\n",
    "hmm_pred_density = hmm.compute_predictive_density(x_te_original)\n",
    "arimax_pred_density = arimax.compute_predictive_density(x_te_original)"
   ]
  },
  {
   "cell_type": "code",
   "execution_count": null,
   "id": "ecc2e535-ee5b-4d60-87dc-8a84e50934b6",
   "metadata": {},
   "outputs": [],
   "source": [
    "pyplot.rcdefaults()\n",
    "pyplot.rc('font', size = 14)\n",
    "fig = pyplot.figure(figsize=(8,8))\n",
    "gs = fig.add_gridspec(7, 4, hspace=0)\n",
    "T_start = 10\n",
    "T_stop = 1010\n",
    "for dx in range(ssm_em_lin.Dx):\n",
    "    ax1 = fig.add_subplot(gs[dx,:2])\n",
    "    ax1.plot(range(T_start,T_stop), x_te_original[T_start:T_stop, dx], 'k.', ms=1)\n",
    "    lb_arimax = arimax_pred_density.mu[T_start:T_stop, dx] - 1.68 * np.sqrt(arimax_pred_density.Sigma[T_start:T_stop, dx])\n",
    "    ub_arimax = arimax_pred_density.mu[T_start:T_stop, dx] + 1.68 * np.sqrt(arimax_pred_density.Sigma[T_start:T_stop, dx])\n",
    "    ax1.fill_between(range(T_start,T_stop), lb_arimax, ub_arimax, color='C1', facecolor='none', alpha=1, lw=1)\n",
    "    lb_lin = lin_pred_density.mu[T_start:T_stop, dx] - 1.68 * np.sqrt(lin_pred_density.Sigma[T_start:T_stop, dx, dx])\n",
    "    ub_lin = lin_pred_density.mu[T_start:T_stop, dx] + 1.68 * np.sqrt(lin_pred_density.Sigma[T_start:T_stop, dx, dx])\n",
    "    ax1.fill_between(range(T_start,T_stop), lb_lin, ub_lin, color='C0', alpha=.4, lw=0)\n",
    "    lb_hmm = hmm_pred_density.mu[T_start:T_stop, dx] - 1.68 * np.sqrt(hmm_pred_density.Sigma[T_start:T_stop, dx])\n",
    "    ub_hmm = hmm_pred_density.mu[T_start:T_stop, dx] + 1.68 * np.sqrt(hmm_pred_density.Sigma[T_start:T_stop, dx])\n",
    "    ax1.fill_between(range(T_start,T_stop), lb_hmm, ub_hmm, color='C2', facecolor='none', alpha=.8, lw=1)\n",
    "    lb_hsk = hsk_pred_density.mu[T_start:T_stop, dx] - 1.68 * np.sqrt(hsk_pred_density.Sigma[T_start:T_stop, dx, dx])\n",
    "    ub_hsk = hsk_pred_density.mu[T_start:T_stop, dx] + 1.68 * np.sqrt(hsk_pred_density.Sigma[T_start:T_stop, dx, dx])\n",
    "    ax1.fill_between(range(T_start,T_stop), lb_hsk, ub_hsk, color='C3', alpha=.4, lw=0)\n",
    "    ax1.set_xlim([T_start,T_stop])\n",
    "    ax1.set_xticks([])\n",
    "    ax1.set_yticks([])\n",
    "    ax1.set_ylabel('$x_%d$' %(dx+1))\n",
    "    \n",
    "    ax2 = fig.add_subplot(gs[dx,2])\n",
    "    hsk_cdf = np.sort(scipy.stats.norm.cdf((x_te_original[:,dx] - hsk_pred_density.mu[:,dx]) / np.sqrt(hsk_pred_density.Sigma[:,dx,dx])))\n",
    "    lin_cdf = np.sort(scipy.stats.norm.cdf((x_te_original[:,dx] - lin_pred_density.mu[:,dx]) / np.sqrt(lin_pred_density.Sigma[:,dx,dx])))\n",
    "    hmm_cdf = np.sort(scipy.stats.norm.cdf((x_te_original[:,dx] - hmm_pred_density.mu[:,dx]) / np.sqrt(hmm_pred_density.Sigma[:,dx])))\n",
    "    arimax_cdf = np.sort(scipy.stats.norm.cdf((x_te_original[:,dx] - arimax_pred_density.mu[:,dx]) / np.sqrt(arimax_pred_density.Sigma[:,dx])))\n",
    "    ax2.plot(np.linspace(0,1,x_te_original.shape[0]), lin_cdf, color='C0', alpha=.7, lw=2)\n",
    "    ax2.plot(np.linspace(0,1,x_te_original.shape[0]), hmm_cdf, color='C2', alpha=.7, lw=2)\n",
    "    ax2.plot(np.linspace(0,1,x_te_original.shape[0]), hsk_cdf, color='C3', alpha=1)\n",
    "    ax2.plot(np.linspace(0,1,x_te_original.shape[0]), arimax_cdf, color='C1', alpha=.7)\n",
    "    ax2.plot([0,1], [0,1], 'k--', lw=1., alpha=.5)\n",
    "    ax2.set_xlim([0,1])\n",
    "    ax2.set_ylim([0,1])\n",
    "    ax2.set_xticks([])\n",
    "    ax2.set_yticks([0,1])\n",
    "    if dx == 0:\n",
    "        ax2.set_yticklabels(labels=['','1'], fontsize=12)\n",
    "    else:\n",
    "        ax2.set_yticklabels(labels=['','0\\n 1'], fontsize=12)\n",
    "    \n",
    "    ax3 = fig.add_subplot(gs[dx,3])\n",
    "    ax3.plot(np.linspace(0,1,x_te_original.shape[0]), 100 * (lin_cdf - np.linspace(0,1,x_te_original.shape[0])), color='C0', alpha=.7, lw=2)\n",
    "    ax3.plot(np.linspace(0,1,x_te_original.shape[0]), 100 * (hmm_cdf - np.linspace(0,1,x_te_original.shape[0])), color='C2', alpha=.7, lw=2)\n",
    "    ax3.plot(np.linspace(0,1,x_te_original.shape[0]), 100 * (arimax_cdf - np.linspace(0,1,x_te_original.shape[0])), color='C1', alpha=.7, lw=2)\n",
    "    ax3.plot(np.linspace(0,1,x_te_original.shape[0]), 100 * (hsk_cdf - np.linspace(0,1,x_te_original.shape[0])), color='C3')\n",
    "    ax3.plot([0,1], [0,0], 'k--', lw=1., alpha=.5)\n",
    "    ax3.set_xlim([0,1])\n",
    "    #ax2.set_ylim([0,1])\n",
    "    ax3.set_xticks([])\n",
    "    ax3.set_yticks([-5,5])\n",
    "    ax3.set_ylim([-7,7])\n",
    "    if dx == 3:\n",
    "        ax2.set_ylabel('Model quantile')\n",
    "        ax3.set_ylabel('$\\Delta$ quantile [%]')\n",
    "    if dx == 0:\n",
    "        ax1.set_title('(a)', loc='left', fontweight='bold', x=-.2)\n",
    "        ax2.set_title('(b)', loc='left', fontweight='bold', x=-.5)\n",
    "        ax3.set_title('(c)', loc='left', fontweight='bold', x=-.5)\n",
    "\n",
    "ax1.set_xlabel('Timesteps')\n",
    "ax2.set_xticks([0,1])\n",
    "ax3.set_xticks([0,1])\n",
    "ax2.set_xticks([0,1])\n",
    "ax2.set_xlabel('Data quantile')\n",
    "ax2.set_yticklabels(labels=['0','0\\n 1'], fontsize=12)\n",
    "ax3.set_xlabel('Data quantile')\n",
    "pyplot.tight_layout()\n",
    "fig.savefig('../../figs/aistats22/synthetic.pdf')\n",
    "fig.savefig('../../figs/aistats22/synthetic.png', dpi=600)"
   ]
  },
  {
   "cell_type": "code",
   "execution_count": null,
   "id": "8140d6e8-0ec6-4f92-94f6-06138746f9e3",
   "metadata": {},
   "outputs": [],
   "source": [
    "ssm_em_hsk = load_model(model_name='ssm_em_hsk_synthetic', path='../../data/models/')\n",
    "ssm_em_lin = load_model(model_name='ssm_em_lin_synthetic', path='../../data/models/')"
   ]
  },
  {
   "cell_type": "code",
   "execution_count": null,
   "id": "955a82f9-97bc-4c8b-9217-821b7d7525f4",
   "metadata": {},
   "outputs": [],
   "source": [
    "x_te = np.copy(x_te_original)\n",
    "x_te[1510:2010,0] = np.linspace(0,6,500) + np.random.randn(*x_te[1510:2010,0].shape) + 1\n",
    "#x_te[1710:2010,2:] -= \n",
    "x_te[810:1210,1] = np.nan\n",
    "x_te[1710:2010,2:] = np.nan#np.linspace(0,10,200)[:,None] + np.random.randn(*x_te[710:910,2:].shape) "
   ]
  },
  {
   "cell_type": "code",
   "execution_count": null,
   "id": "970ff359-b65f-42b4-a55c-b9d5e66c39b3",
   "metadata": {},
   "outputs": [],
   "source": [
    "pred_hsk = ssm_em_hsk.compute_predictive_density(x_te)\n",
    "pred_lin = ssm_em_lin.compute_predictive_density(x_te)"
   ]
  },
  {
   "cell_type": "code",
   "execution_count": null,
   "id": "47b972e7-4706-4b76-80e8-a3ad652d28a3",
   "metadata": {},
   "outputs": [],
   "source": [
    "pyplot.rcdefaults()\n",
    "pyplot.rc('font', size = 14)\n",
    "mu_hsk, std_hsk = pred_hsk.mu, np.sqrt(pred_hsk.Sigma.diagonal(axis1=1, axis2=2))\n",
    "mu_lin, std_lin = pred_lin.mu, np.sqrt(pred_lin.Sigma.diagonal(axis1=1, axis2=2))\n",
    "\n",
    "start_idx, stop_idx, step = 10, 2010, 2\n",
    "num_steps = len(np.arange(start_idx, stop_idx, step))\n",
    "fig = pyplot.figure(figsize=(8,4))\n",
    "for idx in range(2):\n",
    "    ax = fig.add_subplot(2,1,idx+1)\n",
    "    pyplot.plot(x_te_original[start_idx:stop_idx:step,idx], '.', ms=2, color=[.8,.8,.8])\n",
    "    pyplot.plot(x_te[start_idx:stop_idx:step,idx], '.', ms=3, color='k')\n",
    "    pyplot.fill_between(range(num_steps), mu_hsk[start_idx:stop_idx:step,idx] - 1.68 * std_hsk[start_idx:stop_idx:step,idx], mu_hsk[start_idx:stop_idx:step,idx] + 1.69 * std_hsk[start_idx:stop_idx:step,idx], color='C3', alpha=.4, zorder=9, label='heterosc.')\n",
    "    pyplot.fill_between(range(num_steps), mu_lin[start_idx:stop_idx:step,idx] - 1.68 * std_lin[10:1010,idx], mu_lin[start_idx:stop_idx:step,idx] + 1.68 * std_lin[start_idx:stop_idx:step,idx], color='C0', alpha=.4, zorder=7, label='homosc.')\n",
    "    pyplot.xlim([0,num_steps])\n",
    "    pyplot.xticks([], labels=[])\n",
    "    pyplot.yticks([])\n",
    "    pyplot.ylim([-4,6])\n",
    "    pyplot.fill_between([400,600], -4, 6, facecolor='gray', alpha=.1)\n",
    "    pyplot.fill_between([750,1000], -4, 6, facecolor='gray', alpha=.1)\n",
    "    pyplot.ylabel('$x_%d$' %(idx+1))\n",
    "pyplot.xticks([], labels=[])\n",
    "pyplot.legend(frameon=False, fontsize=10)\n",
    "idx = 2\n",
    "pyplot.xlabel('Time [a.u.]')\n",
    "\n",
    "#pyplot.plot(mu_hsk[:1000,idx], color='C0')\n",
    "#pyplot.plot(mu_hsk[:1000,idx], color='C3')\n",
    "fig.tight_layout()\n",
    "fig.savefig('../../figs/aistats22/motivational_figure.pdf')\n",
    "fig.savefig('../../figs/aistats22/motivational_figure.png', dpi=600)"
   ]
  },
  {
   "cell_type": "code",
   "execution_count": null,
   "id": "aee6e32b-ce64-4691-8246-200ea0195395",
   "metadata": {},
   "outputs": [],
   "source": [
    "seed = 0\n",
    "reset_seeds(seed)\n",
    "x_tr, x_va, x_te, x_te_na, s_tr_x = load_synthetic_e1()"
   ]
  },
  {
   "cell_type": "code",
   "execution_count": null,
   "id": "bef7362b-52d5-49d8-a997-567bdf40b825",
   "metadata": {},
   "outputs": [],
   "source": [
    "smooth_window = 20\n",
    "dz, du = observation_models.recommend_dims(x_tr, smooth_window=20)"
   ]
  },
  {
   "cell_type": "code",
   "execution_count": null,
   "id": "460e84a3-1a60-4aa0-8021-2c222cf502c5",
   "metadata": {},
   "outputs": [],
   "source": [
    "dz, du"
   ]
  },
  {
   "cell_type": "code",
   "execution_count": null,
   "id": "2c12c0c6-368f-422f-b6b7-824fed05800b",
   "metadata": {},
   "outputs": [],
   "source": [
    "seed = 0\n",
    "reset_seeds(seed)\n",
    "x_tr, x_va, x_te, x_te_na, s_tr_x = load_synthetic_e1()\n",
    "ssm_em_hsk = train_linear_hsk_SSM(x_tr, dz, du, init_w_pca=True, smooth_window=smooth_window)"
   ]
  },
  {
   "cell_type": "code",
   "execution_count": null,
   "id": "38e59c1a-0432-47aa-b997-d7e995e50b95",
   "metadata": {},
   "outputs": [],
   "source": [
    "ssm_em_hsk.save(model_name='ssm_em_hsk_synthetic', path='../../data/models/')"
   ]
  },
  {
   "cell_type": "code",
   "execution_count": null,
   "id": "1060100a-8c2d-4225-8b30-21e796c3b9b6",
   "metadata": {},
   "outputs": [],
   "source": [
    "seed = 0\n",
    "reset_seeds(seed)\n",
    "x_tr, x_va, x_te, x_te_na, s_tr_x = load_synthetic_e1()\n",
    "ssm_em_lin = train_linear_SSM(x_tr, dz, init_w_pca=True, smooth_window=smooth_window)"
   ]
  },
  {
   "cell_type": "code",
   "execution_count": null,
   "id": "9c309302-d5b9-43e9-8dcd-e999236dde36",
   "metadata": {},
   "outputs": [],
   "source": [
    "ssm_em_lin.save(model_name='ssm_em_lin_synthetic', path='../../data/models/')"
   ]
  },
  {
   "cell_type": "code",
   "execution_count": null,
   "id": "8b7577d8-1aff-4367-8eeb-9290c68ee280",
   "metadata": {},
   "outputs": [],
   "source": [
    "ssm_em_lin.compute_predictive_log_likelihood(x_te)"
   ]
  },
  {
   "cell_type": "code",
   "execution_count": null,
   "id": "b06b6c4e-f8a6-4d07-b7f9-60da41ed863c",
   "metadata": {},
   "outputs": [],
   "source": [
    "ssm_em_hsk.compute_predictive_log_likelihood(x_te)"
   ]
  },
  {
   "cell_type": "code",
   "execution_count": null,
   "id": "3c4ddaa3-af91-426a-9c63-35d12f35e242",
   "metadata": {},
   "outputs": [],
   "source": []
  },
  {
   "cell_type": "code",
   "execution_count": null,
   "id": "0a537a8c-7de8-4559-a7a1-878feb386da5",
   "metadata": {},
   "outputs": [],
   "source": [
    "mu_hsk, std_hsk = pred_hsk.mu, np.sqrt(pred_hsk.Sigma.diagonal(axis1=1, axis2=2))\n",
    "mu_lin, std_lin = pred_lin.mu, np.sqrt(pred_lin.Sigma.diagonal(axis1=1, axis2=2))\n",
    "\n",
    "idx = 1\n",
    "fig = pyplot.figure()\n",
    "ax = fig.add_subplot(111)\n",
    "pyplot.plot(x_te[:1000,idx], 'k')\n",
    "pyplot.plot(mu_hsk[:1000,idx], color='C1')\n",
    "pyplot.fill_between(range(1000), mu_hsk[:1000,idx] - 1.68 * std_hsk[:1000,idx], mu_hsk[:1000,idx] + 1.68 * std_hsk[:1000,idx], color='C0', alpha=.5, zorder=9)\n",
    "pyplot.fill_between(range(1000), mu_lin[:1000,idx] - 1.68 * std_lin[:1000,idx], mu_lin[:1000,idx] + 1.68 * std_lin[:1000,idx], color='C3', alpha=.5, zorder=7)"
   ]
  },
  {
   "cell_type": "code",
   "execution_count": null,
   "id": "744a277f-51a6-4282-814f-6031b7980f54",
   "metadata": {},
   "outputs": [],
   "source": [
    "import matplotlib as mpl\n",
    "mpl.style.use('seaborn')"
   ]
  },
  {
   "cell_type": "code",
   "execution_count": null,
   "id": "ea706adb-295e-44a4-b23c-a384bcd0adc4",
   "metadata": {},
   "outputs": [],
   "source": [
    "mpl.style.available"
   ]
  },
  {
   "cell_type": "code",
   "execution_count": null,
   "id": "28cfe1f1-5dab-4e67-a9c5-15153183f424",
   "metadata": {},
   "outputs": [],
   "source": [
    "del pyplot"
   ]
  },
  {
   "cell_type": "code",
   "execution_count": null,
   "id": "02e56bd9-294d-4787-8ac9-1ec729caebfb",
   "metadata": {},
   "outputs": [],
   "source": [
    "from matplotlib import pyplot"
   ]
  },
  {
   "cell_type": "code",
   "execution_count": null,
   "id": "fc94e2fe-767a-4198-8f1e-e9b63df98932",
   "metadata": {},
   "outputs": [],
   "source": [
    "pyplot.style.reload_library()"
   ]
  },
  {
   "cell_type": "code",
   "execution_count": null,
   "id": "a0de9e24-db4f-4cc0-afa6-b819b799eaeb",
   "metadata": {},
   "outputs": [],
   "source": [
    "import pickle"
   ]
  },
  {
   "cell_type": "code",
   "execution_count": null,
   "id": "780dc3ff-4571-4f98-9d79-c6a9b2423ee8",
   "metadata": {},
   "outputs": [],
   "source": [
    "pickle.dump(ssm_em_lin, open('../../data/models/%s_%s.p' %('ssm_em_lin', 'synthetic'), 'wb'))"
   ]
  },
  {
   "cell_type": "code",
   "execution_count": null,
   "id": "91025ab8-7de5-4c60-9303-82149d07e5a1",
   "metadata": {},
   "outputs": [],
   "source": [
    "pickle.dump(ssm_em_hsk, open('../../data/models/%s_%s.p' %('ssm_em_hsk', 'synthetic'), 'wb'))"
   ]
  },
  {
   "cell_type": "code",
   "execution_count": null,
   "id": "41f3314f-2fc9-4606-862a-ea81f215695c",
   "metadata": {},
   "outputs": [],
   "source": [
    "pyplot.rcdefaults()"
   ]
  },
  {
   "cell_type": "code",
   "execution_count": null,
   "id": "fb77fff8-8fc8-48ff-a180-c364aa4c2e72",
   "metadata": {},
   "outputs": [],
   "source": []
  }
 ],
 "metadata": {
  "kernelspec": {
   "display_name": "Python 3 (ipykernel)",
   "language": "python",
   "name": "python3"
  },
  "language_info": {
   "codemirror_mode": {
    "name": "ipython",
    "version": 3
   },
   "file_extension": ".py",
   "mimetype": "text/x-python",
   "name": "python",
   "nbconvert_exporter": "python",
   "pygments_lexer": "ipython3",
   "version": "3.9.7"
  }
 },
 "nbformat": 4,
 "nbformat_minor": 5
}
