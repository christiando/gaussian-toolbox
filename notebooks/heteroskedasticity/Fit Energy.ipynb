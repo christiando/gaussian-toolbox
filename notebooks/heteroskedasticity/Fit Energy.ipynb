{
 "cells": [
  {
   "cell_type": "code",
   "execution_count": null,
   "id": "ab98ac0b-fd08-4e65-8c70-9d49055e0c68",
   "metadata": {},
   "outputs": [],
   "source": [
    "import os\n",
    "import sys\n",
    "import torch\n",
    "import random\n",
    "import argparse\n",
    "import numpy as np\n",
    "import scipy\n",
    "from matplotlib import pyplot\n",
    "import numpy\n",
    "\n",
    "sys.path.append('../../timeseries/')\n",
    "sys.path.append('../../timeseries/experiments_scripts/')\n",
    "sys.path.append('../../src/')\n",
    "\n",
    "import factor\n",
    "import state_models\n",
    "import observation_models\n",
    "from ssm_em import StateSpaceEM\n",
    "from nonlinear_ssm import NonLinearStateSpace_EM\n",
    "\n",
    "from scipy.stats import norm\n",
    "from scipy.stats import zscore\n",
    "from ssm_em import StateSpaceEM, load_model\n",
    "from sklearn.covariance import EmpiricalCovariance\n",
    "from sklearn.gaussian_process import GaussianProcessRegressor\n",
    "from sklearn.model_selection import train_test_split\n",
    "from sklearn.preprocessing import StandardScaler\n",
    "from sklearn.metrics import mean_absolute_percentage_error as mape\n",
    "from sklearn.gaussian_process.kernels import ExpSineSquared, RBF\n",
    "\n",
    "from exp_utils import *\n",
    "import ssm\n",
    "import statsmodels.api as sm\n",
    "\n",
    "'''\n",
    "sys.path.append('../../timeseries/kalman-jax-master')\n",
    "from jax.experimental import optimizers\n",
    "#from sde_gp import SDEGP\n",
    "import approximate_inference as approx_inf\n",
    "import priors\n",
    "import likelihoods\n",
    "from utils import softplus_list, plot\n",
    "'''\n",
    "\n",
    "\n",
    "class PredictiveDensity:\n",
    "    def __init__(self, mu, sigma):\n",
    "        if mu.ndim == 1:\n",
    "            self.mu = np.array([mu]).T\n",
    "        else:\n",
    "            self.mu = np.array(mu)\n",
    "        if sigma.ndim == 1:\n",
    "            self.Sigma = np.array([sigma]).T\n",
    "        else:    \n",
    "            self.Sigma = np.array(sigma)\n",
    "            \n",
    "def reset_seeds(seed):\n",
    "    random.seed(seed)\n",
    "    np.random.seed(seed)\n",
    "    torch.manual_seed(seed)\n",
    "    \n",
    "def train_linear_SSM(x_tr, dz, init_w_pca=False, smooth_window=20):\n",
    "\n",
    "    dx = x_tr.shape[1]\n",
    "    sm = state_models.LinearStateModel(dz)\n",
    "    om = observation_models.LinearObservationModel(dx, dz, noise_x=1.)\n",
    "    \n",
    "    if init_w_pca == 1:\n",
    "        om.pca_init(x_tr, smooth_window=smooth_window)\n",
    "        \n",
    "    ssm_em_lin = StateSpaceEM(x_tr, observation_model=om, state_model=sm)\n",
    "    ssm_em_lin.run()\n",
    "    \n",
    "    return ssm_em_lin\n",
    "\n",
    "\n",
    "def train_linear_hsk_SSM(x_tr, dz, du, init_w_pca=False, smooth_window=20):\n",
    "\n",
    "    dx = x_tr.shape[1]\n",
    "    sm_hs = state_models.LinearStateModel(dz)\n",
    "    om_hs = observation_models.HCCovObservationModel(dx, dz, du)\n",
    "    if init_w_pca == 1:\n",
    "        om_hs.pca_init(x_tr, smooth_window=20)\n",
    "    hs_model = StateSpaceEM(x_tr, observation_model=om_hs, state_model=sm_hs, conv_crit=1e-4)\n",
    "    hs_model.run()\n",
    "    \n",
    "    return hs_model\n",
    "\n",
    "def train_nonlinear_SSM(x_tr, **kwargs):\n",
    "    '''\n",
    "    to be updated; currently doesn't run\n",
    "    LSEMStateModel -> sm_hs = state_models.LSEMStateModel(args.dz,args.dk# + param for basis func)\n",
    "    '''\n",
    "    nonlin_model = NonLinearStateSpace_EM(x_tr,args.dz, args.dk)\n",
    "    nonlin_model.run()\n",
    "    \n",
    "    return nonlin_model\n",
    "\n",
    "class HMM_class:\n",
    "    \n",
    "    def __init__(self, x_tr, K, obs_model='gaussian'):\n",
    "        self.x_tr = x_tr\n",
    "        self.D = x_tr.shape[1]\n",
    "        self.K = K\n",
    "        self.obs_model = obs_model\n",
    "        self.model = self._train()\n",
    "        \n",
    "    def _train(self):\n",
    "        model = ssm.HMM(self.K, self.D, observations=self.obs_model)\n",
    "        model.fit(self.x_tr, method=\"em\")\n",
    "        return model\n",
    "\n",
    "    def compute_predictive_log_likelihood(self, x_te, ignore_init_samples=0):\n",
    "        mask = np.logical_not(np.isnan(x_te))\n",
    "        x_te_not_nan = np.zeros(x_te.shape)\n",
    "        x_te_not_nan[mask] = x_te[mask]\n",
    "        states = self.model.filter(x_te_not_nan, mask=mask)\n",
    "        llk_states = numpy.empty(states.shape)\n",
    "        for k in range(self.K):\n",
    "            mu, Sigma  = self.model.observations.mus[k], self.model.observations.Sigmas[k]\n",
    "            llk_states[:,k] = scipy.stats.multivariate_normal(mu, Sigma).logpdf(x_te)\n",
    "        llk =  numpy.sum(scipy.special.logsumexp(llk_states[ignore_init_samples:], axis=1, b=states[ignore_init_samples:])[:])\n",
    "        return llk\n",
    "    \n",
    "    def compute_predictive_density(self, x_te):\n",
    "        mask = np.logical_not(np.isnan(x_te))\n",
    "        x_te_not_nan = np.zeros(x_te.shape)\n",
    "        x_te_not_nan[mask] = x_te[mask]\n",
    "        states = self.model.filter(x_te_not_nan, mask=mask)\n",
    "        if self.obs_model == 'gaussian' or  self.obs_model == 'studentst':\n",
    "            mean_te = np.dot(states, self.model.observations.mus)\n",
    "        elif self.obs_model == 'ar':\n",
    "            mean_te = np.sum(states[:,:,None] * (np.sum(self.model.observations.As[None] * x_te[:,None, None], axis=3) + self.model.observations.bs), axis=1)\n",
    "        std_te = np.dot(states, np.sqrt(self.model.observations.Sigmas.diagonal(axis1=1, axis2=2)))\n",
    "        print(mean_te.shape, std_te.shape)\n",
    "        return PredictiveDensity(mean_te, std_te ** 2)\n",
    "\n",
    "def train_HMM(x_tr, num_states, **kwargs):\n",
    "    return HMM_class(x_tr, num_states)\n",
    "\n",
    "\n",
    "class ARIMAX:\n",
    "    \n",
    "    def __init__(self, x_tr, p, q):\n",
    "        self.x_tr = x_tr\n",
    "        self.p = p\n",
    "        self.q = q\n",
    "        self._train()\n",
    "        \n",
    "    def _train(self):\n",
    "        if x_tr.shape[1] == 1:\n",
    "            self.mod = sm.tsa.statespace.SARIMAX(x_tr, trend='c', order=(self.p,0,self.q))\n",
    "            self.fit_res = self.mod.fit(disp=False)\n",
    "        else:\n",
    "            self.mod = sm.tsa.VARMAX(x_tr, trend='c', order=(self.p,self.q))\n",
    "            self.fit_res = self.mod.fit(disp=False, max_iter=1000)\n",
    "            \n",
    "    def compute_predictive_density(self, x_te):\n",
    "        mod_te = self.mod.clone(x_te)\n",
    "        res = mod_te.filter(self.fit_res.params)\n",
    "        predict = res.get_prediction()\n",
    "        predict_ci = predict.conf_int(alpha=1.-.68)\n",
    "        mu = predict.predicted_mean\n",
    "        if x_te.shape[1] == 1:\n",
    "            std = predict.predicted_mean - predict_ci[:,0]\n",
    "        else:\n",
    "            std = predict.predicted_mean - predict_ci[:,:x_te.shape[1]]\n",
    "        return PredictiveDensity(mu, std ** 2)\n",
    "            \n",
    "    def compute_predictive_log_likelihood(self, x_te, ignore_init_samples=0):  \n",
    "        mod_te = self.mod.clone(x_te[ignore_init_samples:])\n",
    "        return mod_te.loglike(self.fit_res.params)\n",
    "    \n",
    "def train_arimax(x_tr, p, q):\n",
    "    \n",
    "    arimax_model = ARIMAX(x_tr, p, q)\n",
    "    return arimax_model"
   ]
  },
  {
   "cell_type": "code",
   "execution_count": null,
   "id": "6ce3fec6-2c88-4152-9165-11a14431a5e3",
   "metadata": {},
   "outputs": [],
   "source": [
    "seed = 0\n",
    "reset_seeds(seed)\n",
    "K = 6\n",
    "x_tr, x_va, x_te, x_te_na, s_tr_x = load_energy_e1(train_ratio=.5)\n",
    "hmm = train_HMM(x_tr, K)"
   ]
  },
  {
   "cell_type": "code",
   "execution_count": null,
   "id": "972fa34c-e7c1-490a-a8ba-28cb02f69612",
   "metadata": {},
   "outputs": [],
   "source": [
    "hmm.compute_predictive_log_likelihood(x_va, ignore_init_samples=10)"
   ]
  },
  {
   "cell_type": "code",
   "execution_count": null,
   "id": "f6d0a439-830f-47fe-9e8d-c8fc7a216f6c",
   "metadata": {},
   "outputs": [],
   "source": [
    "seed = 0\n",
    "reset_seeds(seed)\n",
    "dz = 3\n",
    "x_tr, x_va, x_te, x_te_na, s_tr_x = load_energy_e1(train_ratio=.5)\n",
    "ssm_em_lin = train_linear_SSM(x_tr, dz, init_w_pca=True)"
   ]
  },
  {
   "cell_type": "code",
   "execution_count": null,
   "id": "19e7c3f5-d11f-49b0-959f-6a4c91189c6d",
   "metadata": {},
   "outputs": [],
   "source": [
    "ssm_em_lin.compute_predictive_log_likelihood(x_va, ignore_init_samples=10)"
   ]
  },
  {
   "cell_type": "code",
   "execution_count": null,
   "id": "13c111dd-b583-4b32-a2f8-59e53f6ac137",
   "metadata": {},
   "outputs": [],
   "source": [
    "seed = 0\n",
    "reset_seeds(seed)\n",
    "dz, du = 3, 1\n",
    "x_tr, x_va, x_te, x_te_na, s_tr_x = load_energy_e1(train_ratio=.5)\n",
    "ssm_em_hsk = train_linear_hsk_SSM(x_tr, dz, du, init_w_pca=True)"
   ]
  },
  {
   "cell_type": "code",
   "execution_count": null,
   "id": "bae11686-78ba-4467-ac08-f70428f8da9a",
   "metadata": {},
   "outputs": [],
   "source": [
    "x_te_nan = numpy.copy(x_te)\n",
    "x_te_nan[:,0] = numpy.nan"
   ]
  },
  {
   "cell_type": "code",
   "execution_count": null,
   "id": "4072d747-24d8-4a6b-b8ea-835b668b6f72",
   "metadata": {},
   "outputs": [],
   "source": [
    "hmm_pred_density = hmm.compute_predictive_density(x_te_nan)\n",
    "hsk_pred_density = ssm_em_hsk.compute_predictive_density(x_te_nan)\n",
    "lin_pred_density = ssm_em_lin.compute_predictive_density(x_te_nan)"
   ]
  },
  {
   "cell_type": "code",
   "execution_count": null,
   "id": "c706be85-43d0-4d70-ac37-d0b4449b45a8",
   "metadata": {},
   "outputs": [],
   "source": [
    "softp = lambda x: numpy.logaddexp(0,x)\n",
    "x_te_rescaled = softp(s_tr_x.inverse_transform(x_te))\n",
    "hmm_lb, hmm_ub = softp(s_tr_x.inverse_transform(hmm_pred_density.mu - 1.68 * numpy.sqrt(hmm_pred_density.Sigma))[:,0]), softp(s_tr_x.inverse_transform(hmm_pred_density.mu + 1.68 * numpy.sqrt(hmm_pred_density.Sigma))[:,0])\n",
    "lin_lb, lin_ub = softp(s_tr_x.inverse_transform(lin_pred_density.mu - 1.68 * numpy.sqrt(lin_pred_density.Sigma.diagonal(axis1=1,axis2=2)))[:,0]), softp(s_tr_x.inverse_transform(lin_pred_density.mu + 1.68 * numpy.sqrt(lin_pred_density.Sigma.diagonal(axis1=1,axis2=2)))[:,0])\n",
    "hsk_lb, hsk_ub = softp(s_tr_x.inverse_transform(hsk_pred_density.mu - 1.68 * numpy.sqrt(hsk_pred_density.Sigma.diagonal(axis1=1,axis2=2)))[:,0]), softp(s_tr_x.inverse_transform(hsk_pred_density.mu + 1.68 * numpy.sqrt(hsk_pred_density.Sigma.diagonal(axis1=1,axis2=2)))[:,0])"
   ]
  },
  {
   "cell_type": "code",
   "execution_count": null,
   "id": "6cbf5dbe-e32d-453f-a375-3156e1483b8c",
   "metadata": {},
   "outputs": [],
   "source": [
    "from timeseries_data import load_opsd_data\n",
    "raw_data = load_opsd_data().iloc[-x_te.shape[0]:]\n",
    "raw_data"
   ]
  },
  {
   "cell_type": "code",
   "execution_count": null,
   "id": "1f09cd6d-9872-4127-91e1-7bbfe0846a96",
   "metadata": {},
   "outputs": [],
   "source": [
    "date = raw_data.index\n",
    "tick_idx = numpy.where(date.is_month_start)[0]"
   ]
  },
  {
   "cell_type": "code",
   "execution_count": null,
   "id": "c1274806-125c-4637-b259-bd8daf72f555",
   "metadata": {},
   "outputs": [],
   "source": [
    "tick_labels = []\n",
    "for i, idx in enumerate(tick_idx):\n",
    "    label = date[idx].month_name()[:3] + str(date[idx].year)[-2:]\n",
    "    tick_labels.append(label)\n",
    "tick_labels"
   ]
  },
  {
   "cell_type": "code",
   "execution_count": null,
   "id": "e251dba1-500b-45f8-acd9-92d1b2fbed4d",
   "metadata": {},
   "outputs": [],
   "source": [
    "pyplot.rcdefaults()\n",
    "pyplot.rc('font', size = 14)\n",
    "fig = pyplot.figure(figsize=(16,3))\n",
    "gs = fig.add_gridspec(1, 5)\n",
    "#ax1 = fig.add_subplot(gs[:3])\n",
    "ax1 = fig.add_subplot(111)\n",
    "ax1.fill_between(range(hmm_lb.shape[0]), hmm_lb, hmm_ub, color='C2', facecolor='none', alpha=.8, lw=1)\n",
    "ax1.fill_between(range(lin_lb.shape[0]), lin_lb, lin_ub, color='C0', alpha=.4)\n",
    "ax1.fill_between(range(hsk_lb.shape[0]), hsk_lb, hsk_ub, color='C3', alpha=.4)\n",
    "ax1.plot(range(hmm_lb.shape[0]), raw_data['DE_solar_generation_actual'], color=[.4,.4,.4], marker='.', lw=0)\n",
    "ax1.set_xticks(tick_idx[::2])\n",
    "ax1.set_xticklabels(tick_labels[::2] , rotation=45)\n",
    "ax1.set_xlim([0,x_te.shape[0]-1])\n",
    "ax1.set_ylim([0,12000])\n",
    "ax1.set_yticks([0,5000,10000])\n",
    "ax1.set_yticklabels([0,5,10], fontsize=10)\n",
    "ax1.set_ylabel('Solar generation DE [GW]')\n",
    "\"\"\"\n",
    "ax2 = fig.add_subplot(gs[3])\n",
    "dx = 0\n",
    "hsk_cdf = numpy.sort(scipy.stats.norm.cdf((x_te[10:,dx] - hsk_pred_density.mu[10:,dx]) / numpy.sqrt(hsk_pred_density.Sigma[10:,dx,dx])))\n",
    "lin_cdf = numpy.sort(scipy.stats.norm.cdf((x_te[10:,dx] - lin_pred_density.mu[10:,dx]) / numpy.sqrt(lin_pred_density.Sigma[10:,dx,dx])))\n",
    "hmm_cdf = numpy.sort(scipy.stats.norm.cdf((x_te[10:,dx] - hmm_pred_density.mu[10:,dx]) / numpy.sqrt(hmm_pred_density.Sigma[10:,dx])))\n",
    "ax2.plot(numpy.linspace(0,1,x_te.shape[0]-10), lin_cdf, color='C0', alpha=.7, lw=2)\n",
    "ax2.plot(numpy.linspace(0,1,x_te.shape[0]-10), hmm_cdf, color='C2', alpha=.7, lw=2)\n",
    "ax2.plot(numpy.linspace(0,1,x_te.shape[0]-10), hsk_cdf, color='C3', alpha=1)\n",
    "ax2.plot([0,1], [0,1], 'k--', lw=1., alpha=.5)\n",
    "\n",
    "ax3 = fig.add_subplot(gs[4])\n",
    "ax3.plot(numpy.linspace(0,1,x_te.shape[0]-10), 100 * (lin_cdf - numpy.linspace(0,1,x_te.shape[0]-10)), color='C0', alpha=.7, lw=2)\n",
    "ax3.plot(numpy.linspace(0,1,x_te.shape[0]-10), 100 * (hmm_cdf - numpy.linspace(0,1,x_te.shape[0]-10)), color='C2', alpha=.7, lw=2)\n",
    "ax3.plot(numpy.linspace(0,1,x_te.shape[0]-10), 100 * (hsk_cdf - numpy.linspace(0,1,x_te.shape[0]-10)), color='C3', alpha=.7, lw=2)\n",
    "ax3.plot([0,1], [0,0], 'k--', lw=1., alpha=.5)\n",
    "\"\"\"\n",
    "pyplot.tight_layout()\n",
    "fig.savefig('../../figs/aistats22/energy_missing.pdf')\n",
    "fig.savefig('../../figs/aistats22/energy_missing.png', dpi=600)"
   ]
  },
  {
   "cell_type": "code",
   "execution_count": null,
   "id": "b5390d15-b2ef-4ac4-9afc-b8ecdd48f637",
   "metadata": {},
   "outputs": [],
   "source": [
    "seed = 0\n",
    "reset_seeds(seed)\n",
    "p, q = 1, 1\n",
    "x_tr, x_va, x_te, x_te_na, s_tr_x = load_energy_e1(train_ratio=.75)\n",
    "arimax = train_arimax(x_tr, p, q)\n",
    "arimax.compute_predictive_log_likelihood(x_te)"
   ]
  },
  {
   "cell_type": "code",
   "execution_count": null,
   "id": "940da8ea-03fb-402a-a1ae-36e482138039",
   "metadata": {},
   "outputs": [],
   "source": [
    "smooth_window = 20\n",
    "dz, du = observation_models.recommend_dims(x_tr, smooth_window=20)"
   ]
  },
  {
   "cell_type": "code",
   "execution_count": null,
   "id": "481605d0-7f97-4f81-b790-6be5f1031deb",
   "metadata": {},
   "outputs": [],
   "source": [
    "seed = 0\n",
    "reset_seeds(seed)\n",
    "x_tr, x_va, x_te, x_te_na, s_tr_x = load_energy_e1()\n",
    "ssm_em_lin = train_linear_SSM(x_tr, dz, init_w_pca=True, smooth_window=smooth_window)\n",
    "ssm_em_lin.save(model_name='ssm_em_lin_energy', path='../../data/models/')"
   ]
  },
  {
   "cell_type": "code",
   "execution_count": null,
   "id": "4274c947-cb38-49de-83d7-381da935fd5c",
   "metadata": {},
   "outputs": [],
   "source": [
    "ssm_em_lin.compute_predictive_log_likelihood(x_te)"
   ]
  },
  {
   "cell_type": "code",
   "execution_count": null,
   "id": "af4eae75-2b5a-4741-bbfe-4865e2b19be3",
   "metadata": {},
   "outputs": [],
   "source": [
    "pred_density = ssm_em_lin.compute_predictive_density(x_te)\n",
    "mu, Sigma = pred_density.mu, pred_density.Sigma\n",
    "llk = 0\n",
    "for i in range(x_te.shape[0]):\n",
    "    llk += scipy.stats.multivariate_normal.logpdf(x_te[i], mu[i], Sigma[i])\n",
    "llk"
   ]
  },
  {
   "cell_type": "code",
   "execution_count": null,
   "id": "fb63b28c-91c2-433a-89d3-2769636b6037",
   "metadata": {},
   "outputs": [],
   "source": [
    "numpy.prod(x_te.shape)"
   ]
  },
  {
   "cell_type": "code",
   "execution_count": null,
   "id": "dc82000b-5e9a-453b-9acc-da6d9da365f8",
   "metadata": {},
   "outputs": [],
   "source": [
    "seed = 0\n",
    "reset_seeds(seed)\n",
    "x_tr, x_va, x_te, x_te_na, s_tr_x = load_energy_e1()\n",
    "ssm_em_hsk = train_linear_hsk_SSM(x_tr, dz, du, init_w_pca=True, smooth_window=smooth_window)\n",
    "ssm_em_hsk.save(model_name='ssm_em_hsk_energy', path='../../data/models/')"
   ]
  },
  {
   "cell_type": "code",
   "execution_count": null,
   "id": "01949abb-c4b9-4629-ac5a-5f3fb3f592e7",
   "metadata": {},
   "outputs": [],
   "source": [
    "ssm_em_hsk = load_model(model_name='ssm_em_hsk_energy', path='../../data/models/')\n",
    "ssm_em_lin = load_model(model_name='ssm_em_lin_energy', path='../../data/models/')"
   ]
  },
  {
   "cell_type": "code",
   "execution_count": null,
   "id": "8b43bd3d-321d-4d68-89f7-ea163c866651",
   "metadata": {},
   "outputs": [],
   "source": [
    "ssm_em_lin.compute_predictive_log_likelihood(x_te)"
   ]
  },
  {
   "cell_type": "code",
   "execution_count": null,
   "id": "e92d883f-ba3a-485d-bbc4-a5a75824558a",
   "metadata": {},
   "outputs": [],
   "source": [
    "ssm_em_hsk.compute_predictive_log_likelihood(x_te)"
   ]
  },
  {
   "cell_type": "code",
   "execution_count": null,
   "id": "473275d3-7c44-48df-8f4e-05374a539f4e",
   "metadata": {},
   "outputs": [],
   "source": [
    "pred_hsk = ssm_em_hsk.compute_predictive_density(x_te)\n",
    "pred_lin = ssm_em_lin.compute_predictive_density(x_te)"
   ]
  },
  {
   "cell_type": "code",
   "execution_count": null,
   "id": "f6b88127-3d54-435c-a2fb-4ca7924b262c",
   "metadata": {},
   "outputs": [],
   "source": []
  },
  {
   "cell_type": "code",
   "execution_count": null,
   "id": "5e289e2f-afc8-4a65-b391-a062221de5c5",
   "metadata": {},
   "outputs": [],
   "source": [
    "pyplot.rcdefaults()\n",
    "mu_hsk, std_hsk = pred_hsk.mu, numpy.sqrt(pred_hsk.Sigma.diagonal(axis1=1, axis2=2))\n",
    "mu_lin, std_lin = pred_lin.mu, numpy.sqrt(pred_lin.Sigma.diagonal(axis1=1, axis2=2))\n",
    "\n",
    "fig = pyplot.figure()\n",
    "for idx in range(3):\n",
    "    ax = fig.add_subplot(3,1,idx+1)\n",
    "    pyplot.plot(x_te[10:1010,idx], 'k.', ms=2)\n",
    "    pyplot.fill_between(range(900), mu_hsk[10:910,idx] - 1.68 * std_hsk[10:910,idx], mu_hsk[10:910,idx] + 1.68 * std_hsk[10:910,idx], color='C3', alpha=.4, zorder=9, label='heterosk.')\n",
    "    pyplot.fill_between(range(900), mu_lin[10:910,idx] - 1.68 * std_lin[10:910,idx], mu_lin[10:910,idx] + 1.68 * std_lin[10:910,idx], color='C0', alpha=.4, zorder=7, label='homosk.')\n",
    "    pyplot.xlim([0,900])\n",
    "    pyplot.xticks([0,900], labels=[])\n",
    "    pyplot.yticks([-2,0,2])\n",
    "    #pyplot.ylim([-3,3])\n",
    "pyplot.xticks([0,900], labels=[0,900])\n",
    "#pyplot.legend(frameon=False)\n",
    "idx = 2\n",
    "pyplot.xlabel('Time steps')\n",
    "#pyplot.plot(mu_hsk[:1000,idx], color='C0')\n",
    "#pyplot.plot(mu_hsk[:1000,idx], color='C3')"
   ]
  },
  {
   "cell_type": "code",
   "execution_count": null,
   "id": "c8419ee3-d1f0-4e40-a22f-ef2eb7efaa04",
   "metadata": {},
   "outputs": [],
   "source": []
  }
 ],
 "metadata": {
  "kernelspec": {
   "display_name": "Python 3 (ipykernel)",
   "language": "python",
   "name": "python3"
  },
  "language_info": {
   "codemirror_mode": {
    "name": "ipython",
    "version": 3
   },
   "file_extension": ".py",
   "mimetype": "text/x-python",
   "name": "python",
   "nbconvert_exporter": "python",
   "pygments_lexer": "ipython3",
   "version": "3.9.7"
  }
 },
 "nbformat": 4,
 "nbformat_minor": 5
}
