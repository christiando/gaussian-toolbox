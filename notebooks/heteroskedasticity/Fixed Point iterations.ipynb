{
 "cells": [
  {
   "cell_type": "code",
   "execution_count": 127,
   "id": "e985ea05-ee9c-4191-aca5-edd7b87752f4",
   "metadata": {},
   "outputs": [],
   "source": [
    "import numpy as np\n",
    "from jax import numpy as jnp\n",
    "import sys\n",
    "sys.path.append('../../src_jax/')\n",
    "from pdf import GaussianDensity\n",
    "import factors\n",
    "from matplotlib import pyplot\n",
    "from functools import partial\n",
    "from jax import jit"
   ]
  },
  {
   "cell_type": "code",
   "execution_count": 128,
   "id": "ef8366e2-6ea4-46cb-a9c5-1a6bea9e1d40",
   "metadata": {},
   "outputs": [],
   "source": [
    "T = 10000\n",
    "dx = 3\n",
    "du = 2\n",
    "dz = 2\n",
    "Sigma = jnp.eye(dz).tile((T,1,1))\n",
    "mu = jnp.array(np.random.randn(T, dz))\n",
    "phi = GaussianDensity(Sigma, mu)"
   ]
  },
  {
   "cell_type": "code",
   "execution_count": 129,
   "id": "0a3cd6d7-10a7-4001-b4b9-3abb65090ea3",
   "metadata": {},
   "outputs": [],
   "source": [
    "W_i = jnp.array(np.random.randn(dz + 1))\n",
    "u_i = jnp.array(np.random.randn(dz + 1))\n",
    "u_i /= jnp.sqrt(jnp.sum(u_i ** 2))\n",
    "beta_i = 1 * jnp.ones((1,))\n",
    "C = jnp.array(np.random.randn(dx, dz))\n",
    "d = jnp.array(np.random.randn(dx,))\n",
    "X = jnp.array(np.random.randn(T, dx))\n",
    "sigma_x = jnp.array([.5])"
   ]
  },
  {
   "cell_type": "code",
   "execution_count": 130,
   "id": "596f66dc-4b6b-4727-8658-de4f33ae8f4d",
   "metadata": {},
   "outputs": [],
   "source": [
    "def f(h, beta):\n",
    "    return 2 * beta * jnp.cosh(h)\n",
    "\n",
    "def f_prime(h, beta):\n",
    "    return 2 * beta * jnp.sinh(h)\n",
    "\n",
    "def g(omega, beta, sigma_x):\n",
    "    return f_prime(omega, beta) / (sigma_x ** 2 + f(omega, beta)) / jnp.abs(omega)\n",
    "\n",
    "@partial(jit, static_argnums=(2))\n",
    "def get_RHS(omega_star, beta_i, phi, W_i, u_i, C, d, X):\n",
    "    T = X.shape[0]\n",
    "    w_i = W_i[1:].reshape((1, -1))\n",
    "    v = jnp.tile(w_i, (T, 1))\n",
    "    b_i = W_i[:1]\n",
    "    u_i = u_i.reshape((-1, 1))\n",
    "    uC = jnp.dot(u_i.T, -C)\n",
    "    ux_d = jnp.dot(u_i.T, (X - d).T)\n",
    "    g_omega = g(omega_star, beta_i, sigma_x)\n",
    "    nu_plus = (1. - g_omega[:, None] * b_i) * w_i\n",
    "    nu_minus = (-1. - g_omega[:, None] * b_i) * w_i\n",
    "    ln_beta = - jnp.log(sigma_x ** 2 + f(omega_star, beta_i)) - .5 * g_omega * (\n",
    "            b_i ** 2 - omega_star ** 2) + jnp.log(beta_i)\n",
    "    ln_beta_plus = ln_beta + b_i\n",
    "    ln_beta_minus = ln_beta - b_i\n",
    "    # Create OneRankFactors\n",
    "    exp_factor_plus = factors.OneRankFactor(v=v, g=g_omega, nu=nu_plus, ln_beta=ln_beta_plus)\n",
    "    exp_factor_minus = factors.OneRankFactor(v=v, g=g_omega, nu=nu_minus, ln_beta=ln_beta_minus)\n",
    "    # Create the two measures\n",
    "    exp_phi_plus = phi.hadamard(exp_factor_plus, update_full=True)\n",
    "    exp_phi_minus = phi.hadamard(exp_factor_minus, update_full=True)\n",
    "    # Fourth order integrals E[h^2 (x-Cz-d)^2]\n",
    "    quart_int_plus = exp_phi_plus.integrate("(Ax+a)'(Bx+b)(Cx+c)'(Dx+d)", A_mat=uC, a_vec=ux_d.T, B_mat=uC,\n",
    "                                            b_vec=ux_d.T,\n",
    "                                            C_mat=w_i, c_vec=b_i, D_mat=w_i, d_vec=b_i)\n",
    "    quart_int_minus = exp_phi_minus.integrate("(Ax+a)'(Bx+b)(Cx+c)'(Dx+d)", A_mat=uC, a_vec=ux_d.T, B_mat=uC,\n",
    "                                              b_vec=ux_d.T,\n",
    "                                              C_mat=w_i, c_vec=b_i, D_mat=w_i, d_vec=b_i)\n",
    "    quart_int = quart_int_plus + quart_int_minus\n",
    "    # Second order integrals E[(x-Cz-d)^2] Dims: [Du, Dx, Dx]\n",
    "    quad_int_plus = exp_phi_plus.integrate("(Ax+a)'(Bx+b)", A_mat=uC, a_vec=ux_d.T, B_mat=uC, b_vec=ux_d.T)\n",
    "    quad_int_minus = exp_phi_minus.integrate("(Ax+a)'(Bx+b)", A_mat=uC, a_vec=ux_d.T, B_mat=uC, b_vec=ux_d.T)\n",
    "    quad_int = quad_int_plus + quad_int_minus\n",
    "    return jnp.exp(.5 * (jnp.log(quart_int) - jnp.log(quad_int)))\n",
    "\n",
    "@partial(jit, static_argnums=(2))\n",
    "def fp_iter(omega_star, beta_i, phi, W_i, u_i, C, d, X):\n",
    "    T = X.shape[0]\n",
    "    w_i = W_i[1:].reshape((1, -1))\n",
    "    v = jnp.tile(w_i, (T, 1))\n",
    "    b_i = W_i[:1]\n",
    "    u_i = u_i.reshape((-1, 1))\n",
    "    uC = jnp.dot(u_i.T, -C)\n",
    "    ux_d = jnp.dot(u_i.T, (X - d).T)\n",
    "    g_omega = g(omega_star, beta_i, sigma_x)\n",
    "    nu_plus = (1. - g_omega[:, None] * b_i) * w_i\n",
    "    nu_minus = (-1. - g_omega[:, None] * b_i) * w_i\n",
    "    ln_beta = - jnp.log(sigma_x ** 2 + f(omega_star, beta_i)) - .5 * g_omega * (\n",
    "            b_i ** 2 - omega_star ** 2) + jnp.log(beta_i)\n",
    "    ln_beta_plus = ln_beta + b_i\n",
    "    ln_beta_minus = ln_beta - b_i\n",
    "    # Create OneRankFactors\n",
    "    exp_factor_plus = factors.OneRankFactor(v=v, g=g_omega, nu=nu_plus, ln_beta=ln_beta_plus)\n",
    "    exp_factor_minus = factors.OneRankFactor(v=v, g=g_omega, nu=nu_minus, ln_beta=ln_beta_minus)\n",
    "    # Create the two measures\n",
    "    exp_phi_plus = phi.hadamard(exp_factor_plus, update_full=True)\n",
    "    exp_phi_minus = phi.hadamard(exp_factor_minus, update_full=True)\n",
    "    # Fourth order integrals E[h^2 (x-Cz-d)^2]\n",
    "    quart_int_plus = exp_phi_plus.integrate("(Ax+a)'(Bx+b)(Cx+c)'(Dx+d)", A_mat=uC, a_vec=ux_d.T, B_mat=uC,\n",
    "                                            b_vec=ux_d.T,\n",
    "                                            C_mat=w_i, c_vec=b_i, D_mat=w_i, d_vec=b_i)\n",
    "    quart_int_minus = exp_phi_minus.integrate("(Ax+a)'(Bx+b)(Cx+c)'(Dx+d)", A_mat=uC, a_vec=ux_d.T, B_mat=uC,\n",
    "                                              b_vec=ux_d.T,\n",
    "                                              C_mat=w_i, c_vec=b_i, D_mat=w_i, d_vec=b_i)\n",
    "    quart_int = quart_int_plus + quart_int_minus\n",
    "    # Second order integrals E[(x-Cz-d)^2] Dims: [Du, Dx, Dx]\n",
    "    quad_int_plus = exp_phi_plus.integrate("(Ax+a)'(Bx+b)", A_mat=uC, a_vec=ux_d.T, B_mat=uC, b_vec=ux_d.T)\n",
    "    quad_int_minus = exp_phi_minus.integrate("(Ax+a)'(Bx+b)", A_mat=uC, a_vec=ux_d.T, B_mat=uC, b_vec=ux_d.T)\n",
    "    quad_int = quad_int_plus + quad_int_minus\n",
    "    return jnp.exp(.5 * (jnp.log(quart_int) - jnp.log(quad_int)))\n",
    "\n",
    "@partial(jit, static_argnums=(2))\n",
    "def get_mse(omega_star, beta_i, phi, W_i, u_i, C, d, X):\n",
    "    T = X.shape[0]\n",
    "    w_i = W_i[1:].reshape((1, -1))\n",
    "    v = jnp.tile(w_i, (T, 1))\n",
    "    b_i = W_i[:1]\n",
    "    u_i = u_i.reshape((-1, 1))\n",
    "    uC = jnp.dot(u_i.T, -C)\n",
    "    ux_d = jnp.dot(u_i.T, (X - d).T)\n",
    "    g_omega = g(omega_star, beta_i, sigma_x)\n",
    "    nu_plus = (1. - g_omega[:, None] * b_i) * w_i\n",
    "    nu_minus = (-1. - g_omega[:, None] * b_i) * w_i\n",
    "    ln_beta = - jnp.log(sigma_x ** 2 + f(omega_star, beta_i)) - .5 * g_omega * (\n",
    "            b_i ** 2 - omega_star ** 2) + jnp.log(beta_i)\n",
    "    ln_beta_plus = ln_beta + b_i\n",
    "    ln_beta_minus = ln_beta - b_i\n",
    "    # Create OneRankFactors\n",
    "    exp_factor_plus = factors.OneRankFactor(v=v, g=g_omega, nu=nu_plus, ln_beta=ln_beta_plus)\n",
    "    exp_factor_minus = factors.OneRankFactor(v=v, g=g_omega, nu=nu_minus, ln_beta=ln_beta_minus)\n",
    "    # Create the two measures\n",
    "    exp_phi_plus = phi.hadamard(exp_factor_plus, update_full=True)\n",
    "    exp_phi_minus = phi.hadamard(exp_factor_minus, update_full=True)\n",
    "    # Fourth order integrals E[h^2 (x-Cz-d)^2]\n",
    "    quart_int_plus = exp_phi_plus.integrate("(Ax+a)'(Bx+b)(Cx+c)'(Dx+d)", A_mat=uC, a_vec=ux_d.T, B_mat=uC,\n",
    "                                            b_vec=ux_d.T,\n",
    "                                            C_mat=w_i, c_vec=b_i, D_mat=w_i, d_vec=b_i)\n",
    "    quart_int_minus = exp_phi_minus.integrate("(Ax+a)'(Bx+b)(Cx+c)'(Dx+d)", A_mat=uC, a_vec=ux_d.T, B_mat=uC,\n",
    "                                              b_vec=ux_d.T,\n",
    "                                              C_mat=w_i, c_vec=b_i, D_mat=w_i, d_vec=b_i)\n",
    "    quart_int = quart_int_plus + quart_int_minus\n",
    "    # Second order integrals E[(x-Cz-d)^2] Dims: [Du, Dx, Dx]\n",
    "    quad_int_plus = exp_phi_plus.integrate("(Ax+a)'(Bx+b)", A_mat=uC, a_vec=ux_d.T, B_mat=uC, b_vec=ux_d.T)\n",
    "    quad_int_minus = exp_phi_minus.integrate("(Ax+a)'(Bx+b)", A_mat=uC, a_vec=ux_d.T, B_mat=uC, b_vec=ux_d.T)\n",
    "    quad_int = quad_int_plus + quad_int_minus\n",
    "    return (omega_star - jnp.exp(.5 * (jnp.log(quart_int) - jnp.log(quad_int)))) ** 2\n",
    "\n",
    "def get_omega_dagger(phi, beta_i, W_i, u_i, C, d, X):\n",
    "    T = X.shape[0]\n",
    "    w_i = W_i[1:].reshape((1, -1))\n",
    "    v = jnp.tile(w_i, (T, 1))\n",
    "    b_i = W_i[:1]\n",
    "    u_i = u_i.reshape((-1, 1))\n",
    "    uC = jnp.dot(u_i.T, -C)\n",
    "    ux_d = jnp.dot(u_i.T, (X - d).T)\n",
    "    # Lower bound for E[ln (sigma_x^2 + f(h))]\n",
    "    omega_dagger = jnp.sqrt(phi.integrate("(Ax+a)'(Bx+b)", A_mat=w_i, a_vec=b_i, B_mat=w_i, b_vec=b_i))\n",
    "    return  omega_dagger\n",
    "\n",
    "#@partial(jit, static_argnums=(0))\n",
    "def gs_search(func, xa, xb, xc, maxiter=1000):\n",
    "    funcalls = 0\n",
    "    tol = 1e-5\n",
    "    _gR = 0.61803399  # golden ratio conjugate: 2.0/(1.0+sqrt(5.0))\n",
    "    _gC = 1.0 - _gR\n",
    "    x3 = xc\n",
    "    x0 = xa\n",
    "    x1 = xb\n",
    "    x1 = xb\n",
    "    x2 = xb + _gC * (xc - xb)\n",
    "    cond1 = jnp.where(np.abs(xc - xb) <= np.abs(xb - xa))[0]\n",
    "    x2 = x2.at[cond1].set(xb[cond1])\n",
    "    x1 = x1.at[cond1].set(xb[cond1] - _gC * (xb[cond1] - xa[cond1]))\n",
    "    f1 = func(x1)\n",
    "    f2 = func(x2)\n",
    "    funcalls += 2\n",
    "    nit = 0\n",
    "    converged = False\n",
    "    while nit < maxiter and not converged:\n",
    "        cond2 = jnp.where(f2 < f1)[0]\n",
    "        x0 = x0.at[cond2].set(x1[cond2])\n",
    "        x1 = x1.at[cond2].set(x2[cond2])\n",
    "        x2 = x2.at[cond2].set(_gR * x1[cond2] + _gC * x3[cond2])\n",
    "        f1 = f1.at[cond2].set(f2[cond2])\n",
    "        f2 = f2.at[cond2].set(func(x2)[cond2])\n",
    "        cond3 = jnp.where(f2 >= f1)[0]\n",
    "        x3 = x3.at[cond3].set(x2[cond3])\n",
    "        x2 = x2.at[cond3].set(x1[cond3])\n",
    "        x1 = x1.at[cond3].set(_gR * x2[cond3] + _gC * x0[cond3])\n",
    "        f2 = f2.at[cond3].set(f1[cond3])\n",
    "        f1 = f1.at[cond3].set(func(x1)[cond3])\n",
    "        funcalls += 1\n",
    "        nit += 1\n",
    "        converged = jnp.alltrue(jnp.abs(x3 - x0) <= tol * (jnp.abs(x1) + jnp.abs(x2)))\n",
    "    xmin = x1\n",
    "    fval = f1\n",
    "    cond4 = jnp.where(f1 >= f2)[0]\n",
    "    xmin = xmin.at[cond4].set(x2[cond4])\n",
    "    fval = fval.at[cond4].set(f2[cond4])\n",
    "    return xmin, fval\n",
    "\n",
    "def bracket(func, N, xa=0.01, xb=1.0, grow_limit=110.0, maxiter=1000):\n",
    "    _gold = 1.618034  # golden ratio: (1.0+sqrt(5.0))/2.0\n",
    "    _verysmall_num = 1e-10\n",
    "    xa = xa * jnp.ones(N) + _verysmall_num\n",
    "    xb = xb * jnp.ones(N)\n",
    "    fa = func(xa)\n",
    "    fb = func(xb)\n",
    "    \n",
    "    cond1 = jnp.where(fa < fb)[0]\n",
    "    xa_tmp = xa[cond1]\n",
    "    xa = xa.at[cond1].set(xb[cond1])\n",
    "    xb = xb.at[cond1].set(xa_tmp)\n",
    "    fa_tmp = fa[cond1]\n",
    "    fa = fa.at[cond1].set(fb[cond1])\n",
    "    fb = fb.at[cond1].set(fa_tmp)\n",
    "    xc = xb + _gold * (xb - xa)\n",
    "    xc = xc.at[xc <= 0].set(_verysmall_num)\n",
    "    fc = func(xc)\n",
    "    funcalls = 3\n",
    "    iter = 0\n",
    "    not_bracketed = jnp.where(fc <= fb)[0]\n",
    "    bracketed = jnp.alltrue(fc >= fb)\n",
    "    tmp1 = (xb - xa) * (fb - fc)\n",
    "    tmp2 = (xb - xc) * (fb - fa)\n",
    "    val = tmp2 - tmp1\n",
    "    denom = 2.0 * val\n",
    "    denom = denom.at[np.abs(val) < _verysmall_num].set(2.0 * _verysmall_num)\n",
    "    w = xb - ((xb - xc) * tmp2 - (xb - xa) * tmp1) / denom\n",
    "    w = w.at[w <= 0].set(_verysmall_num)\n",
    "    wlim = xb + grow_limit * (xc - xb)\n",
    "    wlim = wlim.at[wlim <= 0].set(_verysmall_num)\n",
    "    fw = func(w)\n",
    "    funcalls += 1\n",
    "    while not bracketed:\n",
    "        iter += 1\n",
    "        cond1_bool = (w[not_bracketed] - xc[not_bracketed]) * (xb[not_bracketed] - w[not_bracketed]) > 0.0\n",
    "        cond1 = jnp.where(cond1_bool)[0]\n",
    "        cond1a = jnp.where(fw[not_bracketed[cond1]] < fc[not_bracketed[cond1]])[0]\n",
    "        xa = xa.at[not_bracketed[cond1[cond1a]]].set(xb[not_bracketed[cond1[cond1a]]])\n",
    "        xb = xb.at[not_bracketed[cond1[cond1a]]].set(w[not_bracketed[cond1[cond1a]]])\n",
    "        fa = fa.at[not_bracketed[cond1[cond1a]]].set(fb[not_bracketed[cond1[cond1a]]])\n",
    "        fb = fb.at[not_bracketed[cond1[cond1a]]].set(fw[not_bracketed[cond1[cond1a]]])\n",
    "        cond1b = jnp.where(fw[not_bracketed[cond1]] >= fb[not_bracketed[cond1]])[0]\n",
    "        xc = xc.at[not_bracketed[cond1[cond1b]]].set(w[not_bracketed[cond1[cond1b]]])\n",
    "        fc = fc.at[not_bracketed[cond1[cond1b]]].set(fw[not_bracketed[cond1[cond1b]]])\n",
    "        w = w.at[not_bracketed[cond1]].set(xc[not_bracketed[cond1]] + _gold * (xc[not_bracketed[cond1]] - xb[not_bracketed[cond1]]))\n",
    "        fw = func(w)\n",
    "        funcalls += 1\n",
    "        #fw = fw.at[cond1].set(func(w)[cond1])\n",
    "        #funcalls += 1\n",
    "        cond2_bool = jnp.logical_and(jnp.logical_not(cond1_bool), (w[not_bracketed] - wlim[not_bracketed])*(wlim[not_bracketed] - xc[not_bracketed]) >= 0.0)\n",
    "        cond2 = jnp.where(cond2_bool)[0]\n",
    "        w = w.at[not_bracketed[cond2]].set(wlim[not_bracketed[cond2]])\n",
    "        fw = func(w)\n",
    "        funcalls += 1\n",
    "        cond3_bool = jnp.logical_and(jnp.logical_not(cond2_bool), (w[not_bracketed] - wlim[not_bracketed])*(xc[not_bracketed] - w[not_bracketed]) > 0.0)\n",
    "        cond3 = jnp.where(cond3_bool)[0]\n",
    "        cond3a = jnp.where(fw[not_bracketed[cond3]] < fc[not_bracketed[cond3]])[0]\n",
    "        xb = xb.at[not_bracketed[cond3[cond3a]]].set(xc[not_bracketed[cond3[cond3a]]])\n",
    "        xc = xc.at[not_bracketed[cond3[cond3a]]].set(w[not_bracketed[cond3[cond3a]]])\n",
    "        w = w.at[not_bracketed[cond3[cond3a]]].set(xc[not_bracketed[cond3[cond3a]]] + _gold * (xc[not_bracketed[cond3[cond3a]]] - xb[not_bracketed[cond3[cond3a]]]))\n",
    "        fb = fb.at[not_bracketed[cond3[cond3a]]].set(fc[not_bracketed[cond3[cond3a]]])\n",
    "        fc = fc.at[not_bracketed[cond3[cond3a]]].set(fw[not_bracketed[cond3[cond3a]]])\n",
    "        fw = func(w)\n",
    "        funcalls += 1\n",
    "        cond4 = jnp.where(jnp.logical_not(cond3_bool))\n",
    "        w = w.at[not_bracketed[cond4]].set(xc[not_bracketed[cond4]] + _gold * (xc[not_bracketed[cond4]] - xb[not_bracketed[cond4]]))\n",
    "        xa = xa.at[xa <= 0].set(_verysmall_num)\n",
    "        xb = xb.at[xb <= 0].set(_verysmall_num)\n",
    "        xc = xc.at[xc <= 0].set(_verysmall_num)\n",
    "        w = w.at[w <= 0].set(_verysmall_num)\n",
    "        fw = func(w)\n",
    "        funcalls += 1\n",
    "        xa = xa.at[not_bracketed].set(xb[not_bracketed])\n",
    "        xb = xb.at[not_bracketed].set(xc[not_bracketed])\n",
    "        xc = xc.at[not_bracketed].set(w[not_bracketed])\n",
    "        fa = fa.at[not_bracketed].set(fb[not_bracketed])\n",
    "        fb = fb.at[not_bracketed].set(fc[not_bracketed])\n",
    "        fc = fc.at[not_bracketed].set(fw[not_bracketed])\n",
    "        tmp1 = (xb - xa) * (fb - fc)\n",
    "        tmp2 = (xb - xc) * (fb - fa)\n",
    "        val = tmp2 - tmp1\n",
    "        denom = 2.0 * val\n",
    "        denom = denom.at[np.abs(val) < _verysmall_num].set(2.0 * _verysmall_num)\n",
    "        w = xb - ((xb - xc) * tmp2 - (xb - xa) * tmp1) / denom\n",
    "        w = w.at[w <= 0].set(_verysmall_num)\n",
    "        wlim = xb + grow_limit * (xc - xb)\n",
    "        wlim = wlim.at[wlim <= 0].set(_verysmall_num)\n",
    "        bracketed = jnp.alltrue(fc >= fb)\n",
    "        not_bracketed = jnp.where(fc <= fb)[0]\n",
    "\n",
    "    return xa, xb, xc+_verysmall_num, fa, fb, fc, funcalls"
   ]
  },
  {
   "cell_type": "code",
   "execution_count": 126,
   "id": "50b300ea-867f-4876-83c4-0354a81116ad",
   "metadata": {},
   "outputs": [
    {
     "data": {
      "text/plain": [
       "<matplotlib.legend.Legend at 0x7fada4f04550>"
      ]
     },
     "execution_count": 126,
     "metadata": {},
     "output_type": "execute_result"
    },
    {
     "data": {
      "image/png": "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\n",
      "text/plain": [
       "<Figure size 432x288 with 1 Axes>"
      ]
     },
     "metadata": {
      "needs_background": "light"
     },
     "output_type": "display_data"
    }
   ],
   "source": [
    "omega_dagger = get_omega_dagger(phi, beta_i, W_i, u_i, C, d, X)\n",
    "num_points = 100\n",
    "omega_star = jnp.linspace(1e-10, 20 * omega_dagger[0], num_points)\n",
    "omegas = omega_dagger\n",
    "rhs = []\n",
    "mse = []\n",
    "for ipoints in range(num_points):\n",
    "    omegas = omegas.at[0].set(omega_star[ipoints])\n",
    "    rhs.append(get_RHS(omegas, beta_i, phi, W_i, u_i, C, d, X)[0])\n",
    "    mse.append(get_mse(omegas, beta_i, phi, W_i, u_i, C, d, X)[0])\n",
    "rhs = jnp.array(rhs)\n",
    "mse = jnp.array(mse)\n",
    "pyplot.plot(omega_star, rhs ** 2, label='$f(\\omega)$')\n",
    "pyplot.plot(omega_star, omega_star,label='$\\omega$')\n",
    "pyplot.ylim([np.min(rhs** 2), np.max(rhs** 2)])\n",
    "pyplot.xlim([np.min(omega_star), np.max(omega_star)])\n",
    "pyplot.xlabel('$\\omega$')\n",
    "pyplot.legend()"
   ]
  },
  {
   "cell_type": "code",
   "execution_count": null,
   "id": "c2a23d4c-75f1-4aea-a648-c840b8be583a",
   "metadata": {},
   "outputs": [],
   "source": []
  },
  {
   "cell_type": "code",
   "execution_count": 143,
   "id": "7737dec4-9d9b-44d1-9bc0-49992f60850d",
   "metadata": {
    "tags": []
   },
   "outputs": [
    {
     "name": "stdout",
     "output_type": "stream",
     "text": [
      "1.3131812\n",
      "1.5227153\n",
      "1.5735512\n",
      "1.5857711\n",
      "1.5886965\n",
      "1.5893962\n",
      "1.5895636\n",
      "1.5896035\n",
      "1.5896132\n",
      "1.5896153\n",
      "1.5896161\n"
     ]
    }
   ],
   "source": [
    "omega_star =1e-10 * omega_dagger\n",
    "converged = False\n",
    "i = 0\n",
    "while not converged:\n",
    "    i += 1\n",
    "    #print(i)\n",
    "    omega_star_old = omega_star\n",
    "    omega_star += (fp_iter(omega_star, beta_i, phi, W_i, u_i, C, d, X) - omega_star)\n",
    "    converged = jnp.array(jnp.amax(jnp.abs(omega_star - omega_star_old)) < 1e-5)\n",
    "    print(omega_star[1])"
   ]
  },
  {
   "cell_type": "code",
   "execution_count": 35,
   "id": "469aef4e-bb2a-4a87-81cf-d614dcddc9e8",
   "metadata": {
    "tags": []
   },
   "outputs": [],
   "source": [
    "objective = jit(lambda omegas: get_mse(omegas, beta_i, phi, W_i, u_i, C, d, X))\n",
    "xa, xb, xc, fa, fb, fc, funcalls = bracket(objective, T)"
   ]
  },
  {
   "cell_type": "code",
   "execution_count": 36,
   "id": "b32dd174-9091-48b1-ad9b-8ef0996941a9",
   "metadata": {},
   "outputs": [],
   "source": [
    "omega_star2 = gs_search(objective, xa, xb, xc)[0]"
   ]
  },
  {
   "cell_type": "code",
   "execution_count": 37,
   "id": "88581660-8503-46b7-be15-2fe8f3aae188",
   "metadata": {},
   "outputs": [
    {
     "data": {
      "text/plain": [
       "[<matplotlib.lines.Line2D at 0x7fadf8112b50>]"
      ]
     },
     "execution_count": 37,
     "metadata": {},
     "output_type": "execute_result"
    },
    {
     "data": {
      "image/png": "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\n",
      "text/plain": [
       "<Figure size 432x288 with 1 Axes>"
      ]
     },
     "metadata": {
      "needs_background": "light"
     },
     "output_type": "display_data"
    }
   ],
   "source": [
    "pyplot.plot(omega_star2, omega_star)"
   ]
  },
  {
   "cell_type": "code",
   "execution_count": 38,
   "id": "c34ef37c-86ca-4974-80a4-d2af2dc383c8",
   "metadata": {},
   "outputs": [
    {
     "data": {
      "text/plain": [
       "[<matplotlib.lines.Line2D at 0x7fadf8677910>]"
      ]
     },
     "execution_count": 38,
     "metadata": {},
     "output_type": "execute_result"
    },
    {
     "data": {
      "image/png": "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\n",
      "text/plain": [
       "<Figure size 432x288 with 1 Axes>"
      ]
     },
     "metadata": {
      "needs_background": "light"
     },
     "output_type": "display_data"
    }
   ],
   "source": [
    "pyplot.plot(objective(omega_star2), objective(omega_star))"
   ]
  },
  {
   "cell_type": "code",
   "execution_count": 23,
   "id": "8718df4c-578c-42d5-a768-843b5894a227",
   "metadata": {},
   "outputs": [
    {
     "ename": "NameError",
     "evalue": "name 'func' is not defined",
     "output_type": "error",
     "traceback": [
      "\u001b[0;31m---------------------------------------------------------------------------\u001b[0m",
      "\u001b[0;31mNameError\u001b[0m                                 Traceback (most recent call last)",
      "\u001b[0;32m/tmp/ipykernel_245146/4049330584.py\u001b[0m in \u001b[0;36m<module>\u001b[0;34m\u001b[0m\n\u001b[0;32m----> 1\u001b[0;31m \u001b[0mgs_search\u001b[0m\u001b[0;34m(\u001b[0m\u001b[0mfunc\u001b[0m\u001b[0;34m,\u001b[0m \u001b[0mjnp\u001b[0m\u001b[0;34m.\u001b[0m\u001b[0mones\u001b[0m\u001b[0;34m(\u001b[0m\u001b[0mT\u001b[0m\u001b[0;34m)\u001b[0m\u001b[0;34m,\u001b[0m \u001b[0mjnp\u001b[0m\u001b[0;34m.\u001b[0m\u001b[0mones\u001b[0m\u001b[0;34m(\u001b[0m\u001b[0mT\u001b[0m\u001b[0;34m)\u001b[0m\u001b[0;34m,\u001b[0m \u001b[0mjnp\u001b[0m\u001b[0;34m.\u001b[0m\u001b[0mones\u001b[0m\u001b[0;34m(\u001b[0m\u001b[0mT\u001b[0m\u001b[0;34m)\u001b[0m\u001b[0;34m)\u001b[0m\u001b[0;34m\u001b[0m\u001b[0;34m\u001b[0m\u001b[0m\n\u001b[0m",
      "\u001b[0;31mNameError\u001b[0m: name 'func' is not defined"
     ]
    }
   ],
   "source": [
    "gs_search(func, jnp.ones(T), jnp.ones(T), jnp.ones(T))"
   ]
  },
  {
   "cell_type": "code",
   "execution_count": 320,
   "id": "577177a9-806b-431f-86c3-c1581a04b05c",
   "metadata": {},
   "outputs": [],
   "source": [
    "omega_dagger = get_omega_dagger(phi, beta_i, W_i, u_i, C, d, X)"
   ]
  },
  {
   "cell_type": "code",
   "execution_count": 44,
   "id": "e7ef0671-98b3-4ca8-80e6-0d67918e0c84",
   "metadata": {},
   "outputs": [],
   "source": []
  },
  {
   "cell_type": "code",
   "execution_count": 46,
   "id": "640389bc-9af8-454d-bcc4-7fc0d1e8734d",
   "metadata": {},
   "outputs": [
    {
     "data": {
      "text/plain": [
       "[<matplotlib.lines.Line2D at 0x7fadd42363d0>]"
      ]
     },
     "execution_count": 46,
     "metadata": {},
     "output_type": "execute_result"
    },
    {
     "data": {
      "image/png": "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\n",
      "text/plain": [
       "<Figure size 432x288 with 1 Axes>"
      ]
     },
     "metadata": {
      "needs_background": "light"
     },
     "output_type": "display_data"
    }
   ],
   "source": [
    "pyplot.plot(omega_star, rhs)\n",
    "#pyplot.plot([0, omega_dagger[0]], [0, omega_dagger[0]])\n",
    "#pyplot.hlines(omega_dagger[0], 0, omega_dagger[0], 'C3')"
   ]
  },
  {
   "cell_type": "code",
   "execution_count": 31,
   "id": "4906222a-c00b-46fa-87e8-285f7c98ed2e",
   "metadata": {},
   "outputs": [
    {
     "data": {
      "text/plain": [
       "[<matplotlib.lines.Line2D at 0x7fae244b0af0>]"
      ]
     },
     "execution_count": 31,
     "metadata": {},
     "output_type": "execute_result"
    },
    {
     "data": {
      "image/png": "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\n",
      "text/plain": [
       "<Figure size 432x288 with 1 Axes>"
      ]
     },
     "metadata": {
      "needs_background": "light"
     },
     "output_type": "display_data"
    }
   ],
   "source": [
    "pyplot.plot(omega_star[1:], jnp.diff(rhs) / jnp.diff(omega_star))"
   ]
  },
  {
   "cell_type": "code",
   "execution_count": 323,
   "id": "d9a584ba-f269-45bf-92e3-c05661a5bdb1",
   "metadata": {},
   "outputs": [
    {
     "data": {
      "text/plain": [
       "[<matplotlib.lines.Line2D at 0x7f48783411c0>]"
      ]
     },
     "execution_count": 323,
     "metadata": {},
     "output_type": "execute_result"
    },
    {
     "data": {
      "image/png": "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\n",
      "text/plain": [
       "<Figure size 432x288 with 1 Axes>"
      ]
     },
     "metadata": {
      "needs_background": "light"
     },
     "output_type": "display_data"
    }
   ],
   "source": [
    "pyplot.plot(omega_star, mse)"
   ]
  },
  {
   "cell_type": "code",
   "execution_count": 301,
   "id": "7be3d002-93a5-4351-9340-8a2c68f65b9b",
   "metadata": {},
   "outputs": [
    {
     "data": {
      "text/plain": [
       "DeviceArray([-0.5212758 , -1.74442   , -0.78866476], dtype=float32)"
      ]
     },
     "execution_count": 301,
     "metadata": {},
     "output_type": "execute_result"
    }
   ],
   "source": [
    "W_i"
   ]
  },
  {
   "cell_type": "code",
   "execution_count": 306,
   "id": "2c05f553-5d52-4600-b789-8f1b8f6218df",
   "metadata": {},
   "outputs": [
    {
     "data": {
      "text/plain": [
       "DeviceArray([-0.37274283,  0.64549553, -0.6666321 ], dtype=float32)"
      ]
     },
     "execution_count": 306,
     "metadata": {},
     "output_type": "execute_result"
    }
   ],
   "source": [
    "u_i"
   ]
  },
  {
   "cell_type": "code",
   "execution_count": null,
   "id": "6a6619cb-fdc4-4b7e-9ee0-393a50291d5d",
   "metadata": {},
   "outputs": [],
   "source": []
  }
 ],
 "metadata": {
  "kernelspec": {
   "display_name": "Python 3 (ipykernel)",
   "language": "python",
   "name": "python3"
  },
  "language_info": {
   "codemirror_mode": {
    "name": "ipython",
    "version": 3
   },
   "file_extension": ".py",
   "mimetype": "text/x-python",
   "name": "python",
   "nbconvert_exporter": "python",
   "pygments_lexer": "ipython3",
   "version": "3.9.6"
  }
 },
 "nbformat": 4,
 "nbformat_minor": 5
}
