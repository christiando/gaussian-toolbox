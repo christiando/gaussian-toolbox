{
 "cells": [
  {
   "cell_type": "code",
   "execution_count": null,
   "id": "e101ec42-1120-4ff2-8b22-b2a17effa57e",
   "metadata": {},
   "outputs": [],
   "source": [
    "from matplotlib import pyplot as plt\n",
    "import sys\n",
    "sys.path.append('../examples/')\n",
    "from linear_regression_jax import LinearRegression, generate_data\n",
    "from jax import numpy as jnp\n",
    "import numpy as np"
   ]
  },
  {
   "cell_type": "code",
   "execution_count": null,
   "id": "a601ee75-655d-40aa-ae22-2a3f20a314a1",
   "metadata": {},
   "outputs": [],
   "source": [
    "N = 5\n",
    "D = 1\n",
    "X, y, w, b = generate_data(N, D, sigma_noise=.1)\n",
    "X_range = jnp.array([jnp.linspace(-5,15,100)]).T\n",
    "lreg = LinearRegression(X, y, sigma_y=.1, sigma_prior=1)\n",
    "lreg.get_posterior()\n",
    "prediction_density = lreg.predict(X_range)\n",
    "\n",
    "w_range, b_range = jnp.linspace(w[0] - .2, w[0] + .2, 200), jnp.linspace(b[0] - .2, b[0] + .2,100)\n",
    "w_mesh, b_mesh = jnp.meshgrid(w_range, b_range)\n",
    "mesh = jnp.vstack([b_mesh.flatten(), w_mesh.flatten()]).T\n",
    "posterior_mesh = lreg.posterior.evaluate(mesh)\n",
    "plt.figure(figsize=(8,4))\n",
    "plt.subplot(121)\n",
    "plt.pcolor(b_range, w_range, posterior_mesh.reshape(100,200).T, shading='auto')\n",
    "plt.plot(b, w, 'C3o')\n",
    "plt.xlabel('Bias')\n",
    "plt.ylabel('Weight')\n",
    "plt.title('Posterior')\n",
    "plt.subplot(122)\n",
    "plt.plot(X, y, 'k.')\n",
    "mu, std = jnp.squeeze(prediction_density.mu), jnp.sqrt(jnp.squeeze(prediction_density.Sigma))\n",
    "plt.fill_between(jnp.squeeze(X_range), mu - 2.58 * std, mu + 2.58 * std, alpha=.5)\n",
    "plt.plot(jnp.squeeze(X_range), mu, 'C0')\n",
    "plt.plot(jnp.squeeze(X_range), jnp.dot(X_range, w) + b, 'k--')\n",
    "plt.xlabel('X')\n",
    "plt.ylabel('y')\n",
    "plt.title('Data space')\n",
    "plt.show()"
   ]
  },
  {
   "cell_type": "code",
   "execution_count": null,
   "id": "644d77aa-aada-4500-8a88-9f7002bbad76",
   "metadata": {},
   "outputs": [],
   "source": [
    "jnp.array([y]).T.shape"
   ]
  },
  {
   "cell_type": "code",
   "execution_count": null,
   "id": "c945b8d4",
   "metadata": {},
   "outputs": [],
   "source": []
  }
 ],
 "metadata": {
  "kernelspec": {
   "display_name": "Python 3 (ipykernel)",
   "language": "python",
   "name": "python3"
  },
  "language_info": {
   "codemirror_mode": {
    "name": "ipython",
    "version": 3
   },
   "file_extension": ".py",
   "mimetype": "text/x-python",
   "name": "python",
   "nbconvert_exporter": "python",
   "pygments_lexer": "ipython3",
   "version": "3.8.11"
  }
 },
 "nbformat": 4,
 "nbformat_minor": 5
}
