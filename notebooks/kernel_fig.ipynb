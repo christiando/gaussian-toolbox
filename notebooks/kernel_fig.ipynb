{
 "cells": [
  {
   "cell_type": "code",
   "execution_count": 3,
   "metadata": {},
   "outputs": [],
   "source": [
    "import sys\n",
    "sys.path.append('../')\n",
    "from jax import numpy as jnp\n",
    "from jax import config\n",
    "config.update(\"jax_enable_x64\", True)\n",
    "from src_jax import measure, factor\n",
    "from matplotlib import pyplot as plt"
   ]
  },
  {
   "cell_type": "code",
   "execution_count": 14,
   "metadata": {},
   "outputs": [
    {
     "data": {
      "image/png": "[encoded data removed]",
      "text/plain": [
       "<Figure size 864x432 with 2 Axes>"
      ]
     },
     "metadata": {
      "needs_background": "light"
     },
     "output_type": "display_data"
    }
   ],
   "source": [
    "w = jnp.array([1.,2])\n",
    "h_tilde = 0\n",
    "\n",
    "# Note: we have to do a transform because the factor are parametrized through natural parameters.\n",
    "kernel = factor.OneRankFactor(v=jnp.array([w]), nu=jnp.array([w * h_tilde]), ln_beta=jnp.array([-.5 * h_tilde ** 2]))\n",
    "\n",
    "grid_points = 70\n",
    "xrange = jnp.linspace(-5,5,grid_points)\n",
    "xmesh, ymesh = jnp.meshgrid(xrange, xrange)\n",
    "x = jnp.vstack([xmesh.flatten(), ymesh.flatten()]).T\n",
    "\n",
    "kernel_eval = kernel.evaluate(x).reshape(grid_points, grid_points)\n",
    "\n",
    "w_rbf = jnp.array([1.,1.])\n",
    "mu_rbf = jnp.array([0,0])\n",
    "Lambda_rbf = jnp.diag(1./w_rbf)\n",
    "nu_rbf = jnp.dot(Lambda_rbf, mu_rbf)\n",
    "ln_beta_rbf = - .5 * jnp.sum(nu_rbf * mu_rbf)\n",
    "rbf = measure.GaussianDiagMeasure(Lambda=jnp.array([Lambda_rbf]), nu=jnp.array([nu_rbf]), ln_beta=jnp.array([ln_beta_rbf]))\n",
    "rbf_eval = rbf.evaluate(x).reshape(grid_points, grid_points)\n",
    "plt.figure(figsize=(12,6))\n",
    "plt.subplot(121)\n",
    "plt.pcolor(xrange, xrange, kernel_eval, shading='nearest', cmap='YlOrBr')\n",
    "plt.arrow(.5*h_tilde/w[0],.5*h_tilde/w[1],w[0],w[1],head_width=.3, color='C3')\n",
    "plt.subplot(122)\n",
    "plt.pcolor(xrange, xrange, rbf_eval, shading='nearest', cmap='YlOrBr')\n",
    "plt.show()"
   ]
  },
  {
   "cell_type": "code",
   "execution_count": 9,
   "metadata": {},
   "outputs": [
    {
     "name": "stdout",
     "output_type": "stream",
     "text": [
      "\u001b[0;31mInit signature:\u001b[0m\n",
      "\u001b[0mmeasure\u001b[0m\u001b[0;34m.\u001b[0m\u001b[0mGaussianDiagMeasure\u001b[0m\u001b[0;34m(\u001b[0m\u001b[0;34m\u001b[0m\n",
      "\u001b[0;34m\u001b[0m    \u001b[0mLambda\u001b[0m\u001b[0;34m:\u001b[0m \u001b[0mjax\u001b[0m\u001b[0;34m.\u001b[0m\u001b[0m_src\u001b[0m\u001b[0;34m.\u001b[0m\u001b[0mnumpy\u001b[0m\u001b[0;34m.\u001b[0m\u001b[0mndarray\u001b[0m\u001b[0;34m.\u001b[0m\u001b[0mndarray\u001b[0m\u001b[0;34m,\u001b[0m\u001b[0;34m\u001b[0m\n",
      "\u001b[0;34m\u001b[0m    \u001b[0mnu\u001b[0m\u001b[0;34m:\u001b[0m \u001b[0mjax\u001b[0m\u001b[0;34m.\u001b[0m\u001b[0m_src\u001b[0m\u001b[0;34m.\u001b[0m\u001b[0mnumpy\u001b[0m\u001b[0;34m.\u001b[0m\u001b[0mndarray\u001b[0m\u001b[0;34m.\u001b[0m\u001b[0mndarray\u001b[0m \u001b[0;34m=\u001b[0m \u001b[0;32mNone\u001b[0m\u001b[0;34m,\u001b[0m\u001b[0;34m\u001b[0m\n",
      "\u001b[0;34m\u001b[0m    \u001b[0mln_beta\u001b[0m\u001b[0;34m:\u001b[0m \u001b[0mjax\u001b[0m\u001b[0;34m.\u001b[0m\u001b[0m_src\u001b[0m\u001b[0;34m.\u001b[0m\u001b[0mnumpy\u001b[0m\u001b[0;34m.\u001b[0m\u001b[0mndarray\u001b[0m\u001b[0;34m.\u001b[0m\u001b[0mndarray\u001b[0m \u001b[0;34m=\u001b[0m \u001b[0;32mNone\u001b[0m\u001b[0;34m,\u001b[0m\u001b[0;34m\u001b[0m\n",
      "\u001b[0;34m\u001b[0m    \u001b[0mSigma\u001b[0m\u001b[0;34m:\u001b[0m \u001b[0mjax\u001b[0m\u001b[0;34m.\u001b[0m\u001b[0m_src\u001b[0m\u001b[0;34m.\u001b[0m\u001b[0mnumpy\u001b[0m\u001b[0;34m.\u001b[0m\u001b[0mndarray\u001b[0m\u001b[0;34m.\u001b[0m\u001b[0mndarray\u001b[0m \u001b[0;34m=\u001b[0m \u001b[0;32mNone\u001b[0m\u001b[0;34m,\u001b[0m\u001b[0;34m\u001b[0m\n",
      "\u001b[0;34m\u001b[0m    \u001b[0mln_det_Lambda\u001b[0m\u001b[0;34m:\u001b[0m \u001b[0mjax\u001b[0m\u001b[0;34m.\u001b[0m\u001b[0m_src\u001b[0m\u001b[0;34m.\u001b[0m\u001b[0mnumpy\u001b[0m\u001b[0;34m.\u001b[0m\u001b[0mndarray\u001b[0m\u001b[0;34m.\u001b[0m\u001b[0mndarray\u001b[0m \u001b[0;34m=\u001b[0m \u001b[0;32mNone\u001b[0m\u001b[0;34m,\u001b[0m\u001b[0;34m\u001b[0m\n",
      "\u001b[0;34m\u001b[0m    \u001b[0mln_det_Sigma\u001b[0m\u001b[0;34m:\u001b[0m \u001b[0mjax\u001b[0m\u001b[0;34m.\u001b[0m\u001b[0m_src\u001b[0m\u001b[0;34m.\u001b[0m\u001b[0mnumpy\u001b[0m\u001b[0;34m.\u001b[0m\u001b[0mndarray\u001b[0m\u001b[0;34m.\u001b[0m\u001b[0mndarray\u001b[0m \u001b[0;34m=\u001b[0m \u001b[0;32mNone\u001b[0m\u001b[0;34m,\u001b[0m\u001b[0;34m\u001b[0m\n",
      "\u001b[0;34m\u001b[0m\u001b[0;34m)\u001b[0m\u001b[0;34m\u001b[0m\u001b[0;34m\u001b[0m\u001b[0m\n",
      "\u001b[0;31mDocstring:\u001b[0m      <no docstring>\n",
      "\u001b[0;31mInit docstring:\u001b[0m\n",
      "A measure with a Gaussian form.\n",
      "\n",
      "u(x) = beta * exp(- 0.5 * x'Lambda x + x'nu),\n",
      "\n",
      "D is the dimension, and R the number of Gaussians. \n",
      "\n",
      ":param Lambda: jnp.ndarray [R, D, D]\n",
      "    Information (precision) matrix of the Gaussian distributions. Needs to be postive definite.\n",
      ":param nu: jnp.ndarray [R, D]\n",
      "    Information vector of a Gaussian distribution. If None all zeros. (Default=None)\n",
      ":param ln_beta: jnp.ndarray [R]\n",
      "    The log constant factor of the factor. If None all zeros. (Default=None)\n",
      "param Sigma: jnp.ndarray [R, D, D]\n",
      "    Covariance matrix of the Gaussian distributions. Needs to be positive definite. (Default=None)\n",
      ":param ln_det_Lambda: jnp.ndarray [R]\n",
      "    Log determinant of Lambda. (Default=None)\n",
      ":param ln_det_Sigma: jnp.ndarray [R]\n",
      "    Log determinant of Sigma. (Default=None)\n",
      "\u001b[0;31mFile:\u001b[0m           ~/Workbench/renku_projects/gaussian-toolbox/src_jax/measure.py\n",
      "\u001b[0;31mType:\u001b[0m           type\n",
      "\u001b[0;31mSubclasses:\u001b[0m     \n"
     ]
    }
   ],
   "source": [
    "rbf = measure.GaussianDiagMeasure?"
   ]
  },
  {
   "cell_type": "code",
   "execution_count": null,
   "metadata": {},
   "outputs": [],
   "source": [
    "rbf = measure.GaussianDiagMeasure"
   ]
  },
  {
   "cell_type": "code",
   "execution_count": null,
   "metadata": {},
   "outputs": [],
   "source": []
  }
 ],
 "metadata": {
  "interpreter": {
   "hash": "69925804a538e9e5edfd5d6fe192793bd67cd76c6d10d3490507ec5fbbec376f"
  },
  "kernelspec": {
   "display_name": "Python 3.8.11 ('gaussian-toolbox')",
   "language": "python",
   "name": "python3"
  },
  "language_info": {
   "codemirror_mode": {
    "name": "ipython",
    "version": 3
   },
   "file_extension": ".py",
   "mimetype": "text/x-python",
   "name": "python",
   "nbconvert_exporter": "python",
   "pygments_lexer": "ipython3",
   "version": "3.8.11"
  },
  "orig_nbformat": 4
 },
 "nbformat": 4,
 "nbformat_minor": 2
}
