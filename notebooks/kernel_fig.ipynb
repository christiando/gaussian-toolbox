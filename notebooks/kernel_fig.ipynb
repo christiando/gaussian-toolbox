{
 "cells": [
  {
   "cell_type": "code",
   "execution_count": 1,
   "metadata": {},
   "outputs": [],
   "source": [
    "import sys\n",
    "sys.path.append('../')\n",
    "from jax import numpy as jnp\n",
    "from jax import config\n",
    "config.update(\"jax_enable_x64\", True)\n",
    "from src_jax import densities, factors\n",
    "from matplotlib import pyplot as plt"
   ]
  },
  {
   "cell_type": "code",
   "execution_count": 7,
   "metadata": {},
   "outputs": [
    {
     "data": {
      "image/png": "[encoded data removed]",
      "text/plain": [
       "<Figure size 432x432 with 1 Axes>"
      ]
     },
     "metadata": {
      "needs_background": "light"
     },
     "output_type": "display_data"
    }
   ],
   "source": [
    "w = jnp.array([1.,2])\n",
    "h_tilde = 0\n",
    "\n",
    "# Note: we have to do a transform because the factors are parametrized through natural parameters.\n",
    "kernel = factors.OneRankFactor(v=jnp.array([w]), nu=jnp.array([w * h_tilde]), ln_beta=jnp.array([-.5 * h_tilde ** 2]))\n",
    "\n",
    "grid_points = 70\n",
    "xrange = jnp.linspace(-5,5,grid_points)\n",
    "xmesh, ymesh = jnp.meshgrid(xrange, xrange)\n",
    "x = jnp.vstack([xmesh.flatten(), ymesh.flatten()]).T\n",
    "\n",
    "kernel_eval = kernel.evaluate(x).reshape(grid_points, grid_points)\n",
    "plt.figure(figsize=(6,6))\n",
    "plt.pcolor(xrange, xrange, kernel_eval, shading='nearest', cmap='YlOrBr')\n",
    "plt.arrow(.5*h_tilde/w[0],.5*h_tilde/w[1],w[0],w[1],head_width=.3, color='C3')\n",
    "\n",
    "plt.show()"
   ]
  },
  {
   "cell_type": "code",
   "execution_count": null,
   "metadata": {},
   "outputs": [],
   "source": []
  }
 ],
 "metadata": {
  "interpreter": {
   "hash": "69925804a538e9e5edfd5d6fe192793bd67cd76c6d10d3490507ec5fbbec376f"
  },
  "kernelspec": {
   "display_name": "Python 3.8.11 ('gaussian-toolbox')",
   "language": "python",
   "name": "python3"
  },
  "language_info": {
   "codemirror_mode": {
    "name": "ipython",
    "version": 3
   },
   "file_extension": ".py",
   "mimetype": "text/x-python",
   "name": "python",
   "nbconvert_exporter": "python",
   "pygments_lexer": "ipython3",
   "version": "3.8.11"
  },
  "orig_nbformat": 4
 },
 "nbformat": 4,
 "nbformat_minor": 2
}
