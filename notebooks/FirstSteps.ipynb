{
 "cells": [
  {
   "cell_type": "code",
   "execution_count": 1,
   "id": "hispanic-ending",
   "metadata": {},
   "outputs": [],
   "source": [
    "from matplotlib import pyplot\n",
    "import numpy\n",
    "from scipy.linalg import solve_triangular"
   ]
  },
  {
   "cell_type": "markdown",
   "id": "corresponding-removal",
   "metadata": {},
   "source": [
    "### General Form of a Gaussian\n",
    "\n",
    "$p(x) = \\exp(-\\frac{1}{2}x^\\top\\Lambda x + x^\\top\\nu - \\ln Z)$\n",
    "\n",
    "with $\\ln Z = \\frac{1}{2}\\nu^\\top\\Lambda^{-1}\\nu + \\frac{D}{2}\\ln 2\\pi + \\frac{1}{2}\\ln\\det(\\Lambda^{-1})$.\n",
    "\n",
    "### Relation to covariance and mean\n",
    "\n",
    "$\\Sigma = \\Lambda^{-1}$\n",
    "\n",
    "$\\mu = \\Sigma\\nu$\n",
    "\n",
    "### Form of unnormalised Gaussians\n",
    "\n",
    "$u(x) = \\exp(-\\frac{1}{2}x^\\top\\Lambda x + x^\\top\\nu + \\ln \\beta)$\n",
    "\n",
    "And the intergal is\n",
    "\n",
    "$\\int u(x) d x = \\beta Z$"
   ]
  },
  {
   "cell_type": "markdown",
   "id": "sharing-joyce",
   "metadata": {},
   "source": [
    "### List of intergals"
   ]
  },
  {
   "cell_type": "code",
   "execution_count": 9,
   "id": "noted-personality",
   "metadata": {},
   "outputs": [],
   "source": [
    "class SquaredExponential:\n",
    "    \n",
    "    def __init__(self, Lambda: numpy.ndarray, nu: numpy.ndarray=None, ln_beta: numpy.ndarray=None):\n",
    "        \"\"\" A general term, which can be added to a Gaussian.\n",
    "        \n",
    "        u(x) = beta * exp(- 0.5 * x'Lambda x + x'nu),\n",
    "    \n",
    "        D is the dimension, and R the number of Gaussians.\n",
    "\n",
    "        :param Lambda: numpy.ndarray [R, D, D]\n",
    "            Information (precision) matrix of the Gaussian distributions.\n",
    "        :param nu: numpy.ndarray [R, D]\n",
    "            Information vector of a Gaussian distribution. If None all zeros. (Default=None)\n",
    "        :param ln_beta: numpy.ndarray [R]\n",
    "            The log constant factor of the squared exponential. If None all zeros. (Default=None)\n",
    "        \"\"\"\n",
    "        \n",
    "        self.Lambda = Lambda\n",
    "        self.R, self.D = self.Lambda.shape[0], self.Lambda.shape[1]\n",
    "        if nu is None:\n",
    "            self.nu = numpy.zeros((self.R, self.D))\n",
    "        else:\n",
    "            self.nu = nu\n",
    "        if ln_beta is None:\n",
    "            self.ln_beta = numpy.zeros((self.R))\n",
    "        else:\n",
    "            self.ln_beta = ln_beta\n",
    "        self.Sigma = None\n",
    "        self.ln_det_Lambda = None\n",
    "        self.ln_det_Sigma = None\n",
    "        self.lnZ = None\n",
    "        self.mu = None\n",
    "        \n",
    "        \n",
    "    def compute_lnZ(self):\n",
    "        \"\"\" Computes the log partition function.\n",
    "        \"\"\"\n",
    "        if self.ln_det_Sigma is None:\n",
    "            self.invert_lambda()\n",
    "        nu_Lambda_nu = numpy.einsum('rd,rd->r', numpy.einsum('rdd,rd->rd', self.Sigma, self.nu), self.nu)\n",
    "        self.lnZ = .5 * (nu_Lambda_nu + self.D * numpy.log(2. * numpy.pi) + self.ln_det_Sigma)\n",
    "            \n",
    "        \n",
    "    def evaluate_ln(self, x: numpy.ndarray, r: list=[]):\n",
    "        \"\"\" Evaluates the log-exponential term at x.\n",
    "        \n",
    "        :param x: numpy.ndarray [N, D]\n",
    "            Points where the squared exponential should be evaluated.\n",
    "        :param r: list\n",
    "            Indices of densities that need to be evaluated. If empty, all densities are evaluated. (Default=[])\n",
    "            \n",
    "        :return: numpy.ndarray [N, R] or [N, len(r)]\n",
    "            Log exponential term.\n",
    "        \"\"\"\n",
    "        if len(r) == 0:\n",
    "            r = range(self.R)\n",
    "        x_Lambda_x = numpy.einsum('adc,dc->ad', numpy.einsum('abc,dc->adb', self.Lambda[r], x), x)\n",
    "        x_nu = numpy.dot(x, self.nu[r].T).T\n",
    "        return - .5 * x_Lambda_x + x_nu + self.ln_beta[r,None]\n",
    "    \n",
    "    def evaluate(self, x: numpy.ndarray, r: list=[]):\n",
    "        \"\"\" Evaluates the exponential term at x.\n",
    "        \n",
    "        :param x: numpy.ndarray [N, D]\n",
    "            Points where the squared exponential should be evaluated.\n",
    "        :param r: list\n",
    "            Indices of densities that need to be evaluated. If empty, all densities are evaluated. (Default=[])\n",
    "            \n",
    "        :return: numpy.ndarray [N, R] or [N, len(r)]\n",
    "            Exponential term.\n",
    "        \"\"\"\n",
    "        return numpy.exp(self.evaluate_ln(x, r))\n",
    "    \n",
    "    def invert_lambda(self):\n",
    "        self.Sigma, self.ln_det_Lambda = self.invert_matrix(self.Lambda)\n",
    "        self.ln_det_Sigma = -self.ln_det_Lambda\n",
    "                    \n",
    "    @staticmethod\n",
    "    def invert_matrix(A):\n",
    "        L = numpy.linalg.cholesky(A)\n",
    "        # TODO: Check whether we can make it mor efficienty with solve_triangular.\n",
    "        #L_inv = solve_triangular(L, numpy.eye(L.shape[0]), lower=True,\n",
    "        #                         check_finite=False)\n",
    "        L_inv = numpy.linalg.solve(L, numpy.eye(L.shape[1])[None])\n",
    "        A_inv = numpy.einsum('acb,acd->abd', L_inv, L_inv)\n",
    "        ln_det_A = 2. * numpy.sum(numpy.log(L.diagonal(axis1=1, axis2=2)), axis=1)\n",
    "        return A_inv, ln_det_A\n",
    "    \n",
    "    def multiply_squared_exponential(self, factor: 'SquaredExponential', r: list=[]):\n",
    "        \"\"\" Multiplies an exponential factor with another one.\n",
    "        \n",
    "        u_1(x) * u_2(x)\n",
    "        \n",
    "        :param factor: SquaredExponential\n",
    "            Factor the object is multiplied with. The number of Gaussians in the resulting object are R * factor.R\n",
    "        :param r: list\n",
    "            Indices of densities that need to be evaluated. If empty, all densities are evaluated. (Default=[])\n",
    "        \n",
    "        :return: SquaredExponential\n",
    "            The resulting object.\n",
    "        \"\"\"\n",
    "        if len(r) == 0:\n",
    "            r = range(self.R)\n",
    "        R = len(r)\n",
    "        Lambda = (self.Lambda[r,None] + factor.Lambda[None]).reshape((R * factor.R, self.D, self.D))\n",
    "        nu = (self.nu[r,None] + factor.nu[None]).reshape((R * factor.R, self.D))\n",
    "        ln_beta = (self.ln_beta[r,None] + factor.ln_beta[None]).reshape((R * factor.R))\n",
    "        product = SquaredExponential(Lambda=Lambda, nu=nu, ln_beta=ln_beta)\n",
    "        return product\n",
    "    \n",
    "    def multiply_rank_one(self, U: numpy.ndarray, G: numpy.ndarray, nu: numpy.ndarray=None, ln_beta: numpy.ndarray=None, r: list=[]):\n",
    "        \"\"\" Multiplies the exponential term with another exponential term, where the Lambda is rank 1, i.e.\n",
    "        \n",
    "        Lambda = U G U'\n",
    "            \n",
    "        Where G is an [1 x 1] diagonal matrix and U and [D x 1] with a vector. If already computed, the covariance matrix Sigma and its log-determinant are efficiently updated.\n",
    "        \n",
    "        :param U: numpy.ndarray [R1, D]\n",
    "            Vector of low rank matrix with orthogonal vectors.\n",
    "        :param G: numpy.ndarray [R1]\n",
    "            Diagonal entries of the low-rank matrix.\n",
    "        :param nu: numpy.ndarray [R1, D]\n",
    "            Information vector of the low rank part. If None all entries are zero. (Default=None)\n",
    "        :param nu: numpy.ndarray [R1]\n",
    "            Log factor of the low rank part. If None all entries are zero. (Default=None)\n",
    "        :param r: list\n",
    "            Indices of densities that need to be evaluated. If empty, all densities are evaluated. (Default=[])\n",
    "            \n",
    "        :return: Squared exponential\n",
    "            The resulting product, where the number of Gaussians is self.R * R1.\n",
    "        \"\"\"\n",
    "        if len(r) == 0:\n",
    "            r = range(self.R)\n",
    "        R = len(r)\n",
    "        R1 = G.shape[0]\n",
    "        UGU = numpy.einsum('rd,rs->rds', U, G[:,None] * U)\n",
    "        Lambda_new = (self.Lambda[r,None] + UGU[None]).reshape((R * R1, self.D, self.D))\n",
    "        if nu is None:\n",
    "            nu_new = numpy.tile(self.nu, (R1, 1))\n",
    "        else:\n",
    "            nu_new = (self.nu[r,None] + nu[None]).reshape((R * R1, self.D))\n",
    "        if ln_beta is None:\n",
    "            ln_beta_new = numpy.tile(self.ln_beta, (R1))\n",
    "        else:\n",
    "            ln_beta_new = (self.ln_beta[r,None] + ln_beta[None]).reshape((R * R1))\n",
    "        print(nu_new)\n",
    "        product = SquaredExponential(Lambda=Lambda_new, nu=nu_new, ln_beta=ln_beta_new)\n",
    "        \n",
    "        # if the Sigma of the object is known the Sherman-morrison formula and the matrix determinant lemma are used for efficient update of the inverses and the log determinants.\n",
    "        if self.Sigma is not None and self.ln_det_Sigma is not None:\n",
    "            # Sherman morrison inversion\n",
    "            G_inv = 1. / G\n",
    "            Sigma_U = numpy.einsum('rsdd,rsd->rsd', self.Sigma[r,None], U[None])\n",
    "            U_Sigma_U = numpy.einsum('rsd,rsd->rs', Sigma_U, U[None])\n",
    "            denominator = 1. + G[None] * U_Sigma_U\n",
    "            nominator = G[None] * numpy.einsum('rsd,rsk->rsdk', Sigma_U, Sigma_U)\n",
    "            Sigma_new = self.Sigma[r, None] - nominator / denominator[:,:,None,None]\n",
    "            product.Sigma = Sigma_new.reshape((R*R1, self.D, self.D))\n",
    "            # Matrix determinant lemma\n",
    "            ln_det_Sigma_new = self.ln_det_Sigma[r,None] - numpy.log(denominator)\n",
    "            product.ln_det_Sigma = ln_det_Sigma_new.reshape((R * R1))\n",
    "            product.ln_det_Lambda = -product.ln_det_Sigma\n",
    "        return product\n",
    "    \n",
    "    def log_integral(self):\n",
    "        \"\"\" Computes the log integral of the exponential term.\n",
    "        \n",
    "        log \\int u(x) dx.\n",
    "        \n",
    "        :return: numpy.ndarray [R]\n",
    "            Log integral\n",
    "        \"\"\"\n",
    "        self._prepare_inegration()\n",
    "        return self.lnZ + self.ln_beta\n",
    "    \n",
    "    def integral(self):\n",
    "        \"\"\" Computes the log integral of the exponential term.\n",
    "        \n",
    "        \\int u(x) dx.\n",
    "        \n",
    "        :return: numpy.ndarray [R]\n",
    "            Integral\n",
    "        \"\"\"\n",
    "        return numpy.exp(self.log_integral())\n",
    "    \n",
    "    def normalize(self):\n",
    "        \"\"\" Normalizes the term such that\n",
    "        \n",
    "        int u(x) dx = 1.\n",
    "        \"\"\"\n",
    "        self.ln_beta = -self.log_integral()\n",
    "        \n",
    "    def is_normalized(self):\n",
    "        return numpy.equal(self.lnZ, -self.ln_beta)\n",
    "    \n",
    "    def compute_mu(self):\n",
    "        \"\"\" Converts from information to mean vector.\n",
    "        \n",
    "        :return: numpy.ndarray [R, D]\n",
    "            Mean vector.\n",
    "        \"\"\"\n",
    "        if self.Sigma is None:\n",
    "            self.invert_lambda()\n",
    "        self.mu = numpy.einsum('abc,ac->ab', self.Sigma, self.nu)\n",
    "    \n",
    "    def get_density(self):\n",
    "        \"\"\" Returns the corresponing normalised density object.\n",
    "        \n",
    "        :return: GaussianDensity\n",
    "            Corresponding density object.\n",
    "        \"\"\"\n",
    "        self._prepare_inegration()\n",
    "        return GaussianDensity(Sigma=self.Sigma, mu=mu, Lambda=self.Lambda, ln_det_Sigma=self.ln_det_Sigma)\n",
    "    \n",
    "    def _prepare_inegration(self):\n",
    "        if self.lnZ is None:\n",
    "            self.compute_lnZ()\n",
    "        if self.mu is None:\n",
    "            self.compute_mu()\n",
    "            \n",
    "    def _expectation_x(self):\n",
    "        \"\"\" Computes the expectation.\n",
    "        \n",
    "            int x du(x) / int du(x)\n",
    "        \n",
    "        :return: numpy.ndarray [R, D]\n",
    "            The solved intergal.\n",
    "        \"\"\"\n",
    "        return self.mu \n",
    "            \n",
    "    def intergrate_x(self):\n",
    "        \"\"\" Computes the integral.\n",
    "        \n",
    "            int x du(x)\n",
    "        \n",
    "        :return: numpy.ndarray [R, D]\n",
    "            The solved intergal.\n",
    "        \"\"\"\n",
    "        constant = self.integral()\n",
    "        return constant[:,None] * self._expectation_x()\n",
    "    \n",
    "    def _expectation_xx(self):\n",
    "        \"\"\" Computes the expectation.\n",
    "        \n",
    "            int xx' du(x) / int du(x)\n",
    "        \n",
    "        :return: numpy.ndarray [R, D, D]\n",
    "            The solved intergal.\n",
    "        \"\"\"\n",
    "        return self.Sigma + numpy.einsum('ab,ac->acb', self.mu, self.mu)\n",
    "    \n",
    "    def intergrate_xx(self):\n",
    "        \"\"\" Computes the integral.\n",
    "        \n",
    "            int xx' du(x)\n",
    "        \n",
    "        :return: numpy.ndarray [R, D, D]\n",
    "            The solved intergal.\n",
    "        \"\"\"\n",
    "        constant = self.integral()\n",
    "        return constant[:,None,None] * self._expectation_xx()\n",
    "    \n",
    "    def _expectation_xbxx(self, b: numpy.ndarray):\n",
    "        \"\"\" Computes the cubic expectation.\n",
    "        \n",
    "            int xb'xx' du(x)\n",
    "        :param b: numpy.ndarray [D,]\n",
    "            Vector of \n",
    "        :return: numpy.ndarray [R, D, D]\n",
    "            The solved intergal.\n",
    "        \"\"\"\n",
    "        constant = self.integral()\n",
    "        Exx = self._expectation_xx()\n",
    "        mub_outer = numpy.einsum('ab,c->abc', self.mu, b)\n",
    "        mbExx = numpy.einsum('abc,acd->abd', mub_outer, Exx)\n",
    "        bmu_inner = numpy.einsum('ab,b->a', self.mu, b)\n",
    "        bmSigma = numpy.einsum('a,abc->abc', bmu_inner, self.Sigma)\n",
    "        bmu_outer = numpy.einsum('a,bc->bac', b, self.mu)\n",
    "        Sigmabm = numpy.einsum('abd,ade->abe', self.Sigma, bmu_outer)\n",
    "        return mbExx + bmSigma + Sigmabm\n",
    "    \n",
    "    def intergate_xbxx(self, b: numpy.ndarray):\n",
    "        \"\"\" Computes the cubic integral.\n",
    "        \n",
    "            int xb'xx' du(x)\n",
    "        :param b: numpy.ndarray [D,]\n",
    "            Vector of \n",
    "        :return: numpy.ndarray [R, D, D]\n",
    "            The solved intergal.\n",
    "        \"\"\"\n",
    "        constant = self.integral()\n",
    "        return constant[:,None,None] * self._expectation_xbxx(b)\n",
    "\n",
    "    \n",
    "class DiagonalSquaredExponential(SquaredExponential):\n",
    "    \n",
    "    def invert_lambda(self):\n",
    "        self.Sigma = numpy.diag(self.Lambda.diagonal())\n",
    "        self.ln_det_Lambda = numpy.sum(numpy.log(self.Lambda.diagonal()))\n",
    "        self.ln_det_Sigma = -self.ln_det_Lambda   \n",
    "    \n",
    "class GaussianDensity(SquaredExponential):\n",
    "    \n",
    "    def __init__(self, Sigma: numpy.ndarray, mu: numpy.ndarray, Lambda: numpy.ndarray=None, ln_det_Sigma: numpy.ndarray=None):\n",
    "        \"\"\" A normalized Gaussian density, with specified mean and covariance matrix.\n",
    "        \n",
    "        :param Sigma: numpy.ndarray [R, D, D]\n",
    "            Covariance matrices of the Gaussian densities.\n",
    "        :param mu: numpy.ndarray [R, D]\n",
    "            Mean of the Gaussians.\n",
    "        :param Lambda: numpy.ndarray [R, D, D] or None\n",
    "            Information (precision) matrix of the Gaussians. (Default=None)\n",
    "        :param ln_det_Sigma: numpy.ndarray [R] or None\n",
    "            Log determinant of the covariance matrix. (Default=None)\n",
    "        \"\"\"\n",
    "        if Lambda is None:\n",
    "            Lambda, ln_det_Sigma = self.invert_matrix(Sigma)\n",
    "        elif ln_det_Sigma is None:\n",
    "            ln_det_Sigma = numpy.linalg.slogdet(Sigma)[1]\n",
    "        nu = numpy.einsum('abc,ab->ac', Lambda, mu)\n",
    "        super().__init__(Lambda=Lambda, nu=nu)\n",
    "        self.Sigma = Sigma\n",
    "        self.ln_det_Sigma = ln_det_Sigma\n",
    "        self.ln_det_Lambda = -ln_det_Sigma\n",
    "        self.normalize()\n",
    "        \n",
    "    def sample(self, num_samples: int):\n",
    "        L = numpy.linalg.cholesky(self.Sigma)\n",
    "        rand_nums = numpy.random.randn(num_samples, self.R, self.D)\n",
    "        x_samples = self.mu[None] + numpy.einsum('abc,dac->dab', L, rand_nums)\n",
    "        return x_samples\n",
    "                                       \n",
    "class SphericalGaussianDensity(GaussianDensity):\n",
    "    \n",
    "    def __init__(self, Sigma: numpy.ndarray, mu: numpy.ndarray, Lambda: numpy.ndarray=None, ln_det_Sigma: numpy.ndarray=None):\n",
    "        \"\"\" A normalized Gaussian density, with specified mean and covariance matrix.\n",
    "        \n",
    "        :param Sigma: numpy.ndarray [R, D, D]\n",
    "            Covariance matrices of the Gaussian densities.\n",
    "        :param mu: numpy.ndarray [R, D]\n",
    "            Mean of the Gaussians.\n",
    "        :param Lambda: numpy.ndarray [R, D, D] or None\n",
    "            Information (precision) matrix of the Gaussians. (Default=None)\n",
    "        :param ln_det_Sigma: numpy.ndarray [R] or None\n",
    "            Log determinant of the covariance matrix. (Default=None)\n",
    "        \"\"\"\n",
    "        if Lambda is None:\n",
    "            Lambda = numpy.diag(Sigma.diagonal())\n",
    "            ln_det_Sigma = numpy.sum(numpy.log(Sigma.diagonal()))\n",
    "        elif ln_det_Sigma is None:\n",
    "            ln_det_Sigma = numpy.sum(numpy.log(Sigma.diagonal()))\n",
    "        nu = numpy.einsum('abc,ac->ab', Lambda, mu)\n",
    "        super().__init__(Lambda=Lambda, nu=nu)\n",
    "        self.Sigma = Sigma\n",
    "        self.ln_det_Sigma = ln_det_Sigma\n",
    "        self.ln_det_Lambda = -ln_det_Sigma\n",
    "        self.mu = mu\n",
    "        self.normalize()"
   ]
  },
  {
   "cell_type": "markdown",
   "id": "secure-wisdom",
   "metadata": {},
   "source": [
    "### Test for 1 D"
   ]
  },
  {
   "cell_type": "code",
   "execution_count": 10,
   "id": "independent-blues",
   "metadata": {},
   "outputs": [],
   "source": [
    "R, D, R1 = 2, 1, 1\n",
    "rand_nums = numpy.random.randn(D,D)\n",
    "Sigma_phi = .5 * (rand_nums + rand_nums.T) + D * numpy.eye(D)\n",
    "Sigma_phi = numpy.tile(Sigma_phi, (R, 1, 1))\n",
    "mu_phi = numpy.random.randn(R, D)\n",
    "phi = GaussianDensity(Sigma=Sigma_phi, mu=mu_phi)"
   ]
  },
  {
   "cell_type": "code",
   "execution_count": 11,
   "id": "original-journal",
   "metadata": {},
   "outputs": [
    {
     "data": {
      "image/png": "[encoded data removed]",
      "text/plain": [
       "<Figure size 432x288 with 2 Axes>"
      ]
     },
     "metadata": {
      "needs_background": "light"
     },
     "output_type": "display_data"
    }
   ],
   "source": [
    "from scipy.stats import norm\n",
    "\n",
    "xrange = numpy.linspace(-7,7,1000)\n",
    "for ir in range(R):\n",
    "    pyplot.subplot(R, 1, ir+1)\n",
    "    scipy_gauss = norm.pdf(xrange, loc=mu_phi[ir], scale=numpy.sqrt(Sigma_phi[ir,0,0]))\n",
    "    pyplot.hist(phi.sample(2000)[:,ir], bins=40, density=True, label='Sample')\n",
    "    pyplot.plot(xrange, phi.evaluate(numpy.array([xrange]).T)[ir], label='Custom')\n",
    "    pyplot.plot(xrange, scipy_gauss, '--', label='scipy')\n",
    "pyplot.legend()\n",
    "pyplot.show()"
   ]
  },
  {
   "cell_type": "markdown",
   "id": "desperate-folder",
   "metadata": {},
   "source": [
    "### Test for integral x"
   ]
  },
  {
   "cell_type": "code",
   "execution_count": 12,
   "id": "suited-oxygen",
   "metadata": {},
   "outputs": [],
   "source": [
    "R, D, R1 = 10, 1, 1\n",
    "rand_nums = numpy.random.randn(D,D)\n",
    "Sigma_phi = .5 * numpy.dot(rand_nums, rand_nums.T) + D * numpy.eye(D)\n",
    "Sigma_phi = numpy.tile(Sigma_phi, (R, 1, 1))\n",
    "mu_phi = numpy.random.randn(R, D)\n",
    "phi = GaussianDensity(Sigma=Sigma_phi, mu=mu_phi)"
   ]
  },
  {
   "cell_type": "code",
   "execution_count": 13,
   "id": "preliminary-encoding",
   "metadata": {},
   "outputs": [
    {
     "data": {
      "text/plain": [
       "[<matplotlib.lines.Line2D at 0x7f6a5fd3c430>]"
      ]
     },
     "execution_count": 13,
     "metadata": {},
     "output_type": "execute_result"
    },
    {
     "data": {
      "image/png": "[encoded data removed]",
      "text/plain": [
       "<Figure size 288x288 with 1 Axes>"
      ]
     },
     "metadata": {
      "needs_background": "light"
     },
     "output_type": "display_data"
    }
   ],
   "source": [
    "x_sample = numpy.mean(phi.sample(2000), axis=0)\n",
    "pyplot.figure(figsize=(4,4))\n",
    "pyplot.plot([1.1 * numpy.amin(x_sample), 1.1 * numpy.amax(x_sample)], [1.1 * numpy.amin(x_sample), 1.1 * numpy.amax(x_sample)] ,'k')\n",
    "pyplot.plot(x_sample, phi.intergrate_x()[:,0], 'C3o')"
   ]
  },
  {
   "cell_type": "code",
   "execution_count": 16,
   "id": "preliminary-contest",
   "metadata": {},
   "outputs": [],
   "source": [
    "R, D, R1 = 10, 3, 1\n",
    "rand_nums = numpy.random.randn(D,D)\n",
    "Sigma_phi = .5 * numpy.dot(rand_nums, rand_nums.T) + D * numpy.eye(D)\n",
    "Sigma_phi = numpy.tile(Sigma_phi, (R, 1, 1))\n",
    "mu_phi = numpy.random.randn(R, D)\n",
    "phi = GaussianDensity(Sigma=Sigma_phi, mu=mu_phi)"
   ]
  },
  {
   "cell_type": "code",
   "execution_count": 17,
   "id": "polished-default",
   "metadata": {},
   "outputs": [
    {
     "data": {
      "text/plain": [
       "[<matplotlib.lines.Line2D at 0x7f6a5fc86280>]"
      ]
     },
     "execution_count": 17,
     "metadata": {},
     "output_type": "execute_result"
    },
    {
     "data": {
      "image/png": "[encoded data removed]",
      "text/plain": [
       "<Figure size 288x288 with 1 Axes>"
      ]
     },
     "metadata": {
      "needs_background": "light"
     },
     "output_type": "display_data"
    }
   ],
   "source": [
    "x_sample = numpy.mean(phi.sample(2000), axis=0)\n",
    "pyplot.figure(figsize=(4,4))\n",
    "pyplot.plot([1.1 * numpy.amin(x_sample), 1.1 * numpy.amax(x_sample)], [1.1 * numpy.amin(x_sample), 1.1 * numpy.amax(x_sample)] ,'k')\n",
    "pyplot.plot(x_sample.flatten(), phi.intergrate_x().flatten(), 'C3o')"
   ]
  },
  {
   "cell_type": "markdown",
   "id": "twenty-syndication",
   "metadata": {},
   "source": [
    "### Test for intergal xx"
   ]
  },
  {
   "cell_type": "code",
   "execution_count": 18,
   "id": "developmental-invalid",
   "metadata": {},
   "outputs": [],
   "source": [
    "R, D, R1 = 10, 2, 1\n",
    "rand_nums = numpy.random.randn(D,D)\n",
    "Sigma_phi = numpy.dot(rand_nums, rand_nums.T) + D * numpy.eye(D)\n",
    "Sigma_phi = numpy.tile(Sigma_phi, (R, 1, 1))\n",
    "mu_phi = numpy.random.randn(R, D)\n",
    "phi = GaussianDensity(Sigma=Sigma_phi, mu=mu_phi)"
   ]
  },
  {
   "cell_type": "code",
   "execution_count": 19,
   "id": "unnecessary-leather",
   "metadata": {},
   "outputs": [
    {
     "data": {
      "text/plain": [
       "[<matplotlib.lines.Line2D at 0x7f6a5fbe1e80>]"
      ]
     },
     "execution_count": 19,
     "metadata": {},
     "output_type": "execute_result"
    },
    {
     "data": {
      "image/png": "[encoded data removed]",
      "text/plain": [
       "<Figure size 288x288 with 1 Axes>"
      ]
     },
     "metadata": {
      "needs_background": "light"
     },
     "output_type": "display_data"
    }
   ],
   "source": [
    "x_sample = phi.sample(100000)\n",
    "x2_sample = numpy.mean(x_sample[:,:,None] * x_sample[:,:,:,None], axis=0)\n",
    "pyplot.figure(figsize=(4,4))\n",
    "pyplot.plot([1.1 * numpy.amin(x2_sample), 1.1 * numpy.amax(x2_sample)], [1.1 * numpy.amin(x2_sample), 1.1 * numpy.amax(x2_sample)] ,'k')\n",
    "pyplot.plot(x2_sample.flatten(), phi.intergrate_xx().flatten(), 'C3o')"
   ]
  },
  {
   "cell_type": "markdown",
   "id": "great-poverty",
   "metadata": {},
   "source": [
    "### Test for intergal xbxx"
   ]
  },
  {
   "cell_type": "code",
   "execution_count": 22,
   "id": "signed-opposition",
   "metadata": {},
   "outputs": [],
   "source": [
    "R, D, R1 = 10, 5, 1\n",
    "rand_nums = numpy.random.randn(D,D)\n",
    "Sigma_phi = .5*(numpy.dot(rand_nums, rand_nums.T) + D * numpy.eye(D))\n",
    "Sigma_phi = numpy.tile(Sigma_phi, (R, 1, 1))\n",
    "mu_phi =numpy.random.randn(R, D)\n",
    "phi = GaussianDensity(Sigma=Sigma_phi, mu=mu_phi)\n",
    "b = numpy.random.randn(D)"
   ]
  },
  {
   "cell_type": "code",
   "execution_count": 23,
   "id": "optical-president",
   "metadata": {},
   "outputs": [
    {
     "data": {
      "text/plain": [
       "[<matplotlib.lines.Line2D at 0x7f6a5fdb0880>]"
      ]
     },
     "execution_count": 23,
     "metadata": {},
     "output_type": "execute_result"
    },
    {
     "data": {
      "image/png": "[encoded data removed]",
      "text/plain": [
       "<Figure size 432x288 with 1 Axes>"
      ]
     },
     "metadata": {
      "needs_background": "light"
     },
     "output_type": "display_data"
    }
   ],
   "source": [
    "i = 0\n",
    "x_sample = phi.sample(1000)\n",
    "Sigma_mumu_samples = x_sample[:,:,:,None] * x_sample[:,:,None]\n",
    "xbxx_sample = numpy.mean(x_sample[:,:,:,None] * numpy.sum(b[None,None,:,None] * Sigma_mumu_samples, axis=2)[:,:,None], axis=0)\n",
    "#xbxx_sample = numpy.mean(x_sample[:,:,:,None] * numpy.sum((b * x_sample[:,:,:,None] * x_sample[:,:,None]), axis=3)[:,:,None], axis=0)\n",
    "#xbxx_sample = numpy.mean(b * x_sample ** 3, axis=0)\n",
    "xbxx_phi = phi.intergate_xbxx(b)\n",
    "pyplot.plot([1.1 * numpy.amin(xbxx_sample), 1.1 * numpy.amax(xbxx_sample)], [1.1 * numpy.amin(xbxx_sample), 1.1 * numpy.amax(xbxx_sample)] ,'k')\n",
    "pyplot.plot(xbxx_sample.flatten(), xbxx_phi.flatten(), 'C3o')"
   ]
  },
  {
   "cell_type": "markdown",
   "id": "nasty-catch",
   "metadata": {},
   "source": [
    "## Test 2D case"
   ]
  },
  {
   "cell_type": "code",
   "execution_count": 24,
   "id": "indie-rings",
   "metadata": {},
   "outputs": [],
   "source": [
    "R, D, R1 = 1, 2, 1\n",
    "rand_nums = numpy.random.randn(D,D)\n",
    "Sigma_phi = .8 * numpy.eye(D) - .2\n",
    "Sigma_phi = numpy.tile(Sigma_phi, (R, 1, 1))\n",
    "mu_phi = numpy.zeros((R, D))\n",
    "mu_phi[0,0] = 2 \n",
    "phi = GaussianDensity(Sigma=Sigma_phi, mu=mu_phi)\n",
    "x_samples = phi.sample(100000)\n",
    "numpy_samples = numpy.random.multivariate_normal(mu_phi[0], Sigma_phi[0], 100000)"
   ]
  },
  {
   "cell_type": "code",
   "execution_count": 25,
   "id": "increased-reproduction",
   "metadata": {},
   "outputs": [
    {
     "data": {
      "image/png": "[encoded data removed]",
      "text/plain": [
       "<Figure size 432x432 with 1 Axes>"
      ]
     },
     "metadata": {
      "needs_background": "light"
     },
     "output_type": "display_data"
    }
   ],
   "source": [
    "pyplot.figure(figsize=(6,6))\n",
    "xrange = numpy.linspace(-5,5,100)\n",
    "xmesh, ymesh = numpy.meshgrid(xrange, xrange)\n",
    "x_grid = numpy.vstack([xmesh.flatten(), ymesh.flatten()])\n",
    "density = phi.evaluate(x_grid.T)[0].reshape((100,100))\n",
    "hist, xedges, yedges =  numpy.histogram2d(x_samples[:,0,1], x_samples[:,0,0], range=[[-5,5], [-5,5]], bins=100)\n",
    "numpy_hist, xedges, yedges =  numpy.histogram2d(numpy_samples[:,1], numpy_samples[:,0], range=[[-5,5], [-5,5]], bins=100)\n",
    "ax1 = pyplot.subplot(111)\n",
    "pyplot.pcolor(xrange, xrange, density, shading='auto')\n",
    "#pyplot.pcolor(xedges[:-1], yedges[:-1], numpy_hist, shading='auto')\n",
    "pyplot.contour(xedges[:-1], yedges[:-1], hist, cmap='inferno')\n",
    "pyplot.show()"
   ]
  },
  {
   "cell_type": "code",
   "execution_count": null,
   "id": "cheap-violin",
   "metadata": {},
   "outputs": [],
   "source": []
  }
 ],
 "metadata": {
  "kernelspec": {
   "display_name": "Python 3",
   "language": "python",
   "name": "python3"
  },
  "language_info": {
   "codemirror_mode": {
    "name": "ipython",
    "version": 3
   },
   "file_extension": ".py",
   "mimetype": "text/x-python",
   "name": "python",
   "nbconvert_exporter": "python",
   "pygments_lexer": "ipython3",
   "version": "3.8.6"
  }
 },
 "nbformat": 4,
 "nbformat_minor": 5
}
