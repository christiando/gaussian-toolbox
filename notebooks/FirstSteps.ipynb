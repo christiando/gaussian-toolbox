{
 "cells": [
  {
   "cell_type": "code",
   "execution_count": 291,
   "id": "invalid-bennett",
   "metadata": {},
   "outputs": [],
   "source": [
    "from matplotlib import pyplot\n",
    "import numpy\n",
    "from scipy.linalg import solve_triangular"
   ]
  },
  {
   "cell_type": "markdown",
   "id": "reserved-technical",
   "metadata": {},
   "source": [
    "### General Form of a Gaussian\n",
    "\n",
    "$p(x) = \\exp(-\\frac{1}{2}x^\\top\\Lambda x + x^\\top\\nu - \\ln Z)$\n",
    "\n",
    "with $\\ln Z = \\frac{1}{2}\\nu^\\top\\Lambda^{-1}\\nu + \\frac{D}{2}\\ln 2\\pi + \\frac{1}{2}\\ln\\det(\\Lambda^{-1})$.\n",
    "\n",
    "### Relation to covariance and mean\n",
    "\n",
    "$\\Sigma = \\Lambda^{-1}$\n",
    "\n",
    "$\\mu = \\Sigma\\nu$\n",
    "\n",
    "### Form of unnormalised Gaussians\n",
    "\n",
    "$u(x) = \\exp(-\\frac{1}{2}x^\\top\\Lambda x + x^\\top\\nu + \\ln \\beta)$\n",
    "\n",
    "And the intergal is\n",
    "\n",
    "$\\int u(x) d x = \\beta Z$"
   ]
  },
  {
   "cell_type": "markdown",
   "id": "quarterly-fetish",
   "metadata": {},
   "source": [
    "### List of intergals"
   ]
  },
  {
   "cell_type": "code",
   "execution_count": 1147,
   "id": "square-victoria",
   "metadata": {},
   "outputs": [],
   "source": [
    "class SquaredExponential:\n",
    "    \n",
    "    def __init__(self, Lambda: numpy.ndarray, nu: numpy.ndarray=None, ln_beta: numpy.ndarray=None):\n",
    "        \"\"\" A general term, which can be added to a Gaussian.\n",
    "        \n",
    "        u(x) = beta * exp(- 0.5 * x'Lambda x + x'nu),\n",
    "    \n",
    "        D is the dimension, and R the number of Gaussians.\n",
    "\n",
    "        :param Lambda: numpy.ndarray [R, D, D]\n",
    "            Information (precision) matrix of the Gaussian distributions.\n",
    "        :param nu: numpy.ndarray [R, D]\n",
    "            Information vector of a Gaussian distribution. If None all zeros. (Default=None)\n",
    "        :param ln_beta: numpy.ndarray [R]\n",
    "            The log constant factor of the squared exponential. If None all zeros. (Default=None)\n",
    "        \"\"\"\n",
    "        \n",
    "        self.Lambda = Lambda\n",
    "        self.R, self.D = self.Lambda.shape[0], self.Lambda.shape[1]\n",
    "        if nu is None:\n",
    "            self.nu = numpy.zeros((self.R, self.D))\n",
    "        else:\n",
    "            self.nu = nu\n",
    "        if ln_beta is None:\n",
    "            self.ln_beta = numpy.zeros((self.R))\n",
    "        else:\n",
    "            self.ln_beta = ln_beta\n",
    "        self.Sigma = None\n",
    "        self.ln_det_Lambda = None\n",
    "        self.ln_det_Sigma = None\n",
    "        self.lnZ = None\n",
    "        self.mu = None\n",
    "        \n",
    "        \n",
    "    def compute_lnZ(self):\n",
    "        \"\"\" Computes the log partition function.\n",
    "        \"\"\"\n",
    "        if self.ln_det_Sigma is None:\n",
    "            self.invert_lambda()\n",
    "        nu_Lambda_nu = numpy.einsum('rd,rd->r', numpy.einsum('rdd,rd->rd', self.Sigma[r], self.nu), self.nu)\n",
    "        self.lnZ = .5 * (nu_Lambda_nu + self.D * numpy.log(2. * numpy.pi) + self.ln_det_Sigma)\n",
    "            \n",
    "        \n",
    "    def evaluate_ln(self, x: numpy.ndarray, r: list=[]):\n",
    "        \"\"\" Evaluates the log-exponential term at x.\n",
    "        \n",
    "        :param x: numpy.ndarray [N, D]\n",
    "            Points where the squared exponential should be evaluated.\n",
    "        :param r: list\n",
    "            Indices of densities that need to be evaluated. If empty, all densities are evaluated. (Default=[])\n",
    "            \n",
    "        :return: numpy.ndarray [N, R] or [N, len(r)]\n",
    "            Log exponential term.\n",
    "        \"\"\"\n",
    "        if len(r) == 0:\n",
    "            r = range(self.R)\n",
    "        x_Lambda_x = numpy.einsum('nrd,nd->nr', numpy.einsum('rdd,nd->nrd', self.Lambda[r], x), x)\n",
    "        x_nu = numpy.dot(x, self.nu[r].T)\n",
    "        return - .5 * x_Lambda_x + x_nu + self.ln_beta[r]\n",
    "    \n",
    "    def evaluate(self, x: numpy.ndarray, r: list=[]):\n",
    "        \"\"\" Evaluates the exponential term at x.\n",
    "        \n",
    "        :param x: numpy.ndarray [N, D]\n",
    "            Points where the squared exponential should be evaluated.\n",
    "        :param r: list\n",
    "            Indices of densities that need to be evaluated. If empty, all densities are evaluated. (Default=[])\n",
    "            \n",
    "        :return: numpy.ndarray [N, R] or [N, len(r)]\n",
    "            Exponential term.\n",
    "        \"\"\"\n",
    "        return numpy.exp(self.evaluate_ln(x, r))\n",
    "    \n",
    "    def invert_lambda(self):\n",
    "        self.Sigma, self.ln_det_Lambda = self.invert_matrix(self.Lambda)\n",
    "        self.ln_det_Sigma = -self.ln_det_Lambda\n",
    "                    \n",
    "    @staticmethod\n",
    "    def invert_matrix(A):\n",
    "        L = numpy.linalg.cholesky(A)\n",
    "        # TODO: Check whether we can make it mor efficienty with solve_triangular.\n",
    "        #L_inv = solve_triangular(L, numpy.eye(L.shape[0]), lower=True,\n",
    "        #                         check_finite=False)\n",
    "        L_inv = numpy.linalg.solve(L, numpy.eye(L.shape[1])[None])\n",
    "        A_inv = numpy.einsum('rdl,rld->rdl', L_inv, L_inv)\n",
    "        ln_det_A = 2 * numpy.sum(numpy.log(L.diagonal(axis1=1, axis2=2)), axis=1)\n",
    "        return A_inv, ln_det_A\n",
    "    \n",
    "    def multiply_squared_exponential(self, factor: SquaredExponential, r: list=[]):\n",
    "        \"\"\" Multiplies an exponential factor with another one.\n",
    "        \n",
    "        u_1(x) * u_2(x)\n",
    "        \n",
    "        :param factor: SquaredExponential\n",
    "            Factor the object is multiplied with. The number of Gaussians in the resulting object are R * factor.R\n",
    "        :param r: list\n",
    "            Indices of densities that need to be evaluated. If empty, all densities are evaluated. (Default=[])\n",
    "        \n",
    "        :return: SquaredExponential\n",
    "            The resulting object.\n",
    "        \"\"\"\n",
    "        if len(r) == 0:\n",
    "            r = range(self.R)\n",
    "        R = len(r)\n",
    "        Lambda = (self.Lambda[r,None] + factor.Lambda[None]).reshape((R * factor.R, self.D, self.D))\n",
    "        nu = (self.nu[r,None] + factor.nu[None]).reshape((R * factor.R, self.D))\n",
    "        ln_beta = (self.ln_beta[r,None] + factor.ln_beta[None]).reshape((R * factor.R))\n",
    "        product = SquaredExponential(Lambda=Lambda, nu=nu, ln_beta=ln_beta)\n",
    "        return product\n",
    "    \n",
    "    def multiply_rank_one(self, U: numpy.ndarray, G: numpy.ndarray, nu: numpy.ndarray=None, ln_beta: numpy.ndarray=None, r: list=[]):\n",
    "        \"\"\" Multiplies the exponential term with another exponential term, where the Lambda is rank 1, i.e.\n",
    "        \n",
    "        Lambda = U G U'\n",
    "            \n",
    "        Where G is an [1 x 1] diagonal matrix and U and [D x 1] with a vector. If already computed, the covariance matrix Sigma and its log-determinant are efficiently updated.\n",
    "        \n",
    "        :param U: numpy.ndarray [R1, D]\n",
    "            Vector of low rank matrix with orthogonal vectors.\n",
    "        :param G: numpy.ndarray [R1]\n",
    "            Diagonal entries of the low-rank matrix.\n",
    "        :param nu: numpy.ndarray [R1, D]\n",
    "            Information vector of the low rank part. If None all entries are zero. (Default=None)\n",
    "        :param nu: numpy.ndarray [R1]\n",
    "            Log factor of the low rank part. If None all entries are zero. (Default=None)\n",
    "        :param r: list\n",
    "            Indices of densities that need to be evaluated. If empty, all densities are evaluated. (Default=[])\n",
    "            \n",
    "        :return: Squared exponential\n",
    "            The resulting product, where the number of Gaussians is self.R * R1.\n",
    "        \"\"\"\n",
    "        if len(r) == 0:\n",
    "            r = range(self.R)\n",
    "        R = len(r)\n",
    "        R1 = G.shape[0]\n",
    "        UGU = numpy.einsum('rd,rs->rds', U, G[:,None] * U)\n",
    "        Lambda_new = (self.Lambda[r,None] + UGU[None]).reshape((R * R1, self.D, self.D))\n",
    "        if nu is None:\n",
    "            nu_new = numpy.tile(self.nu, (R1, 1))\n",
    "        else:\n",
    "            nu_new = (self.nu[r,None] + nu[None]).reshape((R * R1, self.D))\n",
    "        if ln_beta is None:\n",
    "            ln_beta_new = numpy.tile(self.ln_beta, (R1))\n",
    "        else:\n",
    "            ln_beta_new = (self.ln_beta[r,None] + ln_beta[None]).reshape((R * R1))\n",
    "        print(nu_new)\n",
    "        product = SquaredExponential(Lambda=Lambda_new, nu=nu_new, ln_beta=ln_beta_new)\n",
    "        \n",
    "        # if the Sigma of the object is known the Sherman-morrison formula and the matrix determinant lemma are used for efficient update of the inverses and the log determinants.\n",
    "        if self.Sigma is not None and self.ln_det_Sigma is not None:\n",
    "            # Sherman morrison inversion\n",
    "            G_inv = 1. / G\n",
    "            Sigma_U = numpy.einsum('rsdd,rsd->rsd', self.Sigma[r,None], U[None])\n",
    "            U_Sigma_U = numpy.einsum('rsd,rsd->rs', Sigma_U, U[None])\n",
    "            denominator = 1. + G[None] * U_Sigma_U\n",
    "            nominator = G[None] * numpy.einsum('rsd,rsk->rsdk', Sigma_U, Sigma_U)\n",
    "            Sigma_new = self.Sigma[r, None] - nominator / denominator[:,:,None,None]\n",
    "            product.Sigma = Sigma_new.reshape((R*R1, self.D, self.D))\n",
    "            # Matrix determinant lemma\n",
    "            ln_det_Sigma_new = self.ln_det_Sigma[r,None] - numpy.log(denominator)\n",
    "            product.ln_det_Sigma = ln_det_Sigma_new.reshape((R * R1))\n",
    "            product.ln_det_Lambda = -product.ln_det_Sigma\n",
    "        return product\n",
    "    \n",
    "    def log_integral(self):\n",
    "        \"\"\" Computes the log integral of the exponential term.\n",
    "        \n",
    "        log \\int u(x) dx.\n",
    "        \n",
    "        :return: numpy.ndarray [R]\n",
    "            Log integral\n",
    "        \"\"\"\n",
    "        self._prepare_inegration()\n",
    "        return self.lnZ + self.ln_beta\n",
    "    \n",
    "    def integral(self):\n",
    "        \"\"\" Computes the log integral of the exponential term.\n",
    "        \n",
    "        \\int u(x) dx.\n",
    "        \n",
    "        :return: numpy.ndarray [R]\n",
    "            Integral\n",
    "        \"\"\"\n",
    "        return numpy.exp(self.log_integral())\n",
    "    \n",
    "    def normalize(self):\n",
    "        \"\"\" Normalizes the term such that\n",
    "        \n",
    "        int u(x) dx = 1.\n",
    "        \"\"\"\n",
    "        self.ln_beta = -self.log_integral()\n",
    "        \n",
    "    def is_normalized(self):\n",
    "        return numpy.equal(self.lnZ, -self.ln_beta)\n",
    "    \n",
    "    def compute_mu(self):\n",
    "        \"\"\" Converts from information to mean vector.\n",
    "        \n",
    "        :return: numpy.ndarray [R, D]\n",
    "            Mean vector.\n",
    "        \"\"\"\n",
    "        if self.Sigma is None:\n",
    "            self.invert_lambda()\n",
    "        self.mu = numpy.einsum('rdd,rd->rd', self.Sigma, self.nu)\n",
    "    \n",
    "    def get_density(self):\n",
    "        \"\"\" Returns the corresponing normalised density object.\n",
    "        \n",
    "        :return: GaussianDensity\n",
    "            Corresponding density object.\n",
    "        \"\"\"\n",
    "        self._prepare_inegration()\n",
    "        return GaussianDensity(Sigma=self.Sigma, mu=mu, Lambda=self.Lambda, ln_det_Sigma=self.ln_det_Sigma)\n",
    "    \n",
    "    def _prepare_inegration(self):\n",
    "        if self.lnZ is None:\n",
    "            self.compute_lnZ()\n",
    "        if self.mu is None:\n",
    "            self.compute_mu()\n",
    "            \n",
    "    def _expectation_x(self):\n",
    "        \"\"\" Computes the expectation.\n",
    "        \n",
    "            int x du(x) / int du(x)\n",
    "        \n",
    "        :return: numpy.ndarray [R, D]\n",
    "            The solved intergal.\n",
    "        \"\"\"\n",
    "        return self.mu \n",
    "            \n",
    "    def intergrate_x(self):\n",
    "        \"\"\" Computes the integral.\n",
    "        \n",
    "            int x du(x)\n",
    "        \n",
    "        :return: numpy.ndarray [R, D]\n",
    "            The solved intergal.\n",
    "        \"\"\"\n",
    "        constant = self.integral()\n",
    "        return constant[:,None] * self._expectation_x()\n",
    "    \n",
    "    def _expectation_xx(self):\n",
    "        \"\"\" Computes the expectation.\n",
    "        \n",
    "            int xx' du(x) / int du(x)\n",
    "        \n",
    "        :return: numpy.ndarray [R, D, D]\n",
    "            The solved intergal.\n",
    "        \"\"\"\n",
    "        return self.Sigma + numpy.einsum('ab,ac->abc', self.mu, self.mu)\n",
    "    \n",
    "    def intergrate_xx(self):\n",
    "        \"\"\" Computes the integral.\n",
    "        \n",
    "            int xx' du(x)\n",
    "        \n",
    "        :return: numpy.ndarray [R, D, D]\n",
    "            The solved intergal.\n",
    "        \"\"\"\n",
    "        constant = self.integral()\n",
    "        return constant[:,None,None] * self._expectation_xx()\n",
    "    \n",
    "    def _expectation_xbxx(self, b: numpy.ndarray):\n",
    "        \"\"\" Computes the cubic expectation.\n",
    "        \n",
    "            int xb'xx' du(x)\n",
    "        :param b: numpy.ndarray [D,]\n",
    "            Vector of \n",
    "        :return: numpy.ndarray [R, D, D]\n",
    "            The solved intergal.\n",
    "        \"\"\"\n",
    "        constant = self.integral()\n",
    "        Exx = self._expectation_xx()\n",
    "        bmu_outer = numpy.einsum('a,bc->bac', b, self.mu)\n",
    "        bmu_inner = numpy.dot(self.mu, b)\n",
    "        print(bmu_inner.shape)\n",
    "        mbExx = numpy.einsum('abc,ade->abe', Exx, bmu_outer)\n",
    "        Exx_m = self.Sigma - numpy.einsum('ab,ac->abc', self.mu, self.mu)\n",
    "        return mbExx + numpy.swapaxes(mbExx, 1, 2) + bmu_inner[:,None,None] * Exx_m\n",
    "    \n",
    "    def intergate_xbxx(self, b: numpy.ndarray):\n",
    "        \"\"\" Computes the cubic integral.\n",
    "        \n",
    "            int xb'xx' du(x)\n",
    "        :param b: numpy.ndarray [D,]\n",
    "            Vector of \n",
    "        :return: numpy.ndarray [R, D, D]\n",
    "            The solved intergal.\n",
    "        \"\"\"\n",
    "        constant = self.integral()\n",
    "        return constant[:,None,None] * self._expectation_xbxx(b)\n",
    "\n",
    "    \n",
    "class DiagonalSquaredExponential(SquaredExponential):\n",
    "    \n",
    "    def invert_lambda(self):\n",
    "        self.Sigma = numpy.diag(self.Lambda.diagonal())\n",
    "        self.ln_det_Lambda = numpy.sum(numpy.log(self.Lambda.diagonal()))\n",
    "        self.ln_det_Sigma = -self.ln_det_Lambda   \n",
    "    \n",
    "class GaussianDensity(SquaredExponential):\n",
    "    \n",
    "    def __init__(self, Sigma: numpy.ndarray, mu: numpy.ndarray, Lambda: numpy.ndarray=None, ln_det_Sigma: numpy.ndarray=None):\n",
    "        \"\"\" A normalized Gaussian density, with specified mean and covariance matrix.\n",
    "        \n",
    "        :param Sigma: numpy.ndarray [R, D, D]\n",
    "            Covariance matrices of the Gaussian densities.\n",
    "        :param mu: numpy.ndarray [R, D]\n",
    "            Mean of the Gaussians.\n",
    "        :param Lambda: numpy.ndarray [R, D, D] or None\n",
    "            Information (precision) matrix of the Gaussians. (Default=None)\n",
    "        :param ln_det_Sigma: numpy.ndarray [R] or None\n",
    "            Log determinant of the covariance matrix. (Default=None)\n",
    "        \"\"\"\n",
    "        if Lambda is None:\n",
    "            Lambda, ln_det_Sigma = self.invert_matrix(Sigma)\n",
    "        elif ln_det_Sigma is None:\n",
    "            ln_det_Sigma = numpy.linalg.slogdet(Sigma)[1]\n",
    "        nu = numpy.einsum('rsd,rd->rd', Lambda, mu)\n",
    "        super().__init__(Lambda=Lambda, nu=nu)\n",
    "        self.Sigma = Sigma\n",
    "        self.ln_det_Sigma = ln_det_Sigma\n",
    "        self.ln_det_Lambda = -ln_det_Sigma\n",
    "        self.normalize()\n",
    "        \n",
    "    def sample(self, num_samples: int):\n",
    "        L = numpy.linalg.cholesky(self.Sigma)\n",
    "        rand_nums = numpy.random.randn(num_samples, self.R, self.D)\n",
    "        x_samples = self.mu[None] + numpy.einsum('rdd,nrd->nrd', L, rand_nums)\n",
    "        return x_samples\n",
    "                                       \n",
    "class SphericalGaussianDensity(GaussianDensity):\n",
    "    \n",
    "    def __init__(self, Sigma: numpy.ndarray, mu: numpy.ndarray, Lambda: numpy.ndarray=None, ln_det_Sigma: numpy.ndarray=None):\n",
    "        \"\"\" A normalized Gaussian density, with specified mean and covariance matrix.\n",
    "        \n",
    "        :param Sigma: numpy.ndarray [R, D, D]\n",
    "            Covariance matrices of the Gaussian densities.\n",
    "        :param mu: numpy.ndarray [R, D]\n",
    "            Mean of the Gaussians.\n",
    "        :param Lambda: numpy.ndarray [R, D, D] or None\n",
    "            Information (precision) matrix of the Gaussians. (Default=None)\n",
    "        :param ln_det_Sigma: numpy.ndarray [R] or None\n",
    "            Log determinant of the covariance matrix. (Default=None)\n",
    "        \"\"\"\n",
    "        if Lambda is None:\n",
    "            Lambda = numpy.diag(Sigma.diagonal())\n",
    "            ln_det_Sigma = numpy.sum(numpy.log(Sigma.diagonal()))\n",
    "        elif ln_det_Sigma is None:\n",
    "            ln_det_Sigma = numpy.sum(numpy.log(Sigma.diagonal()))\n",
    "        nu = numpy.einsum('rsd,rd->rd', Lambda, mu)\n",
    "        super().__init__(Lambda=Lambda, nu=nu)\n",
    "        self.Sigma = Sigma\n",
    "        self.ln_det_Sigma = ln_det_Sigma\n",
    "        self.ln_det_Lambda = -ln_det_Sigma\n",
    "        self.mu = mu\n",
    "        self.normalize()"
   ]
  },
  {
   "cell_type": "code",
   "execution_count": 1148,
   "id": "informative-recorder",
   "metadata": {},
   "outputs": [
    {
     "data": {
      "text/plain": [
       "array([[1., 0., 0., 0.],\n",
       "       [0., 1., 0., 0.],\n",
       "       [0., 0., 1., 0.],\n",
       "       [0., 0., 0., 1.]])"
      ]
     },
     "execution_count": 1148,
     "metadata": {},
     "output_type": "execute_result"
    }
   ],
   "source": [
    "numpy.diag(numpy.eye(4).diagonal())"
   ]
  },
  {
   "cell_type": "markdown",
   "id": "answering-example",
   "metadata": {},
   "source": [
    "### Test for 1 D"
   ]
  },
  {
   "cell_type": "code",
   "execution_count": 1149,
   "id": "frank-external",
   "metadata": {},
   "outputs": [],
   "source": [
    "R, D, R1 = 2, 1, 1\n",
    "rand_nums = numpy.random.randn(D,D)\n",
    "Sigma_phi = .5 * (rand_nums + rand_nums.T) + D * numpy.eye(D)\n",
    "Sigma_phi = numpy.tile(Sigma_phi, (R, 1, 1))\n",
    "mu_phi = numpy.random.randn(R, D)\n",
    "phi = GaussianDensity(Sigma=Sigma_phi, mu=mu_phi)"
   ]
  },
  {
   "cell_type": "code",
   "execution_count": 1150,
   "id": "entire-ferry",
   "metadata": {},
   "outputs": [
    {
     "data": {
      "image/png": "[encoded data removed]",
      "text/plain": [
       "<Figure size 432x288 with 2 Axes>"
      ]
     },
     "metadata": {
      "needs_background": "light"
     },
     "output_type": "display_data"
    }
   ],
   "source": [
    "from scipy.stats import norm\n",
    "\n",
    "xrange = numpy.linspace(-7,7,1000)\n",
    "for ir in range(R):\n",
    "    pyplot.subplot(R, 1, ir+1)\n",
    "    scipy_gauss = norm.pdf(xrange, loc=mu_phi[ir], scale=numpy.sqrt(Sigma_phi[ir,0,0]))\n",
    "    pyplot.hist(phi.sample(2000)[:,ir], bins=40, density=True, label='Sample')\n",
    "    pyplot.plot(xrange, phi.evaluate(numpy.array([xrange]).T)[:,ir], label='Custom')\n",
    "    pyplot.plot(xrange, scipy_gauss, '--', label='scipy')\n",
    "pyplot.legend()\n",
    "pyplot.show()"
   ]
  },
  {
   "cell_type": "markdown",
   "id": "foreign-progressive",
   "metadata": {},
   "source": [
    "### Test for integral x"
   ]
  },
  {
   "cell_type": "code",
   "execution_count": 1151,
   "id": "appropriate-tuner",
   "metadata": {},
   "outputs": [],
   "source": [
    "R, D, R1 = 10, 1, 1\n",
    "rand_nums = numpy.random.randn(D,D)\n",
    "Sigma_phi = .5 * numpy.dot(rand_nums, rand_nums.T) + D * numpy.eye(D)\n",
    "Sigma_phi = numpy.tile(Sigma_phi, (R, 1, 1))\n",
    "mu_phi = numpy.random.randn(R, D)\n",
    "phi = GaussianDensity(Sigma=Sigma_phi, mu=mu_phi)"
   ]
  },
  {
   "cell_type": "code",
   "execution_count": 1152,
   "id": "spiritual-configuration",
   "metadata": {},
   "outputs": [
    {
     "data": {
      "text/plain": [
       "[<matplotlib.lines.Line2D at 0x7f5c51b28130>]"
      ]
     },
     "execution_count": 1152,
     "metadata": {},
     "output_type": "execute_result"
    },
    {
     "data": {
      "image/png": "[encoded data removed]",
      "text/plain": [
       "<Figure size 288x288 with 1 Axes>"
      ]
     },
     "metadata": {
      "needs_background": "light"
     },
     "output_type": "display_data"
    }
   ],
   "source": [
    "x_sample = numpy.mean(phi.sample(2000), axis=0)\n",
    "pyplot.figure(figsize=(4,4))\n",
    "pyplot.plot([1.1 * numpy.amin(x_sample), 1.1 * numpy.amax(x_sample)], [1.1 * numpy.amin(x_sample), 1.1 * numpy.amax(x_sample)] ,'k')\n",
    "pyplot.plot(x_sample, phi.intergrate_x()[:,0], 'C3o')"
   ]
  },
  {
   "cell_type": "code",
   "execution_count": 1153,
   "id": "numerous-costume",
   "metadata": {},
   "outputs": [],
   "source": [
    "R, D, R1 = 10, 2, 1\n",
    "rand_nums = numpy.random.randn(D,D)\n",
    "Sigma_phi = .5 * numpy.dot(rand_nums, rand_nums.T) + D * numpy.eye(D)\n",
    "Sigma_phi = numpy.tile(Sigma_phi, (R, 1, 1))\n",
    "mu_phi = numpy.random.randn(R, D)\n",
    "phi = GaussianDensity(Sigma=Sigma_phi, mu=mu_phi)"
   ]
  },
  {
   "cell_type": "code",
   "execution_count": 1154,
   "id": "marked-magazine",
   "metadata": {},
   "outputs": [
    {
     "data": {
      "text/plain": [
       "[<matplotlib.lines.Line2D at 0x7f5c51ab4af0>]"
      ]
     },
     "execution_count": 1154,
     "metadata": {},
     "output_type": "execute_result"
    },
    {
     "data": {
      "image/png": "[encoded data removed]",
      "text/plain": [
       "<Figure size 288x288 with 1 Axes>"
      ]
     },
     "metadata": {
      "needs_background": "light"
     },
     "output_type": "display_data"
    }
   ],
   "source": [
    "x_sample = numpy.mean(phi.sample(2000), axis=0)\n",
    "pyplot.figure(figsize=(4,4))\n",
    "pyplot.plot([1.1 * numpy.amin(x_sample), 1.1 * numpy.amax(x_sample)], [1.1 * numpy.amin(x_sample), 1.1 * numpy.amax(x_sample)] ,'k')\n",
    "pyplot.plot(x_sample.flatten(), phi.intergrate_x().flatten(), 'C3o')"
   ]
  },
  {
   "cell_type": "markdown",
   "id": "every-turner",
   "metadata": {},
   "source": [
    "### Test for intergal xx"
   ]
  },
  {
   "cell_type": "code",
   "execution_count": 1155,
   "id": "collectible-hands",
   "metadata": {},
   "outputs": [],
   "source": [
    "R, D, R1 = 10, 3, 1\n",
    "rand_nums = numpy.random.randn(D,D)\n",
    "Sigma_phi = .5 * numpy.dot(rand_nums, rand_nums.T) + D * numpy.eye(D)\n",
    "Sigma_phi = numpy.tile(Sigma_phi, (R, 1, 1))\n",
    "mu_phi = numpy.random.randn(R, D)\n",
    "phi = GaussianDensity(Sigma=Sigma_phi, mu=mu_phi)"
   ]
  },
  {
   "cell_type": "code",
   "execution_count": 1156,
   "id": "computational-interference",
   "metadata": {},
   "outputs": [
    {
     "data": {
      "text/plain": [
       "[<matplotlib.lines.Line2D at 0x7f5c51a11af0>]"
      ]
     },
     "execution_count": 1156,
     "metadata": {},
     "output_type": "execute_result"
    },
    {
     "data": {
      "image/png": "[encoded data removed]",
      "text/plain": [
       "<Figure size 288x288 with 1 Axes>"
      ]
     },
     "metadata": {
      "needs_background": "light"
     },
     "output_type": "display_data"
    }
   ],
   "source": [
    "x_sample = phi.sample(10000)\n",
    "x2_sample = numpy.mean(x_sample[:,:,None] * x_sample[:,:,:,None], axis=0)\n",
    "pyplot.figure(figsize=(4,4))\n",
    "pyplot.plot([1.1 * numpy.amin(x2_sample), 1.1 * numpy.amax(x2_sample)], [1.1 * numpy.amin(x2_sample), 1.1 * numpy.amax(x2_sample)] ,'k')\n",
    "pyplot.plot(x2_sample.flatten(), phi.intergrate_xx().flatten(), 'C3o')"
   ]
  },
  {
   "cell_type": "code",
   "execution_count": null,
   "id": "confident-leisure",
   "metadata": {},
   "outputs": [],
   "source": []
  },
  {
   "cell_type": "markdown",
   "id": "severe-white",
   "metadata": {},
   "source": [
    "### Test for intergal xbxx"
   ]
  },
  {
   "cell_type": "code",
   "execution_count": 1168,
   "id": "formal-afternoon",
   "metadata": {},
   "outputs": [],
   "source": [
    "R, D, R1 = 1, 4, 1\n",
    "rand_nums = numpy.random.randn(D,D)\n",
    "Sigma_phi = .5 * numpy.dot(rand_nums, rand_nums.T) + D * numpy.eye(D)\n",
    "Sigma_phi = numpy.tile(Sigma_phi, (R, 1, 1))\n",
    "mu_phi = numpy.random.randn(R, D)\n",
    "phi = GaussianDensity(Sigma=Sigma_phi, mu=mu_phi)"
   ]
  },
  {
   "cell_type": "code",
   "execution_count": 1169,
   "id": "periodic-formation",
   "metadata": {},
   "outputs": [],
   "source": [
    "b = numpy.random.randn(D)"
   ]
  },
  {
   "cell_type": "code",
   "execution_count": 1170,
   "id": "bibliographic-blink",
   "metadata": {},
   "outputs": [
    {
     "data": {
      "text/plain": [
       "(10000, 1, 4, 4)"
      ]
     },
     "execution_count": 1170,
     "metadata": {},
     "output_type": "execute_result"
    }
   ],
   "source": [
    "(x_sample[:,:,:,None] * numpy.sum((b * x_sample[:,:,None] * x_sample[:,:,:,None]), axis=3)[:,:,None]).shape"
   ]
  },
  {
   "cell_type": "code",
   "execution_count": 1180,
   "id": "veterinary-graph",
   "metadata": {},
   "outputs": [
    {
     "name": "stdout",
     "output_type": "stream",
     "text": [
      "(1,)\n"
     ]
    },
    {
     "data": {
      "text/plain": [
       "[<matplotlib.lines.Line2D at 0x7f5c513ae340>]"
      ]
     },
     "execution_count": 1180,
     "metadata": {},
     "output_type": "execute_result"
    },
    {
     "data": {
      "image/png": "[encoded data removed]",
      "text/plain": [
       "<Figure size 432x288 with 1 Axes>"
      ]
     },
     "metadata": {
      "needs_background": "light"
     },
     "output_type": "display_data"
    }
   ],
   "source": [
    "i = 0\n",
    "x_sample = phi.sample(10000)\n",
    "xbxx_sample = numpy.mean(x_sample[:,:,:,None] * numpy.sum((b * x_sample[:,:,:,None] * x_sample[:,:,None]), axis=)[:,:,None], axis=0)\n",
    "#xbxx_sample = numpy.mean(b * x_sample ** 3, axis=0)\n",
    "pyplot.plot([1.1 * numpy.amin(xbxx_sample), 1.1 * numpy.amax(xbxx_sample)], [1.1 * numpy.amin(xbxx_sample), 1.1 * numpy.amax(xbxx_sample)] ,'k')\n",
    "pyplot.plot(xbxx_sample[i].diagonal().flatten(), phi.intergate_xbxx(b)[i].diagonal().flatten(), 'C3o')"
   ]
  },
  {
   "cell_type": "code",
   "execution_count": 1178,
   "id": "artificial-effectiveness",
   "metadata": {},
   "outputs": [
    {
     "data": {
      "text/plain": [
       "<matplotlib.image.AxesImage at 0x7f5c517e2e20>"
      ]
     },
     "execution_count": 1178,
     "metadata": {},
     "output_type": "execute_result"
    },
    {
     "data": {
      "image/png": "[encoded data removed]",
      "text/plain": [
       "<Figure size 432x288 with 1 Axes>"
      ]
     },
     "metadata": {
      "needs_background": "light"
     },
     "output_type": "display_data"
    }
   ],
   "source": [
    "pyplot.imshow(xbxx_sample[i])"
   ]
  },
  {
   "cell_type": "code",
   "execution_count": 1176,
   "id": "million-large",
   "metadata": {},
   "outputs": [
    {
     "name": "stdout",
     "output_type": "stream",
     "text": [
      "(1,)\n"
     ]
    },
    {
     "data": {
      "text/plain": [
       "[<matplotlib.lines.Line2D at 0x7f5c5176be80>]"
      ]
     },
     "execution_count": 1176,
     "metadata": {},
     "output_type": "execute_result"
    },
    {
     "data": {
      "image/png": "[encoded data removed]",
      "text/plain": [
       "<Figure size 432x288 with 1 Axes>"
      ]
     },
     "metadata": {
      "needs_background": "light"
     },
     "output_type": "display_data"
    }
   ],
   "source": [
    "pyplot.plot([1.1 * numpy.amin(xbxx_sample), 1.1 * numpy.amax(xbxx_sample)], [1.1 * numpy.amin(xbxx_sample), 1.1 * numpy.amax(xbxx_sample)] ,'k')\n",
    "pyplot.plot(xbxx_sample.flatten(), phi.intergate_xbxx(b).flatten(), 'C3o')"
   ]
  },
  {
   "cell_type": "code",
   "execution_count": 1132,
   "id": "rough-clock",
   "metadata": {},
   "outputs": [
    {
     "name": "stdout",
     "output_type": "stream",
     "text": [
      "(1,)\n"
     ]
    },
    {
     "data": {
      "text/plain": [
       "array([[[ 0.33062644, -0.02813768,  0.30089092,  0.44514169],\n",
       "        [-0.02813768, -0.11849511, -0.10753539,  0.00627576],\n",
       "        [ 0.30089092, -0.10753539,  0.21830598,  0.43503418],\n",
       "        [ 0.44514169,  0.00627576,  0.43503418,  0.58318958]]])"
      ]
     },
     "execution_count": 1132,
     "metadata": {},
     "output_type": "execute_result"
    }
   ],
   "source": [
    "phi.intergate_xbxx(b)"
   ]
  },
  {
   "cell_type": "code",
   "execution_count": 513,
   "id": "trying-charlotte",
   "metadata": {},
   "outputs": [
    {
     "data": {
      "text/plain": [
       "(array([[1.03604571]]), array([[0.96520838]]))"
      ]
     },
     "execution_count": 513,
     "metadata": {},
     "output_type": "execute_result"
    }
   ],
   "source": [
    "phi.Lambda[1], phi.Sigma[1]"
   ]
  },
  {
   "cell_type": "code",
   "execution_count": 514,
   "id": "maritime-wagon",
   "metadata": {},
   "outputs": [
    {
     "data": {
      "text/plain": [
       "array([[1.71523847]])"
      ]
     },
     "execution_count": 514,
     "metadata": {},
     "output_type": "execute_result"
    }
   ],
   "source": [
    ".5*(phi.Lambda[0] * phi.nu[0] ** 2 + phi.D * numpy.log(2. * numpy.pi) + phi.ln_det_Sigma[0])"
   ]
  },
  {
   "cell_type": "code",
   "execution_count": 515,
   "id": "endangered-victim",
   "metadata": {},
   "outputs": [
    {
     "data": {
      "text/plain": [
       "array([[1.62801114]])"
      ]
     },
     "execution_count": 515,
     "metadata": {},
     "output_type": "execute_result"
    }
   ],
   "source": [
    "phi.Lambda[0] * phi.nu[0] ** 2 "
   ]
  },
  {
   "cell_type": "code",
   "execution_count": 516,
   "id": "veterinary-antarctica",
   "metadata": {},
   "outputs": [
    {
     "data": {
      "text/plain": [
       "array([1.71523847, 1.5602542 , 1.20196851, 0.97380229, 2.71252378,\n",
       "       1.72198793, 0.90663407, 0.93210505, 0.90163223, 0.90140234])"
      ]
     },
     "execution_count": 516,
     "metadata": {},
     "output_type": "execute_result"
    }
   ],
   "source": [
    "phi.lnZ"
   ]
  },
  {
   "cell_type": "code",
   "execution_count": 517,
   "id": "published-diameter",
   "metadata": {},
   "outputs": [
    {
     "data": {
      "text/plain": [
       "0.9458646152974386"
      ]
     },
     "execution_count": 517,
     "metadata": {},
     "output_type": "execute_result"
    }
   ],
   "source": [
    "numpy.sum(phi.evaluate(numpy.array([xrange]).T)[:,0]) * (xrange[1] - xrange[0])"
   ]
  },
  {
   "cell_type": "code",
   "execution_count": 396,
   "id": "finished-party",
   "metadata": {},
   "outputs": [
    {
     "data": {
      "text/plain": [
       "array([1.26089660e-02, 1.45538430e-02, 1.67284052e-02, 1.91474099e-02,\n",
       "       2.18244936e-02, 2.47717653e-02, 2.79993778e-02, 3.15150823e-02,\n",
       "       3.53237787e-02, 3.94270702e-02, 4.38228380e-02, 4.85048466e-02,\n",
       "       5.34623955e-02, 5.86800311e-02, 6.41373333e-02, 6.98087891e-02,\n",
       "       7.56637659e-02, 8.16665941e-02, 8.77767662e-02, 9.39492575e-02,\n",
       "       1.00134970e-01, 1.06281293e-01, 1.12332787e-01, 1.18231957e-01,\n",
       "       1.23920132e-01, 1.29338404e-01, 1.34428629e-01, 1.39134453e-01,\n",
       "       1.43402342e-01, 1.47182591e-01, 1.50430287e-01, 1.53106197e-01,\n",
       "       1.55177552e-01, 1.56618719e-01, 1.57411725e-01, 1.57546636e-01,\n",
       "       1.57021757e-01, 1.55843671e-01, 1.54027105e-01, 1.51594616e-01,\n",
       "       1.48576131e-01, 1.45008331e-01, 1.40933911e-01, 1.36400732e-01,\n",
       "       1.31460880e-01, 1.26169684e-01, 1.20584680e-01, 1.14764588e-01,\n",
       "       1.08768292e-01, 1.02653877e-01, 9.64777235e-02, 9.02936857e-02,\n",
       "       8.41523711e-02, 7.81005290e-02, 7.21805583e-02, 6.64301358e-02,\n",
       "       6.08819685e-02, 5.55636638e-02, 5.04977125e-02, 4.57015762e-02,\n",
       "       4.11878663e-02, 3.69646035e-02, 3.30355433e-02, 2.94005528e-02,\n",
       "       2.60560262e-02, 2.29953228e-02, 2.02092167e-02, 1.76863450e-02,\n",
       "       1.54136448e-02, 1.33767696e-02, 1.15604778e-02, 9.94898940e-03,\n",
       "       8.52630361e-03, 7.27647867e-03, 6.18387028e-03, 5.23333002e-03,\n",
       "       4.41036484e-03, 3.70125967e-03, 3.09316605e-03, 2.57416011e-03,\n",
       "       2.13327342e-03, 1.76050040e-03, 1.44678627e-03, 1.18399882e-03,\n",
       "       9.64887775e-04, 7.83034650e-04, 6.32796108e-04, 5.09243227e-04,\n",
       "       4.08098845e-04, 3.25674768e-04, 2.58810267e-04, 2.04813006e-04,\n",
       "       1.61403224e-04, 1.26661761e-04, 9.89822863e-05, 7.70279043e-05,\n",
       "       5.96921643e-05, 4.60643781e-05, 3.53990609e-05, 2.70892456e-05])"
      ]
     },
     "execution_count": 396,
     "metadata": {},
     "output_type": "execute_result"
    }
   ],
   "source": [
    "phi.evaluate(numpy.array([xrange]).T)[:,0]"
   ]
  },
  {
   "cell_type": "code",
   "execution_count": 395,
   "id": "greenhouse-delta",
   "metadata": {},
   "outputs": [
    {
     "data": {
      "text/plain": [
       "(1, 100)"
      ]
     },
     "execution_count": 395,
     "metadata": {},
     "output_type": "execute_result"
    }
   ],
   "source": [
    "numpy.array([xrange]).shape"
   ]
  },
  {
   "cell_type": "code",
   "execution_count": 374,
   "id": "victorian-melbourne",
   "metadata": {},
   "outputs": [
    {
     "name": "stdout",
     "output_type": "stream",
     "text": [
      "[[ 0.96891079 -0.08849242 -2.33876849 -0.42035256 -0.20083232]\n",
      " [ 0.9864387  -0.39891435 -2.78846947 -1.00197272 -0.30150384]\n",
      " [ 0.66524096 -0.03742665 -2.6680618  -0.65977377 -0.21573154]\n",
      " [ 0.91403438 -0.13595734 -2.6854188  -0.60651131 -0.38914833]\n",
      " [ 0.7856387  -0.30573508 -2.413627   -0.08636799 -0.47983104]\n",
      " [ 0.87878025 -0.26966957 -2.56981099 -0.6431554  -0.46750354]\n",
      " [ 1.01917318 -0.06316189 -2.35460795 -0.72038873  0.32372495]\n",
      " [ 1.00322201 -0.44263976 -2.52757283 -0.15881234 -0.17627003]\n",
      " [ 0.94905425 -0.45145128 -2.6820193  -0.47296907 -0.44977522]\n",
      " [ 0.98472463 -0.02388192 -2.5348156  -0.59767289 -0.31862887]]\n"
     ]
    }
   ],
   "source": [
    "w = .1 * numpy.random.randn(R1, D)\n",
    "g = numpy.random.rand(R1)\n",
    "nu1 = numpy.random.randn(R1, D)\n",
    "expw_phi = phi.multiply_rank_one(w, g, nu1)"
   ]
  },
  {
   "cell_type": "code",
   "execution_count": 375,
   "id": "imposed-recorder",
   "metadata": {},
   "outputs": [],
   "source": [
    "expw_phi.compute_lnZ()"
   ]
  },
  {
   "cell_type": "code",
   "execution_count": null,
   "id": "lightweight-budget",
   "metadata": {},
   "outputs": [],
   "source": []
  },
  {
   "cell_type": "code",
   "execution_count": 376,
   "id": "wooden-miracle",
   "metadata": {},
   "outputs": [
    {
     "data": {
      "text/plain": [
       "array([3.16838431, 4.74770949, 3.85438084, 4.19726682, 3.17001647,\n",
       "       3.93728073, 3.19397002, 3.61274917, 4.23497607, 3.81973572])"
      ]
     },
     "execution_count": 376,
     "metadata": {},
     "output_type": "execute_result"
    }
   ],
   "source": [
    "expw_phi.log_integral()"
   ]
  },
  {
   "cell_type": "code",
   "execution_count": 283,
   "id": "olympic-louisville",
   "metadata": {},
   "outputs": [],
   "source": [
    "N, R, D = 100, 10, 5\n",
    "x = numpy.random.randn(N, D)\n",
    "Lambda = numpy.tile(numpy.eye(D), (R,1,1))\n",
    "Lambda[0] *= 2\n",
    "#Lambda = numpy.random.randn(R, D, D)\n",
    "#Lambda += numpy.swapaxes(Lambda, 1, 2)\n",
    "#Lambda += D * numpy.eye(D)\n",
    "nu = numpy.random.randn(R, D)\n",
    "ln_beta = numpy.random.randn(R)\n",
    "r = [0]\n",
    "mu = numpy.zeros((R,D))"
   ]
  },
  {
   "cell_type": "code",
   "execution_count": 284,
   "id": "hungarian-coordinate",
   "metadata": {},
   "outputs": [
    {
     "data": {
      "text/plain": [
       "(100, 1)"
      ]
     },
     "execution_count": 284,
     "metadata": {},
     "output_type": "execute_result"
    }
   ],
   "source": [
    "numpy.tile(numpy.random.randn(10,1), (10,1)).shape"
   ]
  },
  {
   "cell_type": "code",
   "execution_count": 267,
   "id": "italic-english",
   "metadata": {},
   "outputs": [],
   "source": [
    "se = SquaredExponential(Lambda, nu, ln_beta)"
   ]
  },
  {
   "cell_type": "code",
   "execution_count": 268,
   "id": "stunning-missouri",
   "metadata": {},
   "outputs": [],
   "source": [
    "gauss = GaussianDensity(Lambda, mu)"
   ]
  },
  {
   "cell_type": "code",
   "execution_count": 270,
   "id": "brown-header",
   "metadata": {},
   "outputs": [
    {
     "data": {
      "text/plain": [
       "<__main__.SquaredExponential at 0x7f5c65b53ca0>"
      ]
     },
     "execution_count": 270,
     "metadata": {},
     "output_type": "execute_result"
    }
   ],
   "source": [
    "se.multiply_squared_exponential(gauss)"
   ]
  },
  {
   "cell_type": "code",
   "execution_count": 202,
   "id": "initial-roman",
   "metadata": {},
   "outputs": [],
   "source": [
    "se_new = se.multiply_squared_exponential(se)"
   ]
  },
  {
   "cell_type": "code",
   "execution_count": null,
   "id": "personalized-heater",
   "metadata": {},
   "outputs": [],
   "source": [
    "mu\n",
    "GaussianDensity(Lambda, mu)"
   ]
  },
  {
   "cell_type": "code",
   "execution_count": 150,
   "id": "radio-router",
   "metadata": {},
   "outputs": [],
   "source": [
    "A = Lambda\n",
    "L = numpy.linalg.cholesky(A)\n",
    "#L_inv = solve_triangular(L, numpy.eye(L.shape[0]), lower=True,\n",
    "#                         check_finite=False)\n",
    "L_inv = numpy.linalg.solve(L, numpy.eye(L.shape[1])[None])\n",
    "A_inv = numpy.einsum('rdl,rld->rdl', L_inv, L_inv)\n",
    "log_det_A = 2 * numpy.sum(numpy.log(L.diagonal(axis1=1, axis2=2)), axis=1)"
   ]
  },
  {
   "cell_type": "code",
   "execution_count": 156,
   "id": "engaging-temple",
   "metadata": {},
   "outputs": [
    {
     "data": {
      "text/plain": [
       "array([0, 1, 2, 3, 4, 5, 6, 7, 8, 9])"
      ]
     },
     "execution_count": 156,
     "metadata": {},
     "output_type": "execute_result"
    }
   ],
   "source": [
    "numpy.meshgrid(range(10), range(10))[0][0]#.flatten()"
   ]
  },
  {
   "cell_type": "code",
   "execution_count": 64,
   "id": "abandoned-parks",
   "metadata": {
    "collapsed": true,
    "jupyter": {
     "outputs_hidden": true
    }
   },
   "outputs": [
    {
     "data": {
      "text/plain": [
       "array([[-4.00069280e+00,  2.39287124e+00, -1.71223610e+00,\n",
       "        -3.20437653e+00,  6.61580801e+00,  6.02093273e-02,\n",
       "        -3.22649087e+00,  3.22008267e+00, -9.90007757e-01,\n",
       "        -2.38548497e-01],\n",
       "       [ 4.06875771e-01,  1.25385831e+00, -1.23891867e-01,\n",
       "        -3.34191929e-01,  2.31323420e+00,  1.38548317e-01,\n",
       "        -9.81409614e-01,  9.77013271e-01,  1.57164047e-01,\n",
       "         6.58698513e-01],\n",
       "       [ 7.02741009e-01, -2.81862673e-01,  3.03309918e+00,\n",
       "        -1.17818251e+00,  5.26805040e+00, -3.52579504e+00,\n",
       "         7.04281873e-01, -3.06636950e+00, -7.01321384e-01,\n",
       "        -1.09703120e+00],\n",
       "       [-4.18887193e+00, -3.03037028e+00,  2.41048827e+00,\n",
       "        -3.20661150e+00,  3.18660377e+00, -5.54026697e+00,\n",
       "         2.00225852e+00, -4.49374004e+00, -2.11870063e+00,\n",
       "        -2.07165600e+00],\n",
       "       [ 2.08871907e+00,  2.37735887e+00,  6.43632277e-01,\n",
       "        -9.32393029e-01,  5.44763418e+00, -1.15068221e+00,\n",
       "        -1.60956815e+00,  1.00112264e+00,  6.06990025e-01,\n",
       "         2.43477689e+00],\n",
       "       [-1.11637787e+00, -3.80212663e+00,  4.57288213e+00,\n",
       "        -6.21947767e+00,  6.13763895e+00, -8.93540597e+00,\n",
       "         8.92708688e-01, -6.81585757e+00, -1.32321812e+00,\n",
       "        -2.72717071e+00],\n",
       "       [ 1.91106987e-01, -2.72270870e+00,  1.81441220e+00,\n",
       "        -5.42315416e+00,  2.07884891e+00, -5.07753269e+00,\n",
       "        -1.01806128e+00, -3.31554034e+00,  5.58021110e-02,\n",
       "        -1.92506200e+00],\n",
       "       [-2.18733309e+00, -5.71057142e-01, -1.25692829e-02,\n",
       "        -4.26182073e+00,  3.55325401e+00, -2.57373570e+00,\n",
       "        -1.81343069e+00, -2.77152000e-01, -5.31998846e-01,\n",
       "        -1.14375525e+00],\n",
       "       [-1.60774874e+00,  1.12058986e+00, -7.29316664e-03,\n",
       "        -4.27384142e+00,  6.56157354e+00, -1.73247762e+00,\n",
       "        -3.12209561e+00,  9.29124635e-01, -4.60733867e-01,\n",
       "        -1.52437016e+00],\n",
       "       [ 1.01394682e+00, -2.33799103e+00,  1.50115827e+00,\n",
       "        -6.73874748e+00,  2.90245705e+00, -5.22387990e+00,\n",
       "        -2.39384730e+00, -2.64069530e+00,  5.87465786e-01,\n",
       "        -1.78281992e+00],\n",
       "       [ 1.17634484e+00,  2.68294370e+00,  5.62993098e-01,\n",
       "        -1.35832925e+00,  6.73473338e+00, -7.47306859e-01,\n",
       "        -2.20301788e+00,  1.33300237e+00,  2.07239619e-01,\n",
       "         1.00066738e+00],\n",
       "       [-8.71502906e+00, -9.23735137e+00,  8.10856842e+00,\n",
       "        -9.80327464e+00,  8.77743543e+00, -1.71429609e+01,\n",
       "         5.53984654e+00, -1.42308044e+01, -5.02950012e+00,\n",
       "        -5.62947242e+00],\n",
       "       [-1.18466706e-01,  8.22530522e-01, -2.68126569e-01,\n",
       "        -6.76400380e-01,  1.79109058e+00, -1.46007659e-01,\n",
       "        -8.51026107e-01,  8.08358538e-01,  5.85739029e-02,\n",
       "         6.42880921e-01],\n",
       "       [-7.46584733e-01,  2.38440914e-01, -1.77941016e-01,\n",
       "        -1.67650133e+00,  1.94032772e+00, -6.01027087e-01,\n",
       "        -1.15025222e+00,  3.91630901e-01, -1.46337391e-01,\n",
       "        -5.36684036e-01],\n",
       "       [-2.75377451e+00,  2.49226595e+00, -2.12431658e+00,\n",
       "        -4.93073606e+00,  6.80651131e+00, -3.01407211e-01,\n",
       "        -4.78592135e+00,  3.83187434e+00, -1.80133793e-01,\n",
       "         1.19293169e-01],\n",
       "       [ 9.77320542e-01,  1.68941485e+00, -9.49081115e-01,\n",
       "        -6.28377010e+00,  6.27556843e+00, -2.03816163e+00,\n",
       "        -5.34442345e+00,  2.38121416e+00,  1.14650515e+00,\n",
       "         6.43754200e-01],\n",
       "       [ 1.47138372e+00,  7.10568368e-01,  1.07698803e+00,\n",
       "        -9.23901153e-01,  3.19221050e+00, -1.11357805e+00,\n",
       "        -8.25370400e-01, -4.51327869e-01,  2.34884212e-01,\n",
       "        -1.37811706e-01],\n",
       "       [ 3.84700156e+00,  2.78092168e+00, -7.77139700e-02,\n",
       "         1.04068310e+00,  2.39884596e+00,  8.45188288e-01,\n",
       "        -1.34283070e+00,  1.97047474e+00,  1.42510366e+00,\n",
       "         3.47535665e+00],\n",
       "       [-5.17858333e-01, -1.34159383e-02, -5.40799730e-02,\n",
       "        -3.57139843e-01,  4.62233446e-01, -2.03347583e-01,\n",
       "        -1.18525134e-01,  3.35275712e-02, -1.68089533e-01,\n",
       "        -1.36783752e-01],\n",
       "       [ 1.05377352e+01,  6.70823439e+00,  1.99164980e+00,\n",
       "         2.17113115e+00,  9.13975580e+00, -1.79040333e-01,\n",
       "        -2.65751526e+00,  2.68935485e+00,  3.20213750e+00,\n",
       "         8.05389338e+00],\n",
       "       [ 2.93801235e+00,  3.94669047e-01,  3.53785902e+00,\n",
       "        -2.77801672e-01,  5.54163948e+00, -3.97844501e+00,\n",
       "         1.08718311e+00, -3.14663189e+00,  8.75831339e-03,\n",
       "         1.32513744e+00],\n",
       "       [ 1.04928194e+00, -4.25975150e-02,  9.42750340e-01,\n",
       "        -2.77113793e-01,  1.21425415e+00, -1.38346241e+00,\n",
       "         3.09906835e-01, -9.41686608e-01,  1.62743331e-01,\n",
       "         8.29285332e-01],\n",
       "       [ 3.46922795e-01, -4.07718478e-01,  3.08279190e-01,\n",
       "        -4.13437878e+00,  2.89424027e+00, -2.31938134e+00,\n",
       "        -2.32542573e+00, -3.36912189e-01,  3.79311089e-01,\n",
       "        -9.35807055e-01],\n",
       "       [ 9.42509069e+00,  5.52560205e+00,  4.46821248e-01,\n",
       "         2.93319788e+00,  4.11619176e+00,  1.53814847e+00,\n",
       "        -2.12880525e+00,  3.34868960e+00,  3.31250448e+00,\n",
       "         7.69299543e+00],\n",
       "       [ 4.56439406e+00, -4.20784159e-01,  6.31026468e+00,\n",
       "        -9.75871328e+00,  1.54527347e+01, -9.93890646e+00,\n",
       "        -4.21070288e+00, -5.66025258e+00,  3.45164849e-01,\n",
       "        -3.96738093e+00],\n",
       "       [ 8.62597859e-01,  2.75764122e-01,  1.03788068e-01,\n",
       "        -5.90407967e-01,  7.29748183e-01, -3.82262035e-01,\n",
       "        -5.80149438e-01,  1.36828803e-01,  3.63643277e-01,\n",
       "         4.65209746e-01],\n",
       "       [ 2.01573330e+00, -1.68707552e+00,  8.32339578e-01,\n",
       "        -9.60241104e+00,  4.76569032e+00, -5.24880503e+00,\n",
       "        -5.34812016e+00, -1.29252709e+00,  1.38088138e+00,\n",
       "        -2.65559663e+00],\n",
       "       [ 7.94562539e+00,  3.52988960e+00,  4.49057066e-01,\n",
       "        -9.44527067e-02,  3.44374616e+00, -8.72549536e-02,\n",
       "        -2.84460920e+00,  2.15647573e+00,  3.03508868e+00,\n",
       "         5.36556687e+00],\n",
       "       [ 4.01643031e+00,  1.52512462e+00,  1.26173320e+00,\n",
       "         9.30703314e-01,  2.24751131e+00, -9.52154297e-01,\n",
       "        -1.21534727e-02, -1.88905366e-01,  1.12996723e+00,\n",
       "         3.16085116e+00],\n",
       "       [-1.87243665e+00,  1.51176304e+00, -1.17276045e-01,\n",
       "        -2.04113385e+00,  5.49132119e+00, -7.26597294e-01,\n",
       "        -1.79647238e+00,  1.13722288e+00, -7.11703184e-01,\n",
       "        -5.49241200e-01],\n",
       "       [ 1.79394211e-01,  1.37208602e+00, -4.40386001e-01,\n",
       "        -4.49908487e-01,  2.22832698e+00,  2.51020014e-01,\n",
       "        -1.14290308e+00,  1.34240279e+00,  1.89949916e-01,\n",
       "         1.01285346e+00],\n",
       "       [ 4.37208521e+00,  2.08123450e+00,  5.56507120e-01,\n",
       "         5.53936849e-01,  2.21620203e+00, -7.42505518e-02,\n",
       "        -1.08817829e+00,  9.38069916e-01,  1.50379683e+00,\n",
       "         3.09211595e+00],\n",
       "       [-7.95048552e+00,  1.91057743e+00, -3.37793488e+00,\n",
       "        -5.66065435e+00,  6.97022541e+00,  2.55581481e-01,\n",
       "        -4.60601826e+00,  4.49905108e+00, -1.84816848e+00,\n",
       "        -1.91179326e+00],\n",
       "       [ 1.71278104e+00, -1.89364978e+00,  7.54521991e-01,\n",
       "        -9.97134073e+00,  4.69958016e+00, -5.53920943e+00,\n",
       "        -5.37597255e+00, -1.36411931e+00,  1.33632951e+00,\n",
       "        -2.58780832e+00],\n",
       "       [ 5.00778398e+00,  2.63454208e+00,  1.73607082e-01,\n",
       "         7.83357173e-01,  2.10803416e+00,  4.94565543e-01,\n",
       "        -1.51227870e+00,  1.68856646e+00,  1.86126098e+00,\n",
       "         3.78054240e+00],\n",
       "       [ 4.41769905e+00,  5.67678278e+00,  4.38559677e+00,\n",
       "        -1.74105844e+00,  1.77529250e+01, -3.40075378e+00,\n",
       "        -3.15002785e+00, -2.03689419e-01, -5.53487320e-02,\n",
       "         6.00915122e-01],\n",
       "       [-3.16714869e+00, -5.27455667e+00,  5.91030138e+00,\n",
       "        -3.44198547e+00,  4.45095493e+00, -9.58329989e+00,\n",
       "         4.61965032e+00, -9.37459232e+00, -2.76271872e+00,\n",
       "        -3.22925689e+00],\n",
       "       [-5.57512321e+00,  1.99456579e+00, -2.69295722e+00,\n",
       "        -4.11820986e+00,  5.74808879e+00,  4.27820964e-01,\n",
       "        -3.76646896e+00,  3.89896568e+00, -1.20425155e+00,\n",
       "        -8.18230988e-01],\n",
       "       [ 6.60843984e+00,  3.71820167e+00,  2.63389232e-01,\n",
       "         1.41221240e+00,  3.01961843e+00,  7.10354688e-01,\n",
       "        -1.79583824e+00,  2.31723114e+00,  2.40917667e+00,\n",
       "         5.40979754e+00],\n",
       "       [-5.93422272e-02,  5.49994721e-01,  9.05636448e-01,\n",
       "        -1.54820572e+00,  3.98634304e+00, -2.12261600e+00,\n",
       "        -5.08372491e-01, -5.21806456e-01, -2.24927079e-01,\n",
       "         8.03578739e-01],\n",
       "       [-7.23297244e-01, -2.49426331e+00,  2.99013403e+00,\n",
       "        -2.02588416e+00,  2.33885767e+00, -4.93270772e+00,\n",
       "         1.91580135e+00, -4.57803493e+00, -1.01103605e+00,\n",
       "        -1.24245000e+00],\n",
       "       [ 1.28428538e+00,  8.05152723e-01,  5.29457548e-01,\n",
       "        -1.87131163e-03,  1.81211736e+00, -5.74826356e-01,\n",
       "        -2.70907998e-01,  3.39370573e-02,  3.19864252e-01,\n",
       "         1.13568977e+00],\n",
       "       [-3.74765669e+00,  2.64136070e+00, -5.34066129e-01,\n",
       "        -4.54917469e+00,  1.00681103e+01, -1.12300768e+00,\n",
       "        -4.00707586e+00,  2.38255531e+00, -1.28157175e+00,\n",
       "        -1.91173068e+00],\n",
       "       [-1.20044166e-01, -5.42458174e-01,  6.37864473e-01,\n",
       "        -7.74095531e-01,  7.36506981e-01, -1.20458047e+00,\n",
       "         1.85108929e-01, -9.62475088e-01, -1.75289150e-01,\n",
       "        -3.46336368e-01],\n",
       "       [ 3.84262915e+00,  6.69084278e-01,  5.63457151e-01,\n",
       "        -2.86614670e+00,  2.50044543e+00, -1.82804440e+00,\n",
       "        -2.48869330e+00,  1.77054253e-01,  1.62528380e+00,\n",
       "         1.42315535e+00],\n",
       "       [ 5.97137393e-01, -2.79427734e-01,  9.24421134e-01,\n",
       "        -1.14698680e+00,  1.66777190e+00, -1.75785213e+00,\n",
       "        -8.91525302e-02, -1.04222948e+00,  5.17636652e-02,\n",
       "         2.25528049e-01],\n",
       "       [-1.48643678e+00,  1.51111718e+00, -3.35067361e-01,\n",
       "        -1.72098248e+00,  4.63044768e+00, -2.37950390e-01,\n",
       "        -1.82425820e+00,  1.36333215e+00, -5.00892150e-01,\n",
       "        -4.83749839e-01],\n",
       "       [ 3.66480559e-01, -5.19573448e-01,  3.38583476e+00,\n",
       "        -1.14389838e+00,  5.57441362e+00, -3.99313688e+00,\n",
       "         1.12639661e+00, -3.59595483e+00, -9.51646143e-01,\n",
       "        -1.24173280e+00],\n",
       "       [ 3.13818636e+00,  1.85159985e+00,  1.04120833e+00,\n",
       "         2.20586390e-01,  3.54219550e+00, -4.93764315e-01,\n",
       "        -8.96380212e-01,  3.16740443e-01,  8.11546571e-01,\n",
       "         1.63303365e+00],\n",
       "       [-7.28890914e-01, -3.76837983e+00,  5.54162293e+00,\n",
       "        -2.74939412e+00,  4.91649698e+00, -9.29690082e+00,\n",
       "         4.07032644e+00, -8.05248684e+00, -1.67596483e+00,\n",
       "         1.47943932e-01],\n",
       "       [ 1.15976162e+00,  7.75775325e-01,  4.13950023e-01,\n",
       "        -1.36918685e+00,  2.71799084e+00, -8.63157650e-01,\n",
       "        -1.29966769e+00,  2.28840955e-01,  3.90446654e-01,\n",
       "         2.81898944e-01],\n",
       "       [-1.08130019e-01, -3.21115375e-01,  2.71501539e-01,\n",
       "        -2.06176640e+00,  1.57273730e+00, -1.32771465e+00,\n",
       "        -9.77697943e-01, -3.76097546e-01,  3.65832187e-02,\n",
       "        -6.07367184e-01],\n",
       "       [-2.51981630e+00, -1.04821438e+00,  1.10811014e+00,\n",
       "        -2.13878952e+00,  3.02922476e+00, -3.00894522e+00,\n",
       "         5.19969367e-01, -1.85077328e+00, -1.18678324e+00,\n",
       "        -8.34366185e-01],\n",
       "       [-2.79090691e+00,  2.71143143e+00, -1.75288205e+00,\n",
       "        -4.33706496e+00,  7.41491107e+00, -2.23661672e-01,\n",
       "        -4.41108819e+00,  3.59508862e+00, -4.04880613e-01,\n",
       "        -9.28642628e-02],\n",
       "       [-1.04053269e+00,  1.20600376e+00, -3.50675807e-01,\n",
       "        -1.65257106e+00,  3.69853092e+00, -2.65682022e-01,\n",
       "        -1.68160657e+00,  1.18666337e+00, -2.82775243e-01,\n",
       "        -2.89545642e-01],\n",
       "       [-2.27574473e+00, -3.68090181e+00,  4.00542608e+00,\n",
       "        -3.33974036e+00,  3.71896773e+00, -7.35915828e+00,\n",
       "         2.77148787e+00, -6.42207032e+00, -1.80948742e+00,\n",
       "        -1.70386331e+00],\n",
       "       [-1.38360316e-02, -2.25119053e-01,  1.41314093e+00,\n",
       "        -1.13516999e+00,  2.98533059e+00, -2.75773263e+00,\n",
       "         5.13055249e-01, -1.57787183e+00, -3.45951558e-01,\n",
       "         9.26901403e-01],\n",
       "       [-3.78693803e-01, -6.87245078e-01,  8.24570296e-01,\n",
       "        -4.18283480e-01,  6.31041259e-01, -1.28689151e+00,\n",
       "         6.41277185e-01, -1.27518278e+00, -3.67594312e-01,\n",
       "        -4.17397029e-01],\n",
       "       [-2.51231736e+00, -3.36804759e+00,  3.37357258e+00,\n",
       "        -3.41653739e+00,  3.42445855e+00, -6.54839436e+00,\n",
       "         2.19553263e+00, -5.57754793e+00, -1.71422005e+00,\n",
       "        -1.90299731e+00],\n",
       "       [-5.82163968e-01, -2.18507150e+00,  2.54738536e+00,\n",
       "        -3.18196761e+00,  3.02782020e+00, -4.74307019e+00,\n",
       "         6.44600031e-01, -3.84029262e+00, -7.46870098e-01,\n",
       "        -1.70250387e+00],\n",
       "       [-4.60031400e-01, -3.55606080e-01, -2.18312019e-01,\n",
       "        -4.16987735e+00,  2.55847967e+00, -1.78377316e+00,\n",
       "        -2.51635104e+00,  1.90301921e-01,  2.19467839e-01,\n",
       "        -1.21419141e+00],\n",
       "       [ 2.27989567e+00,  1.44650761e+00, -1.30656254e-01,\n",
       "        -1.16340703e+00,  2.32067494e+00, -2.64679927e-01,\n",
       "        -1.87697600e+00,  1.21650514e+00,  1.02250777e+00,\n",
       "         1.59298925e+00],\n",
       "       [ 1.32082435e+00, -3.18863749e-01,  1.46780853e+00,\n",
       "        -3.59991773e+00,  4.09123059e+00, -2.93201982e+00,\n",
       "        -1.77400463e+00, -1.37597103e+00,  3.04907391e-01,\n",
       "        -1.24073139e+00],\n",
       "       [-2.28930407e+00, -3.18863347e+00,  2.52086512e+00,\n",
       "        -3.70951364e+00,  2.40051559e+00, -5.59468736e+00,\n",
       "         1.34848156e+00, -4.56960018e+00, -1.31801615e+00,\n",
       "        -1.99794669e+00],\n",
       "       [ 4.34662279e-01,  1.95807755e+00, -7.63195496e-01,\n",
       "        -4.92527057e-01,  2.72778221e+00,  5.28312271e-01,\n",
       "        -1.60943326e+00,  2.04213263e+00,  3.89376078e-01,\n",
       "         1.68013068e+00],\n",
       "       [ 1.72389603e+00,  1.43640091e+00,  1.68264283e+00,\n",
       "        -8.15062839e-01,  5.43462061e+00, -1.28541410e+00,\n",
       "        -1.03071853e+00, -5.31039650e-01,  3.71965200e-02,\n",
       "        -4.84518129e-01],\n",
       "       [ 1.08572880e+01,  6.15024781e+00,  5.49120550e-01,\n",
       "         3.40740409e+00,  4.34179300e+00,  1.89534626e+00,\n",
       "        -2.40313854e+00,  3.70364690e+00,  3.80014648e+00,\n",
       "         8.40133596e+00],\n",
       "       [ 2.56001350e+00,  2.77420469e-01,  1.45989659e+00,\n",
       "        -9.62765247e-01,  2.46159581e+00, -2.12887066e+00,\n",
       "        -3.02331583e-01, -1.14229647e+00,  6.51742097e-01,\n",
       "         1.30567638e+00],\n",
       "       [ 1.34993859e+00,  7.44022772e-01,  1.03449231e+00,\n",
       "        -1.99510357e-01,  2.67345994e+00, -8.84012956e-01,\n",
       "        -2.94714663e-01, -4.51445372e-01,  1.55710124e-01,\n",
       "         3.20620600e-01],\n",
       "       [ 6.35663604e+00,  3.85669907e+00,  2.05283479e+00,\n",
       "        -2.02167822e+00,  9.28262400e+00, -1.93053095e+00,\n",
       "        -3.56083489e+00,  9.20052348e-01,  1.82787049e+00,\n",
       "         2.49561527e+00],\n",
       "       [-1.83858977e-01, -1.16532509e+00,  1.90732411e+00,\n",
       "        -1.58243549e+00,  2.40386772e+00, -3.02041064e+00,\n",
       "         6.61893334e-01, -2.58889846e+00, -5.52436633e-01,\n",
       "        -9.86530896e-01],\n",
       "       [-2.29817899e-02,  1.38518747e-01, -6.86120688e-02,\n",
       "        -9.53274588e-02,  2.46900246e-01,  1.72503881e-02,\n",
       "        -1.47743688e-01,  1.59342111e-01,  1.47920103e-02,\n",
       "         9.68079468e-02],\n",
       "       [-2.91835470e-01,  2.24956779e+00, -4.97837303e-01,\n",
       "        -1.52514044e+00,  5.03523012e+00, -6.36771925e-01,\n",
       "        -1.92508190e+00,  1.94286995e+00,  7.83710512e-02,\n",
       "         2.10750530e+00],\n",
       "       [-7.36079547e-01, -2.62676804e+00,  3.60847832e+00,\n",
       "        -3.63400178e+00,  4.47123048e+00, -6.45644151e+00,\n",
       "         1.33334355e+00, -5.20396862e+00, -1.09884739e+00,\n",
       "        -1.54163584e+00],\n",
       "       [ 2.29835562e+00,  4.71246785e+00, -7.27881481e-01,\n",
       "        -1.98609974e+00,  8.44474969e+00, -1.97772853e-01,\n",
       "        -4.04774669e+00,  3.91464051e+00,  1.13347067e+00,\n",
       "         4.14404264e+00],\n",
       "       [-2.35697220e+00, -4.26307908e+00,  4.03135541e+00,\n",
       "        -3.93539111e+00,  3.13378445e+00, -7.64169909e+00,\n",
       "         2.65894663e+00, -6.78694700e+00, -1.77748963e+00,\n",
       "        -2.32867173e+00],\n",
       "       [ 2.17046590e+00,  5.47283993e-01,  7.75916755e-01,\n",
       "        -1.61981256e+00,  2.55847547e+00, -1.72010739e+00,\n",
       "        -1.13086131e+00, -2.71686310e-01,  7.63087189e-01,\n",
       "         1.27989284e+00],\n",
       "       [-1.67078013e-01,  1.58579484e+00,  4.33968616e-01,\n",
       "        -2.47279252e+00,  5.98407297e+00, -1.21809763e+00,\n",
       "        -2.24573569e+00,  7.61266868e-01, -1.71621695e-01,\n",
       "        -4.60922347e-01],\n",
       "       [-2.09538719e+00,  9.79847448e-01, -8.14356262e-01,\n",
       "        -1.50803152e+00,  2.92316235e+00,  7.78647049e-02,\n",
       "        -1.44824913e+00,  1.42808121e+00, -5.50038467e-01,\n",
       "        -4.03958573e-01],\n",
       "       [-1.76278373e-01,  2.00449391e-01, -1.10046300e-01,\n",
       "        -3.18732519e-01,  5.64189326e-01, -4.01202371e-02,\n",
       "        -3.17304496e-01,  2.46904370e-01, -2.37386978e-02,\n",
       "         1.34977700e-02],\n",
       "       [-1.09749671e+00,  1.80671325e-01, -6.11921659e-01,\n",
       "        -2.65688245e+00,  2.06992138e+00, -7.39665757e-01,\n",
       "        -1.84526576e+00,  8.07259056e-01, -5.22804094e-02,\n",
       "        -5.97383289e-01],\n",
       "       [ 1.80366549e+00,  2.71053195e+00,  2.38990928e+00,\n",
       "        -7.49386980e-01,  9.07197993e+00, -1.53887751e+00,\n",
       "        -1.45018733e+00, -3.59498206e-01, -3.04585762e-01,\n",
       "        -6.66237440e-01],\n",
       "       [ 4.60479946e+00,  3.11703229e+00,  2.16492836e-01,\n",
       "         1.30017868e+00,  2.93678761e+00,  8.35792047e-01,\n",
       "        -1.38906266e+00,  1.93013226e+00,  1.59119163e+00,\n",
       "         3.70623529e+00],\n",
       "       [-5.78803995e-01, -8.25639421e-01,  6.59035518e-01,\n",
       "        -1.41574301e+00,  9.95278890e-01, -1.68138121e+00,\n",
       "         6.65046766e-02, -1.16599831e+00, -3.02062198e-01,\n",
       "        -5.83048914e-01],\n",
       "       [ 1.03227246e+00, -3.53120852e-01,  6.03161904e-01,\n",
       "        -3.84162313e+00,  2.88122624e+00, -2.22445344e+00,\n",
       "        -2.26495643e+00, -5.50434367e-01,  5.19324521e-01,\n",
       "        -1.11857034e+00],\n",
       "       [-2.07117731e+00, -1.30998927e+00,  1.27433007e+00,\n",
       "        -1.77184904e+00,  2.25008079e+00, -2.99680168e+00,\n",
       "         8.77017382e-01, -2.18408237e+00, -1.06634444e+00,\n",
       "        -7.71657039e-01],\n",
       "       [ 1.03016323e+01,  7.03673370e+00, -3.52203458e-01,\n",
       "         5.46748491e-01,  7.18597571e+00,  1.21760400e+00,\n",
       "        -4.83957639e+00,  5.25956872e+00,  4.07414164e+00,\n",
       "         8.87976289e+00],\n",
       "       [ 6.97849760e-01,  6.00170196e-01,  9.66955135e-01,\n",
       "        -1.04736024e+00,  3.31641025e+00, -1.15031489e+00,\n",
       "        -7.40356570e-01, -4.46401536e-01, -3.54016940e-02,\n",
       "        -4.04269487e-01],\n",
       "       [-2.79855068e-01,  1.24010475e-01, -1.55257387e-01,\n",
       "        -4.22759252e-01,  4.77334492e-01, -7.10242311e-02,\n",
       "        -3.41038694e-01,  2.40922113e-01, -3.72144086e-02,\n",
       "        -4.15971438e-02],\n",
       "       [ 1.25708571e+00, -3.96322225e+00,  2.69271901e+00,\n",
       "        -1.04794222e+01,  4.65299102e+00, -8.34016825e+00,\n",
       "        -3.43390749e+00, -4.66112705e+00,  6.50646338e-01,\n",
       "        -3.56299873e+00],\n",
       "       [-1.44454983e-01, -4.27081850e-01,  4.65263128e-01,\n",
       "        -2.35230682e+00,  1.95356169e+00, -1.64285902e+00,\n",
       "        -1.02517209e+00, -6.18006199e-01, -2.30489843e-02,\n",
       "        -8.48577771e-01],\n",
       "       [-2.40613119e+00, -2.07005189e+00,  1.32339896e+00,\n",
       "        -5.38405126e+00,  3.94057693e+00, -4.69535846e+00,\n",
       "        -1.04559510e+00, -2.52870099e+00, -9.17154674e-01,\n",
       "        -2.35177203e+00],\n",
       "       [-9.17938349e-01,  8.66592255e-01,  5.31749534e-02,\n",
       "        -1.08908034e+00,  3.19976817e+00, -4.16518355e-01,\n",
       "        -9.89248037e-01,  5.45386178e-01, -3.98455776e-01,\n",
       "        -4.30892628e-01],\n",
       "       [ 5.16832364e-01,  4.72800418e-01,  3.41195026e-01,\n",
       "        -9.43433223e-02,  1.31096940e+00, -2.01138241e-01,\n",
       "        -2.83735939e-01,  1.37972058e-02,  6.14975687e-02,\n",
       "         6.88202939e-02],\n",
       "       [ 1.14028945e+01,  7.72679376e+00,  4.28084099e+00,\n",
       "        -1.53558256e+00,  1.75649852e+01, -2.52246875e+00,\n",
       "        -5.42499852e+00,  1.53714233e+00,  2.80432499e+00,\n",
       "         4.11604400e+00],\n",
       "       [ 3.91465678e+00, -5.67606395e-01,  2.41363386e+00,\n",
       "        -6.33417498e+00,  6.08509716e+00, -6.19848560e+00,\n",
       "        -2.77748480e+00, -2.35771518e+00,  1.39933716e+00,\n",
       "         1.24344943e+00],\n",
       "       [ 3.52187208e+00,  2.55059125e+00,  2.53650154e-01,\n",
       "         6.10609072e-01,  3.05706327e+00,  1.27806544e-01,\n",
       "        -1.20291671e+00,  1.48516291e+00,  1.22691629e+00,\n",
       "         3.36172777e+00],\n",
       "       [-8.36847682e+00,  1.78382912e+00, -3.25539184e+00,\n",
       "        -5.08948778e+00,  6.70312178e+00,  3.31763520e-01,\n",
       "        -4.02307111e+00,  4.24270110e+00, -2.10262124e+00,\n",
       "        -1.97065002e+00],\n",
       "       [ 9.09687377e-02,  9.68759923e-01,  1.33993134e+00,\n",
       "        -1.03253219e+00,  5.01639078e+00, -1.43844973e+00,\n",
       "        -6.60334154e-01, -5.90731381e-01, -4.63438355e-01,\n",
       "        -7.25170413e-01],\n",
       "       [ 2.52001020e+00,  4.37150259e-01,  3.70504001e+00,\n",
       "        -7.39925607e-01,  6.52886303e+00, -4.45032531e+00,\n",
       "         9.68159158e-01, -3.28551972e+00, -1.92274842e-01,\n",
       "         1.18601360e+00]])"
      ]
     },
     "execution_count": 64,
     "metadata": {},
     "output_type": "execute_result"
    }
   ],
   "source": [
    "numpy.einsum('nrd,nd->nr', numpy.einsum('rdd,nd->nrd', Lambda, x), x)"
   ]
  },
  {
   "cell_type": "code",
   "execution_count": 62,
   "id": "consolidated-plaza",
   "metadata": {},
   "outputs": [
    {
     "data": {
      "text/plain": [
       "array([[[ True,  True,  True,  True,  True],\n",
       "        [ True,  True,  True,  True,  True],\n",
       "        [ True,  True,  True,  True,  True],\n",
       "        ...,\n",
       "        [ True,  True,  True,  True,  True],\n",
       "        [ True,  True,  True,  True,  True],\n",
       "        [ True,  True,  True,  True,  True]],\n",
       "\n",
       "       [[ True,  True,  True,  True,  True],\n",
       "        [ True,  True,  True,  True,  True],\n",
       "        [ True,  True,  True,  True,  True],\n",
       "        ...,\n",
       "        [ True,  True,  True,  True,  True],\n",
       "        [ True,  True,  True,  True,  True],\n",
       "        [ True,  True,  True,  True,  True]],\n",
       "\n",
       "       [[ True,  True,  True,  True,  True],\n",
       "        [ True,  True,  True,  True,  True],\n",
       "        [ True,  True,  True,  True,  True],\n",
       "        ...,\n",
       "        [ True,  True,  True,  True,  True],\n",
       "        [ True,  True,  True,  True,  True],\n",
       "        [ True,  True,  True,  True,  True]],\n",
       "\n",
       "       ...,\n",
       "\n",
       "       [[ True,  True,  True,  True,  True],\n",
       "        [ True,  True,  True,  True,  True],\n",
       "        [ True,  True,  True,  True,  True],\n",
       "        ...,\n",
       "        [ True,  True,  True,  True,  True],\n",
       "        [ True,  True,  True,  True,  True],\n",
       "        [ True,  True,  True,  True,  True]],\n",
       "\n",
       "       [[ True,  True,  True,  True,  True],\n",
       "        [ True,  True,  True,  True,  True],\n",
       "        [ True,  True,  True,  True,  True],\n",
       "        ...,\n",
       "        [ True,  True,  True,  True,  True],\n",
       "        [ True,  True,  True,  True,  True],\n",
       "        [ True,  True,  True,  True,  True]],\n",
       "\n",
       "       [[ True,  True,  True,  True,  True],\n",
       "        [ True,  True,  True,  True,  True],\n",
       "        [ True,  True,  True,  True,  True],\n",
       "        ...,\n",
       "        [ True,  True,  True,  True,  True],\n",
       "        [ True,  True,  True,  True,  True],\n",
       "        [ True,  True,  True,  True,  True]]])"
      ]
     },
     "execution_count": 62,
     "metadata": {},
     "output_type": "execute_result"
    }
   ],
   "source": [
    "numpy.sum(Lambda[None] * x[:,None,:,None], axis=2) == numpy.einsum('rdi,nd->nri', Lambda, x)"
   ]
  },
  {
   "cell_type": "code",
   "execution_count": null,
   "id": "dramatic-company",
   "metadata": {},
   "outputs": [],
   "source": []
  }
 ],
 "metadata": {
  "kernelspec": {
   "display_name": "Python 3",
   "language": "python",
   "name": "python3"
  },
  "language_info": {
   "codemirror_mode": {
    "name": "ipython",
    "version": 3
   },
   "file_extension": ".py",
   "mimetype": "text/x-python",
   "name": "python",
   "nbconvert_exporter": "python",
   "pygments_lexer": "ipython3",
   "version": "3.8.6"
  }
 },
 "nbformat": 4,
 "nbformat_minor": 5
}
