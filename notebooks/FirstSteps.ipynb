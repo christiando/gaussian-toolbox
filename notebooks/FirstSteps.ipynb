{
 "cells": [
  {
   "cell_type": "code",
   "execution_count": 1,
   "id": "reliable-mailing",
   "metadata": {},
   "outputs": [],
   "source": [
    "from matplotlib import pyplot\n",
    "import numpy\n",
    "from scipy.linalg import solve_triangular"
   ]
  },
  {
   "cell_type": "markdown",
   "id": "extra-bronze",
   "metadata": {},
   "source": [
    "### General Form of a Gaussian\n",
    "\n",
    "$p(x) = \\exp(-\\frac{1}{2}x^\\top\\Lambda x + x^\\top\\nu - \\ln Z)$\n",
    "\n",
    "with $\\ln Z = \\frac{1}{2}\\nu^\\top\\Lambda^{-1}\\nu + \\frac{D}{2}\\ln 2\\pi + \\frac{1}{2}\\ln\\det(\\Lambda^{-1})$.\n",
    "\n",
    "### Relation to covariance and mean\n",
    "\n",
    "$\\Sigma = \\Lambda^{-1}$\n",
    "\n",
    "$\\mu = \\Sigma\\nu$\n",
    "\n",
    "### Form of unnormalised Gaussians\n",
    "\n",
    "$u(x) = \\exp(-\\frac{1}{2}x^\\top\\Lambda x + x^\\top\\nu + \\ln \\beta)$\n",
    "\n",
    "And the intergal is\n",
    "\n",
    "$\\int u(x) d x = \\beta Z$"
   ]
  },
  {
   "cell_type": "markdown",
   "id": "voluntary-texture",
   "metadata": {},
   "source": [
    "### List of intergals"
   ]
  },
  {
   "cell_type": "code",
   "execution_count": 18,
   "id": "capable-nutrition",
   "metadata": {},
   "outputs": [],
   "source": [
    "class SquaredExponential:\n",
    "    \n",
    "    def __init__(self, Lambda: numpy.ndarray, nu: numpy.ndarray=None, ln_beta: numpy.ndarray=None):\n",
    "        \"\"\" A general term, which can be added to a Gaussian.\n",
    "        \n",
    "        u(x) = beta * exp(- 0.5 * x'Lambda x + x'nu),\n",
    "    \n",
    "        D is the dimension, and R the number of Gaussians.\n",
    "\n",
    "        :param Lambda: numpy.ndarray [R, D, D]\n",
    "            Information (precision) matrix of the Gaussian distributions.\n",
    "        :param nu: numpy.ndarray [R, D]\n",
    "            Information vector of a Gaussian distribution. If None all zeros. (Default=None)\n",
    "        :param ln_beta: numpy.ndarray [R]\n",
    "            The log constant factor of the squared exponential. If None all zeros. (Default=None)\n",
    "        \"\"\"\n",
    "        \n",
    "        self.Lambda = Lambda\n",
    "        self.R, self.D = self.Lambda.shape[0], self.Lambda.shape[1]\n",
    "        if nu is None:\n",
    "            self.nu = numpy.zeros((self.R, self.D))\n",
    "        else:\n",
    "            self.nu = nu\n",
    "        if ln_beta is None:\n",
    "            self.ln_beta = numpy.zeros((self.R))\n",
    "        else:\n",
    "            self.ln_beta = ln_beta\n",
    "        self.Sigma = None\n",
    "        self.ln_det_Lambda = None\n",
    "        self.ln_det_Sigma = None\n",
    "        self.lnZ = None\n",
    "        self.mu = None\n",
    "        \n",
    "        \n",
    "    def compute_lnZ(self):\n",
    "        \"\"\" Computes the log partition function.\n",
    "        \"\"\"\n",
    "        if self.ln_det_Sigma is None:\n",
    "            self.invert_lambda()\n",
    "        nu_Lambda_nu = numpy.einsum('rd,rd->r', numpy.einsum('rdd,rd->rd', self.Sigma, self.nu), self.nu)\n",
    "        self.lnZ = .5 * (nu_Lambda_nu + self.D * numpy.log(2. * numpy.pi) + self.ln_det_Sigma)\n",
    "            \n",
    "        \n",
    "    def evaluate_ln(self, x: numpy.ndarray, r: list=[]):\n",
    "        \"\"\" Evaluates the log-exponential term at x.\n",
    "        \n",
    "        :param x: numpy.ndarray [N, D]\n",
    "            Points where the squared exponential should be evaluated.\n",
    "        :param r: list\n",
    "            Indices of densities that need to be evaluated. If empty, all densities are evaluated. (Default=[])\n",
    "            \n",
    "        :return: numpy.ndarray [N, R] or [N, len(r)]\n",
    "            Log exponential term.\n",
    "        \"\"\"\n",
    "        if len(r) == 0:\n",
    "            r = range(self.R)\n",
    "        x_Lambda_x = numpy.einsum('adc,dc->ad', numpy.einsum('abc,dc->adb', self.Lambda[r], x), x)\n",
    "        x_nu = numpy.dot(x, self.nu[r].T).T\n",
    "        return - .5 * x_Lambda_x + x_nu + self.ln_beta[r,None]\n",
    "    \n",
    "    def evaluate(self, x: numpy.ndarray, r: list=[]):\n",
    "        \"\"\" Evaluates the exponential term at x.\n",
    "        \n",
    "        :param x: numpy.ndarray [N, D]\n",
    "            Points where the squared exponential should be evaluated.\n",
    "        :param r: list\n",
    "            Indices of densities that need to be evaluated. If empty, all densities are evaluated. (Default=[])\n",
    "            \n",
    "        :return: numpy.ndarray [N, R] or [N, len(r)]\n",
    "            Exponential term.\n",
    "        \"\"\"\n",
    "        return numpy.exp(self.evaluate_ln(x, r))\n",
    "    \n",
    "    def invert_lambda(self):\n",
    "        self.Sigma, self.ln_det_Lambda = self.invert_matrix(self.Lambda)\n",
    "        self.ln_det_Sigma = -self.ln_det_Lambda\n",
    "                    \n",
    "    @staticmethod\n",
    "    def invert_matrix(A):\n",
    "        L = numpy.linalg.cholesky(A)\n",
    "        # TODO: Check whether we can make it mor efficienty with solve_triangular.\n",
    "        #L_inv = solve_triangular(L, numpy.eye(L.shape[0]), lower=True,\n",
    "        #                         check_finite=False)\n",
    "        L_inv = numpy.linalg.solve(L, numpy.eye(L.shape[1])[None])\n",
    "        A_inv = numpy.einsum('acb,acd->abd', L_inv, L_inv)\n",
    "        ln_det_A = 2. * numpy.sum(numpy.log(L.diagonal(axis1=1, axis2=2)), axis=1)\n",
    "        return A_inv, ln_det_A\n",
    "    \n",
    "    @staticmethod\n",
    "    def get_trace(A):\n",
    "        return numpy.sum(A.diagonal(axis1=1,axis2=2), axis=1)\n",
    "    \n",
    "    def multiply_squared_exponential(self, factor: 'SquaredExponential', r: list=[]):\n",
    "        \"\"\" Multiplies an exponential factor with another one.\n",
    "        \n",
    "        u_1(x) * u_2(x)\n",
    "        \n",
    "        :param factor: SquaredExponential\n",
    "            Factor the object is multiplied with. The number of Gaussians in the resulting object are R * factor.R\n",
    "        :param r: list\n",
    "            Indices of densities that need to be evaluated. If empty, all densities are evaluated. (Default=[])\n",
    "        \n",
    "        :return: SquaredExponential\n",
    "            The resulting object.\n",
    "        \"\"\"\n",
    "        if len(r) == 0:\n",
    "            r = range(self.R)\n",
    "        R = len(r)\n",
    "        Lambda = (self.Lambda[r,None] + factor.Lambda[None]).reshape((R * factor.R, self.D, self.D))\n",
    "        nu = (self.nu[r,None] + factor.nu[None]).reshape((R * factor.R, self.D))\n",
    "        ln_beta = (self.ln_beta[r,None] + factor.ln_beta[None]).reshape((R * factor.R))\n",
    "        product = SquaredExponential(Lambda=Lambda, nu=nu, ln_beta=ln_beta)\n",
    "        return product\n",
    "    \n",
    "    def multiply_rank_one(self, U: numpy.ndarray, G: numpy.ndarray, nu: numpy.ndarray=None, ln_beta: numpy.ndarray=None, r: list=[]):\n",
    "        \"\"\" Multiplies the exponential term with another exponential term, where the Lambda is rank 1, i.e.\n",
    "        \n",
    "        Lambda = U G U'\n",
    "            \n",
    "        Where G is an [1 x 1] diagonal matrix and U and [D x 1] with a vector. If already computed, the covariance matrix Sigma and its log-determinant are efficiently updated.\n",
    "        \n",
    "        :param U: numpy.ndarray [R1, D]\n",
    "            Vector of low rank matrix with orthogonal vectors.\n",
    "        :param G: numpy.ndarray [R1]\n",
    "            Diagonal entries of the low-rank matrix.\n",
    "        :param nu: numpy.ndarray [R1, D]\n",
    "            Information vector of the low rank part. If None all entries are zero. (Default=None)\n",
    "        :param nu: numpy.ndarray [R1]\n",
    "            Log factor of the low rank part. If None all entries are zero. (Default=None)\n",
    "        :param r: list\n",
    "            Indices of densities that need to be evaluated. If empty, all densities are evaluated. (Default=[])\n",
    "            \n",
    "        :return: Squared exponential\n",
    "            The resulting product, where the number of Gaussians is self.R * R1.\n",
    "        \"\"\"\n",
    "        if len(r) == 0:\n",
    "            r = range(self.R)\n",
    "        R = len(r)\n",
    "        R1 = G.shape[0]\n",
    "        UGU = numpy.einsum('rd,rs->rds', U, G[:,None] * U)\n",
    "        Lambda_new = (self.Lambda[r,None] + UGU[None]).reshape((R * R1, self.D, self.D))\n",
    "        if nu is None:\n",
    "            nu_new = numpy.tile(self.nu, (R1, 1))\n",
    "        else:\n",
    "            nu_new = (self.nu[r,None] + nu[None]).reshape((R * R1, self.D))\n",
    "        if ln_beta is None:\n",
    "            ln_beta_new = numpy.tile(self.ln_beta, (R1))\n",
    "        else:\n",
    "            ln_beta_new = (self.ln_beta[r,None] + ln_beta[None]).reshape((R * R1))\n",
    "        product = SquaredExponential(Lambda=Lambda_new, nu=nu_new, ln_beta=ln_beta_new)\n",
    "        \n",
    "        # if the Sigma of the object is known the Sherman-morrison formula and the matrix determinant lemma are used for efficient update of the inverses and the log determinants.\n",
    "        if self.Sigma is not None and self.ln_det_Sigma is not None:\n",
    "            # Sherman morrison inversion\n",
    "            G_inv = 1. / G\n",
    "            Sigma_U = numpy.einsum('rsdd,rsd->rsd', self.Sigma[r,None], U[None])\n",
    "            U_Sigma_U = numpy.einsum('rsd,rsd->rs', Sigma_U, U[None])\n",
    "            denominator = 1. + G[None] * U_Sigma_U\n",
    "            nominator = G[None] * numpy.einsum('rsd,rsk->rsdk', Sigma_U, Sigma_U)\n",
    "            Sigma_new = self.Sigma[r, None] - nominator / denominator[:,:,None,None]\n",
    "            product.Sigma = Sigma_new.reshape((R*R1, self.D, self.D))\n",
    "            # Matrix determinant lemma\n",
    "            ln_det_Sigma_new = self.ln_det_Sigma[r,None] - numpy.log(denominator)\n",
    "            product.ln_det_Sigma = ln_det_Sigma_new.reshape((R * R1))\n",
    "            product.ln_det_Lambda = -product.ln_det_Sigma\n",
    "        return product\n",
    "    \n",
    "    def log_integral(self):\n",
    "        \"\"\" Computes the log integral of the exponential term.\n",
    "        \n",
    "        log \\int u(x) dx.\n",
    "        \n",
    "        :return: numpy.ndarray [R]\n",
    "            Log integral\n",
    "        \"\"\"\n",
    "        self._prepare_inegration()\n",
    "        return self.lnZ + self.ln_beta\n",
    "    \n",
    "    def integral(self):\n",
    "        \"\"\" Computes the log integral of the exponential term.\n",
    "        \n",
    "        \\int u(x) dx.\n",
    "        \n",
    "        :return: numpy.ndarray [R]\n",
    "            Integral\n",
    "        \"\"\"\n",
    "        return numpy.exp(self.log_integral())\n",
    "    \n",
    "    def normalize(self):\n",
    "        \"\"\" Normalizes the term such that\n",
    "        \n",
    "        int u(x) dx = 1.\n",
    "        \"\"\"\n",
    "        self.ln_beta = -self.log_integral()\n",
    "        \n",
    "    def is_normalized(self):\n",
    "        return numpy.equal(self.lnZ, -self.ln_beta)\n",
    "    \n",
    "    def compute_mu(self):\n",
    "        \"\"\" Converts from information to mean vector.\n",
    "        \n",
    "        :return: numpy.ndarray [R, D]\n",
    "            Mean vector.\n",
    "        \"\"\"\n",
    "        if self.Sigma is None:\n",
    "            self.invert_lambda()\n",
    "        self.mu = numpy.einsum('abc,ac->ab', self.Sigma, self.nu)\n",
    "    \n",
    "    def get_density(self):\n",
    "        \"\"\" Returns the corresponing normalised density object.\n",
    "        \n",
    "        :return: GaussianDensity\n",
    "            Corresponding density object.\n",
    "        \"\"\"\n",
    "        self._prepare_inegration()\n",
    "        return GaussianDensity(Sigma=self.Sigma, mu=mu, Lambda=self.Lambda, ln_det_Sigma=self.ln_det_Sigma)\n",
    "    \n",
    "    def _prepare_inegration(self):\n",
    "        if self.lnZ is None:\n",
    "            self.compute_lnZ()\n",
    "        if self.mu is None:\n",
    "            self.compute_mu()\n",
    "            \n",
    "    ##### Linear intergals\n",
    "            \n",
    "    def _expectation_x(self):\n",
    "        \"\"\" Computes the expectation.\n",
    "        \n",
    "            int x du(x) / int du(x)\n",
    "        \n",
    "        :return: numpy.ndarray [R, D]\n",
    "            The solved intergal.\n",
    "        \"\"\"\n",
    "        return self.mu \n",
    "            \n",
    "    def intergrate_x(self):\n",
    "        \"\"\" Computes the integral.\n",
    "        \n",
    "            int x du(x)\n",
    "        \n",
    "        :return: numpy.ndarray [R, D]\n",
    "            The solved intergal.\n",
    "        \"\"\"\n",
    "        constant = self.integral()\n",
    "        return constant[:,None] * self._expectation_x()\n",
    "    \n",
    "    ##### Quadratic integrals\n",
    "    \n",
    "    def _expectation_xxT(self):\n",
    "        \"\"\" Computes the expectation.\n",
    "        \n",
    "            int xx' du(x) / int du(x)\n",
    "        \n",
    "        :return: numpy.ndarray [R, D, D]\n",
    "            The solved intergal.\n",
    "        \"\"\"\n",
    "        return self.Sigma + numpy.einsum('ab,ac->acb', self.mu, self.mu)\n",
    "    \n",
    "    def intergrate_xxT(self):\n",
    "        \"\"\" Computes the integral.\n",
    "        \n",
    "            int xx' du(x)\n",
    "        \n",
    "        :return: numpy.ndarray [R, D, D]\n",
    "            The solved intergal.\n",
    "        \"\"\"\n",
    "        constant = self.integral()\n",
    "        return constant[:,None,None] * self._expectation_xxT()\n",
    "    \n",
    "    ##### Cubic integrals\n",
    "    \n",
    "    def _expectation_xbxx(self, b_vec: numpy.ndarray):\n",
    "        \"\"\" Computes the cubic expectation.\n",
    "        \n",
    "            int xb'xx' dphi(x),\n",
    "            \n",
    "            with phi(x) = u(x) / int du(x).\n",
    "            \n",
    "        :param b_vec: numpy.ndarray [D,]\n",
    "            Vector of \n",
    "        :return: numpy.ndarray [R, D, D]\n",
    "            The solved intergal.\n",
    "        \"\"\"\n",
    "        constant = self.integral()\n",
    "        Exx = self._expectation_xxT()\n",
    "        mub_outer = numpy.einsum('ab,c->abc', self.mu, b_vec)\n",
    "        mbExx = numpy.einsum('abc,acd->abd', mub_outer, Exx)\n",
    "        bmu_inner = numpy.einsum('ab,b->a', self.mu, b_vec)\n",
    "        bmSigma = numpy.einsum('a,abc->abc', bmu_inner, self.Sigma)\n",
    "        bmu_outer = numpy.einsum('a,bc->bac', b_vec, self.mu)\n",
    "        Sigmabm = numpy.einsum('abd,ade->abe', self.Sigma, bmu_outer)\n",
    "        return mbExx + bmSigma + Sigmabm\n",
    "        \n",
    "    \n",
    "    def intergate_xbxx(self, b_vec: numpy.ndarray):\n",
    "        \"\"\" Computes the cubic integral.\n",
    "        \n",
    "            int xb'xx' du(x)\n",
    "        :param b_vec: numpy.ndarray [D,]\n",
    "            Vector of \n",
    "        :return: numpy.ndarray [R, D, D]\n",
    "            The solved intergal.\n",
    "        \"\"\"\n",
    "        constant = self.integral()\n",
    "        return constant[:,None,None] * self._expectation_xbxx(b_vec)\n",
    "    \n",
    "    \n",
    "    ##### Quartic integrals\n",
    "    \n",
    "    def _expectation_xxTxxT(self):\n",
    "        \"\"\" Computes the cubic integral.\n",
    "        \n",
    "            int xx'xx' dphi(x),\n",
    "            \n",
    "            with phi(x) = u(x) / int du(x).\n",
    "            \n",
    "        :return: numpy.ndarray [R, D, D]\n",
    "            The solved intergal.\n",
    "        \"\"\"\n",
    "        mumu_outer = numpy.einsum('ab,ac->acb', self.mu, self.mu)\n",
    "        Sigma_mumu_p = self.Sigma + mumu_outer\n",
    "        Sigma_mumu_m = self.Sigma - mumu_outer\n",
    "        mumu_inner = numpy.einsum('ab,ab->a', self.mu, self.mu)\n",
    "        Sigma_trace = self.get_trace(self.Sigma)\n",
    "        Sigma_mumu_p2 = numpy.einsum('abc,acd->abd', Sigma_mumu_p, Sigma_mumu_p)\n",
    "        return 2. * Sigma_mumu_p2 + mumu_inner[:,None,None] * Sigma_mumu_m + Sigma_trace[:,None,None] * Sigma_mumu_p\n",
    "        \n",
    "    def integrate_xxTxxT(self):\n",
    "        \"\"\" Computes the quartic integral.\n",
    "        \n",
    "            int xx'xx' du(x).\n",
    "            \n",
    "        :return: numpy.ndarray [R, D, D]\n",
    "            The solved intergal.\n",
    "        \"\"\"\n",
    "        constant = self.integral()\n",
    "        return constant[:,None,None] * self._expectation_xxTxxT()\n",
    "    \n",
    "    def _expectation_xxTAxxT(self, A_mat: numpy.ndarray):\n",
    "        \"\"\" Computes the quartic expectation.\n",
    "        \n",
    "            int xx'Axx' dphi(x),\n",
    "            \n",
    "            with phi(x) = u(x) / int du(x).\n",
    "            \n",
    "        :param A: numpy.ndarray [D,D]\n",
    "            Square matrix.\n",
    "            \n",
    "        :return: numpy.ndarray [R, D, D]\n",
    "            The solved intergal.\n",
    "        \"\"\"\n",
    "        mumu_outer = numpy.einsum('ab,ac->acb', self.mu, self.mu)\n",
    "        Sigma_mumu_p = self.Sigma + mumu_outer\n",
    "        Sigma_mumu_m = self.Sigma - mumu_outer\n",
    "        AAT = A_mat + A_mat.T\n",
    "        Sigma_AA_Sigma = numpy.einsum('abc, acd->abd', numpy.einsum('abc,cd->abd', Sigma_mumu_p, AAT), Sigma_mumu_p)\n",
    "        muAmu = numpy.einsum('ab,ab->a', self.mu, numpy.einsum('ab,ca-> cb', A_mat, self.mu))\n",
    "        ASigma_trace = self.get_trace(numpy.einsum('ab,cbd->cad', A_mat, self.Sigma))\n",
    "        return Sigma_AA_Sigma + muAmu[:,None,None] * Sigma_mumu_m + ASigma_trace[:,None,None] * Sigma_mumu_p\n",
    "    \n",
    "    def integrate_xxTAxxT(self, A_mat: numpy.ndarray):\n",
    "        \"\"\" Computes the quartic integral.\n",
    "        \n",
    "            int xx'xx' du(x)\n",
    "        :return: numpy.ndarray [R, D, D]\n",
    "            The solved intergal.\n",
    "        \"\"\"\n",
    "        constant = self.integral()\n",
    "        return constant[:,None,None] * self._expectation_xxTAxxT(A_mat)\n",
    "    \n",
    "    def _expectation_general_quartic_outer(self, A_mat: numpy.ndarray, a_vec: numpy.ndarray, B_mat: numpy.ndarray, b_vec: numpy.ndarray, \n",
    "                                           C_mat: numpy.ndarray, c_vec: numpy.ndarray, D_mat: numpy.ndarray, d_vec: numpy.ndarray):\n",
    "        \"\"\" Computes the quartic expectation.\n",
    "        \n",
    "            int (Ax+a)(Bx+b)'(Cx+c)(Dx+d)' dphi(x),\n",
    "            \n",
    "            with phi(x) = u(x) / int du(x).\n",
    "            \n",
    "        :param A_mat: numpy.ndarray [K,D]\n",
    "            Real valued matrix.\n",
    "        :param a_vec: numpy.ndarray [K]\n",
    "            Real valued vector.\n",
    "        :param B_mat: numpy.ndarray [L,D]\n",
    "            Real valued matrix.\n",
    "        :param b_vec: numpy.ndarray [L]\n",
    "            Real valued vector.\n",
    "        :param C_mat: numpy.ndarray [L,D]\n",
    "            Real valued matrix.\n",
    "        :param c_vec: numpy.ndarray [L]\n",
    "            Real valued vector.\n",
    "        :param D_mat: numpy.ndarray [M,D]\n",
    "            Real valued matrix.\n",
    "        :param d_vec: numpy.ndarray [M]\n",
    "            Real valued vector.\n",
    "            \n",
    "        :return: numpy.ndarray [R, K, M]\n",
    "            The solved intergal.\n",
    "        \"\"\"\n",
    "        Amu_a = numpy.einsum('ab,cb-> ca', A_mat, self.mu) + a_vec[None]\n",
    "        Bmu_b = numpy.einsum('ab,cb-> ca', B_mat, self.mu) + b_vec[None]\n",
    "        Cmu_c = numpy.einsum('ab,cb-> ca', C_mat, self.mu) + c_vec[None]\n",
    "        Dmu_d = numpy.einsum('ab,cb-> ca', D_mat, self.mu) + d_vec[None]\n",
    "        ASigmaB = numpy.einsum('ab,cbd->cad', A_mat, numpy.einsum('abc,cd->abd', self.Sigma, B_mat.T))\n",
    "        CSigmaD = numpy.einsum('ab,cbd->cad', C_mat, numpy.einsum('abc,cd->abd', self.Sigma, D_mat.T))\n",
    "        ASigmaC = numpy.einsum('ab,cbd->cad', A_mat, numpy.einsum('abc,cd->abd', self.Sigma, C_mat.T))\n",
    "        BSigmaD = numpy.einsum('ab,cbd->cad', B_mat, numpy.einsum('abc,cd->abd', self.Sigma, D_mat.T))\n",
    "        ASigmaD = numpy.einsum('ab,cbd->cad', A_mat, numpy.einsum('abc,cd->abd', self.Sigma, D_mat.T))\n",
    "        BSigmaC = numpy.einsum('ab,cbd->cad', B_mat, numpy.einsum('abc,cd->abd', self.Sigma, C_mat.T))\n",
    "        AmuaBmub = numpy.einsum('ab,ac->abc', Amu_a, Bmu_b)\n",
    "        CmucDmud = numpy.einsum('ab,ac->abc', Cmu_c, Dmu_d)\n",
    "        AmuaCmuc = numpy.einsum('ab,ac->abc', Amu_a, Cmu_c)\n",
    "        BmubDmud = numpy.einsum('ab,ac->abc', Bmu_b, Dmu_d)\n",
    "        BmubCmuc = numpy.einsum('ab,ab->a', Bmu_b, Cmu_c)\n",
    "        AmuaDmud = numpy.einsum('ab,ac->abc', Amu_a, Dmu_d)\n",
    "        first_term = numpy.einsum('abc,acd->abd', ASigmaB + AmuaBmub, CSigmaD + CmucDmud)\n",
    "        second_term = numpy.einsum('abc,acd->abd', ASigmaC + AmuaCmuc, BSigmaD + BmubDmud)\n",
    "        third_term = BmubCmuc[:,None,None] * (ASigmaD - AmuaDmud)\n",
    "        fourth_term = self.get_trace(BSigmaC)[:,None,None] * (ASigmaD + AmuaDmud)\n",
    "        return first_term + second_term + third_term + fourth_term\n",
    "        \n",
    "    def integral_general_quartic_outer(self, A_mat: numpy.ndarray, a_vec: numpy.ndarray, B_mat: numpy.ndarray, b_vec: numpy.ndarray, \n",
    "                                       C_mat: numpy.ndarray, c_vec: numpy.ndarray, D_mat: numpy.ndarray, d_vec: numpy.ndarray):\n",
    "        \"\"\" Computes the quartic integral.\n",
    "        \n",
    "            int (Ax+a)(Bx+b)'(Cx+c)(Dx+d)' du(x).\n",
    "            \n",
    "        :param A_mat: numpy.ndarray [K,D]\n",
    "            Real valued matrix.\n",
    "        :param a_vec: numpy.ndarray [K]\n",
    "            Real valued vector.\n",
    "        :param B_mat: numpy.ndarray [L,D]\n",
    "            Real valued matrix.\n",
    "        :param b_vec: numpy.ndarray [L]\n",
    "            Real valued vector.\n",
    "        :param C_mat: numpy.ndarray [L,D]\n",
    "            Real valued matrix.\n",
    "        :param c_vec: numpy.ndarray [L]\n",
    "            Real valued vector.\n",
    "        :param D_mat: numpy.ndarray [M,D]\n",
    "            Real valued matrix.\n",
    "        :param d_vec: numpy.ndarray [M]\n",
    "            Real valued vector.\n",
    "            \n",
    "        :return: numpy.ndarray [R, K, M]\n",
    "            The solved intergal.\n",
    "        \"\"\"\n",
    "        constant = self.integral()\n",
    "        return constant[:,None,None] * self._expectation_general_quartic_outer(A_mat,a_vec,B_mat,b_vec,C_mat,c_vec,D_mat,d_vec)\n",
    "    \n",
    "    def _expectation_general_quartic_inner(self, A_mat: numpy.ndarray, a_vec: numpy.ndarray, B_mat: numpy.ndarray, b_vec: numpy.ndarray, \n",
    "                                           C_mat: numpy.ndarray, c_vec: numpy.ndarray, D_mat: numpy.ndarray, d_vec: numpy.ndarray):\n",
    "        \"\"\" Computes the quartic expectation.\n",
    "        \n",
    "            int (Ax+a)'(Bx+b)(Cx+c)'(Dx+d) dphi(x),\n",
    "            \n",
    "            with phi(x) = u(x) / int du(x).\n",
    "            \n",
    "        :param A_mat: numpy.ndarray [K,D]\n",
    "            Real valued matrix.\n",
    "        :param a_vec: numpy.ndarray [K]\n",
    "            Real valued vector.\n",
    "        :param B_mat: numpy.ndarray [K,D]\n",
    "            Real valued matrix.\n",
    "        :param b_vec: numpy.ndarray [L]\n",
    "            Real valued vector.\n",
    "        :param C_mat: numpy.ndarray [L,D]\n",
    "            Real valued matrix.\n",
    "        :param c_vec: numpy.ndarray [L]\n",
    "            Real valued vector.\n",
    "        :param D_mat: numpy.ndarray [L,D]\n",
    "            Real valued matrix.\n",
    "        :param d_vec: numpy.ndarray [L]\n",
    "            Real valued vector.\n",
    "            \n",
    "        :return: numpy.ndarray [R]\n",
    "            The solved intergal.\n",
    "        \"\"\"\n",
    "        Amu_a = numpy.einsum('ab,cb-> ca', A_mat, self.mu) + a_vec[None]\n",
    "        Bmu_b = numpy.einsum('ab,cb-> ca', B_mat, self.mu) + b_vec[None]\n",
    "        Cmu_c = numpy.einsum('ab,cb-> ca', C_mat, self.mu) + c_vec[None]\n",
    "        Dmu_d = numpy.einsum('ab,cb-> ca', D_mat, self.mu) + d_vec[None]\n",
    "        ASigmaB = numpy.einsum('ab,cbd->cad', A_mat, numpy.einsum('abc,cd->abd', self.Sigma, B_mat.T))\n",
    "        CSigmaD = numpy.einsum('ab,cbd->cad', C_mat, numpy.einsum('abc,cd->abd', self.Sigma, D_mat.T))\n",
    "        \n",
    "        AmuaBmub = numpy.einsum('ab,ab->a', Amu_a, Bmu_b)\n",
    "        CmucDmud = numpy.einsum('ab,ab->a', Cmu_c, Dmu_d)\n",
    "        CD = numpy.dot(C_mat.T, D_mat)\n",
    "        CD_DC = CD + CD.T\n",
    "        SCD_DCS = numpy.einsum('abc,acd->abd', numpy.einsum('abc,cd->abd', self.Sigma, CD_DC), self.Sigma)\n",
    "        ASCD_DCSB = numpy.einsum('abc,dc->abd', numpy.einsum('ab,cbd->cad', A_mat, SCD_DCS), B_mat)\n",
    "        Am_aB = numpy.einsum('ab,bc->ac', Amu_a, B_mat)\n",
    "        Bm_bA = numpy.einsum('ab,bc->ac', Bmu_b, A_mat)\n",
    "        CDm_d = numpy.einsum('ab,ca->cb', C_mat, Dmu_d)\n",
    "        DCm_c = numpy.einsum('ab,ca->cb', D_mat, Cmu_c)\n",
    "        first_term = self.get_trace(ASCD_DCSB)\n",
    "        second_term = numpy.einsum('ab,ab->a', numpy.einsum('ab,abc->ac', Am_aB + Bm_bA, self.Sigma), CDm_d + DCm_c)\n",
    "        third_term = (self.get_trace(ASigmaB) + AmuaBmub) * (self.get_trace(CSigmaD) + CmucDmud)\n",
    "        return first_term + second_term + third_term\n",
    "        \n",
    "    def integral_general_quartic_inner(self, A: numpy.ndarray, a_vec: numpy.ndarray, B: numpy.ndarray, b_vec: numpy.ndarray, \n",
    "                                       C: numpy.ndarray, c_vec: numpy.ndarray, D: numpy.ndarray, d_vec: numpy.ndarray):\n",
    "        \"\"\" Computes the quartic integral.\n",
    "        \n",
    "            int (Ax+a)(Bx+b)'(Cx+c)(Dx+d)' du(x).\n",
    "            \n",
    "        :param A_mat: numpy.ndarray [K,D]\n",
    "            Real valued matrix.\n",
    "        :param a_vec: numpy.ndarray [K]\n",
    "            Real valued vector.\n",
    "        :param B_mat: numpy.ndarray [K,D]\n",
    "            Real valued matrix.\n",
    "        :param b_vec: numpy.ndarray [K]\n",
    "            Real valued vector.\n",
    "        :param C_mat: numpy.ndarray [L,D]\n",
    "            Real valued matrix.\n",
    "        :param c_vec: numpy.ndarray [L]\n",
    "            Real valued vector.\n",
    "        :param D_mat: numpy.ndarray [L,D]\n",
    "            Real valued matrix.\n",
    "        :param d_vec: numpy.ndarray [L]\n",
    "            Real valued vector.\n",
    "            \n",
    "        :return: numpy.ndarray [R]\n",
    "            The solved intergal.\n",
    "        \"\"\"\n",
    "        constant = self.integral()\n",
    "        return constant * self._expectation_general_quartic_inner(A_mat,a_vec,B_mat,b_vec,C_mat,c_vec,D_mat,d_vec)\n",
    "\n",
    "    \n",
    "class DiagonalSquaredExponential(SquaredExponential):\n",
    "    \n",
    "    def invert_lambda(self):\n",
    "        self.Sigma = numpy.diag(self.Lambda.diagonal())\n",
    "        self.ln_det_Lambda = numpy.sum(numpy.log(self.Lambda.diagonal()))\n",
    "        self.ln_det_Sigma = -self.ln_det_Lambda   \n",
    "    \n",
    "class GaussianDensity(SquaredExponential):\n",
    "    \n",
    "    def __init__(self, Sigma: numpy.ndarray, mu: numpy.ndarray, Lambda: numpy.ndarray=None, ln_det_Sigma: numpy.ndarray=None):\n",
    "        \"\"\" A normalized Gaussian density, with specified mean and covariance matrix.\n",
    "        \n",
    "        :param Sigma: numpy.ndarray [R, D, D]\n",
    "            Covariance matrices of the Gaussian densities.\n",
    "        :param mu: numpy.ndarray [R, D]\n",
    "            Mean of the Gaussians.\n",
    "        :param Lambda: numpy.ndarray [R, D, D] or None\n",
    "            Information (precision) matrix of the Gaussians. (Default=None)\n",
    "        :param ln_det_Sigma: numpy.ndarray [R] or None\n",
    "            Log determinant of the covariance matrix. (Default=None)\n",
    "        \"\"\"\n",
    "        if Lambda is None:\n",
    "            Lambda, ln_det_Sigma = self.invert_matrix(Sigma)\n",
    "        elif ln_det_Sigma is None:\n",
    "            ln_det_Sigma = numpy.linalg.slogdet(Sigma)[1]\n",
    "        nu = numpy.einsum('abc,ab->ac', Lambda, mu)\n",
    "        super().__init__(Lambda=Lambda, nu=nu)\n",
    "        self.Sigma = Sigma\n",
    "        self.ln_det_Sigma = ln_det_Sigma\n",
    "        self.ln_det_Lambda = -ln_det_Sigma\n",
    "        self.normalize()\n",
    "        \n",
    "    def sample(self, num_samples: int):\n",
    "        L = numpy.linalg.cholesky(self.Sigma)\n",
    "        rand_nums = numpy.random.randn(num_samples, self.R, self.D)\n",
    "        x_samples = self.mu[None] + numpy.einsum('abc,dac->dab', L, rand_nums)\n",
    "        return x_samples\n",
    "                                       \n",
    "class SphericalGaussianDensity(GaussianDensity):\n",
    "    \n",
    "    def __init__(self, Sigma: numpy.ndarray, mu: numpy.ndarray, Lambda: numpy.ndarray=None, ln_det_Sigma: numpy.ndarray=None):\n",
    "        \"\"\" A normalized Gaussian density, with specified mean and covariance matrix.\n",
    "        \n",
    "        :param Sigma: numpy.ndarray [R, D, D]\n",
    "            Covariance matrices of the Gaussian densities.\n",
    "        :param mu: numpy.ndarray [R, D]\n",
    "            Mean of the Gaussians.\n",
    "        :param Lambda: numpy.ndarray [R, D, D] or None\n",
    "            Information (precision) matrix of the Gaussians. (Default=None)\n",
    "        :param ln_det_Sigma: numpy.ndarray [R] or None\n",
    "            Log determinant of the covariance matrix. (Default=None)\n",
    "        \"\"\"\n",
    "        if Lambda is None:\n",
    "            Lambda = numpy.diag(Sigma.diagonal())\n",
    "            ln_det_Sigma = numpy.sum(numpy.log(Sigma.diagonal()))\n",
    "        elif ln_det_Sigma is None:\n",
    "            ln_det_Sigma = numpy.sum(numpy.log(Sigma.diagonal()))\n",
    "        nu = numpy.einsum('abc,ac->ab', Lambda, mu)\n",
    "        super().__init__(Lambda=Lambda, nu=nu)\n",
    "        self.Sigma = Sigma\n",
    "        self.ln_det_Sigma = ln_det_Sigma\n",
    "        self.ln_det_Lambda = -ln_det_Sigma\n",
    "        self.mu = mu\n",
    "        self.normalize()"
   ]
  },
  {
   "cell_type": "markdown",
   "id": "suburban-auditor",
   "metadata": {},
   "source": [
    "### Test for 1 D"
   ]
  },
  {
   "cell_type": "code",
   "execution_count": 19,
   "id": "sensitive-algorithm",
   "metadata": {},
   "outputs": [],
   "source": [
    "R, D, R1 = 2, 1, 1\n",
    "rand_nums = numpy.random.randn(D,D)\n",
    "Sigma_phi = .5 * (rand_nums + rand_nums.T) + D * numpy.eye(D)\n",
    "Sigma_phi = numpy.tile(Sigma_phi, (R, 1, 1))\n",
    "mu_phi = numpy.random.randn(R, D)\n",
    "phi = GaussianDensity(Sigma=Sigma_phi, mu=mu_phi)"
   ]
  },
  {
   "cell_type": "code",
   "execution_count": 20,
   "id": "conscious-haven",
   "metadata": {},
   "outputs": [
    {
     "data": {
      "image/png": "[encoded data removed]",
      "text/plain": [
       "<Figure size 432x288 with 2 Axes>"
      ]
     },
     "metadata": {
      "needs_background": "light"
     },
     "output_type": "display_data"
    }
   ],
   "source": [
    "from scipy.stats import norm\n",
    "\n",
    "xrange = numpy.linspace(-7,7,1000)\n",
    "for ir in range(R):\n",
    "    pyplot.subplot(R, 1, ir+1)\n",
    "    scipy_gauss = norm.pdf(xrange, loc=mu_phi[ir], scale=numpy.sqrt(Sigma_phi[ir,0,0]))\n",
    "    pyplot.hist(phi.sample(2000)[:,ir], bins=40, density=True, label='Sample')\n",
    "    pyplot.plot(xrange, phi.evaluate(numpy.array([xrange]).T)[ir], label='Custom')\n",
    "    pyplot.plot(xrange, scipy_gauss, '--', label='scipy')\n",
    "pyplot.legend()\n",
    "pyplot.show()"
   ]
  },
  {
   "cell_type": "markdown",
   "id": "informed-prairie",
   "metadata": {},
   "source": [
    "### Test for integral x"
   ]
  },
  {
   "cell_type": "code",
   "execution_count": 21,
   "id": "shared-period",
   "metadata": {},
   "outputs": [],
   "source": [
    "R, D, R1 = 10, 1, 1\n",
    "rand_nums = numpy.random.randn(D,D)\n",
    "Sigma_phi = .5 * numpy.dot(rand_nums, rand_nums.T) + D * numpy.eye(D)\n",
    "Sigma_phi = numpy.tile(Sigma_phi, (R, 1, 1))\n",
    "mu_phi = numpy.random.randn(R, D)\n",
    "phi = GaussianDensity(Sigma=Sigma_phi, mu=mu_phi)"
   ]
  },
  {
   "cell_type": "code",
   "execution_count": 22,
   "id": "still-hudson",
   "metadata": {},
   "outputs": [
    {
     "data": {
      "text/plain": [
       "[<matplotlib.lines.Line2D at 0x7fa057f52520>]"
      ]
     },
     "execution_count": 22,
     "metadata": {},
     "output_type": "execute_result"
    },
    {
     "data": {
      "image/png": "[encoded data removed]",
      "text/plain": [
       "<Figure size 288x288 with 1 Axes>"
      ]
     },
     "metadata": {
      "needs_background": "light"
     },
     "output_type": "display_data"
    }
   ],
   "source": [
    "x_sample = numpy.mean(phi.sample(2000), axis=0)\n",
    "pyplot.figure(figsize=(4,4))\n",
    "pyplot.plot([1.1 * numpy.amin(x_sample), 1.1 * numpy.amax(x_sample)], [1.1 * numpy.amin(x_sample), 1.1 * numpy.amax(x_sample)] ,'k')\n",
    "pyplot.plot(x_sample, phi.intergrate_x()[:,0], 'C3o')"
   ]
  },
  {
   "cell_type": "code",
   "execution_count": 23,
   "id": "original-robin",
   "metadata": {},
   "outputs": [],
   "source": [
    "R, D, R1 = 10, 3, 1\n",
    "rand_nums = numpy.random.randn(D,D)\n",
    "Sigma_phi = .5 * numpy.dot(rand_nums, rand_nums.T) + D * numpy.eye(D)\n",
    "Sigma_phi = numpy.tile(Sigma_phi, (R, 1, 1))\n",
    "mu_phi = numpy.random.randn(R, D)\n",
    "phi = GaussianDensity(Sigma=Sigma_phi, mu=mu_phi)"
   ]
  },
  {
   "cell_type": "code",
   "execution_count": 24,
   "id": "swedish-denver",
   "metadata": {},
   "outputs": [
    {
     "data": {
      "text/plain": [
       "[<matplotlib.lines.Line2D at 0x7fa057ebd250>]"
      ]
     },
     "execution_count": 24,
     "metadata": {},
     "output_type": "execute_result"
    },
    {
     "data": {
      "image/png": "[encoded data removed]",
      "text/plain": [
       "<Figure size 288x288 with 1 Axes>"
      ]
     },
     "metadata": {
      "needs_background": "light"
     },
     "output_type": "display_data"
    }
   ],
   "source": [
    "x_sample = numpy.mean(phi.sample(2000), axis=0)\n",
    "pyplot.figure(figsize=(4,4))\n",
    "pyplot.plot([1.1 * numpy.amin(x_sample), 1.1 * numpy.amax(x_sample)], [1.1 * numpy.amin(x_sample), 1.1 * numpy.amax(x_sample)] ,'k')\n",
    "pyplot.plot(x_sample.flatten(), phi.intergrate_x().flatten(), 'C3o')"
   ]
  },
  {
   "cell_type": "markdown",
   "id": "continued-calculator",
   "metadata": {},
   "source": [
    "### Test for intergal xx"
   ]
  },
  {
   "cell_type": "code",
   "execution_count": 25,
   "id": "warming-tumor",
   "metadata": {},
   "outputs": [],
   "source": [
    "R, D, R1 = 10, 2, 1\n",
    "rand_nums = numpy.random.randn(D,D)\n",
    "Sigma_phi = numpy.dot(rand_nums, rand_nums.T) + D * numpy.eye(D)\n",
    "Sigma_phi = numpy.tile(Sigma_phi, (R, 1, 1))\n",
    "mu_phi = numpy.random.randn(R, D)\n",
    "phi = GaussianDensity(Sigma=Sigma_phi, mu=mu_phi)"
   ]
  },
  {
   "cell_type": "code",
   "execution_count": 26,
   "id": "interstate-exhibit",
   "metadata": {},
   "outputs": [
    {
     "data": {
      "text/plain": [
       "[<matplotlib.lines.Line2D at 0x7fa057f5a0a0>]"
      ]
     },
     "execution_count": 26,
     "metadata": {},
     "output_type": "execute_result"
    },
    {
     "data": {
      "image/png": "[encoded data removed]",
      "text/plain": [
       "<Figure size 288x288 with 1 Axes>"
      ]
     },
     "metadata": {
      "needs_background": "light"
     },
     "output_type": "display_data"
    }
   ],
   "source": [
    "x_sample = phi.sample(100000)\n",
    "x2_sample = numpy.mean(x_sample[:,:,None] * x_sample[:,:,:,None], axis=0)\n",
    "pyplot.figure(figsize=(4,4))\n",
    "pyplot.plot([1.1 * numpy.amin(x2_sample), 1.1 * numpy.amax(x2_sample)], [1.1 * numpy.amin(x2_sample), 1.1 * numpy.amax(x2_sample)] ,'k')\n",
    "pyplot.plot(x2_sample.flatten(), phi.intergrate_xxT().flatten(), 'C3o')"
   ]
  },
  {
   "cell_type": "markdown",
   "id": "patent-titanium",
   "metadata": {},
   "source": [
    "### Test for cubic intergal\n",
    "\n",
    "$\\int xb^\\top xx^\\top du(x)$"
   ]
  },
  {
   "cell_type": "code",
   "execution_count": 27,
   "id": "fresh-party",
   "metadata": {},
   "outputs": [],
   "source": [
    "R, D, R1 = 10, 5, 1\n",
    "rand_nums = numpy.random.randn(D,D)\n",
    "Sigma_phi = .5*(numpy.dot(rand_nums, rand_nums.T) + D * numpy.eye(D))\n",
    "Sigma_phi = numpy.tile(Sigma_phi, (R, 1, 1))\n",
    "mu_phi =numpy.random.randn(R, D)\n",
    "phi = GaussianDensity(Sigma=Sigma_phi, mu=mu_phi)\n",
    "b = numpy.random.randn(D)"
   ]
  },
  {
   "cell_type": "code",
   "execution_count": 28,
   "id": "fatty-husband",
   "metadata": {},
   "outputs": [
    {
     "data": {
      "text/plain": [
       "[<matplotlib.lines.Line2D at 0x7fa057f876d0>]"
      ]
     },
     "execution_count": 28,
     "metadata": {},
     "output_type": "execute_result"
    },
    {
     "data": {
      "image/png": "[encoded data removed]",
      "text/plain": [
       "<Figure size 432x288 with 1 Axes>"
      ]
     },
     "metadata": {
      "needs_background": "light"
     },
     "output_type": "display_data"
    }
   ],
   "source": [
    "x_sample = phi.sample(1000)\n",
    "Sigma_mumu_samples = x_sample[:,:,:,None] * x_sample[:,:,None]\n",
    "xbxx_sample = numpy.mean(x_sample[:,:,:,None] * numpy.sum(b[None,None,:,None] * Sigma_mumu_samples, axis=2)[:,:,None], axis=0)\n",
    "xbxx_phi = phi.intergate_xbxx(b)\n",
    "pyplot.plot([1.1 * numpy.amin(xbxx_sample), 1.1 * numpy.amax(xbxx_sample)], [1.1 * numpy.amin(xbxx_sample), 1.1 * numpy.amax(xbxx_sample)] ,'k')\n",
    "pyplot.plot(xbxx_sample.flatten(), xbxx_phi.flatten(), 'C3o')"
   ]
  },
  {
   "cell_type": "markdown",
   "id": "asian-coaching",
   "metadata": {},
   "source": [
    "## Test quartic integrals\n",
    "\n",
    "$\\int xx^\\top xx^\\top du(x)$ "
   ]
  },
  {
   "cell_type": "code",
   "execution_count": 29,
   "id": "deluxe-abortion",
   "metadata": {},
   "outputs": [],
   "source": [
    "R, D, R1 = 100, 5, 1\n",
    "rand_nums = numpy.random.randn(D,D)\n",
    "Sigma_phi = .1*(numpy.dot(rand_nums, rand_nums.T) + D * numpy.eye(D))\n",
    "Sigma_phi = numpy.tile(Sigma_phi, (R, 1, 1))\n",
    "mu_phi = numpy.random.randn(R, D)\n",
    "phi = GaussianDensity(Sigma=Sigma_phi, mu=mu_phi)"
   ]
  },
  {
   "cell_type": "code",
   "execution_count": 30,
   "id": "incomplete-beach",
   "metadata": {},
   "outputs": [
    {
     "data": {
      "text/plain": [
       "[<matplotlib.lines.Line2D at 0x7fa057ee8cd0>]"
      ]
     },
     "execution_count": 30,
     "metadata": {},
     "output_type": "execute_result"
    },
    {
     "data": {
      "image/png": "[encoded data removed]",
      "text/plain": [
       "<Figure size 432x288 with 1 Axes>"
      ]
     },
     "metadata": {
      "needs_background": "light"
     },
     "output_type": "display_data"
    }
   ],
   "source": [
    "x_sample = phi.sample(1000)\n",
    "Sigma_mumu_samples = x_sample[:,:,None] * x_sample[:,:,:,None]\n",
    "xxxx_sample = numpy.mean(numpy.einsum('abcd,abde->abce', Sigma_mumu_samples, Sigma_mumu_samples), axis=0)\n",
    "xxxx_phi = phi.integrate_xxTxxT()\n",
    "pyplot.plot([.9 * numpy.amin(xxxx_sample), 1.1 * numpy.amax(xxxx_sample)], [.9 * numpy.amin(xxxx_sample), 1.1 * numpy.amax(xxxx_sample)] ,'k')\n",
    "pyplot.plot(xxxx_sample.flatten(), xxxx_phi.flatten(), 'C3o')"
   ]
  },
  {
   "cell_type": "markdown",
   "id": "funky-change",
   "metadata": {},
   "source": [
    "$\\int xx^\\top A xx^\\top du(x)$ "
   ]
  },
  {
   "cell_type": "code",
   "execution_count": 15,
   "id": "cathedral-gasoline",
   "metadata": {},
   "outputs": [
    {
     "data": {
      "text/plain": [
       "[<matplotlib.lines.Line2D at 0x7fa05a6362b0>]"
      ]
     },
     "execution_count": 15,
     "metadata": {},
     "output_type": "execute_result"
    },
    {
     "data": {
      "image/png": "[encoded data removed]",
      "text/plain": [
       "<Figure size 432x288 with 1 Axes>"
      ]
     },
     "metadata": {
      "needs_background": "light"
     },
     "output_type": "display_data"
    }
   ],
   "source": [
    "A = numpy.random.randn(D,D)\n",
    "x_sample = phi.sample(1000)\n",
    "Sigma_mumu_samples = x_sample[:,:,None] * x_sample[:,:,:,None]\n",
    "xxA = numpy.einsum('abcd,de->abce', Sigma_mumu_samples, A)\n",
    "xxAxx_sample = numpy.mean(numpy.einsum('abcd,abde->abce', xxA, Sigma_mumu_samples), axis=0)\n",
    "xxAxx_phi = phi.integrate_xxTAxxT(A)\n",
    "pyplot.plot([1.1 * numpy.amin(xxAxx_sample), 1.1 * numpy.amax(xxAxx_sample)], [1.1 * numpy.amin(xxAxx_sample), 1.1 * numpy.amax(xxAxx_sample)] ,'k')\n",
    "pyplot.plot(xxAxx_sample.flatten(), xxAxx_phi.flatten(), 'C3o')"
   ]
  },
  {
   "cell_type": "markdown",
   "id": "blank-short",
   "metadata": {},
   "source": [
    "$\\int (Ax+a)(Bx+b)^\\top(Cx+c)(Dx+d)^\\top du(x)$ "
   ]
  },
  {
   "cell_type": "code",
   "execution_count": 16,
   "id": "occasional-setup",
   "metadata": {},
   "outputs": [
    {
     "ename": "NameError",
     "evalue": "name 'd' is not defined",
     "output_type": "error",
     "traceback": [
      "\u001b[0;31m---------------------------------------------------------------------------\u001b[0m",
      "\u001b[0;31mNameError\u001b[0m                                 Traceback (most recent call last)",
      "\u001b[0;32m<ipython-input-16-e45246a51778>\u001b[0m in \u001b[0;36m<module>\u001b[0;34m\u001b[0m\n\u001b[1;32m     13\u001b[0m \u001b[0mCD_sample\u001b[0m \u001b[0;34m=\u001b[0m \u001b[0mnumpy\u001b[0m\u001b[0;34m.\u001b[0m\u001b[0meinsum\u001b[0m\u001b[0;34m(\u001b[0m\u001b[0;34m'abc,abd->abcd'\u001b[0m\u001b[0;34m,\u001b[0m \u001b[0mCx_c_sample\u001b[0m\u001b[0;34m,\u001b[0m \u001b[0mDx_d_sample\u001b[0m\u001b[0;34m)\u001b[0m\u001b[0;34m\u001b[0m\u001b[0;34m\u001b[0m\u001b[0m\n\u001b[1;32m     14\u001b[0m \u001b[0mABCD_sample\u001b[0m \u001b[0;34m=\u001b[0m \u001b[0mnumpy\u001b[0m\u001b[0;34m.\u001b[0m\u001b[0mmean\u001b[0m\u001b[0;34m(\u001b[0m\u001b[0mnumpy\u001b[0m\u001b[0;34m.\u001b[0m\u001b[0meinsum\u001b[0m\u001b[0;34m(\u001b[0m\u001b[0;34m'abcd,abde->abce'\u001b[0m\u001b[0;34m,\u001b[0m \u001b[0mAB_sample\u001b[0m\u001b[0;34m,\u001b[0m \u001b[0mCD_sample\u001b[0m\u001b[0;34m)\u001b[0m\u001b[0;34m,\u001b[0m \u001b[0maxis\u001b[0m\u001b[0;34m=\u001b[0m\u001b[0;36m0\u001b[0m\u001b[0;34m)\u001b[0m\u001b[0;34m\u001b[0m\u001b[0;34m\u001b[0m\u001b[0m\n\u001b[0;32m---> 15\u001b[0;31m \u001b[0mABCD_phi\u001b[0m \u001b[0;34m=\u001b[0m \u001b[0mphi\u001b[0m\u001b[0;34m.\u001b[0m\u001b[0mintegral_general_quartic_outer\u001b[0m\u001b[0;34m(\u001b[0m\u001b[0mA_mat\u001b[0m\u001b[0;34m,\u001b[0m \u001b[0ma_vec\u001b[0m\u001b[0;34m,\u001b[0m \u001b[0mB_mat\u001b[0m\u001b[0;34m,\u001b[0m \u001b[0mb_vec\u001b[0m\u001b[0;34m,\u001b[0m \u001b[0mC_mat\u001b[0m\u001b[0;34m,\u001b[0m \u001b[0mc_vec\u001b[0m\u001b[0;34m,\u001b[0m \u001b[0mD_mat\u001b[0m\u001b[0;34m,\u001b[0m \u001b[0md_vec\u001b[0m\u001b[0;34m)\u001b[0m\u001b[0;34m\u001b[0m\u001b[0;34m\u001b[0m\u001b[0m\n\u001b[0m",
      "\u001b[0;32m<ipython-input-2-c57984057c05>\u001b[0m in \u001b[0;36mintegral_general_quartic_outer\u001b[0;34m(self, A_mat, a_vec, B_mat, b_vec, C_mat, c_vec, D_mat, d_vec)\u001b[0m\n\u001b[1;32m    446\u001b[0m         \"\"\"\n\u001b[1;32m    447\u001b[0m         \u001b[0mconstant\u001b[0m \u001b[0;34m=\u001b[0m \u001b[0mself\u001b[0m\u001b[0;34m.\u001b[0m\u001b[0mintegral\u001b[0m\u001b[0;34m(\u001b[0m\u001b[0;34m)\u001b[0m\u001b[0;34m\u001b[0m\u001b[0;34m\u001b[0m\u001b[0m\n\u001b[0;32m--> 448\u001b[0;31m         \u001b[0;32mreturn\u001b[0m \u001b[0mconstant\u001b[0m\u001b[0;34m[\u001b[0m\u001b[0;34m:\u001b[0m\u001b[0;34m,\u001b[0m\u001b[0;32mNone\u001b[0m\u001b[0;34m,\u001b[0m\u001b[0;32mNone\u001b[0m\u001b[0;34m]\u001b[0m \u001b[0;34m*\u001b[0m \u001b[0mself\u001b[0m\u001b[0;34m.\u001b[0m\u001b[0m_expectation_general_quartic_outer\u001b[0m\u001b[0;34m(\u001b[0m\u001b[0mA_mat\u001b[0m\u001b[0;34m,\u001b[0m\u001b[0ma_vec\u001b[0m\u001b[0;34m,\u001b[0m\u001b[0mB_mat\u001b[0m\u001b[0;34m,\u001b[0m\u001b[0mb_vec\u001b[0m\u001b[0;34m,\u001b[0m\u001b[0mC_mat\u001b[0m\u001b[0;34m,\u001b[0m\u001b[0mc_vec\u001b[0m\u001b[0;34m,\u001b[0m\u001b[0mD_mat\u001b[0m\u001b[0;34m,\u001b[0m\u001b[0md\u001b[0m\u001b[0;34m)\u001b[0m\u001b[0;34m\u001b[0m\u001b[0;34m\u001b[0m\u001b[0m\n\u001b[0m\u001b[1;32m    449\u001b[0m \u001b[0;34m\u001b[0m\u001b[0m\n\u001b[1;32m    450\u001b[0m     def _expectation_general_quartic_inner(self, A_mat: numpy.ndarray, a_vec: numpy.ndarray, B_mat: numpy.ndarray, b_vec: numpy.ndarray, \n",
      "\u001b[0;31mNameError\u001b[0m: name 'd' is not defined"
     ]
    }
   ],
   "source": [
    "m,l,k = 4,6,8\n",
    "A_mat, a_vec = numpy.random.randn(m,D), numpy.random.rand(m)\n",
    "B_mat, b_vec = numpy.random.randn(l,D), numpy.random.rand(l)\n",
    "C_mat, c_vec = numpy.random.randn(l,D), numpy.random.rand(l)\n",
    "D_mat, d_vec = numpy.random.randn(k,D), numpy.random.rand(k)\n",
    "\n",
    "x_sample = phi.sample(1000)\n",
    "Ax_a_sample = numpy.einsum('ab,cdb->cda', A_mat, x_sample) + a_vec\n",
    "Bx_b_sample = numpy.einsum('ab,cdb->cda', B_mat, x_sample) + b_vec\n",
    "Cx_c_sample = numpy.einsum('ab,cdb->cda', C_mat, x_sample) + c_vec\n",
    "Dx_d_sample = numpy.einsum('ab,cdb->cda', D_mat, x_sample) + d_vec\n",
    "AB_sample = numpy.einsum('abc,abd->abcd', Ax_a_sample, Bx_b_sample)\n",
    "CD_sample = numpy.einsum('abc,abd->abcd', Cx_c_sample, Dx_d_sample)\n",
    "ABCD_sample = numpy.mean(numpy.einsum('abcd,abde->abce', AB_sample, CD_sample), axis=0)\n",
    "ABCD_phi = phi.integral_general_quartic_outer(A_mat, a_vec, B_mat, b_vec, C_mat, c_vec, D_mat, d_vec)"
   ]
  },
  {
   "cell_type": "code",
   "execution_count": 17,
   "id": "sunset-delivery",
   "metadata": {},
   "outputs": [
    {
     "ename": "NameError",
     "evalue": "name 'ABCD_phi' is not defined",
     "output_type": "error",
     "traceback": [
      "\u001b[0;31m---------------------------------------------------------------------------\u001b[0m",
      "\u001b[0;31mNameError\u001b[0m                                 Traceback (most recent call last)",
      "\u001b[0;32m<ipython-input-17-acf41618f845>\u001b[0m in \u001b[0;36m<module>\u001b[0;34m\u001b[0m\n\u001b[1;32m      1\u001b[0m \u001b[0mpyplot\u001b[0m\u001b[0;34m.\u001b[0m\u001b[0mplot\u001b[0m\u001b[0;34m(\u001b[0m\u001b[0;34m[\u001b[0m\u001b[0;36m1.1\u001b[0m \u001b[0;34m*\u001b[0m \u001b[0mnumpy\u001b[0m\u001b[0;34m.\u001b[0m\u001b[0mamin\u001b[0m\u001b[0;34m(\u001b[0m\u001b[0mABCD_sample\u001b[0m\u001b[0;34m)\u001b[0m\u001b[0;34m,\u001b[0m \u001b[0;36m1.1\u001b[0m \u001b[0;34m*\u001b[0m \u001b[0mnumpy\u001b[0m\u001b[0;34m.\u001b[0m\u001b[0mamax\u001b[0m\u001b[0;34m(\u001b[0m\u001b[0mABCD_sample\u001b[0m\u001b[0;34m)\u001b[0m\u001b[0;34m]\u001b[0m\u001b[0;34m,\u001b[0m \u001b[0;34m[\u001b[0m\u001b[0;36m1.1\u001b[0m \u001b[0;34m*\u001b[0m \u001b[0mnumpy\u001b[0m\u001b[0;34m.\u001b[0m\u001b[0mamin\u001b[0m\u001b[0;34m(\u001b[0m\u001b[0mABCD_sample\u001b[0m\u001b[0;34m)\u001b[0m\u001b[0;34m,\u001b[0m \u001b[0;36m1.1\u001b[0m \u001b[0;34m*\u001b[0m \u001b[0mnumpy\u001b[0m\u001b[0;34m.\u001b[0m\u001b[0mamax\u001b[0m\u001b[0;34m(\u001b[0m\u001b[0mABCD_sample\u001b[0m\u001b[0;34m)\u001b[0m\u001b[0;34m]\u001b[0m \u001b[0;34m,\u001b[0m\u001b[0;34m'k'\u001b[0m\u001b[0;34m)\u001b[0m\u001b[0;34m\u001b[0m\u001b[0;34m\u001b[0m\u001b[0m\n\u001b[0;32m----> 2\u001b[0;31m \u001b[0mpyplot\u001b[0m\u001b[0;34m.\u001b[0m\u001b[0mplot\u001b[0m\u001b[0;34m(\u001b[0m\u001b[0mABCD_sample\u001b[0m\u001b[0;34m.\u001b[0m\u001b[0mflatten\u001b[0m\u001b[0;34m(\u001b[0m\u001b[0;34m)\u001b[0m\u001b[0;34m,\u001b[0m \u001b[0mABCD_phi\u001b[0m\u001b[0;34m.\u001b[0m\u001b[0mflatten\u001b[0m\u001b[0;34m(\u001b[0m\u001b[0;34m)\u001b[0m\u001b[0;34m,\u001b[0m \u001b[0;34m'C3o'\u001b[0m\u001b[0;34m)\u001b[0m\u001b[0;34m\u001b[0m\u001b[0;34m\u001b[0m\u001b[0m\n\u001b[0m",
      "\u001b[0;31mNameError\u001b[0m: name 'ABCD_phi' is not defined"
     ]
    },
    {
     "data": {
      "image/png": "[encoded data removed]",
      "text/plain": [
       "<Figure size 432x288 with 1 Axes>"
      ]
     },
     "metadata": {
      "needs_background": "light"
     },
     "output_type": "display_data"
    }
   ],
   "source": [
    "pyplot.plot([1.1 * numpy.amin(ABCD_sample), 1.1 * numpy.amax(ABCD_sample)], [1.1 * numpy.amin(ABCD_sample), 1.1 * numpy.amax(ABCD_sample)] ,'k')\n",
    "pyplot.plot(ABCD_sample.flatten(), ABCD_phi.flatten(), 'C3o')"
   ]
  },
  {
   "cell_type": "markdown",
   "id": "australian-belgium",
   "metadata": {},
   "source": [
    "$\\int (Ax+a)^\\top(Bx+b)(Cx+c)^\\top(Dx+d) du(x)$ "
   ]
  },
  {
   "cell_type": "code",
   "execution_count": 42,
   "id": "rotary-swiss",
   "metadata": {},
   "outputs": [
    {
     "name": "stdout",
     "output_type": "stream",
     "text": [
      "(100,) (100,) (100,)\n"
     ]
    }
   ],
   "source": [
    "m,l = 10,12\n",
    "A_mat, a_vec = numpy.random.randn(m,D), numpy.random.rand(m)\n",
    "B_mat, b_vec = numpy.random.randn(m,D), numpy.random.rand(m)\n",
    "C_mat, c_vec = numpy.random.randn(l,D), numpy.random.rand(l)\n",
    "D_mat, d_vec = numpy.random.randn(l,D), numpy.random.rand(l)\n",
    "\n",
    "x_sample = phi.sample(1000)\n",
    "Ax_a_sample = numpy.einsum('ab,cdb->cda', A_mat, x_sample) + a_vec\n",
    "Bx_b_sample = numpy.einsum('ab,cdb->cda', B_mat, x_sample) + b_vec\n",
    "Cx_c_sample = numpy.einsum('ab,cdb->cda', C_mat, x_sample) + c_vec\n",
    "Dx_d_sample = numpy.einsum('ab,cdb->cda', D_mat, x_sample) + d_vec\n",
    "AB_sample = numpy.einsum('abc,abc->ab', Ax_a_sample, Bx_b_sample)\n",
    "CD_sample = numpy.einsum('abc,abc->ab', Cx_c_sample, Dx_d_sample)\n",
    "ABCD_sample = numpy.mean(AB_sample * CD_sample, axis=0)\n",
    "ABCD_phi = phi.integral_general_quartic_inner(A_mat, a_vec, B_mat, b_vec, C_mat, c_vec, D_mat, d_vec)"
   ]
  },
  {
   "cell_type": "code",
   "execution_count": 43,
   "id": "persistent-orleans",
   "metadata": {},
   "outputs": [
    {
     "data": {
      "text/plain": [
       "[<matplotlib.lines.Line2D at 0x7fd356837df0>]"
      ]
     },
     "execution_count": 43,
     "metadata": {},
     "output_type": "execute_result"
    },
    {
     "data": {
      "image/png": "[encoded data removed]",
      "text/plain": [
       "<Figure size 432x288 with 1 Axes>"
      ]
     },
     "metadata": {
      "needs_background": "light"
     },
     "output_type": "display_data"
    }
   ],
   "source": [
    "pyplot.plot([1.1 * numpy.amin(ABCD_sample), 1.1 * numpy.amax(ABCD_sample)], [1.1 * numpy.amin(ABCD_sample), 1.1 * numpy.amax(ABCD_sample)] ,'k')\n",
    "pyplot.plot(ABCD_sample.flatten(), ABCD_phi.flatten(), 'C3o')"
   ]
  },
  {
   "cell_type": "markdown",
   "id": "negative-horror",
   "metadata": {},
   "source": [
    "## Test 2 Dimensional"
   ]
  },
  {
   "cell_type": "code",
   "execution_count": 118,
   "id": "proud-frontier",
   "metadata": {},
   "outputs": [],
   "source": [
    "R, D, R1 = 1, 2, 1\n",
    "rand_nums = numpy.random.randn(D,D)\n",
    "Sigma_phi = .8 * numpy.eye(D) - .2\n",
    "Sigma_phi = numpy.tile(Sigma_phi, (R, 1, 1))\n",
    "mu_phi = numpy.zeros((R, D))\n",
    "mu_phi[0,0] = 2 \n",
    "phi = GaussianDensity(Sigma=Sigma_phi, mu=mu_phi)\n",
    "x_samples = phi.sample(100000)\n",
    "numpy_samples = numpy.random.multivariate_normal(mu_phi[0], Sigma_phi[0], 100000)"
   ]
  },
  {
   "cell_type": "code",
   "execution_count": 119,
   "id": "public-cooperation",
   "metadata": {},
   "outputs": [
    {
     "data": {
      "image/png": "[encoded data removed]",
      "text/plain": [
       "<Figure size 432x432 with 1 Axes>"
      ]
     },
     "metadata": {
      "needs_background": "light"
     },
     "output_type": "display_data"
    }
   ],
   "source": [
    "pyplot.figure(figsize=(6,6))\n",
    "xrange = numpy.linspace(-5,5,100)\n",
    "xmesh, ymesh = numpy.meshgrid(xrange, xrange)\n",
    "x_grid = numpy.vstack([xmesh.flatten(), ymesh.flatten()])\n",
    "density = phi.evaluate(x_grid.T)[0].reshape((100,100))\n",
    "hist, xedges, yedges =  numpy.histogram2d(x_samples[:,0,1], x_samples[:,0,0], range=[[-5,5], [-5,5]], bins=100)\n",
    "numpy_hist, xedges, yedges =  numpy.histogram2d(numpy_samples[:,1], numpy_samples[:,0], range=[[-5,5], [-5,5]], bins=100)\n",
    "ax1 = pyplot.subplot(111)\n",
    "pyplot.pcolor(xrange, xrange, density, shading='auto')\n",
    "#pyplot.pcolor(xedges[:-1], yedges[:-1], numpy_hist, shading='auto')\n",
    "pyplot.contour(xedges[:-1], yedges[:-1], hist, cmap='inferno')\n",
    "pyplot.show()"
   ]
  },
  {
   "cell_type": "code",
   "execution_count": null,
   "id": "surrounded-september",
   "metadata": {},
   "outputs": [],
   "source": []
  }
 ],
 "metadata": {
  "kernelspec": {
   "display_name": "Python 3",
   "language": "python",
   "name": "python3"
  },
  "language_info": {
   "codemirror_mode": {
    "name": "ipython",
    "version": 3
   },
   "file_extension": ".py",
   "mimetype": "text/x-python",
   "name": "python",
   "nbconvert_exporter": "python",
   "pygments_lexer": "ipython3",
   "version": "3.8.6"
  }
 },
 "nbformat": 4,
 "nbformat_minor": 5
}
