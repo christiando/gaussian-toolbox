{
 "cells": [
  {
   "cell_type": "code",
   "execution_count": 2,
   "id": "taken-analysis",
   "metadata": {},
   "outputs": [],
   "source": [
    "from matplotlib import pyplot\n",
    "import numpy\n",
    "from scipy.linalg import solve_triangular"
   ]
  },
  {
   "cell_type": "markdown",
   "id": "narrative-occupation",
   "metadata": {},
   "source": [
    "### General Form of a Gaussian\n",
    "\n",
    "$p(x) = \\exp(-\\frac{1}{2}x^\\top\\Lambda x + x^\\top\\nu - \\ln Z)$\n",
    "\n",
    "with $\\ln Z = \\frac{1}{2}\\nu^\\top\\Lambda^{-1}\\nu + \\frac{D}{2}\\ln 2\\pi + \\frac{1}{2}\\ln\\det(\\Lambda^{-1})$.\n",
    "\n",
    "### Relation to covariance and mean\n",
    "\n",
    "$\\Sigma = \\Lambda^{-1}$\n",
    "\n",
    "$\\mu = \\Sigma\\nu$\n",
    "\n",
    "### Form of unnormalised Gaussians\n",
    "\n",
    "$u(x) = \\exp(-\\frac{1}{2}x^\\top\\Lambda x + x^\\top\\nu + \\ln \\beta)$\n",
    "\n",
    "And the intergal is\n",
    "\n",
    "$\\int u(x) d x = \\beta Z$"
   ]
  },
  {
   "cell_type": "markdown",
   "id": "valuable-windows",
   "metadata": {},
   "source": [
    "### List of intergals"
   ]
  },
  {
   "cell_type": "code",
   "execution_count": 246,
   "id": "figured-invitation",
   "metadata": {},
   "outputs": [],
   "source": [
    "class SquaredExponential:\n",
    "    \n",
    "    def __init__(self, Lambda: numpy.ndarray, nu: numpy.ndarray=None, ln_beta: numpy.ndarray=None):\n",
    "        \"\"\" A general term, which can be added to a Gaussian.\n",
    "        \n",
    "        u(x) = beta * exp(- 0.5 * x'Lambda x + x'nu),\n",
    "    \n",
    "        D is the dimension, and R the number of Gaussians.\n",
    "\n",
    "        :param Lambda: numpy.ndarray [R, D, D]\n",
    "            Information (precision) matrix of the Gaussian distributions.\n",
    "        :param nu: numpy.ndarray [R, D]\n",
    "            Information vector of a Gaussian distribution. If None all zeros. (Default=None)\n",
    "        :param ln_beta: numpy.ndarray [R]\n",
    "            The log constant factor of the squared exponential. If None all zeros. (Default=None)\n",
    "        \"\"\"\n",
    "        \n",
    "        self.Lambda = Lambda\n",
    "        self.R, self.D = self.Lambda.shape[0], self.Lambda.shape[1]\n",
    "        if nu is None:\n",
    "            self.nu = numpy.zeros((self.R, self.D))\n",
    "        else:\n",
    "            self.nu = nu\n",
    "        if ln_beta is None:\n",
    "            self.ln_beta = numpy.zeros((self.R))\n",
    "        else:\n",
    "            self.ln_beta = ln_beta\n",
    "        self.Sigma = None\n",
    "        self.ln_det_Lambda = None\n",
    "        self.ln_det_Sigma = None\n",
    "        self.lnZ = None\n",
    "        self.mu = None\n",
    "        \n",
    "        \n",
    "    def compute_lnZ(self):\n",
    "        \"\"\" Computes the log partition function.\n",
    "        \"\"\"\n",
    "        if self.ln_det_Sigma is None:\n",
    "            self.invert_lambda()\n",
    "        nu_Lambda_nu = numpy.einsum('rd,rd->r', numpy.einsum('rdd,rd->rd', self.Sigma, self.nu), self.nu)\n",
    "        self.lnZ = .5 * (nu_Lambda_nu + self.D * numpy.log(2. * numpy.pi) + self.ln_det_Sigma)\n",
    "            \n",
    "        \n",
    "    def evaluate_ln(self, x: numpy.ndarray, r: list=[]):\n",
    "        \"\"\" Evaluates the log-exponential term at x.\n",
    "        \n",
    "        :param x: numpy.ndarray [N, D]\n",
    "            Points where the squared exponential should be evaluated.\n",
    "        :param r: list\n",
    "            Indices of densities that need to be evaluated. If empty, all densities are evaluated. (Default=[])\n",
    "            \n",
    "        :return: numpy.ndarray [N, R] or [N, len(r)]\n",
    "            Log exponential term.\n",
    "        \"\"\"\n",
    "        if len(r) == 0:\n",
    "            r = range(self.R)\n",
    "        x_Lambda_x = numpy.einsum('adc,dc->ad', numpy.einsum('abc,dc->adb', self.Lambda[r], x), x)\n",
    "        x_nu = numpy.dot(x, self.nu[r].T).T\n",
    "        return - .5 * x_Lambda_x + x_nu + self.ln_beta[r,None]\n",
    "    \n",
    "    def evaluate(self, x: numpy.ndarray, r: list=[]):\n",
    "        \"\"\" Evaluates the exponential term at x.\n",
    "        \n",
    "        :param x: numpy.ndarray [N, D]\n",
    "            Points where the squared exponential should be evaluated.\n",
    "        :param r: list\n",
    "            Indices of densities that need to be evaluated. If empty, all densities are evaluated. (Default=[])\n",
    "            \n",
    "        :return: numpy.ndarray [N, R] or [N, len(r)]\n",
    "            Exponential term.\n",
    "        \"\"\"\n",
    "        return numpy.exp(self.evaluate_ln(x, r))\n",
    "    \n",
    "    def invert_lambda(self):\n",
    "        self.Sigma, self.ln_det_Lambda = self.invert_matrix(self.Lambda)\n",
    "        self.ln_det_Sigma = -self.ln_det_Lambda\n",
    "                    \n",
    "    @staticmethod\n",
    "    def invert_matrix(A):\n",
    "        L = numpy.linalg.cholesky(A)\n",
    "        # TODO: Check whether we can make it mor efficienty with solve_triangular.\n",
    "        #L_inv = solve_triangular(L, numpy.eye(L.shape[0]), lower=True,\n",
    "        #                         check_finite=False)\n",
    "        L_inv = numpy.linalg.solve(L, numpy.eye(L.shape[1])[None])\n",
    "        A_inv = numpy.einsum('acb,acd->abd', L_inv, L_inv)\n",
    "        ln_det_A = 2. * numpy.sum(numpy.log(L.diagonal(axis1=1, axis2=2)), axis=1)\n",
    "        return A_inv, ln_det_A\n",
    "    \n",
    "    @staticmethod\n",
    "    def get_trace(A):\n",
    "        return numpy.sum(A.diagonal(axis1=1,axis2=2), axis=1)\n",
    "    \n",
    "    def multiply_squared_exponential(self, factor: 'SquaredExponential', r: list=[]):\n",
    "        \"\"\" Multiplies an exponential factor with another one.\n",
    "        \n",
    "        u_1(x) * u_2(x)\n",
    "        \n",
    "        :param factor: SquaredExponential\n",
    "            Factor the object is multiplied with. The number of Gaussians in the resulting object are R * factor.R\n",
    "        :param r: list\n",
    "            Indices of densities that need to be evaluated. If empty, all densities are evaluated. (Default=[])\n",
    "        \n",
    "        :return: SquaredExponential\n",
    "            The resulting object.\n",
    "        \"\"\"\n",
    "        if len(r) == 0:\n",
    "            r = range(self.R)\n",
    "        R = len(r)\n",
    "        Lambda = (self.Lambda[r,None] + factor.Lambda[None]).reshape((R * factor.R, self.D, self.D))\n",
    "        nu = (self.nu[r,None] + factor.nu[None]).reshape((R * factor.R, self.D))\n",
    "        ln_beta = (self.ln_beta[r,None] + factor.ln_beta[None]).reshape((R * factor.R))\n",
    "        product = SquaredExponential(Lambda=Lambda, nu=nu, ln_beta=ln_beta)\n",
    "        return product\n",
    "    \n",
    "    def multiply_rank_one(self, U: numpy.ndarray, G: numpy.ndarray, nu: numpy.ndarray=None, ln_beta: numpy.ndarray=None, r: list=[]):\n",
    "        \"\"\" Multiplies the exponential term with another exponential term, where the Lambda is rank 1, i.e.\n",
    "        \n",
    "        Lambda = U G U'\n",
    "            \n",
    "        Where G is an [1 x 1] diagonal matrix and U and [D x 1] with a vector. If already computed, the covariance matrix Sigma and its log-determinant are efficiently updated.\n",
    "        \n",
    "        :param U: numpy.ndarray [R1, D]\n",
    "            Vector of low rank matrix with orthogonal vectors.\n",
    "        :param G: numpy.ndarray [R1]\n",
    "            Diagonal entries of the low-rank matrix.\n",
    "        :param nu: numpy.ndarray [R1, D]\n",
    "            Information vector of the low rank part. If None all entries are zero. (Default=None)\n",
    "        :param nu: numpy.ndarray [R1]\n",
    "            Log factor of the low rank part. If None all entries are zero. (Default=None)\n",
    "        :param r: list\n",
    "            Indices of densities that need to be evaluated. If empty, all densities are evaluated. (Default=[])\n",
    "            \n",
    "        :return: Squared exponential\n",
    "            The resulting product, where the number of Gaussians is self.R * R1.\n",
    "        \"\"\"\n",
    "        if len(r) == 0:\n",
    "            r = range(self.R)\n",
    "        R = len(r)\n",
    "        R1 = G.shape[0]\n",
    "        UGU = numpy.einsum('rd,rs->rds', U, G[:,None] * U)\n",
    "        Lambda_new = (self.Lambda[r,None] + UGU[None]).reshape((R * R1, self.D, self.D))\n",
    "        if nu is None:\n",
    "            nu_new = numpy.tile(self.nu, (R1, 1))\n",
    "        else:\n",
    "            nu_new = (self.nu[r,None] + nu[None]).reshape((R * R1, self.D))\n",
    "        if ln_beta is None:\n",
    "            ln_beta_new = numpy.tile(self.ln_beta, (R1))\n",
    "        else:\n",
    "            ln_beta_new = (self.ln_beta[r,None] + ln_beta[None]).reshape((R * R1))\n",
    "        product = SquaredExponential(Lambda=Lambda_new, nu=nu_new, ln_beta=ln_beta_new)\n",
    "        \n",
    "        # if the Sigma of the object is known the Sherman-morrison formula and the matrix determinant lemma are used for efficient update of the inverses and the log determinants.\n",
    "        if self.Sigma is not None and self.ln_det_Sigma is not None:\n",
    "            # Sherman morrison inversion\n",
    "            G_inv = 1. / G\n",
    "            Sigma_U = numpy.einsum('rsdd,rsd->rsd', self.Sigma[r,None], U[None])\n",
    "            U_Sigma_U = numpy.einsum('rsd,rsd->rs', Sigma_U, U[None])\n",
    "            denominator = 1. + G[None] * U_Sigma_U\n",
    "            nominator = G[None] * numpy.einsum('rsd,rsk->rsdk', Sigma_U, Sigma_U)\n",
    "            Sigma_new = self.Sigma[r, None] - nominator / denominator[:,:,None,None]\n",
    "            product.Sigma = Sigma_new.reshape((R*R1, self.D, self.D))\n",
    "            # Matrix determinant lemma\n",
    "            ln_det_Sigma_new = self.ln_det_Sigma[r,None] - numpy.log(denominator)\n",
    "            product.ln_det_Sigma = ln_det_Sigma_new.reshape((R * R1))\n",
    "            product.ln_det_Lambda = -product.ln_det_Sigma\n",
    "        return product\n",
    "    \n",
    "    def log_integral(self):\n",
    "        \"\"\" Computes the log integral of the exponential term.\n",
    "        \n",
    "        log \\int u(x) dx.\n",
    "        \n",
    "        :return: numpy.ndarray [R]\n",
    "            Log integral\n",
    "        \"\"\"\n",
    "        self._prepare_inegration()\n",
    "        return self.lnZ + self.ln_beta\n",
    "    \n",
    "    def integral(self):\n",
    "        \"\"\" Computes the log integral of the exponential term.\n",
    "        \n",
    "        \\int u(x) dx.\n",
    "        \n",
    "        :return: numpy.ndarray [R]\n",
    "            Integral\n",
    "        \"\"\"\n",
    "        return numpy.exp(self.log_integral())\n",
    "    \n",
    "    def normalize(self):\n",
    "        \"\"\" Normalizes the term such that\n",
    "        \n",
    "        int u(x) dx = 1.\n",
    "        \"\"\"\n",
    "        self.ln_beta = -self.log_integral()\n",
    "        \n",
    "    def is_normalized(self):\n",
    "        return numpy.equal(self.lnZ, -self.ln_beta)\n",
    "    \n",
    "    def compute_mu(self):\n",
    "        \"\"\" Converts from information to mean vector.\n",
    "        \n",
    "        :return: numpy.ndarray [R, D]\n",
    "            Mean vector.\n",
    "        \"\"\"\n",
    "        if self.Sigma is None:\n",
    "            self.invert_lambda()\n",
    "        self.mu = numpy.einsum('abc,ac->ab', self.Sigma, self.nu)\n",
    "    \n",
    "    def get_density(self):\n",
    "        \"\"\" Returns the corresponing normalised density object.\n",
    "        \n",
    "        :return: GaussianDensity\n",
    "            Corresponding density object.\n",
    "        \"\"\"\n",
    "        self._prepare_inegration()\n",
    "        return GaussianDensity(Sigma=self.Sigma, mu=mu, Lambda=self.Lambda, ln_det_Sigma=self.ln_det_Sigma)\n",
    "    \n",
    "    def _prepare_inegration(self):\n",
    "        if self.lnZ is None:\n",
    "            self.compute_lnZ()\n",
    "        if self.mu is None:\n",
    "            self.compute_mu()\n",
    "            \n",
    "    ##### Linear intergals\n",
    "            \n",
    "    def _expectation_x(self):\n",
    "        \"\"\" Computes the expectation.\n",
    "        \n",
    "            int x du(x) / int du(x)\n",
    "        \n",
    "        :return: numpy.ndarray [R, D]\n",
    "            The solved intergal.\n",
    "        \"\"\"\n",
    "        return self.mu \n",
    "            \n",
    "    def intergrate_x(self):\n",
    "        \"\"\" Computes the integral.\n",
    "        \n",
    "            int x du(x)\n",
    "        \n",
    "        :return: numpy.ndarray [R, D]\n",
    "            The solved intergal.\n",
    "        \"\"\"\n",
    "        constant = self.integral()\n",
    "        return constant[:,None] * self._expectation_x()\n",
    "    \n",
    "    ##### Quadratic integrals\n",
    "    \n",
    "    def _expectation_xxT(self):\n",
    "        \"\"\" Computes the expectation.\n",
    "        \n",
    "            int xx' du(x) / int du(x)\n",
    "        \n",
    "        :return: numpy.ndarray [R, D, D]\n",
    "            The solved intergal.\n",
    "        \"\"\"\n",
    "        return self.Sigma + numpy.einsum('ab,ac->acb', self.mu, self.mu)\n",
    "    \n",
    "    def intergrate_xxT(self):\n",
    "        \"\"\" Computes the integral.\n",
    "        \n",
    "            int xx' du(x)\n",
    "        \n",
    "        :return: numpy.ndarray [R, D, D]\n",
    "            The solved intergal.\n",
    "        \"\"\"\n",
    "        constant = self.integral()\n",
    "        return constant[:,None,None] * self._expectation_xxT()\n",
    "    \n",
    "    ##### Cubic integrals\n",
    "    \n",
    "    def _expectation_xbxx(self, b: numpy.ndarray):\n",
    "        \"\"\" Computes the cubic expectation.\n",
    "        \n",
    "            int xb'xx' dphi(x),\n",
    "            \n",
    "            with phi(x) = u(x) / int du(x).\n",
    "            \n",
    "        :param b: numpy.ndarray [D,]\n",
    "            Vector of \n",
    "        :return: numpy.ndarray [R, D, D]\n",
    "            The solved intergal.\n",
    "        \"\"\"\n",
    "        constant = self.integral()\n",
    "        Exx = self._expectation_xxT()\n",
    "        mub_outer = numpy.einsum('ab,c->abc', self.mu, b)\n",
    "        mbExx = numpy.einsum('abc,acd->abd', mub_outer, Exx)\n",
    "        bmu_inner = numpy.einsum('ab,b->a', self.mu, b)\n",
    "        bmSigma = numpy.einsum('a,abc->abc', bmu_inner, self.Sigma)\n",
    "        bmu_outer = numpy.einsum('a,bc->bac', b, self.mu)\n",
    "        Sigmabm = numpy.einsum('abd,ade->abe', self.Sigma, bmu_outer)\n",
    "        return mbExx + bmSigma + Sigmabm\n",
    "        \n",
    "    \n",
    "    def intergate_xbxx(self, b: numpy.ndarray):\n",
    "        \"\"\" Computes the cubic integral.\n",
    "        \n",
    "            int xb'xx' du(x)\n",
    "        :param b: numpy.ndarray [D,]\n",
    "            Vector of \n",
    "        :return: numpy.ndarray [R, D, D]\n",
    "            The solved intergal.\n",
    "        \"\"\"\n",
    "        constant = self.integral()\n",
    "        return constant[:,None,None] * self._expectation_xbxx(b)\n",
    "    \n",
    "    \n",
    "    ##### Quartic integrals\n",
    "    \n",
    "    def _expectation_xxTxxT(self):\n",
    "        \"\"\" Computes the cubic integral.\n",
    "        \n",
    "            int xx'xx' dphi(x),\n",
    "            \n",
    "            with phi(x) = u(x) / int du(x).\n",
    "            \n",
    "        :return: numpy.ndarray [R, D, D]\n",
    "            The solved intergal.\n",
    "        \"\"\"\n",
    "        mumu_outer = numpy.einsum('ab,ac->acb', self.mu, self.mu)\n",
    "        Sigma_mumu_p = self.Sigma + mumu_outer\n",
    "        Sigma_mumu_m = self.Sigma - mumu_outer\n",
    "        mumu_inner = numpy.einsum('ab,ab->a', self.mu, self.mu)\n",
    "        Sigma_trace = self.get_trace(self.Sigma)\n",
    "        Sigma_mumu_p2 = numpy.einsum('abc,acd->abd', Sigma_mumu_p, Sigma_mumu_p)\n",
    "        return 2 * Sigma_mumu_p2 + mumu_inner[:,None,None] * Sigma_mumu_m + Sigma_trace[:,None,None] * Sigma_mumu_p\n",
    "        \n",
    "    def integrate_xxTxxT(self):\n",
    "        \"\"\" Computes the quartic integral.\n",
    "        \n",
    "            int xx'xx' du(x).\n",
    "            \n",
    "        :return: numpy.ndarray [R, D, D]\n",
    "            The solved intergal.\n",
    "        \"\"\"\n",
    "        constant = self.integral()\n",
    "        return constant[:,None,None] * self._expectation_xxTxxT()\n",
    "    \n",
    "    def _expectation_xxTAxxT(self, A: numpy.ndarray):\n",
    "        \"\"\" Computes the quartic expectation.\n",
    "        \n",
    "            int xx'Axx' dphi(x),\n",
    "            \n",
    "            with phi(x) = u(x) / int du(x).\n",
    "            \n",
    "        :param A: numpy.ndarray [D,D]\n",
    "            Square matrix.\n",
    "            \n",
    "        :return: numpy.ndarray [R, D, D]\n",
    "            The solved intergal.\n",
    "        \"\"\"\n",
    "        mumu_outer = numpy.einsum('ab,ac->acb', self.mu, self.mu)\n",
    "        Sigma_mumu_p = self.Sigma + mumu_outer\n",
    "        Sigma_mumu_m = self.Sigma - mumu_outer\n",
    "        AAT = A + A.T\n",
    "        Sigma_AA_Sigma = numpy.einsum('abc, acd->abd', numpy.einsum('abc,cd->abd', Sigma_mumu_p, AAT), Sigma_mumu_p)\n",
    "        muAmu = numpy.einsum('ab,ab->a', self.mu, numpy.einsum('ab,ca-> cb', A, self.mu))\n",
    "        ASigma_trace = self.get_trace(numpy.einsum('ab,cbd->cad', A, self.Sigma))\n",
    "        return Sigma_AA_Sigma + muAmu[:,None,None] * Sigma_mumu_m + ASigma_trace[:,None,None] * Sigma_mumu_p\n",
    "    \n",
    "    def integrate_xxTAxxT(self, A: numpy.ndarray):\n",
    "        \"\"\" Computes the quartic integral.\n",
    "        \n",
    "            int xx'xx' du(x)\n",
    "        :return: numpy.ndarray [R, D, D]\n",
    "            The solved intergal.\n",
    "        \"\"\"\n",
    "        constant = self.integral()\n",
    "        return constant[:,None,None] * self._expectation_xxTAxxT(A)\n",
    "    \n",
    "    def _expectation_general_quartic_outer(self, A: numpy.ndarray, a: numpy.ndarray, B: numpy.ndarray, b: numpy.ndarray, \n",
    "                                           C: numpy.ndarray, c: numpy.ndarray, D: numpy.ndarray, d: numpy.ndarray):\n",
    "        \"\"\" Computes the quartic expectation.\n",
    "        \n",
    "            int (Ax+a)(Bx+b)'(Cx+c)(Dx+d)' dphi(x),\n",
    "            \n",
    "            with phi(x) = u(x) / int du(x).\n",
    "            \n",
    "        :param A: numpy.ndarray [K,D]\n",
    "            Real valued matrix.\n",
    "        :param a: numpy.ndarray [K]\n",
    "            Real valued vector.\n",
    "        :param B: numpy.ndarray [L,D]\n",
    "            Real valued matrix.\n",
    "        :param b: numpy.ndarray [L]\n",
    "            Real valued vector.\n",
    "        :param C: numpy.ndarray [L,D]\n",
    "            Real valued matrix.\n",
    "        :param c: numpy.ndarray [L]\n",
    "            Real valued vector.\n",
    "        :param D: numpy.ndarray [M,D]\n",
    "            Real valued matrix.\n",
    "        :param d: numpy.ndarray [M]\n",
    "            Real valued vector.\n",
    "            \n",
    "        :return: numpy.ndarray [R, K, M]\n",
    "            The solved intergal.\n",
    "        \"\"\"\n",
    "        Amu_a = numpy.einsum('ab,cb-> ca', A, self.mu) + a[None]\n",
    "        Bmu_b = numpy.einsum('ab,cb-> ca', B, self.mu) + b[None]\n",
    "        Cmu_c = numpy.einsum('ab,cb-> ca', C, self.mu) + c[None]\n",
    "        Dmu_d = numpy.einsum('ab,cb-> ca', D, self.mu) + d[None]\n",
    "        ASigmaB = numpy.einsum('ab,cbd->cad', A, numpy.einsum('abc,cd->abd', self.Sigma, B.T))\n",
    "        CSigmaD = numpy.einsum('ab,cbd->cad', C, numpy.einsum('abc,cd->abd', self.Sigma, D.T))\n",
    "        ASigmaC = numpy.einsum('ab,cbd->cad', A, numpy.einsum('abc,cd->abd', self.Sigma, C.T))\n",
    "        BSigmaD = numpy.einsum('ab,cbd->cad', B, numpy.einsum('abc,cd->abd', self.Sigma, D.T))\n",
    "        ASigmaD = numpy.einsum('ab,cbd->cad', A, numpy.einsum('abc,cd->abd', self.Sigma, D.T))\n",
    "        BSigmaC = numpy.einsum('ab,cbd->cad', B, numpy.einsum('abc,cd->abd', self.Sigma, C.T))\n",
    "        AmuaBmub = numpy.einsum('ab,ac->abc', Amu_a, Bmu_b)\n",
    "        CmucDmud = numpy.einsum('ab,ac->abc', Cmu_c, Dmu_d)\n",
    "        AmuaCmuc = numpy.einsum('ab,ac->abc', Amu_a, Cmu_c)\n",
    "        BmubDmud = numpy.einsum('ab,ac->abc', Bmu_b, Dmu_d)\n",
    "        BmubCmuc = numpy.einsum('ab,ab->a', Bmu_b, Cmu_c)\n",
    "        AmuaDmud = numpy.einsum('ab,ac->abc', Amu_a, Dmu_d)\n",
    "        first_term = numpy.einsum('abc,acd->abd', ASigmaB + AmuaBmub, CSigmaD + CmucDmud)\n",
    "        second_term = numpy.einsum('abc,acd->abd', ASigmaC + AmuaCmuc, BSigmaD + BmubDmud)\n",
    "        third_term = BmubCmuc[:,None,None] * (ASigmaD - AmuaDmud)\n",
    "        fourth_term = self.get_trace(BSigmaC)[:,None,None] * (ASigmaD + AmuaDmud)\n",
    "        return first_term + second_term + third_term + fourth_term\n",
    "        \n",
    "    def integral_general_quartic_outer(self, A: numpy.ndarray, a: numpy.ndarray, B: numpy.ndarray, b: numpy.ndarray, \n",
    "                                       C: numpy.ndarray, c: numpy.ndarray, D: numpy.ndarray, d: numpy.ndarray):\n",
    "        \"\"\" Computes the quartic integral.\n",
    "        \n",
    "            int (Ax+a)(Bx+b)'(Cx+c)(Dx+d)' du(x).\n",
    "            \n",
    "        :param A: numpy.ndarray [K,D]\n",
    "            Real valued matrix.\n",
    "        :param a: numpy.ndarray [K]\n",
    "            Real valued vector.\n",
    "        :param B: numpy.ndarray [L,D]\n",
    "            Real valued matrix.\n",
    "        :param b: numpy.ndarray [L]\n",
    "            Real valued vector.\n",
    "        :param C: numpy.ndarray [L,D]\n",
    "            Real valued matrix.\n",
    "        :param c: numpy.ndarray [L]\n",
    "            Real valued vector.\n",
    "        :param D: numpy.ndarray [M,D]\n",
    "            Real valued matrix.\n",
    "        :param d: numpy.ndarray [M]\n",
    "            Real valued vector.\n",
    "            \n",
    "        :return: numpy.ndarray [R, K, M]\n",
    "            The solved intergal.\n",
    "        \"\"\"\n",
    "        constant = self.integral()\n",
    "        return constant[:,None,None] * self._expectation_general_quartic_outer(A,a,B,b,C,c,D,d)\n",
    "    \n",
    "    def _expectation_general_quartic_inner(self, A: numpy.ndarray, a: numpy.ndarray, B: numpy.ndarray, b: numpy.ndarray, \n",
    "                                           C: numpy.ndarray, c: numpy.ndarray, D: numpy.ndarray, d: numpy.ndarray):\n",
    "        \"\"\" Computes the quartic expectation.\n",
    "        \n",
    "            int (Ax+a)'(Bx+b)(Cx+c)'(Dx+d) dphi(x),\n",
    "            \n",
    "            with phi(x) = u(x) / int du(x).\n",
    "            \n",
    "        :param A: numpy.ndarray [K,D]\n",
    "            Real valued matrix.\n",
    "        :param a: numpy.ndarray [K]\n",
    "            Real valued vector.\n",
    "        :param B: numpy.ndarray [K,D]\n",
    "            Real valued matrix.\n",
    "        :param b: numpy.ndarray [L]\n",
    "            Real valued vector.\n",
    "        :param C: numpy.ndarray [L,D]\n",
    "            Real valued matrix.\n",
    "        :param c: numpy.ndarray [L]\n",
    "            Real valued vector.\n",
    "        :param D: numpy.ndarray [L,D]\n",
    "            Real valued matrix.\n",
    "        :param d: numpy.ndarray [L]\n",
    "            Real valued vector.\n",
    "            \n",
    "        :return: numpy.ndarray [R]\n",
    "            The solved intergal.\n",
    "        \"\"\"\n",
    "        Amu_a = numpy.einsum('ab,cb-> ca', A, self.mu) + a[None]\n",
    "        Bmu_b = numpy.einsum('ab,cb-> ca', B, self.mu) + b[None]\n",
    "        Cmu_c = numpy.einsum('ab,cb-> ca', C, self.mu) + c[None]\n",
    "        Dmu_d = numpy.einsum('ab,cb-> ca', D, self.mu) + d[None]\n",
    "        ASigmaB = numpy.einsum('ab,cbd->cad', A, numpy.einsum('abc,cd->abd', self.Sigma, B.T))\n",
    "        CSigmaD = numpy.einsum('ab,cbd->cad', C, numpy.einsum('abc,cd->abd', self.Sigma, D.T))\n",
    "        \n",
    "        AmuaBmub = numpy.einsum('ab,ab->a', Amu_a, Bmu_b)\n",
    "        CmucDmud = numpy.einsum('ab,ab->a', Cmu_c, Dmu_d)\n",
    "        CD = numpy.dot(C.T, D)\n",
    "        CD_DC = CD + CD.T\n",
    "        SCD_DCS = numpy.einsum('abc,acd->abd', numpy.einsum('abc,cd->abd', self.Sigma, CD_DC), self.Sigma)\n",
    "        ASCD_DCSB = numpy.einsum('abc,dc->abd', numpy.einsum('ab,cbd->cad', A, SCD_DCS), B)\n",
    "        Am_aB = numpy.einsum('ab,bc->ac', Amu_a, B)\n",
    "        Bm_bA = numpy.einsum('ab,bc->ac', Bmu_b, A)\n",
    "        CDm_d = numpy.einsum('ab,ca->cb', C, Dmu_d)\n",
    "        DCm_c = numpy.einsum('ab,ca->cb', D, Cmu_c)\n",
    "        first_term = self.get_trace(ASCD_DCSB)\n",
    "        second_term = numpy.einsum('ab,ab->a', numpy.einsum('ab,abc->ac', Am_aB + Bm_bA, self.Sigma), CDm_d + DCm_c)\n",
    "        third_term = (self.get_trace(ASigmaB) + AmuaBmub) * (self.get_trace(CSigmaD) + CmucDmud)\n",
    "        print(first_term.shape, second_term.shape, third_term.shape)\n",
    "        return first_term + second_term + third_term\n",
    "        \n",
    "    def integral_general_quartic_inner(self, A: numpy.ndarray, a: numpy.ndarray, B: numpy.ndarray, b: numpy.ndarray, \n",
    "                                       C: numpy.ndarray, c: numpy.ndarray, D: numpy.ndarray, d: numpy.ndarray):\n",
    "        \"\"\" Computes the quartic integral.\n",
    "        \n",
    "            int (Ax+a)(Bx+b)'(Cx+c)(Dx+d)' du(x).\n",
    "            \n",
    "        :param A: numpy.ndarray [K,D]\n",
    "            Real valued matrix.\n",
    "        :param a: numpy.ndarray [K]\n",
    "            Real valued vector.\n",
    "        :param B: numpy.ndarray [K,D]\n",
    "            Real valued matrix.\n",
    "        :param b: numpy.ndarray [K]\n",
    "            Real valued vector.\n",
    "        :param C: numpy.ndarray [L,D]\n",
    "            Real valued matrix.\n",
    "        :param c: numpy.ndarray [L]\n",
    "            Real valued vector.\n",
    "        :param D: numpy.ndarray [L,D]\n",
    "            Real valued matrix.\n",
    "        :param d: numpy.ndarray [L]\n",
    "            Real valued vector.\n",
    "            \n",
    "        :return: numpy.ndarray [R]\n",
    "            The solved intergal.\n",
    "        \"\"\"\n",
    "        constant = self.integral()\n",
    "        return constant * self._expectation_general_quartic_inner(A,a,B,b,C,c,D,d)\n",
    "\n",
    "    \n",
    "class DiagonalSquaredExponential(SquaredExponential):\n",
    "    \n",
    "    def invert_lambda(self):\n",
    "        self.Sigma = numpy.diag(self.Lambda.diagonal())\n",
    "        self.ln_det_Lambda = numpy.sum(numpy.log(self.Lambda.diagonal()))\n",
    "        self.ln_det_Sigma = -self.ln_det_Lambda   \n",
    "    \n",
    "class GaussianDensity(SquaredExponential):\n",
    "    \n",
    "    def __init__(self, Sigma: numpy.ndarray, mu: numpy.ndarray, Lambda: numpy.ndarray=None, ln_det_Sigma: numpy.ndarray=None):\n",
    "        \"\"\" A normalized Gaussian density, with specified mean and covariance matrix.\n",
    "        \n",
    "        :param Sigma: numpy.ndarray [R, D, D]\n",
    "            Covariance matrices of the Gaussian densities.\n",
    "        :param mu: numpy.ndarray [R, D]\n",
    "            Mean of the Gaussians.\n",
    "        :param Lambda: numpy.ndarray [R, D, D] or None\n",
    "            Information (precision) matrix of the Gaussians. (Default=None)\n",
    "        :param ln_det_Sigma: numpy.ndarray [R] or None\n",
    "            Log determinant of the covariance matrix. (Default=None)\n",
    "        \"\"\"\n",
    "        if Lambda is None:\n",
    "            Lambda, ln_det_Sigma = self.invert_matrix(Sigma)\n",
    "        elif ln_det_Sigma is None:\n",
    "            ln_det_Sigma = numpy.linalg.slogdet(Sigma)[1]\n",
    "        nu = numpy.einsum('abc,ab->ac', Lambda, mu)\n",
    "        super().__init__(Lambda=Lambda, nu=nu)\n",
    "        self.Sigma = Sigma\n",
    "        self.ln_det_Sigma = ln_det_Sigma\n",
    "        self.ln_det_Lambda = -ln_det_Sigma\n",
    "        self.normalize()\n",
    "        \n",
    "    def sample(self, num_samples: int):\n",
    "        L = numpy.linalg.cholesky(self.Sigma)\n",
    "        rand_nums = numpy.random.randn(num_samples, self.R, self.D)\n",
    "        x_samples = self.mu[None] + numpy.einsum('abc,dac->dab', L, rand_nums)\n",
    "        return x_samples\n",
    "                                       \n",
    "class SphericalGaussianDensity(GaussianDensity):\n",
    "    \n",
    "    def __init__(self, Sigma: numpy.ndarray, mu: numpy.ndarray, Lambda: numpy.ndarray=None, ln_det_Sigma: numpy.ndarray=None):\n",
    "        \"\"\" A normalized Gaussian density, with specified mean and covariance matrix.\n",
    "        \n",
    "        :param Sigma: numpy.ndarray [R, D, D]\n",
    "            Covariance matrices of the Gaussian densities.\n",
    "        :param mu: numpy.ndarray [R, D]\n",
    "            Mean of the Gaussians.\n",
    "        :param Lambda: numpy.ndarray [R, D, D] or None\n",
    "            Information (precision) matrix of the Gaussians. (Default=None)\n",
    "        :param ln_det_Sigma: numpy.ndarray [R] or None\n",
    "            Log determinant of the covariance matrix. (Default=None)\n",
    "        \"\"\"\n",
    "        if Lambda is None:\n",
    "            Lambda = numpy.diag(Sigma.diagonal())\n",
    "            ln_det_Sigma = numpy.sum(numpy.log(Sigma.diagonal()))\n",
    "        elif ln_det_Sigma is None:\n",
    "            ln_det_Sigma = numpy.sum(numpy.log(Sigma.diagonal()))\n",
    "        nu = numpy.einsum('abc,ac->ab', Lambda, mu)\n",
    "        super().__init__(Lambda=Lambda, nu=nu)\n",
    "        self.Sigma = Sigma\n",
    "        self.ln_det_Sigma = ln_det_Sigma\n",
    "        self.ln_det_Lambda = -ln_det_Sigma\n",
    "        self.mu = mu\n",
    "        self.normalize()"
   ]
  },
  {
   "cell_type": "markdown",
   "id": "exotic-omaha",
   "metadata": {},
   "source": [
    "### Test for 1 D"
   ]
  },
  {
   "cell_type": "code",
   "execution_count": 221,
   "id": "imported-sociology",
   "metadata": {},
   "outputs": [],
   "source": [
    "R, D, R1 = 2, 1, 1\n",
    "rand_nums = numpy.random.randn(D,D)\n",
    "Sigma_phi = .5 * (rand_nums + rand_nums.T) + D * numpy.eye(D)\n",
    "Sigma_phi = numpy.tile(Sigma_phi, (R, 1, 1))\n",
    "mu_phi = numpy.random.randn(R, D)\n",
    "phi = GaussianDensity(Sigma=Sigma_phi, mu=mu_phi)"
   ]
  },
  {
   "cell_type": "code",
   "execution_count": 222,
   "id": "generous-power",
   "metadata": {},
   "outputs": [
    {
     "data": {
      "image/png": "[encoded data removed]",
      "text/plain": [
       "<Figure size 432x288 with 2 Axes>"
      ]
     },
     "metadata": {
      "needs_background": "light"
     },
     "output_type": "display_data"
    }
   ],
   "source": [
    "from scipy.stats import norm\n",
    "\n",
    "xrange = numpy.linspace(-7,7,1000)\n",
    "for ir in range(R):\n",
    "    pyplot.subplot(R, 1, ir+1)\n",
    "    scipy_gauss = norm.pdf(xrange, loc=mu_phi[ir], scale=numpy.sqrt(Sigma_phi[ir,0,0]))\n",
    "    pyplot.hist(phi.sample(2000)[:,ir], bins=40, density=True, label='Sample')\n",
    "    pyplot.plot(xrange, phi.evaluate(numpy.array([xrange]).T)[ir], label='Custom')\n",
    "    pyplot.plot(xrange, scipy_gauss, '--', label='scipy')\n",
    "pyplot.legend()\n",
    "pyplot.show()"
   ]
  },
  {
   "cell_type": "markdown",
   "id": "polyphonic-dinner",
   "metadata": {},
   "source": [
    "### Test for integral x"
   ]
  },
  {
   "cell_type": "code",
   "execution_count": 223,
   "id": "assumed-football",
   "metadata": {},
   "outputs": [],
   "source": [
    "R, D, R1 = 10, 1, 1\n",
    "rand_nums = numpy.random.randn(D,D)\n",
    "Sigma_phi = .5 * numpy.dot(rand_nums, rand_nums.T) + D * numpy.eye(D)\n",
    "Sigma_phi = numpy.tile(Sigma_phi, (R, 1, 1))\n",
    "mu_phi = numpy.random.randn(R, D)\n",
    "phi = GaussianDensity(Sigma=Sigma_phi, mu=mu_phi)"
   ]
  },
  {
   "cell_type": "code",
   "execution_count": 224,
   "id": "architectural-bargain",
   "metadata": {},
   "outputs": [
    {
     "data": {
      "text/plain": [
       "[<matplotlib.lines.Line2D at 0x7f2feca1d3d0>]"
      ]
     },
     "execution_count": 224,
     "metadata": {},
     "output_type": "execute_result"
    },
    {
     "data": {
      "image/png": "[encoded data removed]",
      "text/plain": [
       "<Figure size 288x288 with 1 Axes>"
      ]
     },
     "metadata": {
      "needs_background": "light"
     },
     "output_type": "display_data"
    }
   ],
   "source": [
    "x_sample = numpy.mean(phi.sample(2000), axis=0)\n",
    "pyplot.figure(figsize=(4,4))\n",
    "pyplot.plot([1.1 * numpy.amin(x_sample), 1.1 * numpy.amax(x_sample)], [1.1 * numpy.amin(x_sample), 1.1 * numpy.amax(x_sample)] ,'k')\n",
    "pyplot.plot(x_sample, phi.intergrate_x()[:,0], 'C3o')"
   ]
  },
  {
   "cell_type": "code",
   "execution_count": 225,
   "id": "prerequisite-problem",
   "metadata": {},
   "outputs": [],
   "source": [
    "R, D, R1 = 10, 3, 1\n",
    "rand_nums = numpy.random.randn(D,D)\n",
    "Sigma_phi = .5 * numpy.dot(rand_nums, rand_nums.T) + D * numpy.eye(D)\n",
    "Sigma_phi = numpy.tile(Sigma_phi, (R, 1, 1))\n",
    "mu_phi = numpy.random.randn(R, D)\n",
    "phi = GaussianDensity(Sigma=Sigma_phi, mu=mu_phi)"
   ]
  },
  {
   "cell_type": "code",
   "execution_count": 226,
   "id": "abandoned-advisory",
   "metadata": {},
   "outputs": [
    {
     "data": {
      "text/plain": [
       "[<matplotlib.lines.Line2D at 0x7f2fec9ee9a0>]"
      ]
     },
     "execution_count": 226,
     "metadata": {},
     "output_type": "execute_result"
    },
    {
     "data": {
      "image/png": "[encoded data removed]",
      "text/plain": [
       "<Figure size 288x288 with 1 Axes>"
      ]
     },
     "metadata": {
      "needs_background": "light"
     },
     "output_type": "display_data"
    }
   ],
   "source": [
    "x_sample = numpy.mean(phi.sample(2000), axis=0)\n",
    "pyplot.figure(figsize=(4,4))\n",
    "pyplot.plot([1.1 * numpy.amin(x_sample), 1.1 * numpy.amax(x_sample)], [1.1 * numpy.amin(x_sample), 1.1 * numpy.amax(x_sample)] ,'k')\n",
    "pyplot.plot(x_sample.flatten(), phi.intergrate_x().flatten(), 'C3o')"
   ]
  },
  {
   "cell_type": "markdown",
   "id": "systematic-destination",
   "metadata": {},
   "source": [
    "### Test for intergal xx"
   ]
  },
  {
   "cell_type": "code",
   "execution_count": 227,
   "id": "higher-grace",
   "metadata": {},
   "outputs": [],
   "source": [
    "R, D, R1 = 10, 2, 1\n",
    "rand_nums = numpy.random.randn(D,D)\n",
    "Sigma_phi = numpy.dot(rand_nums, rand_nums.T) + D * numpy.eye(D)\n",
    "Sigma_phi = numpy.tile(Sigma_phi, (R, 1, 1))\n",
    "mu_phi = numpy.random.randn(R, D)\n",
    "phi = GaussianDensity(Sigma=Sigma_phi, mu=mu_phi)"
   ]
  },
  {
   "cell_type": "code",
   "execution_count": 228,
   "id": "attempted-market",
   "metadata": {},
   "outputs": [
    {
     "data": {
      "text/plain": [
       "[<matplotlib.lines.Line2D at 0x7f2fec957130>]"
      ]
     },
     "execution_count": 228,
     "metadata": {},
     "output_type": "execute_result"
    },
    {
     "data": {
      "image/png": "[encoded data removed]",
      "text/plain": [
       "<Figure size 288x288 with 1 Axes>"
      ]
     },
     "metadata": {
      "needs_background": "light"
     },
     "output_type": "display_data"
    }
   ],
   "source": [
    "x_sample = phi.sample(100000)\n",
    "x2_sample = numpy.mean(x_sample[:,:,None] * x_sample[:,:,:,None], axis=0)\n",
    "pyplot.figure(figsize=(4,4))\n",
    "pyplot.plot([1.1 * numpy.amin(x2_sample), 1.1 * numpy.amax(x2_sample)], [1.1 * numpy.amin(x2_sample), 1.1 * numpy.amax(x2_sample)] ,'k')\n",
    "pyplot.plot(x2_sample.flatten(), phi.intergrate_xxT().flatten(), 'C3o')"
   ]
  },
  {
   "cell_type": "markdown",
   "id": "short-planning",
   "metadata": {},
   "source": [
    "### Test for cubic intergal\n",
    "\n",
    "$\\int xb^\\top xx^\\top du(x)$"
   ]
  },
  {
   "cell_type": "code",
   "execution_count": 229,
   "id": "harmful-impact",
   "metadata": {},
   "outputs": [],
   "source": [
    "R, D, R1 = 10, 5, 1\n",
    "rand_nums = numpy.random.randn(D,D)\n",
    "Sigma_phi = .5*(numpy.dot(rand_nums, rand_nums.T) + D * numpy.eye(D))\n",
    "Sigma_phi = numpy.tile(Sigma_phi, (R, 1, 1))\n",
    "mu_phi =numpy.random.randn(R, D)\n",
    "phi = GaussianDensity(Sigma=Sigma_phi, mu=mu_phi)\n",
    "b = numpy.random.randn(D)"
   ]
  },
  {
   "cell_type": "code",
   "execution_count": 230,
   "id": "valuable-worst",
   "metadata": {},
   "outputs": [
    {
     "data": {
      "text/plain": [
       "[<matplotlib.lines.Line2D at 0x7f2fec8b9670>]"
      ]
     },
     "execution_count": 230,
     "metadata": {},
     "output_type": "execute_result"
    },
    {
     "data": {
      "image/png": "[encoded data removed]",
      "text/plain": [
       "<Figure size 432x288 with 1 Axes>"
      ]
     },
     "metadata": {
      "needs_background": "light"
     },
     "output_type": "display_data"
    }
   ],
   "source": [
    "x_sample = phi.sample(1000)\n",
    "Sigma_mumu_samples = x_sample[:,:,:,None] * x_sample[:,:,None]\n",
    "xbxx_sample = numpy.mean(x_sample[:,:,:,None] * numpy.sum(b[None,None,:,None] * Sigma_mumu_samples, axis=2)[:,:,None], axis=0)\n",
    "xbxx_phi = phi.intergate_xbxx(b)\n",
    "pyplot.plot([1.1 * numpy.amin(xbxx_sample), 1.1 * numpy.amax(xbxx_sample)], [1.1 * numpy.amin(xbxx_sample), 1.1 * numpy.amax(xbxx_sample)] ,'k')\n",
    "pyplot.plot(xbxx_sample.flatten(), xbxx_phi.flatten(), 'C3o')"
   ]
  },
  {
   "cell_type": "markdown",
   "id": "macro-monitor",
   "metadata": {},
   "source": [
    "## Test quartic integrals\n",
    "\n",
    "$\\int xx^\\top xx^\\top du(x)$ "
   ]
  },
  {
   "cell_type": "code",
   "execution_count": 267,
   "id": "floppy-shelter",
   "metadata": {},
   "outputs": [],
   "source": [
    "R, D, R1 = 10, 5, 1\n",
    "rand_nums = numpy.random.randn(D,D)\n",
    "Sigma_phi = .1*(numpy.dot(rand_nums, rand_nums.T) + D * numpy.eye(D))\n",
    "Sigma_phi = numpy.tile(Sigma_phi, (R, 1, 1))\n",
    "mu_phi = 2*numpy.ones((R, D))\n",
    "phi = GaussianDensity(Sigma=Sigma_phi, mu=mu_phi)"
   ]
  },
  {
   "cell_type": "code",
   "execution_count": 268,
   "id": "chemical-paraguay",
   "metadata": {},
   "outputs": [
    {
     "data": {
      "text/plain": [
       "[<matplotlib.lines.Line2D at 0x7f2fec17be80>]"
      ]
     },
     "execution_count": 268,
     "metadata": {},
     "output_type": "execute_result"
    },
    {
     "data": {
      "image/png": "[encoded data removed]",
      "text/plain": [
       "<Figure size 432x288 with 1 Axes>"
      ]
     },
     "metadata": {
      "needs_background": "light"
     },
     "output_type": "display_data"
    }
   ],
   "source": [
    "x_sample = phi.sample(100000)\n",
    "Sigma_mumu_samples = x_sample[:,:,None] * x_sample[:,:,:,None]\n",
    "xxxx_sample = numpy.mean(numpy.einsum('abcd,abde->abce', Sigma_mumu_samples, Sigma_mumu_samples), axis=0)\n",
    "xxxx_phi = phi.integrate_xxTxxT()\n",
    "pyplot.plot([.9 * numpy.amin(xxxx_sample), 1.1 * numpy.amax(xxxx_sample)], [.9 * numpy.amin(xxxx_sample), 1.1 * numpy.amax(xxxx_sample)] ,'k')\n",
    "pyplot.plot(xxxx_sample.flatten(), xxxx_phi.flatten(), 'C3o')"
   ]
  },
  {
   "cell_type": "markdown",
   "id": "corrected-supplement",
   "metadata": {},
   "source": [
    "$\\int xx^\\top A xx^\\top du(x)$ "
   ]
  },
  {
   "cell_type": "code",
   "execution_count": 269,
   "id": "champion-enterprise",
   "metadata": {},
   "outputs": [
    {
     "data": {
      "text/plain": [
       "[<matplotlib.lines.Line2D at 0x7f2fec16ffd0>]"
      ]
     },
     "execution_count": 269,
     "metadata": {},
     "output_type": "execute_result"
    },
    {
     "data": {
      "image/png": "[encoded data removed]",
      "text/plain": [
       "<Figure size 432x288 with 1 Axes>"
      ]
     },
     "metadata": {
      "needs_background": "light"
     },
     "output_type": "display_data"
    }
   ],
   "source": [
    "A = numpy.random.randn(D,D)\n",
    "x_sample = phi.sample(100000)\n",
    "Sigma_mumu_samples = x_sample[:,:,None] * x_sample[:,:,:,None]\n",
    "xxA = numpy.einsum('abcd,de->abce', Sigma_mumu_samples, A)\n",
    "xxAxx_sample = numpy.mean(numpy.einsum('abcd,abde->abce', xxA, Sigma_mumu_samples), axis=0)\n",
    "xxAxx_phi = phi.integrate_xxTAxxT(A)\n",
    "pyplot.plot([1.1 * numpy.amin(xxAxx_sample), 1.1 * numpy.amax(xxAxx_sample)], [1.1 * numpy.amin(xxAxx_sample), 1.1 * numpy.amax(xxAxx_sample)] ,'k')\n",
    "pyplot.plot(xxAxx_sample.flatten(), xxAxx_phi.flatten(), 'C3o')"
   ]
  },
  {
   "cell_type": "markdown",
   "id": "exposed-session",
   "metadata": {},
   "source": [
    "$\\int (Ax+a)(Bx+b)^\\top(Cx+c)(Dx+d)^\\top du(x)$ "
   ]
  },
  {
   "cell_type": "code",
   "execution_count": 270,
   "id": "least-symphony",
   "metadata": {},
   "outputs": [],
   "source": [
    "m,l,k = 4,6,8\n",
    "A_mat, a_vec = numpy.random.randn(m,D), numpy.random.rand(m)\n",
    "B_mat, b_vec = numpy.random.randn(l,D), numpy.random.rand(l)\n",
    "C_mat, c_vec = numpy.random.randn(l,D), numpy.random.rand(l)\n",
    "D_mat, d_vec = numpy.random.randn(k,D), numpy.random.rand(k)\n",
    "\n",
    "x_sample = phi.sample(1000)\n",
    "Ax_a_sample = numpy.einsum('ab,cdb->cda', A_mat, x_sample) + a_vec\n",
    "Bx_b_sample = numpy.einsum('ab,cdb->cda', B_mat, x_sample) + b_vec\n",
    "Cx_c_sample = numpy.einsum('ab,cdb->cda', C_mat, x_sample) + c_vec\n",
    "Dx_d_sample = numpy.einsum('ab,cdb->cda', D_mat, x_sample) + d_vec\n",
    "AB_sample = numpy.einsum('abc,abd->abcd', Ax_a_sample, Bx_b_sample)\n",
    "CD_sample = numpy.einsum('abc,abd->abcd', Cx_c_sample, Dx_d_sample)\n",
    "ABCD_sample = numpy.mean(numpy.einsum('abcd,abde->abce', AB_sample, CD_sample), axis=0)\n",
    "ABCD_phi = phi.integral_general_quartic_outer(A_mat, a_vec, B_mat, b_vec, C_mat, c_vec, D_mat, d_vec)"
   ]
  },
  {
   "cell_type": "code",
   "execution_count": 280,
   "id": "inclusive-settlement",
   "metadata": {},
   "outputs": [
    {
     "name": "stdout",
     "output_type": "stream",
     "text": [
      "(10,) (10,) (10,)\n"
     ]
    }
   ],
   "source": []
  },
  {
   "cell_type": "code",
   "execution_count": 271,
   "id": "aging-drunk",
   "metadata": {},
   "outputs": [
    {
     "data": {
      "text/plain": [
       "[<matplotlib.lines.Line2D at 0x7f2fec0e5a00>]"
      ]
     },
     "execution_count": 271,
     "metadata": {},
     "output_type": "execute_result"
    },
    {
     "data": {
      "image/png": "[encoded data removed]",
      "text/plain": [
       "<Figure size 432x288 with 1 Axes>"
      ]
     },
     "metadata": {
      "needs_background": "light"
     },
     "output_type": "display_data"
    }
   ],
   "source": [
    "pyplot.plot([1.1 * numpy.amin(ABCD_sample), 1.1 * numpy.amax(ABCD_sample)], [1.1 * numpy.amin(ABCD_sample), 1.1 * numpy.amax(ABCD_sample)] ,'k')\n",
    "pyplot.plot(ABCD_sample.flatten(), ABCD_phi.flatten(), 'C3o')"
   ]
  },
  {
   "cell_type": "markdown",
   "id": "fabulous-likelihood",
   "metadata": {},
   "source": [
    "$\\int (Ax+a)^\\top(Bx+b)(Cx+c)^\\top(Dx+d) du(x)$ "
   ]
  },
  {
   "cell_type": "code",
   "execution_count": 285,
   "id": "different-preview",
   "metadata": {},
   "outputs": [],
   "source": [
    "m,l = 10,10\n",
    "A_mat, a_vec = numpy.random.randn(m,D), numpy.random.rand(m)\n",
    "B_mat, b_vec = numpy.random.randn(m,D), numpy.random.rand(m)\n",
    "C_mat, c_vec = numpy.random.randn(l,D), numpy.random.rand(l)\n",
    "D_mat, d_vec = numpy.random.randn(l,D), numpy.random.rand(l)\n",
    "\n",
    "x_sample = phi.sample(1000)\n",
    "Ax_a_sample = numpy.einsum('ab,cdb->cda', A_mat, x_sample) + a_vec\n",
    "Bx_b_sample = numpy.einsum('ab,cdb->cda', B_mat, x_sample) + b_vec\n",
    "Cx_c_sample = numpy.einsum('ab,cdb->cda', C_mat, x_sample) + c_vec\n",
    "Dx_d_sample = numpy.einsum('ab,cdb->cda', D_mat, x_sample) + d_vec\n",
    "AB_sample = numpy.einsum('abc,abc->ab', Ax_a_sample, Bx_b_sample)\n",
    "CD_sample = numpy.einsum('abc,abc->ab', Cx_c_sample, Dx_d_sample)\n",
    "ABCD_sample = numpy.mean(AB_sample * CD_sample, axis=0)\n",
    "#ABCD_phi = phi.integral_general_quartic_inner(A_mat, a_vec, B_mat, b_vec, C_mat, c_vec, D_mat, d_vec)"
   ]
  },
  {
   "cell_type": "code",
   "execution_count": 286,
   "id": "governing-investigation",
   "metadata": {},
   "outputs": [],
   "source": [
    "self = phi\n",
    "Amu_a = numpy.einsum('ab,cb-> ca', A_mat, self.mu) + a_vec[None]\n",
    "Bmu_b = numpy.einsum('ab,cb-> ca', B_mat, self.mu) + b_vec[None]\n",
    "Cmu_c = numpy.einsum('ab,cb-> ca', C_mat, self.mu) + c_vec[None]\n",
    "Dmu_d = numpy.einsum('ab,cb-> ca', D_mat, self.mu) + d_vec[None]\n",
    "ASigmaB = numpy.einsum('ab,cbd->cad', A_mat, numpy.einsum('abc,cd->abd', self.Sigma, B_mat.T))\n",
    "CSigmaD = numpy.einsum('ab,cbd->cad', C_mat, numpy.einsum('abc,cd->abd', self.Sigma, D_mat.T))\n",
    "\n",
    "AmuaBmub = numpy.einsum('ab,ab->a', Amu_a, Bmu_b)\n",
    "CmucDmud = numpy.einsum('ab,ab->a', Cmu_c, Dmu_d)\n",
    "CD = numpy.dot(C_mat.T, D_mat)\n",
    "CD_DC = CD + CD.T\n",
    "SCD_DCS = numpy.einsum('abc,acd->abd', numpy.einsum('abc,cd->abd', self.Sigma, CD_DC), self.Sigma)\n",
    "ASCD_DCSB = numpy.einsum('abc,dc->abd', numpy.einsum('ab,cbd->cad', A_mat, SCD_DCS), B_mat)\n",
    "Am_aB = numpy.einsum('ab,bc->ac', Amu_a, B_mat)\n",
    "Bm_bA = numpy.einsum('ab,bc->ac', Bmu_b, A_mat)\n",
    "CDm_d = numpy.einsum('ab,ca->cb', C_mat, Dmu_d)\n",
    "DCm_c = numpy.einsum('ab,ca->cb', D_mat, Cmu_c)\n",
    "first_term = self.get_trace(ASCD_DCSB)\n",
    "second_term = numpy.einsum('ab,ab->a', numpy.einsum('ab,abc->ac', Am_aB + Bm_bA, self.Sigma), CDm_d + DCm_c)\n",
    "third_term = (self.get_trace(ASigmaB) + AmuaBmub) * (self.get_trace(CSigmaD) + CmucDmud)\n",
    "ABCD_phi = first_term + second_term + third_term"
   ]
  },
  {
   "cell_type": "code",
   "execution_count": 289,
   "id": "robust-christian",
   "metadata": {},
   "outputs": [
    {
     "data": {
      "text/plain": [
       "array([ 12.43614917,  -4.63908597,   8.57616613,   2.08344395,\n",
       "       -17.13442063])"
      ]
     },
     "execution_count": 289,
     "metadata": {},
     "output_type": "execute_result"
    }
   ],
   "source": []
  },
  {
   "cell_type": "code",
   "execution_count": 287,
   "id": "thousand-thickness",
   "metadata": {},
   "outputs": [
    {
     "data": {
      "text/plain": [
       "[<matplotlib.lines.Line2D at 0x7f2febf35a90>]"
      ]
     },
     "execution_count": 287,
     "metadata": {},
     "output_type": "execute_result"
    },
    {
     "data": {
      "image/png": "[encoded data removed]",
      "text/plain": [
       "<Figure size 432x288 with 1 Axes>"
      ]
     },
     "metadata": {
      "needs_background": "light"
     },
     "output_type": "display_data"
    }
   ],
   "source": [
    "pyplot.plot([1.1 * numpy.amin(ABCD_sample), 1.1 * numpy.amax(ABCD_sample)], [1.1 * numpy.amin(ABCD_sample), 1.1 * numpy.amax(ABCD_sample)] ,'k')\n",
    "pyplot.plot(ABCD_sample.flatten(), ABCD_phi.flatten(), 'C3o')"
   ]
  },
  {
   "cell_type": "code",
   "execution_count": 219,
   "id": "dynamic-closure",
   "metadata": {},
   "outputs": [
    {
     "data": {
      "text/plain": [
       "array([-373.43425507, -373.43425507, -373.43425507, -373.43425507,\n",
       "       -373.43425507, -373.43425507, -373.43425507, -373.43425507,\n",
       "       -373.43425507, -373.43425507])"
      ]
     },
     "execution_count": 219,
     "metadata": {},
     "output_type": "execute_result"
    }
   ],
   "source": [
    "ABCD_phi"
   ]
  },
  {
   "cell_type": "markdown",
   "id": "global-fiber",
   "metadata": {},
   "source": [
    "## Test 2 Dimensional"
   ]
  },
  {
   "cell_type": "code",
   "execution_count": 118,
   "id": "going-beads",
   "metadata": {},
   "outputs": [],
   "source": [
    "R, D, R1 = 1, 2, 1\n",
    "rand_nums = numpy.random.randn(D,D)\n",
    "Sigma_phi = .8 * numpy.eye(D) - .2\n",
    "Sigma_phi = numpy.tile(Sigma_phi, (R, 1, 1))\n",
    "mu_phi = numpy.zeros((R, D))\n",
    "mu_phi[0,0] = 2 \n",
    "phi = GaussianDensity(Sigma=Sigma_phi, mu=mu_phi)\n",
    "x_samples = phi.sample(100000)\n",
    "numpy_samples = numpy.random.multivariate_normal(mu_phi[0], Sigma_phi[0], 100000)"
   ]
  },
  {
   "cell_type": "code",
   "execution_count": 119,
   "id": "worst-brother",
   "metadata": {},
   "outputs": [
    {
     "data": {
      "image/png": "[encoded data removed]",
      "text/plain": [
       "<Figure size 432x432 with 1 Axes>"
      ]
     },
     "metadata": {
      "needs_background": "light"
     },
     "output_type": "display_data"
    }
   ],
   "source": [
    "pyplot.figure(figsize=(6,6))\n",
    "xrange = numpy.linspace(-5,5,100)\n",
    "xmesh, ymesh = numpy.meshgrid(xrange, xrange)\n",
    "x_grid = numpy.vstack([xmesh.flatten(), ymesh.flatten()])\n",
    "density = phi.evaluate(x_grid.T)[0].reshape((100,100))\n",
    "hist, xedges, yedges =  numpy.histogram2d(x_samples[:,0,1], x_samples[:,0,0], range=[[-5,5], [-5,5]], bins=100)\n",
    "numpy_hist, xedges, yedges =  numpy.histogram2d(numpy_samples[:,1], numpy_samples[:,0], range=[[-5,5], [-5,5]], bins=100)\n",
    "ax1 = pyplot.subplot(111)\n",
    "pyplot.pcolor(xrange, xrange, density, shading='auto')\n",
    "#pyplot.pcolor(xedges[:-1], yedges[:-1], numpy_hist, shading='auto')\n",
    "pyplot.contour(xedges[:-1], yedges[:-1], hist, cmap='inferno')\n",
    "pyplot.show()"
   ]
  },
  {
   "cell_type": "code",
   "execution_count": null,
   "id": "decent-worse",
   "metadata": {},
   "outputs": [],
   "source": []
  }
 ],
 "metadata": {
  "kernelspec": {
   "display_name": "Python 3",
   "language": "python",
   "name": "python3"
  },
  "language_info": {
   "codemirror_mode": {
    "name": "ipython",
    "version": 3
   },
   "file_extension": ".py",
   "mimetype": "text/x-python",
   "name": "python",
   "nbconvert_exporter": "python",
   "pygments_lexer": "ipython3",
   "version": "3.8.6"
  }
 },
 "nbformat": 4,
 "nbformat_minor": 5
}
