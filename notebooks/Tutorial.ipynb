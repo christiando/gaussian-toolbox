{
 "cells": [
  {
   "cell_type": "markdown",
   "id": "laden-payday",
   "metadata": {},
   "source": [
    "# Tutorial for the `GaussianToolbox` "
   ]
  },
  {
   "cell_type": "markdown",
   "id": "knowing-albert",
   "metadata": {},
   "source": [
    "### General Form of a Gaussian\n",
    "\n",
    "$p(x) = \\exp(-\\frac{1}{2}x^\\top\\Lambda x + x^\\top\\nu - \\ln Z)$\n",
    "\n",
    "with $\\ln Z = \\frac{1}{2}\\nu^\\top\\Lambda^{-1}\\nu + \\frac{D}{2}\\ln 2\\pi + \\frac{1}{2}\\ln\\det(\\Lambda^{-1})$.\n",
    "\n",
    "### Relation to covariance and mean\n",
    "\n",
    "$\\Sigma = \\Lambda^{-1}$\n",
    "\n",
    "$\\mu = \\Sigma\\nu$\n",
    "\n",
    "### Form of unnormalised Gaussians\n",
    "\n",
    "$u(x) = \\exp(-\\frac{1}{2}x^\\top\\Lambda x + x^\\top\\nu + \\ln \\beta)$\n",
    "\n",
    "And the intergal is\n",
    "\n",
    "$\\int u(x) d x = \\beta Z$"
   ]
  },
  {
   "cell_type": "code",
   "execution_count": null,
   "id": "orange-airline",
   "metadata": {},
   "outputs": [],
   "source": [
    "from matplotlib import pyplot\n",
    "import numpy as np\n",
    "from jax import numpy as jnp\n",
    "from jax import jit\n",
    "import sys\n",
    "sys.path.append('../')\n",
    "from src_jax import factors, measures, densities, conditionals"
   ]
  },
  {
   "cell_type": "markdown",
   "id": "continued-modification",
   "metadata": {},
   "source": [
    "# Create a density object"
   ]
  },
  {
   "cell_type": "code",
   "execution_count": null,
   "id": "chubby-regression",
   "metadata": {},
   "outputs": [],
   "source": [
    "R, D = 1, 2\n",
    "# Create covariance\n",
    "rand_nums = np.random.randn(D,D)\n",
    "Sigma_phi_xy = 5. * np.ones((D,D))\n",
    "Sigma_phi_xy += np.eye(D)\n",
    "Sigma_phi_xy = jnp.array(np.tile(Sigma_phi_xy, (R, 1, 1)))\n",
    "# Create mean\n",
    "mu_phi_xy = jnp.zeros((R, D))\n",
    "# Create Density object\n",
    "phi_xy = densities.GaussianDensity(Sigma=Sigma_phi_xy, mu=mu_phi_xy)"
   ]
  },
  {
   "cell_type": "markdown",
   "id": "marked-gambling",
   "metadata": {},
   "source": [
    "## `sample()` and `evaluate()` functions"
   ]
  },
  {
   "cell_type": "code",
   "execution_count": null,
   "id": "engaged-newsletter",
   "metadata": {},
   "outputs": [],
   "source": [
    "# Sample\n",
    "x_samples = phi_xy.sample(100000)\n",
    "# Evaluate the density at points\n",
    "xrange = jnp.linspace(-20,20,100)\n",
    "xmesh, ymesh = jnp.meshgrid(xrange, xrange)\n",
    "x_grid = jnp.vstack([xmesh.flatten(), ymesh.flatten()])\n",
    "density = phi_xy.evaluate(x_grid.T)[0].reshape((100,100))\n",
    "# Plot\n",
    "pyplot.figure(figsize=(6,6))\n",
    "hist, xedges, yedges =  jnp.histogram2d(x_samples[:,0,1], x_samples[:,0,0], range=[[-20,20], [-20,20]], bins=100)\n",
    "#numpy_hist, xedges, yedges =  numpy.histogram2d(numpy_samples[:,1], numpy_samples[:,0], range=[[-20,20], [-20,20]], bins=100)\n",
    "ax1 = pyplot.subplot(111)\n",
    "pyplot.pcolor(xrange, xrange, density)\n",
    "#pyplot.pcolor(xedges[:-1], yedges[:-1], numpy_hist, shading='auto')\n",
    "pyplot.contour(xedges[:-1], yedges[:-1], hist, cmap='inferno')\n",
    "pyplot.show()"
   ]
  },
  {
   "cell_type": "markdown",
   "id": "effective-array",
   "metadata": {},
   "source": [
    "# Integration\n",
    "\n",
    "## Simple `integrate()` function\n",
    "\n",
    "$\\int (Ax+a) (Bx+b)^\\top d\\phi(x)$"
   ]
  },
  {
   "cell_type": "code",
   "execution_count": null,
   "id": "editorial-worst",
   "metadata": {},
   "outputs": [],
   "source": [
    "# Generate matrices & vectors\n",
    "k, l = 6, 3\n",
    "A_mat, a_vec = jnp.array(np.random.randn(k,D)), jnp.array(np.random.randn(k))\n",
    "B_mat, b_vec = jnp.array(np.random.randn(l,D)), jnp.array(np.random.randn(l))\n",
    "# Integrate with respect to Gaussian density\n",
    "AB_phi_xy = phi_xy.integrate("(Ax+a)(Bx+b)'", A_mat=A_mat, a_vec=a_vec, B_mat=B_mat, b_vec=b_vec)"
   ]
  },
  {
   "cell_type": "code",
   "execution_count": null,
   "id": "elect-regulation",
   "metadata": {},
   "outputs": [],
   "source": [
    "# Sample integral\n",
    "x_sample = phi_xy.sample(10000)\n",
    "(Ax+a)_sample = jnp.einsum('ab,cdb->cda', A_mat, x_sample) + a_vec\n",
    "Bx_b_sample = jnp.einsum('ab,cdb->cda', B_mat, x_sample) + b_vec\n",
    "AB_sample = jnp.mean(jnp.einsum('abc,abd->abcd', (Ax+a)_sample, Bx_b_sample), axis=0)\n",
    "# Plot\n",
    "pyplot.figure(figsize=(4,4))\n",
    "pyplot.plot([1.1 * jnp.amin(AB_sample), 1.1 * jnp.amax(AB_sample)], [1.1 * jnp.amin(AB_sample), 1.1 * jnp.amax(AB_sample)] ,'k')\n",
    "pyplot.plot(AB_sample.flatten(), AB_phi_xy.flatten(), 'C3o')\n",
    "pyplot.xlabel('Sampled integral')\n",
    "pyplot.ylabel('Analytical Integral')\n",
    "pyplot.show()"
   ]
  },
  {
   "cell_type": "markdown",
   "id": "portable-underwear",
   "metadata": {},
   "source": [
    "## Up to Quartic integral\n",
    "\n",
    "$\\int (Ax+a)(Bx+b)^\\top(Cx+c)(Dx+d)^\\top d\\phi(x)$ "
   ]
  },
  {
   "cell_type": "code",
   "execution_count": null,
   "id": "scenic-testing",
   "metadata": {},
   "outputs": [],
   "source": [
    "# Generate matrices & vectors\n",
    "m,l,k = 4,6,8\n",
    "A_mat, a_vec = jnp.array(np.random.randn(m,D)), jnp.array(np.random.rand(m))\n",
    "B_mat, b_vec = jnp.array(np.random.randn(l,D)), jnp.array(np.random.rand(l))\n",
    "C_mat, c_vec = jnp.array(np.random.randn(l,D)), jnp.array(np.random.rand(l))\n",
    "D_mat, d_vec = jnp.array(np.random.randn(k,D)), jnp.array(np.random.rand(k))\n",
    "# Integrate\n",
    "ABCD_phi_xy = phi_xy.integrate("(Ax+a)(Bx+b)'(Cx+c)(Dx+d)'", A_mat=A_mat, a_vec=a_vec, \n",
    "                                                   B_mat=B_mat, b_vec=b_vec, \n",
    "                                                   C_mat=C_mat, c_vec=c_vec, \n",
    "                                                   D_mat=D_mat, d_vec=d_vec)"
   ]
  },
  {
   "cell_type": "code",
   "execution_count": null,
   "id": "voluntary-people",
   "metadata": {},
   "outputs": [],
   "source": [
    "# Sample integral\n",
    "x_sample = phi_xy.sample(10000)\n",
    "(Ax+a)_sample = jnp.einsum('ab,cdb->cda', A_mat, x_sample) + a_vec\n",
    "Bx_b_sample = jnp.einsum('ab,cdb->cda', B_mat, x_sample) + b_vec\n",
    "Cx_c_sample = jnp.einsum('ab,cdb->cda', C_mat, x_sample) + c_vec\n",
    "Dx_d_sample = jnp.einsum('ab,cdb->cda', D_mat, x_sample) + d_vec\n",
    "AB_sample = jnp.einsum('abc,abd->abcd', (Ax+a)_sample, Bx_b_sample)\n",
    "CD_sample = jnp.einsum('abc,abd->abcd', Cx_c_sample, Dx_d_sample)\n",
    "ABCD_sample = jnp.mean(jnp.einsum('abcd,abde->abce', AB_sample, CD_sample), axis=0)\n",
    "# Plot\n",
    "pyplot.figure(figsize=(4,4))\n",
    "pyplot.plot([1.1 * jnp.amin(ABCD_sample), 1.1 * jnp.amax(ABCD_sample)], [1.1 * jnp.amin(ABCD_sample), 1.1 * jnp.amax(ABCD_sample)] ,'k')\n",
    "pyplot.plot(ABCD_sample.flatten(), ABCD_phi_xy.flatten(), 'C3o')\n",
    "pyplot.xlabel('Sampled integral')\n",
    "pyplot.ylabel('Analytical Integral')\n",
    "pyplot.show()"
   ]
  },
  {
   "cell_type": "markdown",
   "id": "fitting-merit",
   "metadata": {},
   "source": [
    "# Gaussian manipulation\n",
    "\n",
    "## `get_marginal()` function\n",
    "\n",
    "$p(x,y)\\rightarrow p(x)$"
   ]
  },
  {
   "cell_type": "code",
   "execution_count": null,
   "id": "dimensional-jungle",
   "metadata": {},
   "outputs": [],
   "source": [
    "# Get the marginals\n",
    "phi_x = phi_xy.get_marginal(jnp.array([0]))\n",
    "phi_y = phi_xy.get_marginal(jnp.array([1]))\n",
    "x = jnp.array([xrange]).T\n",
    "\n",
    "# Plotting\n",
    "from matplotlib import gridspec\n",
    "fig = pyplot.figure(figsize=(6,6))\n",
    "grid = gridspec.GridSpec(6,6,fig)\n",
    "ax1 = fig.add_subplot(grid[1:,:1])\n",
    "ax1.plot(phi_y.evaluate(x).T, x)\n",
    "ax1.set_ylim(x[jnp.array([0,-1]), 0])\n",
    "ax1.set_ylabel('$y$')\n",
    "ax2 = fig.add_subplot(grid[:1,1:])\n",
    "ax2.plot(x,phi_x.evaluate(x).T)\n",
    "ax1.set_ylim(x[jnp.array([0,-1]), 0])\n",
    "ax3 = fig.add_subplot(grid[1:,1:])\n",
    "ax3.pcolor(xrange, xrange, density)\n",
    "ax3.set_xlabel('$x$')\n",
    "pyplot.tight_layout()"
   ]
  },
  {
   "cell_type": "markdown",
   "id": "sealed-cardiff",
   "metadata": {},
   "source": [
    "## `condition_on()` function\n",
    "\n",
    "$p(x,y)\\rightarrow p(x\\vert y)$"
   ]
  },
  {
   "cell_type": "code",
   "execution_count": null,
   "id": "endangered-crime",
   "metadata": {},
   "outputs": [],
   "source": [
    "# Conditioning\n",
    "cond_phi_y_x = phi_xy.condition_on(jnp.array([0]))\n",
    "# Get density conditioned on a specific point\n",
    "cond_y = 10 * jnp.ones((1,1))\n",
    "dens_cond_phi_y_x0 = cond_phi_y_x.condition_on_x(cond_y)\n",
    "\n",
    "# Plotting\n",
    "from matplotlib import gridspec\n",
    "fig = pyplot.figure(figsize=(6,6))\n",
    "grid = gridspec.GridSpec(6,6,fig)\n",
    "ax2 = fig.add_subplot(grid[:1,1:])\n",
    "ax2.plot(x,dens_cond_phi_y_x0.evaluate(x).T, 'C3')\n",
    "ax2.set_xlim(x[jnp.array([0,-1]), 0])\n",
    "ax3 = fig.add_subplot(grid[1:,1:])\n",
    "ax3.hlines(cond_y, xrange[0], xrange[-1], 'C3')\n",
    "ax3.pcolor(xrange, xrange, density)\n",
    "ax3.set_xlabel('$x_0$')\n",
    "ax3.set_ylabel('$x_1$')\n",
    "pyplot.tight_layout()"
   ]
  },
  {
   "cell_type": "markdown",
   "id": "insured-cache",
   "metadata": {},
   "source": [
    "# Affine transformations\n",
    "\n",
    "$p(y\\vert x), p(x) \\rightarrow p(x,y)$ with `affine_joint_transformation()`"
   ]
  },
  {
   "cell_type": "code",
   "execution_count": null,
   "id": "extended-hanging",
   "metadata": {},
   "outputs": [],
   "source": [
    "#new_phi_xy = phi_x.affine_joint_transformation(cond_phi_y_x)\n",
    "new_phi_xy = cond_phi_y_x.affine_joint_transformation(phi_x)\n",
    "\n",
    "# Plotting\n",
    "from matplotlib import gridspec\n",
    "fig = pyplot.figure(figsize=(6,6))\n",
    "grid = gridspec.GridSpec(6,6,fig)\n",
    "ax3 = fig.add_subplot(grid[:,:])\n",
    "new_density = new_phi_xy.evaluate(x_grid.T)[0].reshape((100,100))\n",
    "ax3.pcolor(xrange, xrange, new_density)\n",
    "ax3.set_xlabel('$x$')\n",
    "ax3.set_ylabel('$y$')\n",
    "pyplot.tight_layout()"
   ]
  },
  {
   "cell_type": "markdown",
   "id": "occasional-collaboration",
   "metadata": {},
   "source": [
    "$p(y\\vert x), p(x) \\rightarrow p(x\\vert y)$ with `affine_conditional_transformation()`"
   ]
  },
  {
   "cell_type": "code",
   "execution_count": null,
   "id": "industrial-resource",
   "metadata": {},
   "outputs": [],
   "source": [
    "cond_phi_x_y = cond_phi_y_x.affine_conditional_transformation(phi_x)\n",
    "# Get density conditioned on a specific point\n",
    "cond_y = jnp.ones((1,1))\n",
    "dens_cond_phi_x_y0 = cond_phi_x_y.condition_on_x(cond_y)\n",
    "\n",
    "# Plotting\n",
    "from matplotlib import gridspec\n",
    "fig = pyplot.figure(figsize=(7,6))\n",
    "grid = gridspec.GridSpec(6,8,fig)\n",
    "ax2 = fig.add_subplot(grid[:,:2])\n",
    "ax2.plot(dens_cond_phi_x_y0.evaluate(x).T, x, 'C3')\n",
    "ax2.set_ylim(x[jnp.array([0,-1]), 0])\n",
    "ax2.set_ylabel('$y$')\n",
    "ax3 = fig.add_subplot(grid[:,2:])\n",
    "ax3.vlines(cond_y, xrange[0], xrange[-1], 'C3')\n",
    "ax3.pcolor(xrange, xrange, density)\n",
    "ax3.set_xlabel('$x$')\n",
    "pyplot.tight_layout()"
   ]
  },
  {
   "cell_type": "markdown",
   "id": "boxed-force",
   "metadata": {},
   "source": [
    "$p(y\\vert x), p(x) \\rightarrow p(y)$ with `affine_marginal_transformation()`"
   ]
  },
  {
   "cell_type": "markdown",
   "id": "according-transmission",
   "metadata": {},
   "source": [
    "TBD"
   ]
  },
  {
   "cell_type": "markdown",
   "id": "quarterly-series",
   "metadata": {},
   "source": [
    "# An application: Kalman filter (This implementation is very slow for jax. Need to be updated)"
   ]
  },
  {
   "cell_type": "markdown",
   "id": "united-inclusion",
   "metadata": {},
   "source": [
    "Here we use the Gaussian Toolbox to implement a Kalman filter which has the form\n",
    "\n",
    "$$\n",
    "z_{t} = A z_{t-1} + b + \\zeta_t \\\\\n",
    "x_{t} = C z_t + d + \\xi_t,\n",
    "$$\n",
    "\n",
    "where $x_t$ are our observations and $z_t$ latent (unobserved) variables. Furthermore, the noise variables are\n",
    "\n",
    "$$\n",
    "\\zeta_t \\sim N(0,Q_z)\\\\\n",
    "\\xi_t \\sim N(0,Q_x).\n",
    "$$"
   ]
  },
  {
   "cell_type": "code",
   "execution_count": null,
   "id": "heated-financing",
   "metadata": {},
   "outputs": [],
   "source": [
    "from functools import partial\n",
    "class KalmanFilter:\n",
    "    \n",
    "    def __init__(self, X: jnp.ndarray, A: jnp.ndarray, b: jnp.ndarray, Qz: jnp.ndarray, \n",
    "                 C: jnp.ndarray, d: jnp.ndarray, Qx: jnp.ndarray):\n",
    "        \"\"\" This is a linear Kalman filter.\n",
    "        \n",
    "        :param X: numpy.ndarray [N, Dx]\n",
    "            The observed data.\n",
    "        :param A: numpy.ndarray [Dz, Dz]\n",
    "            The state transition matrix.\n",
    "        :param b: numpy.ndarray [Dz]\n",
    "            The state transition offset.\n",
    "        :param Qz: numpy.ndarray [Dz, Dz]\n",
    "            The state covariance.\n",
    "        :param C: numpy.ndarray [Dx, Dz]\n",
    "            The observation matrix.\n",
    "        :param d: numpy.ndarray [Dx]\n",
    "            The observation offset.\n",
    "        :param Qx: numpy.ndarray [Dx, Dx]\n",
    "            The observation covariances. \n",
    "        \"\"\"\n",
    "        self.Dz, self.Dx = Qz.shape[0], Qx.shape[0]\n",
    "        self.T = X.shape[0]\n",
    "        self.X = X\n",
    "        self.state_density = conditionals.ConditionalGaussianDensity(jnp.array([A]), jnp.array([b]), jnp.array([Qz]))\n",
    "        self.emission_density = conditionals.ConditionalGaussianDensity(jnp.array([C]), jnp.array([d]), jnp.array([Qx]))\n",
    "        self.prediction_density = self._setup_density()\n",
    "        self.filter_density = self._setup_density()\n",
    "        \n",
    "    def _setup_density(self) -> densities.GaussianDensity:\n",
    "        \"\"\" Initializes a density object (with uniform densities).\n",
    "        \"\"\"\n",
    "        Sigma = jnp.tile(jnp.eye(self.Dz)[None], (self.T+1,1,1))\n",
    "        Lambda = jnp.tile(jnp.eye(self.Dz)[None], (self.T+1,1,1))\n",
    "        mu = jnp.zeros((self.T + 1, self.Dz))\n",
    "        ln_det_Sigma = self.Dz * jnp.log(jnp.ones(self.T+1))\n",
    "        return densities.GaussianDensity(Sigma, mu, Lambda, ln_det_Sigma)\n",
    "        \n",
    "        \n",
    "    def forward_path(self):\n",
    "        \"\"\" Forward iteration.\n",
    "        \"\"\"\n",
    "        for t in range(1, self.T+1):\n",
    "            self.prediction(t)\n",
    "            self.filtering(t)\n",
    "           \n",
    "    def prediction(self, t: int):\n",
    "        \"\"\" Here the prediction density is calculated.\n",
    "        \n",
    "        p(z_t|x_{1:t-1}) = int p(z_t|z_t-1)p(z_t-1|x_1:t-1) dz_t-1\n",
    "        \n",
    "        :param t: int\n",
    "            Time index.\n",
    "        \"\"\"\n",
    "        # p(z_t-1|x_{1:t-1})\n",
    "        pre_filter_density = self.filter_density.slice(jnp.array([t-1]))\n",
    "        # p(z_t|x_{1:t-1}), p(z_t-1|x_{1:t-1}) p(z_t|z_{t-1}) -> p(z_t|x_{1:t-1})\n",
    "        cur_prediction_density = self.state_density.affine_marginal_transformation(pre_filter_density)\n",
    "        # Write result into prediction density collection\n",
    "        self.prediction_density.update(jnp.array([t]), cur_prediction_density)\n",
    "        \n",
    "    def filtering(self, t: int):\n",
    "        \"\"\" Here the filtering density is calculated.\n",
    "        \n",
    "        p(z_t|x_{1:t}) = p(x_t|z_t)p(z_t|x_{1:t-1}) / p(x_t)\n",
    "        \n",
    "        :param t: int\n",
    "            Time index.\n",
    "        \"\"\"\n",
    "        # p(z_t|x_{1:t-1})\n",
    "        cur_prediction_density = self.prediction_density.slice(jnp.array([t]))\n",
    "        # p(z_t| x_t, x_{1:t-1})\n",
    "        p_z_given_x = self.emission_density.affine_conditional_transformation(cur_prediction_density)\n",
    "        # Condition on x_t\n",
    "        cur_filter_density = p_z_given_x.condition_on_x(self.X[t-1:t])\n",
    "        # Write result into filter density collection\n",
    "        self.filter_density.update(jnp.array([t]), cur_filter_density)"
   ]
  },
  {
   "cell_type": "code",
   "execution_count": null,
   "id": "hybrid-focus",
   "metadata": {},
   "outputs": [],
   "source": [
    "T = 1000\n",
    "trange = jnp.arange(T)\n",
    "Dx = 2\n",
    "Dz = 2\n",
    "X = jnp.empty((T,Dx))\n",
    "X = X.at[:,0].set(jnp.sin(trange / 20))\n",
    "X = X.at[:,1].set(jnp.sin(trange / 10))\n",
    "noise_x = .2\n",
    "noise_z = .1\n",
    "X += noise_x * jnp.array(np.random.randn(*X.shape))\n",
    "Qx = noise_x ** 2 * jnp.eye(Dx)\n",
    "Qz = noise_z ** 2 * jnp.eye(Dz)\n",
    "A, b = jnp.eye(Dz), jnp.zeros((Dz,))\n",
    "C, d = jnp.eye(Dx), jnp.zeros((Dx,))\n",
    "kf = KalmanFilter(X, A, b, Qz, C, d, Qx)\n",
    "kf.forward_path()"
   ]
  },
  {
   "cell_type": "code",
   "execution_count": null,
   "id": "combined-testing",
   "metadata": {},
   "outputs": [],
   "source": [
    "mean_estimate = kf.filter_density.mu\n",
    "std_estimate = 1.68 * jnp.sqrt(kf.filter_density.Sigma.diagonal(axis1=1, axis2=2))\n",
    "\n",
    "pyplot.figure(figsize=(8,8))\n",
    "ax1 = pyplot.subplot(211)\n",
    "pyplot.plot(X[:,0], 'k.')\n",
    "pyplot.fill_between(range(T), mean_estimate[1:,0] - std_estimate[1:,0], mean_estimate[1:,0] + std_estimate[1:,0], alpha=.5)\n",
    "pyplot.xlim([0,500])\n",
    "pyplot.ylabel('$x_1$')\n",
    "pyplot.subplot(212, sharex=ax1)\n",
    "pyplot.plot(X[:,1], 'k.')\n",
    "pyplot.fill_between(range(T), mean_estimate[1:,1] - std_estimate[1:,1], mean_estimate[1:,1] + std_estimate[1:,1], \n",
    "                    alpha=.5)\n",
    "pyplot.xlabel('Time steps')\n",
    "pyplot.ylabel('$x_2$')\n",
    "pyplot.show()"
   ]
  },
  {
   "cell_type": "markdown",
   "id": "flying-support",
   "metadata": {},
   "source": [
    "# Integrating with respect to Gaussian terms\n",
    "\n",
    "Assume we have a vector of Gaussian kernels\n",
    "\n",
    "$\\Psi(x) = (k(x,\\hat{x}_1), \\ldots, k(x,\\hat{x}_N))^\\top$ with $k(x,\\hat{x})=\\beta_k\\exp(-\\frac{1}{2}(x-\\hat{x})^\\top\\Lambda_k^{-1}(x-\\hat{x}))$ and we want to solve\n",
    "\n",
    "$\\int \\Psi(x)\\Psi(x)^\\top d\\phi(x)$."
   ]
  },
  {
   "cell_type": "code",
   "execution_count": null,
   "id": "surface-diameter",
   "metadata": {},
   "outputs": [],
   "source": [
    "# Generate kernel\n",
    "num_kernels = 100\n",
    "center_range = jnp.linspace(-2,2,int(jnp.sqrt(num_kernels)))\n",
    "center_mesh = jnp.meshgrid(center_range, center_range)\n",
    "centers_kernel = jnp.vstack([center_mesh[0].flatten(), center_mesh[1].flatten()]).T\n",
    "kernel_width = 1.\n",
    "Lambda_kernel = 1. / kernel_width * jnp.eye(D)\n",
    "Lambda_kernel = jnp.tile(Lambda_kernel, (num_kernels, 1, 1))\n",
    "nu_kernel = centers_kernel / kernel_width\n",
    "ln_beta_kernel = -jnp.sum(kernel_width * nu_kernel ** 2, axis=1)\n",
    "# Conjugate factor\n",
    "kernel = factors.ConjugateFactor(Lambda=Lambda_kernel, nu=nu_kernel, ln_beta=ln_beta_kernel)"
   ]
  },
  {
   "cell_type": "markdown",
   "id": "clinical-louis",
   "metadata": {},
   "source": [
    "## `multiply()` function and `GaussianMeasure`"
   ]
  },
  {
   "cell_type": "code",
   "execution_count": null,
   "id": "fitting-spiritual",
   "metadata": {},
   "outputs": [],
   "source": [
    "kk_phi = phi_xy.multiply(kernel).multiply(kernel)\n",
    "integral = kk_phi.integrate()"
   ]
  },
  {
   "cell_type": "code",
   "execution_count": null,
   "id": "graduate-python",
   "metadata": {},
   "outputs": [],
   "source": [
    "pyplot.figure(figsize=(6,5))\n",
    "pyplot.pcolor(integral.reshape((num_kernels, num_kernels)))\n",
    "pyplot.colorbar()"
   ]
  },
  {
   "cell_type": "markdown",
   "id": "animated-blood",
   "metadata": {},
   "source": [
    "$k(x,\\hat{x})=\\beta_k\\exp(-\\frac{1}{2}(x-\\hat{x})^\\top\\Lambda_k^{-1}(x-\\hat{x}))$\n",
    "\n",
    "$\\partial_{\\Lambda^{-1}} k = - k(x,\\hat{x})\\frac{1}{2}(x-\\hat{x})(x-\\hat{x})^\\top$\n",
    "\n",
    "$\\int \\partial_{\\Lambda^{-1}} k d\\phi(x) = - \\int k(x,\\hat{x})\\frac{1}{2}(x-\\hat{x})(x-\\hat{x})^\\top d\\phi(x)= - \\int \\frac{1}{2}(x-\\hat{x})(x-\\hat{x})^\\top d u(x)$\n",
    "\n",
    "$u(x)=k(x)\\phi(x)$"
   ]
  },
  {
   "cell_type": "markdown",
   "id": "3a8c0256",
   "metadata": {},
   "source": []
  }
 ],
 "metadata": {
  "kernelspec": {
   "display_name": "Python 3",
   "language": "python",
   "name": "python3"
  },
  "language_info": {
   "codemirror_mode": {
    "name": "ipython",
    "version": 3
   },
   "file_extension": ".py",
   "mimetype": "text/x-python",
   "name": "python",
   "nbconvert_exporter": "python",
   "pygments_lexer": "ipython3",
   "version": "3.8.11"
  }
 },
 "nbformat": 4,
 "nbformat_minor": 5
}
